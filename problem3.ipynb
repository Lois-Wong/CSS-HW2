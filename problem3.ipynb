{
 "cells": [
  {
   "cell_type": "markdown",
   "id": "d1af0c42",
   "metadata": {},
   "source": [
    "## Problem 3: Advanced Analysis\n",
    "We have provided annotations over a larger portion of data from the same dataset (aggregate.csv). This dataset includes annotator ratings for Tone, Expertise, EncouragingDiscouraging, RespectfulDisrespectful, as well as the actual gender of the TED talk speaker.\n",
    "Using these annotations, conduct an analysis that contrasts traits of comments addressed towards female and male speakers. You may analyze any one of the annotation traits (i.e. Respect), but justify your choice of trait.\n"
   ]
  },
  {
   "cell_type": "code",
   "execution_count": 101,
   "id": "212f440e",
   "metadata": {},
   "outputs": [
    {
     "data": {
      "text/html": [
       "<svg  width=\"440\" height=\"55\"><rect x=\"0\" y=\"0\" width=\"55\" height=\"55\" style=\"fill:#66c2a5;stroke-width:2;stroke:rgb(255,255,255)\"/><rect x=\"55\" y=\"0\" width=\"55\" height=\"55\" style=\"fill:#fc8d62;stroke-width:2;stroke:rgb(255,255,255)\"/><rect x=\"110\" y=\"0\" width=\"55\" height=\"55\" style=\"fill:#8da0cb;stroke-width:2;stroke:rgb(255,255,255)\"/><rect x=\"165\" y=\"0\" width=\"55\" height=\"55\" style=\"fill:#e78ac3;stroke-width:2;stroke:rgb(255,255,255)\"/><rect x=\"220\" y=\"0\" width=\"55\" height=\"55\" style=\"fill:#a6d854;stroke-width:2;stroke:rgb(255,255,255)\"/><rect x=\"275\" y=\"0\" width=\"55\" height=\"55\" style=\"fill:#ffd92f;stroke-width:2;stroke:rgb(255,255,255)\"/><rect x=\"330\" y=\"0\" width=\"55\" height=\"55\" style=\"fill:#e5c494;stroke-width:2;stroke:rgb(255,255,255)\"/><rect x=\"385\" y=\"0\" width=\"55\" height=\"55\" style=\"fill:#b3b3b3;stroke-width:2;stroke:rgb(255,255,255)\"/></svg>"
      ],
      "text/plain": [
       "[(0.4, 0.7607843137254902, 0.6470588235294118),\n",
       " (0.9882352941176471, 0.5529411764705883, 0.3843137254901961),\n",
       " (0.5529411764705883, 0.6274509803921569, 0.796078431372549),\n",
       " (0.9058823529411765, 0.5411764705882353, 0.7647058823529411),\n",
       " (0.6509803921568628, 0.8470588235294118, 0.32941176470588235),\n",
       " (1.0, 0.8509803921568627, 0.1843137254901961),\n",
       " (0.8980392156862745, 0.7686274509803922, 0.5803921568627451),\n",
       " (0.7019607843137254, 0.7019607843137254, 0.7019607843137254)]"
      ]
     },
     "execution_count": 101,
     "metadata": {},
     "output_type": "execute_result"
    }
   ],
   "source": [
    "import pandas as pd\n",
    "import numpy as np\n",
    "import statistics\n",
    "import seaborn as sns\n",
    "import matplotlib\n",
    "import matplotlib.pyplot as plt\n",
    "import plotly.express as px\n",
    "\n",
    "sns.set_style(\"whitegrid\")\n",
    "sns.color_palette(\"Set2\")\n",
    "\n"
   ]
  },
  {
   "cell_type": "code",
   "execution_count": 102,
   "id": "f308034c",
   "metadata": {},
   "outputs": [
    {
     "data": {
      "text/html": [
       "<div>\n",
       "<style scoped>\n",
       "    .dataframe tbody tr th:only-of-type {\n",
       "        vertical-align: middle;\n",
       "    }\n",
       "\n",
       "    .dataframe tbody tr th {\n",
       "        vertical-align: top;\n",
       "    }\n",
       "\n",
       "    .dataframe thead th {\n",
       "        text-align: right;\n",
       "    }\n",
       "</style>\n",
       "<table border=\"1\" class=\"dataframe\">\n",
       "  <thead>\n",
       "    <tr style=\"text-align: right;\">\n",
       "      <th></th>\n",
       "      <th>EncouragingDiscouraging</th>\n",
       "      <th>ExpertiseScale</th>\n",
       "      <th>PosterTone</th>\n",
       "      <th>RespectfulDisrespectful</th>\n",
       "      <th>gender</th>\n",
       "      <th>speakerhidden</th>\n",
       "      <th>talkid</th>\n",
       "    </tr>\n",
       "  </thead>\n",
       "  <tbody>\n",
       "    <tr>\n",
       "      <th>0</th>\n",
       "      <td>Discouraging</td>\n",
       "      <td>None-STEM degree</td>\n",
       "      <td>Negative</td>\n",
       "      <td>Neutral</td>\n",
       "      <td>male</td>\n",
       "      <td>&lt;br&gt;for those who are interested, penn &amp;amp; t...</td>\n",
       "      <td>1829</td>\n",
       "    </tr>\n",
       "    <tr>\n",
       "      <th>1</th>\n",
       "      <td>Discouraging</td>\n",
       "      <td>No degree</td>\n",
       "      <td>None</td>\n",
       "      <td>Neutral</td>\n",
       "      <td>male</td>\n",
       "      <td>one time i saw a parrent yelling to his child ...</td>\n",
       "      <td>1917</td>\n",
       "    </tr>\n",
       "    <tr>\n",
       "      <th>2</th>\n",
       "      <td>Encouraging</td>\n",
       "      <td>STEM degree</td>\n",
       "      <td>Neutral</td>\n",
       "      <td>Neutral</td>\n",
       "      <td>female</td>\n",
       "      <td>&lt;br&gt;&lt;span class=\"highlighted\" data-timestamp=\"...</td>\n",
       "      <td>1238</td>\n",
       "    </tr>\n",
       "    <tr>\n",
       "      <th>3</th>\n",
       "      <td>Encouraging</td>\n",
       "      <td>None-STEM degree</td>\n",
       "      <td>Positive</td>\n",
       "      <td>Respectful</td>\n",
       "      <td>male</td>\n",
       "      <td>beyond the tremendous positive change this may...</td>\n",
       "      <td>525</td>\n",
       "    </tr>\n",
       "    <tr>\n",
       "      <th>4</th>\n",
       "      <td>Encouraging</td>\n",
       "      <td>STEM degree</td>\n",
       "      <td>None</td>\n",
       "      <td>Neutral</td>\n",
       "      <td>male</td>\n",
       "      <td>his notion that the \"media is the message\" mak...</td>\n",
       "      <td>1370</td>\n",
       "    </tr>\n",
       "  </tbody>\n",
       "</table>\n",
       "</div>"
      ],
      "text/plain": [
       "  EncouragingDiscouraging    ExpertiseScale PosterTone  \\\n",
       "0            Discouraging  None-STEM degree   Negative   \n",
       "1            Discouraging         No degree       None   \n",
       "2             Encouraging       STEM degree    Neutral   \n",
       "3             Encouraging  None-STEM degree   Positive   \n",
       "4             Encouraging       STEM degree       None   \n",
       "\n",
       "  RespectfulDisrespectful  gender  \\\n",
       "0                 Neutral    male   \n",
       "1                 Neutral    male   \n",
       "2                 Neutral  female   \n",
       "3              Respectful    male   \n",
       "4                 Neutral    male   \n",
       "\n",
       "                                       speakerhidden  talkid  \n",
       "0  <br>for those who are interested, penn &amp; t...    1829  \n",
       "1  one time i saw a parrent yelling to his child ...    1917  \n",
       "2  <br><span class=\"highlighted\" data-timestamp=\"...    1238  \n",
       "3  beyond the tremendous positive change this may...     525  \n",
       "4  his notion that the \"media is the message\" mak...    1370  "
      ]
     },
     "execution_count": 102,
     "metadata": {},
     "output_type": "execute_result"
    }
   ],
   "source": [
    "agg = pd.read_csv(\"data/aggregate.csv\")\n",
    "\n",
    "agg.head()"
   ]
  },
  {
   "cell_type": "markdown",
   "id": "6708caed",
   "metadata": {},
   "source": [
    "### Male vs female counts in data"
   ]
  },
  {
   "cell_type": "code",
   "execution_count": 114,
   "id": "27408b42",
   "metadata": {},
   "outputs": [
    {
     "data": {
      "application/vnd.plotly.v1+json": {
       "config": {
        "plotlyServerURL": "https://plot.ly"
       },
       "data": [
        {
         "alignmentgroup": "True",
         "bingroup": "x",
         "hovertemplate": "gender=%{x}<br>count=%{y}<extra></extra>",
         "legendgroup": "",
         "marker": {
          "color": "#636efa",
          "pattern": {
           "shape": ""
          }
         },
         "name": "",
         "offsetgroup": "",
         "orientation": "v",
         "showlegend": false,
         "type": "histogram",
         "x": [
          "male",
          "male",
          "female",
          "male",
          "male",
          "female",
          "male",
          "male",
          "male",
          "male",
          "male",
          "female",
          "male",
          "female",
          "female",
          "male",
          "male",
          "male",
          "male",
          "male",
          "female",
          "male",
          "male",
          "male",
          "male",
          "female",
          "male",
          "male",
          "male",
          "male",
          "male",
          "male",
          "male",
          "male",
          "male",
          "male",
          "male",
          "male",
          "male",
          "male",
          "female",
          "female",
          "male",
          "male",
          "male",
          "male",
          "male",
          "male",
          "female",
          "male",
          "male",
          "male",
          "male",
          "male",
          "male",
          "male",
          "male",
          "male",
          "female",
          "male",
          "male",
          "male",
          "male",
          "male",
          "female",
          "male",
          "male",
          "male",
          "male",
          "male",
          "female",
          "male",
          "male",
          "male",
          "male",
          "female",
          "female",
          "male",
          "female",
          "female",
          "female",
          "male",
          "female",
          "female",
          "male",
          "male",
          "male",
          "female",
          "male",
          "male",
          "male",
          "male",
          "male",
          "male",
          "female",
          "male",
          "male",
          "male",
          "male",
          "male",
          "male",
          "female",
          "female",
          "female",
          "female",
          "female",
          "female",
          "female",
          "female",
          "female",
          "female",
          "female",
          "female",
          "female",
          "female",
          "female",
          "female",
          "female",
          "female",
          "female",
          "female",
          "female",
          "female",
          "female",
          "female",
          "female",
          "female",
          "female",
          "female",
          "female",
          "female",
          "female",
          "female",
          "female",
          "female",
          "female",
          "female",
          "female",
          "female",
          "female",
          "female",
          "female",
          "female",
          "female",
          "female",
          "female",
          "female",
          "female",
          "female",
          "female",
          "female",
          "female",
          "female",
          "female",
          "female",
          "female",
          "female",
          "female",
          "female",
          "female",
          "female",
          "female",
          "female",
          "female",
          "female",
          "female",
          "female",
          "female",
          "female",
          "female",
          "female",
          "female",
          "female",
          "female",
          "female",
          "female",
          "female",
          "female",
          "female",
          "female",
          "female",
          "female",
          "female",
          "female",
          "female",
          "female",
          "female",
          "female",
          "female",
          "female",
          "female",
          "female",
          "female",
          "female",
          "female",
          "female",
          "female",
          "female",
          "female",
          "female",
          "female",
          "male",
          "male",
          "male",
          "male",
          "male",
          "male",
          "male",
          "male",
          "female",
          "male",
          "male",
          "male",
          "male",
          "male",
          "male",
          "male",
          "male",
          "female",
          "female",
          "female",
          "male",
          "male",
          "male",
          "female",
          "female",
          "male",
          "male",
          "female",
          "female",
          "male",
          "male",
          "male",
          "male",
          "female",
          "male",
          "female",
          "male",
          "male",
          "male",
          "male",
          "male",
          "female",
          "male",
          "male",
          "male",
          "male",
          "male",
          "male",
          "female",
          "male",
          "male",
          "male",
          "male",
          "female",
          "male",
          "female",
          "male",
          "male",
          "male",
          "male",
          "female",
          "male",
          "male",
          "male",
          "male",
          "female",
          "male",
          "male",
          "male",
          "male",
          "male",
          "male",
          "male",
          "male",
          "male",
          "male",
          "male",
          "female",
          "male",
          "female",
          "female",
          "male",
          "female",
          "female",
          "female",
          "male",
          "male",
          "male",
          "male",
          "male",
          "male",
          "male",
          "female",
          "male",
          "female",
          "male",
          "female",
          "male",
          "female",
          "female",
          "female",
          "male",
          "male",
          "male",
          "male",
          "male",
          "female",
          "male",
          "female",
          "male",
          "male",
          "female",
          "male",
          "female",
          "male",
          "male",
          "male",
          "male",
          "female",
          "male",
          "male",
          "female",
          "male",
          "female",
          "male",
          "male",
          "female",
          "female",
          "male",
          "male",
          "male",
          "female",
          "female",
          "male",
          "male",
          "male",
          "male",
          "male",
          "male",
          "male",
          "female",
          "female",
          "male",
          "male",
          "male",
          "male",
          "male",
          "male",
          "male",
          "male",
          "male",
          "male",
          "male",
          "male",
          "male",
          "male",
          "male",
          "male",
          "female",
          "male",
          "male",
          "male",
          "male",
          "male",
          "male",
          "female",
          "female",
          "male",
          "female",
          "male",
          "male",
          "male",
          "male",
          "female",
          "male",
          "male",
          "male",
          "female",
          "female",
          "male",
          "male",
          "male",
          "male",
          "male",
          "male",
          "male",
          "male",
          "male",
          "male",
          "male",
          "male",
          "female",
          "female",
          "male",
          "male",
          "male",
          "male",
          "male",
          "male",
          "male",
          "male",
          "female",
          "female",
          "female",
          "female",
          "female",
          "female",
          "female",
          "female",
          "female",
          "female",
          "female",
          "female",
          "female",
          "female",
          "female",
          "female",
          "female",
          "female",
          "female",
          "female",
          "female",
          "female",
          "female",
          "female",
          "female",
          "female",
          "female",
          "female",
          "female",
          "female",
          "female",
          "female",
          "female",
          "female",
          "female",
          "female",
          "female",
          "female",
          "female",
          "female",
          "female",
          "female",
          "female",
          "female",
          "female",
          "female",
          "female",
          "female",
          "female",
          "female",
          "female",
          "female",
          "female",
          "female",
          "female",
          "female",
          "female",
          "female",
          "female",
          "female",
          "female",
          "female",
          "female",
          "female",
          "female",
          "female",
          "female",
          "female",
          "female",
          "female",
          "female",
          "female",
          "female",
          "female",
          "female",
          "female",
          "female",
          "female",
          "female",
          "female",
          "female",
          "female",
          "female",
          "female",
          "female",
          "female",
          "female",
          "female",
          "female",
          "female",
          "female",
          "female",
          "female",
          "female",
          "female",
          "female",
          "female",
          "female",
          "female",
          "female",
          "female",
          "female",
          "female",
          "female",
          "male",
          "male",
          "female",
          "male",
          "male",
          "male",
          "male",
          "male",
          "female",
          "female",
          "male",
          "female",
          "male",
          "female",
          "female",
          "male",
          "female",
          "male",
          "female",
          "female",
          "male",
          "male",
          "female",
          "male",
          "male",
          "male",
          "male",
          "female",
          "male",
          "female",
          "male",
          "male",
          "male",
          "male",
          "male",
          "male",
          "male",
          "male",
          "male",
          "male",
          "male",
          "male",
          "male",
          "male",
          "male",
          "male",
          "female",
          "male",
          "male",
          "male",
          "male",
          "female",
          "female",
          "male",
          "male",
          "male",
          "female",
          "male",
          "female",
          "male",
          "male",
          "male",
          "male",
          "female",
          "male",
          "male",
          "male",
          "female",
          "female",
          "female",
          "female",
          "female",
          "female",
          "female",
          "female",
          "female",
          "female",
          "female",
          "female",
          "female",
          "female",
          "female",
          "female",
          "female",
          "female",
          "female",
          "female",
          "female",
          "female",
          "female",
          "female",
          "female",
          "female",
          "female",
          "female",
          "female",
          "female",
          "male",
          "male",
          "male",
          "male",
          "male",
          "male",
          "male",
          "male",
          "female",
          "male",
          "male",
          "male",
          "female",
          "female",
          "female",
          "male",
          "male",
          "female",
          "male",
          "male",
          "female",
          "male",
          "male",
          "male",
          "male",
          "female",
          "male",
          "male",
          "male",
          "male",
          "male",
          "male",
          "male",
          "female",
          "male",
          "female",
          "male",
          "male",
          "male",
          "male",
          "female",
          "female",
          "male",
          "male",
          "male",
          "male",
          "male",
          "male",
          "male",
          "female",
          "female",
          "female",
          "female",
          "male",
          "male",
          "female",
          "male",
          "male",
          "male",
          "male",
          "male",
          "female",
          "female",
          "male",
          "female",
          "male",
          "female",
          "female",
          "male",
          "female",
          "male",
          "female",
          "female",
          "male",
          "male",
          "female",
          "male",
          "male",
          "male",
          "male",
          "female",
          "male",
          "female",
          "male",
          "male",
          "male",
          "male",
          "male",
          "male",
          "male",
          "male",
          "male",
          "male",
          "male",
          "male",
          "male",
          "male",
          "male",
          "male",
          "female",
          "male",
          "male",
          "male",
          "male",
          "male",
          "male",
          "male",
          "male",
          "female",
          "male",
          "male",
          "male",
          "male",
          "male",
          "female",
          "male",
          "male",
          "male",
          "male",
          "male",
          "female",
          "male",
          "male",
          "male",
          "male",
          "female",
          "female",
          "male",
          "female",
          "female",
          "female",
          "male",
          "female",
          "female",
          "male",
          "male",
          "male",
          "female",
          "male",
          "male",
          "male",
          "male",
          "male",
          "male",
          "female",
          "male",
          "male",
          "male",
          "male",
          "male",
          "male",
          "male",
          "male",
          "male",
          "male",
          "male",
          "male",
          "male",
          "female",
          "male",
          "male",
          "male",
          "male",
          "male",
          "male",
          "male",
          "male",
          "female",
          "female",
          "female",
          "male",
          "male",
          "male",
          "female",
          "male",
          "male",
          "male",
          "female",
          "male",
          "male",
          "male",
          "male",
          "male",
          "female",
          "male",
          "female",
          "male",
          "male",
          "male",
          "male",
          "male",
          "female",
          "male",
          "male",
          "male",
          "male",
          "female",
          "male",
          "female",
          "male",
          "female",
          "female",
          "female",
          "female",
          "female",
          "female",
          "female",
          "female",
          "female",
          "female",
          "female",
          "female",
          "female",
          "female",
          "female",
          "female",
          "female",
          "female",
          "female",
          "female",
          "female",
          "female",
          "female",
          "female",
          "female",
          "female",
          "female",
          "female",
          "female",
          "female",
          "female",
          "female",
          "female",
          "female",
          "female",
          "female",
          "female",
          "female",
          "female",
          "female",
          "female",
          "female",
          "female",
          "female",
          "female",
          "female",
          "female",
          "female",
          "female",
          "female",
          "female",
          "female",
          "female",
          "female",
          "female",
          "female",
          "female",
          "female",
          "female",
          "female",
          "female",
          "female",
          "female",
          "female",
          "female",
          "female",
          "female",
          "female",
          "female",
          "female",
          "female",
          "female",
          "female",
          "female",
          "female",
          "female",
          "female",
          "female",
          "female",
          "female",
          "female",
          "female",
          "female",
          "female",
          "female",
          "female",
          "female",
          "female",
          "female",
          "female",
          "female",
          "female",
          "female",
          "female",
          "female",
          "female",
          "female",
          "female",
          "female",
          "female",
          "male",
          "male",
          "male",
          "male",
          "male",
          "male",
          "male",
          "female",
          "male",
          "male",
          "male",
          "male",
          "male",
          "male",
          "female",
          "female",
          "male",
          "female",
          "male",
          "male",
          "male",
          "male",
          "female",
          "male",
          "male",
          "male",
          "female",
          "female",
          "male",
          "male",
          "male",
          "male",
          "male",
          "male",
          "male",
          "male",
          "male",
          "male",
          "male",
          "male",
          "female",
          "female",
          "male",
          "male",
          "male",
          "male",
          "male",
          "male",
          "male",
          "male",
          "male",
          "male",
          "female",
          "male",
          "male",
          "female",
          "male",
          "male",
          "male",
          "male",
          "male",
          "female",
          "male",
          "female",
          "female",
          "male",
          "male",
          "male",
          "male",
          "male",
          "female",
          "male",
          "male",
          "male",
          "male",
          "female",
          "male",
          "male",
          "male",
          "male",
          "male",
          "male",
          "male",
          "male",
          "male",
          "male",
          "male",
          "male",
          "male",
          "male",
          "female",
          "female",
          "male",
          "male",
          "male",
          "male",
          "male",
          "male",
          "female",
          "male",
          "female",
          "female",
          "female",
          "female",
          "female",
          "female",
          "female",
          "female",
          "female",
          "female",
          "female",
          "female",
          "female",
          "female",
          "female",
          "female",
          "female",
          "female",
          "female",
          "female",
          "female",
          "female",
          "female",
          "female",
          "female",
          "female",
          "female",
          "female",
          "female",
          "female",
          "female",
          "female",
          "female",
          "female",
          "female",
          "female",
          "female",
          "female",
          "female",
          "female",
          "female",
          "female",
          "female",
          "female",
          "female",
          "female",
          "female",
          "female",
          "female",
          "female",
          "female",
          "female",
          "female",
          "female",
          "female",
          "female",
          "female",
          "female",
          "female",
          "female",
          "female",
          "female",
          "female",
          "female",
          "female",
          "female",
          "female",
          "female",
          "female",
          "female",
          "female",
          "female",
          "female",
          "female",
          "female",
          "female",
          "female",
          "female",
          "female",
          "female",
          "female",
          "female",
          "female",
          "female",
          "female",
          "female",
          "female",
          "female",
          "female",
          "female",
          "female",
          "female",
          "female",
          "female",
          "female",
          "female",
          "female",
          "female",
          "female",
          "female",
          "male",
          "male",
          "male",
          "male",
          "male",
          "male",
          "male",
          "male",
          "male",
          "male",
          "male",
          "male",
          "male",
          "male",
          "male",
          "male",
          "male",
          "male",
          "male",
          "male",
          "male",
          "male",
          "male",
          "male",
          "male",
          "male",
          "male",
          "male",
          "male",
          "male",
          "male",
          "male",
          "male",
          "male",
          "male",
          "male",
          "male",
          "male",
          "male",
          "male",
          "male",
          "male",
          "male",
          "male",
          "male",
          "male",
          "male",
          "male",
          "male",
          "male",
          "male",
          "male",
          "male",
          "male",
          "male",
          "male",
          "male",
          "male",
          "male",
          "male",
          "male",
          "male",
          "male",
          "male",
          "male",
          "male",
          "male",
          "male",
          "male",
          "male",
          "male",
          "male",
          "male",
          "male",
          "male",
          "male",
          "male",
          "male",
          "female",
          "male",
          "male",
          "male",
          "male",
          "male",
          "male",
          "female",
          "male",
          "male",
          "female",
          "male",
          "female",
          "female",
          "male",
          "female",
          "male",
          "male",
          "male",
          "male",
          "male",
          "male",
          "female",
          "female",
          "female",
          "female",
          "female",
          "female",
          "female",
          "female",
          "female",
          "female",
          "female",
          "female",
          "female",
          "female",
          "female",
          "female",
          "female",
          "female",
          "female",
          "female",
          "female",
          "female",
          "female",
          "female",
          "female",
          "female",
          "female",
          "female",
          "female",
          "female",
          "female",
          "female",
          "female",
          "female",
          "female",
          "female",
          "female",
          "female",
          "female",
          "female",
          "female",
          "female",
          "female",
          "female",
          "female",
          "female",
          "female",
          "female",
          "female",
          "female",
          "male",
          "male",
          "male",
          "male",
          "male",
          "male",
          "male",
          "male",
          "male",
          "male",
          "male",
          "male",
          "male",
          "male",
          "male",
          "male",
          "male",
          "male",
          "male",
          "male",
          "male",
          "male",
          "male",
          "male",
          "male",
          "male",
          "male",
          "male",
          "male",
          "male",
          "male",
          "male",
          "male",
          "male",
          "male",
          "male",
          "male",
          "male",
          "male",
          "male",
          "male",
          "male",
          "male",
          "male",
          "male",
          "male",
          "male",
          "male",
          "male",
          "male",
          "male",
          "male",
          "male",
          "female",
          "male",
          "female",
          "male",
          "male",
          "male",
          "male",
          "female",
          "male",
          "male",
          "male",
          "male",
          "female",
          "male",
          "male",
          "male",
          "male",
          "male",
          "male",
          "male",
          "male",
          "male",
          "male",
          "male",
          "female",
          "male",
          "female",
          "male",
          "male",
          "female",
          "female",
          "female",
          "male",
          "male",
          "male",
          "male",
          "male",
          "male",
          "male",
          "female",
          "male",
          "female",
          "male",
          "female",
          "male",
          "female",
          "female",
          "male",
          "male",
          "male",
          "male",
          "male",
          "male",
          "female",
          "female",
          "female",
          "male",
          "male",
          "female",
          "female",
          "male",
          "male",
          "female",
          "male",
          "male",
          "male",
          "male",
          "male",
          "male",
          "female",
          "male",
          "male",
          "male",
          "male",
          "female",
          "female",
          "female",
          "male",
          "female",
          "female",
          "male",
          "female",
          "male",
          "male",
          "female",
          "male",
          "male",
          "female",
          "male",
          "male",
          "male",
          "male",
          "male",
          "female",
          "female",
          "male",
          "male"
         ],
         "xaxis": "x",
         "yaxis": "y"
        }
       ],
       "layout": {
        "barmode": "relative",
        "legend": {
         "tracegroupgap": 0
        },
        "margin": {
         "t": 60
        },
        "template": {
         "data": {
          "bar": [
           {
            "error_x": {
             "color": "#2a3f5f"
            },
            "error_y": {
             "color": "#2a3f5f"
            },
            "marker": {
             "line": {
              "color": "#E5ECF6",
              "width": 0.5
             },
             "pattern": {
              "fillmode": "overlay",
              "size": 10,
              "solidity": 0.2
             }
            },
            "type": "bar"
           }
          ],
          "barpolar": [
           {
            "marker": {
             "line": {
              "color": "#E5ECF6",
              "width": 0.5
             },
             "pattern": {
              "fillmode": "overlay",
              "size": 10,
              "solidity": 0.2
             }
            },
            "type": "barpolar"
           }
          ],
          "carpet": [
           {
            "aaxis": {
             "endlinecolor": "#2a3f5f",
             "gridcolor": "white",
             "linecolor": "white",
             "minorgridcolor": "white",
             "startlinecolor": "#2a3f5f"
            },
            "baxis": {
             "endlinecolor": "#2a3f5f",
             "gridcolor": "white",
             "linecolor": "white",
             "minorgridcolor": "white",
             "startlinecolor": "#2a3f5f"
            },
            "type": "carpet"
           }
          ],
          "choropleth": [
           {
            "colorbar": {
             "outlinewidth": 0,
             "ticks": ""
            },
            "type": "choropleth"
           }
          ],
          "contour": [
           {
            "colorbar": {
             "outlinewidth": 0,
             "ticks": ""
            },
            "colorscale": [
             [
              0,
              "#0d0887"
             ],
             [
              0.1111111111111111,
              "#46039f"
             ],
             [
              0.2222222222222222,
              "#7201a8"
             ],
             [
              0.3333333333333333,
              "#9c179e"
             ],
             [
              0.4444444444444444,
              "#bd3786"
             ],
             [
              0.5555555555555556,
              "#d8576b"
             ],
             [
              0.6666666666666666,
              "#ed7953"
             ],
             [
              0.7777777777777778,
              "#fb9f3a"
             ],
             [
              0.8888888888888888,
              "#fdca26"
             ],
             [
              1,
              "#f0f921"
             ]
            ],
            "type": "contour"
           }
          ],
          "contourcarpet": [
           {
            "colorbar": {
             "outlinewidth": 0,
             "ticks": ""
            },
            "type": "contourcarpet"
           }
          ],
          "heatmap": [
           {
            "colorbar": {
             "outlinewidth": 0,
             "ticks": ""
            },
            "colorscale": [
             [
              0,
              "#0d0887"
             ],
             [
              0.1111111111111111,
              "#46039f"
             ],
             [
              0.2222222222222222,
              "#7201a8"
             ],
             [
              0.3333333333333333,
              "#9c179e"
             ],
             [
              0.4444444444444444,
              "#bd3786"
             ],
             [
              0.5555555555555556,
              "#d8576b"
             ],
             [
              0.6666666666666666,
              "#ed7953"
             ],
             [
              0.7777777777777778,
              "#fb9f3a"
             ],
             [
              0.8888888888888888,
              "#fdca26"
             ],
             [
              1,
              "#f0f921"
             ]
            ],
            "type": "heatmap"
           }
          ],
          "heatmapgl": [
           {
            "colorbar": {
             "outlinewidth": 0,
             "ticks": ""
            },
            "colorscale": [
             [
              0,
              "#0d0887"
             ],
             [
              0.1111111111111111,
              "#46039f"
             ],
             [
              0.2222222222222222,
              "#7201a8"
             ],
             [
              0.3333333333333333,
              "#9c179e"
             ],
             [
              0.4444444444444444,
              "#bd3786"
             ],
             [
              0.5555555555555556,
              "#d8576b"
             ],
             [
              0.6666666666666666,
              "#ed7953"
             ],
             [
              0.7777777777777778,
              "#fb9f3a"
             ],
             [
              0.8888888888888888,
              "#fdca26"
             ],
             [
              1,
              "#f0f921"
             ]
            ],
            "type": "heatmapgl"
           }
          ],
          "histogram": [
           {
            "marker": {
             "pattern": {
              "fillmode": "overlay",
              "size": 10,
              "solidity": 0.2
             }
            },
            "type": "histogram"
           }
          ],
          "histogram2d": [
           {
            "colorbar": {
             "outlinewidth": 0,
             "ticks": ""
            },
            "colorscale": [
             [
              0,
              "#0d0887"
             ],
             [
              0.1111111111111111,
              "#46039f"
             ],
             [
              0.2222222222222222,
              "#7201a8"
             ],
             [
              0.3333333333333333,
              "#9c179e"
             ],
             [
              0.4444444444444444,
              "#bd3786"
             ],
             [
              0.5555555555555556,
              "#d8576b"
             ],
             [
              0.6666666666666666,
              "#ed7953"
             ],
             [
              0.7777777777777778,
              "#fb9f3a"
             ],
             [
              0.8888888888888888,
              "#fdca26"
             ],
             [
              1,
              "#f0f921"
             ]
            ],
            "type": "histogram2d"
           }
          ],
          "histogram2dcontour": [
           {
            "colorbar": {
             "outlinewidth": 0,
             "ticks": ""
            },
            "colorscale": [
             [
              0,
              "#0d0887"
             ],
             [
              0.1111111111111111,
              "#46039f"
             ],
             [
              0.2222222222222222,
              "#7201a8"
             ],
             [
              0.3333333333333333,
              "#9c179e"
             ],
             [
              0.4444444444444444,
              "#bd3786"
             ],
             [
              0.5555555555555556,
              "#d8576b"
             ],
             [
              0.6666666666666666,
              "#ed7953"
             ],
             [
              0.7777777777777778,
              "#fb9f3a"
             ],
             [
              0.8888888888888888,
              "#fdca26"
             ],
             [
              1,
              "#f0f921"
             ]
            ],
            "type": "histogram2dcontour"
           }
          ],
          "mesh3d": [
           {
            "colorbar": {
             "outlinewidth": 0,
             "ticks": ""
            },
            "type": "mesh3d"
           }
          ],
          "parcoords": [
           {
            "line": {
             "colorbar": {
              "outlinewidth": 0,
              "ticks": ""
             }
            },
            "type": "parcoords"
           }
          ],
          "pie": [
           {
            "automargin": true,
            "type": "pie"
           }
          ],
          "scatter": [
           {
            "fillpattern": {
             "fillmode": "overlay",
             "size": 10,
             "solidity": 0.2
            },
            "type": "scatter"
           }
          ],
          "scatter3d": [
           {
            "line": {
             "colorbar": {
              "outlinewidth": 0,
              "ticks": ""
             }
            },
            "marker": {
             "colorbar": {
              "outlinewidth": 0,
              "ticks": ""
             }
            },
            "type": "scatter3d"
           }
          ],
          "scattercarpet": [
           {
            "marker": {
             "colorbar": {
              "outlinewidth": 0,
              "ticks": ""
             }
            },
            "type": "scattercarpet"
           }
          ],
          "scattergeo": [
           {
            "marker": {
             "colorbar": {
              "outlinewidth": 0,
              "ticks": ""
             }
            },
            "type": "scattergeo"
           }
          ],
          "scattergl": [
           {
            "marker": {
             "colorbar": {
              "outlinewidth": 0,
              "ticks": ""
             }
            },
            "type": "scattergl"
           }
          ],
          "scattermapbox": [
           {
            "marker": {
             "colorbar": {
              "outlinewidth": 0,
              "ticks": ""
             }
            },
            "type": "scattermapbox"
           }
          ],
          "scatterpolar": [
           {
            "marker": {
             "colorbar": {
              "outlinewidth": 0,
              "ticks": ""
             }
            },
            "type": "scatterpolar"
           }
          ],
          "scatterpolargl": [
           {
            "marker": {
             "colorbar": {
              "outlinewidth": 0,
              "ticks": ""
             }
            },
            "type": "scatterpolargl"
           }
          ],
          "scatterternary": [
           {
            "marker": {
             "colorbar": {
              "outlinewidth": 0,
              "ticks": ""
             }
            },
            "type": "scatterternary"
           }
          ],
          "surface": [
           {
            "colorbar": {
             "outlinewidth": 0,
             "ticks": ""
            },
            "colorscale": [
             [
              0,
              "#0d0887"
             ],
             [
              0.1111111111111111,
              "#46039f"
             ],
             [
              0.2222222222222222,
              "#7201a8"
             ],
             [
              0.3333333333333333,
              "#9c179e"
             ],
             [
              0.4444444444444444,
              "#bd3786"
             ],
             [
              0.5555555555555556,
              "#d8576b"
             ],
             [
              0.6666666666666666,
              "#ed7953"
             ],
             [
              0.7777777777777778,
              "#fb9f3a"
             ],
             [
              0.8888888888888888,
              "#fdca26"
             ],
             [
              1,
              "#f0f921"
             ]
            ],
            "type": "surface"
           }
          ],
          "table": [
           {
            "cells": {
             "fill": {
              "color": "#EBF0F8"
             },
             "line": {
              "color": "white"
             }
            },
            "header": {
             "fill": {
              "color": "#C8D4E3"
             },
             "line": {
              "color": "white"
             }
            },
            "type": "table"
           }
          ]
         },
         "layout": {
          "annotationdefaults": {
           "arrowcolor": "#2a3f5f",
           "arrowhead": 0,
           "arrowwidth": 1
          },
          "autotypenumbers": "strict",
          "coloraxis": {
           "colorbar": {
            "outlinewidth": 0,
            "ticks": ""
           }
          },
          "colorscale": {
           "diverging": [
            [
             0,
             "#8e0152"
            ],
            [
             0.1,
             "#c51b7d"
            ],
            [
             0.2,
             "#de77ae"
            ],
            [
             0.3,
             "#f1b6da"
            ],
            [
             0.4,
             "#fde0ef"
            ],
            [
             0.5,
             "#f7f7f7"
            ],
            [
             0.6,
             "#e6f5d0"
            ],
            [
             0.7,
             "#b8e186"
            ],
            [
             0.8,
             "#7fbc41"
            ],
            [
             0.9,
             "#4d9221"
            ],
            [
             1,
             "#276419"
            ]
           ],
           "sequential": [
            [
             0,
             "#0d0887"
            ],
            [
             0.1111111111111111,
             "#46039f"
            ],
            [
             0.2222222222222222,
             "#7201a8"
            ],
            [
             0.3333333333333333,
             "#9c179e"
            ],
            [
             0.4444444444444444,
             "#bd3786"
            ],
            [
             0.5555555555555556,
             "#d8576b"
            ],
            [
             0.6666666666666666,
             "#ed7953"
            ],
            [
             0.7777777777777778,
             "#fb9f3a"
            ],
            [
             0.8888888888888888,
             "#fdca26"
            ],
            [
             1,
             "#f0f921"
            ]
           ],
           "sequentialminus": [
            [
             0,
             "#0d0887"
            ],
            [
             0.1111111111111111,
             "#46039f"
            ],
            [
             0.2222222222222222,
             "#7201a8"
            ],
            [
             0.3333333333333333,
             "#9c179e"
            ],
            [
             0.4444444444444444,
             "#bd3786"
            ],
            [
             0.5555555555555556,
             "#d8576b"
            ],
            [
             0.6666666666666666,
             "#ed7953"
            ],
            [
             0.7777777777777778,
             "#fb9f3a"
            ],
            [
             0.8888888888888888,
             "#fdca26"
            ],
            [
             1,
             "#f0f921"
            ]
           ]
          },
          "colorway": [
           "#636efa",
           "#EF553B",
           "#00cc96",
           "#ab63fa",
           "#FFA15A",
           "#19d3f3",
           "#FF6692",
           "#B6E880",
           "#FF97FF",
           "#FECB52"
          ],
          "font": {
           "color": "#2a3f5f"
          },
          "geo": {
           "bgcolor": "white",
           "lakecolor": "white",
           "landcolor": "#E5ECF6",
           "showlakes": true,
           "showland": true,
           "subunitcolor": "white"
          },
          "hoverlabel": {
           "align": "left"
          },
          "hovermode": "closest",
          "mapbox": {
           "style": "light"
          },
          "paper_bgcolor": "white",
          "plot_bgcolor": "#E5ECF6",
          "polar": {
           "angularaxis": {
            "gridcolor": "white",
            "linecolor": "white",
            "ticks": ""
           },
           "bgcolor": "#E5ECF6",
           "radialaxis": {
            "gridcolor": "white",
            "linecolor": "white",
            "ticks": ""
           }
          },
          "scene": {
           "xaxis": {
            "backgroundcolor": "#E5ECF6",
            "gridcolor": "white",
            "gridwidth": 2,
            "linecolor": "white",
            "showbackground": true,
            "ticks": "",
            "zerolinecolor": "white"
           },
           "yaxis": {
            "backgroundcolor": "#E5ECF6",
            "gridcolor": "white",
            "gridwidth": 2,
            "linecolor": "white",
            "showbackground": true,
            "ticks": "",
            "zerolinecolor": "white"
           },
           "zaxis": {
            "backgroundcolor": "#E5ECF6",
            "gridcolor": "white",
            "gridwidth": 2,
            "linecolor": "white",
            "showbackground": true,
            "ticks": "",
            "zerolinecolor": "white"
           }
          },
          "shapedefaults": {
           "line": {
            "color": "#2a3f5f"
           }
          },
          "ternary": {
           "aaxis": {
            "gridcolor": "white",
            "linecolor": "white",
            "ticks": ""
           },
           "baxis": {
            "gridcolor": "white",
            "linecolor": "white",
            "ticks": ""
           },
           "bgcolor": "#E5ECF6",
           "caxis": {
            "gridcolor": "white",
            "linecolor": "white",
            "ticks": ""
           }
          },
          "title": {
           "x": 0.05
          },
          "xaxis": {
           "automargin": true,
           "gridcolor": "white",
           "linecolor": "white",
           "ticks": "",
           "title": {
            "standoff": 15
           },
           "zerolinecolor": "white",
           "zerolinewidth": 2
          },
          "yaxis": {
           "automargin": true,
           "gridcolor": "white",
           "linecolor": "white",
           "ticks": "",
           "title": {
            "standoff": 15
           },
           "zerolinecolor": "white",
           "zerolinewidth": 2
          }
         }
        },
        "xaxis": {
         "anchor": "y",
         "domain": [
          0,
          1
         ],
         "title": {
          "text": "gender"
         }
        },
        "yaxis": {
         "anchor": "x",
         "domain": [
          0,
          1
         ],
         "title": {
          "text": "count"
         }
        }
       }
      },
      "text/html": [
       "<div>                            <div id=\"c220a973-8fde-4b7c-915b-9b1407a7cfca\" class=\"plotly-graph-div\" style=\"height:525px; width:100%;\"></div>            <script type=\"text/javascript\">                require([\"plotly\"], function(Plotly) {                    window.PLOTLYENV=window.PLOTLYENV || {};                                    if (document.getElementById(\"c220a973-8fde-4b7c-915b-9b1407a7cfca\")) {                    Plotly.newPlot(                        \"c220a973-8fde-4b7c-915b-9b1407a7cfca\",                        [{\"alignmentgroup\":\"True\",\"bingroup\":\"x\",\"hovertemplate\":\"gender=%{x}<br>count=%{y}<extra></extra>\",\"legendgroup\":\"\",\"marker\":{\"color\":\"#636efa\",\"pattern\":{\"shape\":\"\"}},\"name\":\"\",\"offsetgroup\":\"\",\"orientation\":\"v\",\"showlegend\":false,\"x\":[\"male\",\"male\",\"female\",\"male\",\"male\",\"female\",\"male\",\"male\",\"male\",\"male\",\"male\",\"female\",\"male\",\"female\",\"female\",\"male\",\"male\",\"male\",\"male\",\"male\",\"female\",\"male\",\"male\",\"male\",\"male\",\"female\",\"male\",\"male\",\"male\",\"male\",\"male\",\"male\",\"male\",\"male\",\"male\",\"male\",\"male\",\"male\",\"male\",\"male\",\"female\",\"female\",\"male\",\"male\",\"male\",\"male\",\"male\",\"male\",\"female\",\"male\",\"male\",\"male\",\"male\",\"male\",\"male\",\"male\",\"male\",\"male\",\"female\",\"male\",\"male\",\"male\",\"male\",\"male\",\"female\",\"male\",\"male\",\"male\",\"male\",\"male\",\"female\",\"male\",\"male\",\"male\",\"male\",\"female\",\"female\",\"male\",\"female\",\"female\",\"female\",\"male\",\"female\",\"female\",\"male\",\"male\",\"male\",\"female\",\"male\",\"male\",\"male\",\"male\",\"male\",\"male\",\"female\",\"male\",\"male\",\"male\",\"male\",\"male\",\"male\",\"female\",\"female\",\"female\",\"female\",\"female\",\"female\",\"female\",\"female\",\"female\",\"female\",\"female\",\"female\",\"female\",\"female\",\"female\",\"female\",\"female\",\"female\",\"female\",\"female\",\"female\",\"female\",\"female\",\"female\",\"female\",\"female\",\"female\",\"female\",\"female\",\"female\",\"female\",\"female\",\"female\",\"female\",\"female\",\"female\",\"female\",\"female\",\"female\",\"female\",\"female\",\"female\",\"female\",\"female\",\"female\",\"female\",\"female\",\"female\",\"female\",\"female\",\"female\",\"female\",\"female\",\"female\",\"female\",\"female\",\"female\",\"female\",\"female\",\"female\",\"female\",\"female\",\"female\",\"female\",\"female\",\"female\",\"female\",\"female\",\"female\",\"female\",\"female\",\"female\",\"female\",\"female\",\"female\",\"female\",\"female\",\"female\",\"female\",\"female\",\"female\",\"female\",\"female\",\"female\",\"female\",\"female\",\"female\",\"female\",\"female\",\"female\",\"female\",\"female\",\"female\",\"female\",\"female\",\"female\",\"female\",\"female\",\"female\",\"female\",\"male\",\"male\",\"male\",\"male\",\"male\",\"male\",\"male\",\"male\",\"female\",\"male\",\"male\",\"male\",\"male\",\"male\",\"male\",\"male\",\"male\",\"female\",\"female\",\"female\",\"male\",\"male\",\"male\",\"female\",\"female\",\"male\",\"male\",\"female\",\"female\",\"male\",\"male\",\"male\",\"male\",\"female\",\"male\",\"female\",\"male\",\"male\",\"male\",\"male\",\"male\",\"female\",\"male\",\"male\",\"male\",\"male\",\"male\",\"male\",\"female\",\"male\",\"male\",\"male\",\"male\",\"female\",\"male\",\"female\",\"male\",\"male\",\"male\",\"male\",\"female\",\"male\",\"male\",\"male\",\"male\",\"female\",\"male\",\"male\",\"male\",\"male\",\"male\",\"male\",\"male\",\"male\",\"male\",\"male\",\"male\",\"female\",\"male\",\"female\",\"female\",\"male\",\"female\",\"female\",\"female\",\"male\",\"male\",\"male\",\"male\",\"male\",\"male\",\"male\",\"female\",\"male\",\"female\",\"male\",\"female\",\"male\",\"female\",\"female\",\"female\",\"male\",\"male\",\"male\",\"male\",\"male\",\"female\",\"male\",\"female\",\"male\",\"male\",\"female\",\"male\",\"female\",\"male\",\"male\",\"male\",\"male\",\"female\",\"male\",\"male\",\"female\",\"male\",\"female\",\"male\",\"male\",\"female\",\"female\",\"male\",\"male\",\"male\",\"female\",\"female\",\"male\",\"male\",\"male\",\"male\",\"male\",\"male\",\"male\",\"female\",\"female\",\"male\",\"male\",\"male\",\"male\",\"male\",\"male\",\"male\",\"male\",\"male\",\"male\",\"male\",\"male\",\"male\",\"male\",\"male\",\"male\",\"female\",\"male\",\"male\",\"male\",\"male\",\"male\",\"male\",\"female\",\"female\",\"male\",\"female\",\"male\",\"male\",\"male\",\"male\",\"female\",\"male\",\"male\",\"male\",\"female\",\"female\",\"male\",\"male\",\"male\",\"male\",\"male\",\"male\",\"male\",\"male\",\"male\",\"male\",\"male\",\"male\",\"female\",\"female\",\"male\",\"male\",\"male\",\"male\",\"male\",\"male\",\"male\",\"male\",\"female\",\"female\",\"female\",\"female\",\"female\",\"female\",\"female\",\"female\",\"female\",\"female\",\"female\",\"female\",\"female\",\"female\",\"female\",\"female\",\"female\",\"female\",\"female\",\"female\",\"female\",\"female\",\"female\",\"female\",\"female\",\"female\",\"female\",\"female\",\"female\",\"female\",\"female\",\"female\",\"female\",\"female\",\"female\",\"female\",\"female\",\"female\",\"female\",\"female\",\"female\",\"female\",\"female\",\"female\",\"female\",\"female\",\"female\",\"female\",\"female\",\"female\",\"female\",\"female\",\"female\",\"female\",\"female\",\"female\",\"female\",\"female\",\"female\",\"female\",\"female\",\"female\",\"female\",\"female\",\"female\",\"female\",\"female\",\"female\",\"female\",\"female\",\"female\",\"female\",\"female\",\"female\",\"female\",\"female\",\"female\",\"female\",\"female\",\"female\",\"female\",\"female\",\"female\",\"female\",\"female\",\"female\",\"female\",\"female\",\"female\",\"female\",\"female\",\"female\",\"female\",\"female\",\"female\",\"female\",\"female\",\"female\",\"female\",\"female\",\"female\",\"female\",\"female\",\"female\",\"male\",\"male\",\"female\",\"male\",\"male\",\"male\",\"male\",\"male\",\"female\",\"female\",\"male\",\"female\",\"male\",\"female\",\"female\",\"male\",\"female\",\"male\",\"female\",\"female\",\"male\",\"male\",\"female\",\"male\",\"male\",\"male\",\"male\",\"female\",\"male\",\"female\",\"male\",\"male\",\"male\",\"male\",\"male\",\"male\",\"male\",\"male\",\"male\",\"male\",\"male\",\"male\",\"male\",\"male\",\"male\",\"male\",\"female\",\"male\",\"male\",\"male\",\"male\",\"female\",\"female\",\"male\",\"male\",\"male\",\"female\",\"male\",\"female\",\"male\",\"male\",\"male\",\"male\",\"female\",\"male\",\"male\",\"male\",\"female\",\"female\",\"female\",\"female\",\"female\",\"female\",\"female\",\"female\",\"female\",\"female\",\"female\",\"female\",\"female\",\"female\",\"female\",\"female\",\"female\",\"female\",\"female\",\"female\",\"female\",\"female\",\"female\",\"female\",\"female\",\"female\",\"female\",\"female\",\"female\",\"female\",\"male\",\"male\",\"male\",\"male\",\"male\",\"male\",\"male\",\"male\",\"female\",\"male\",\"male\",\"male\",\"female\",\"female\",\"female\",\"male\",\"male\",\"female\",\"male\",\"male\",\"female\",\"male\",\"male\",\"male\",\"male\",\"female\",\"male\",\"male\",\"male\",\"male\",\"male\",\"male\",\"male\",\"female\",\"male\",\"female\",\"male\",\"male\",\"male\",\"male\",\"female\",\"female\",\"male\",\"male\",\"male\",\"male\",\"male\",\"male\",\"male\",\"female\",\"female\",\"female\",\"female\",\"male\",\"male\",\"female\",\"male\",\"male\",\"male\",\"male\",\"male\",\"female\",\"female\",\"male\",\"female\",\"male\",\"female\",\"female\",\"male\",\"female\",\"male\",\"female\",\"female\",\"male\",\"male\",\"female\",\"male\",\"male\",\"male\",\"male\",\"female\",\"male\",\"female\",\"male\",\"male\",\"male\",\"male\",\"male\",\"male\",\"male\",\"male\",\"male\",\"male\",\"male\",\"male\",\"male\",\"male\",\"male\",\"male\",\"female\",\"male\",\"male\",\"male\",\"male\",\"male\",\"male\",\"male\",\"male\",\"female\",\"male\",\"male\",\"male\",\"male\",\"male\",\"female\",\"male\",\"male\",\"male\",\"male\",\"male\",\"female\",\"male\",\"male\",\"male\",\"male\",\"female\",\"female\",\"male\",\"female\",\"female\",\"female\",\"male\",\"female\",\"female\",\"male\",\"male\",\"male\",\"female\",\"male\",\"male\",\"male\",\"male\",\"male\",\"male\",\"female\",\"male\",\"male\",\"male\",\"male\",\"male\",\"male\",\"male\",\"male\",\"male\",\"male\",\"male\",\"male\",\"male\",\"female\",\"male\",\"male\",\"male\",\"male\",\"male\",\"male\",\"male\",\"male\",\"female\",\"female\",\"female\",\"male\",\"male\",\"male\",\"female\",\"male\",\"male\",\"male\",\"female\",\"male\",\"male\",\"male\",\"male\",\"male\",\"female\",\"male\",\"female\",\"male\",\"male\",\"male\",\"male\",\"male\",\"female\",\"male\",\"male\",\"male\",\"male\",\"female\",\"male\",\"female\",\"male\",\"female\",\"female\",\"female\",\"female\",\"female\",\"female\",\"female\",\"female\",\"female\",\"female\",\"female\",\"female\",\"female\",\"female\",\"female\",\"female\",\"female\",\"female\",\"female\",\"female\",\"female\",\"female\",\"female\",\"female\",\"female\",\"female\",\"female\",\"female\",\"female\",\"female\",\"female\",\"female\",\"female\",\"female\",\"female\",\"female\",\"female\",\"female\",\"female\",\"female\",\"female\",\"female\",\"female\",\"female\",\"female\",\"female\",\"female\",\"female\",\"female\",\"female\",\"female\",\"female\",\"female\",\"female\",\"female\",\"female\",\"female\",\"female\",\"female\",\"female\",\"female\",\"female\",\"female\",\"female\",\"female\",\"female\",\"female\",\"female\",\"female\",\"female\",\"female\",\"female\",\"female\",\"female\",\"female\",\"female\",\"female\",\"female\",\"female\",\"female\",\"female\",\"female\",\"female\",\"female\",\"female\",\"female\",\"female\",\"female\",\"female\",\"female\",\"female\",\"female\",\"female\",\"female\",\"female\",\"female\",\"female\",\"female\",\"female\",\"female\",\"male\",\"male\",\"male\",\"male\",\"male\",\"male\",\"male\",\"female\",\"male\",\"male\",\"male\",\"male\",\"male\",\"male\",\"female\",\"female\",\"male\",\"female\",\"male\",\"male\",\"male\",\"male\",\"female\",\"male\",\"male\",\"male\",\"female\",\"female\",\"male\",\"male\",\"male\",\"male\",\"male\",\"male\",\"male\",\"male\",\"male\",\"male\",\"male\",\"male\",\"female\",\"female\",\"male\",\"male\",\"male\",\"male\",\"male\",\"male\",\"male\",\"male\",\"male\",\"male\",\"female\",\"male\",\"male\",\"female\",\"male\",\"male\",\"male\",\"male\",\"male\",\"female\",\"male\",\"female\",\"female\",\"male\",\"male\",\"male\",\"male\",\"male\",\"female\",\"male\",\"male\",\"male\",\"male\",\"female\",\"male\",\"male\",\"male\",\"male\",\"male\",\"male\",\"male\",\"male\",\"male\",\"male\",\"male\",\"male\",\"male\",\"male\",\"female\",\"female\",\"male\",\"male\",\"male\",\"male\",\"male\",\"male\",\"female\",\"male\",\"female\",\"female\",\"female\",\"female\",\"female\",\"female\",\"female\",\"female\",\"female\",\"female\",\"female\",\"female\",\"female\",\"female\",\"female\",\"female\",\"female\",\"female\",\"female\",\"female\",\"female\",\"female\",\"female\",\"female\",\"female\",\"female\",\"female\",\"female\",\"female\",\"female\",\"female\",\"female\",\"female\",\"female\",\"female\",\"female\",\"female\",\"female\",\"female\",\"female\",\"female\",\"female\",\"female\",\"female\",\"female\",\"female\",\"female\",\"female\",\"female\",\"female\",\"female\",\"female\",\"female\",\"female\",\"female\",\"female\",\"female\",\"female\",\"female\",\"female\",\"female\",\"female\",\"female\",\"female\",\"female\",\"female\",\"female\",\"female\",\"female\",\"female\",\"female\",\"female\",\"female\",\"female\",\"female\",\"female\",\"female\",\"female\",\"female\",\"female\",\"female\",\"female\",\"female\",\"female\",\"female\",\"female\",\"female\",\"female\",\"female\",\"female\",\"female\",\"female\",\"female\",\"female\",\"female\",\"female\",\"female\",\"female\",\"female\",\"female\",\"male\",\"male\",\"male\",\"male\",\"male\",\"male\",\"male\",\"male\",\"male\",\"male\",\"male\",\"male\",\"male\",\"male\",\"male\",\"male\",\"male\",\"male\",\"male\",\"male\",\"male\",\"male\",\"male\",\"male\",\"male\",\"male\",\"male\",\"male\",\"male\",\"male\",\"male\",\"male\",\"male\",\"male\",\"male\",\"male\",\"male\",\"male\",\"male\",\"male\",\"male\",\"male\",\"male\",\"male\",\"male\",\"male\",\"male\",\"male\",\"male\",\"male\",\"male\",\"male\",\"male\",\"male\",\"male\",\"male\",\"male\",\"male\",\"male\",\"male\",\"male\",\"male\",\"male\",\"male\",\"male\",\"male\",\"male\",\"male\",\"male\",\"male\",\"male\",\"male\",\"male\",\"male\",\"male\",\"male\",\"male\",\"male\",\"female\",\"male\",\"male\",\"male\",\"male\",\"male\",\"male\",\"female\",\"male\",\"male\",\"female\",\"male\",\"female\",\"female\",\"male\",\"female\",\"male\",\"male\",\"male\",\"male\",\"male\",\"male\",\"female\",\"female\",\"female\",\"female\",\"female\",\"female\",\"female\",\"female\",\"female\",\"female\",\"female\",\"female\",\"female\",\"female\",\"female\",\"female\",\"female\",\"female\",\"female\",\"female\",\"female\",\"female\",\"female\",\"female\",\"female\",\"female\",\"female\",\"female\",\"female\",\"female\",\"female\",\"female\",\"female\",\"female\",\"female\",\"female\",\"female\",\"female\",\"female\",\"female\",\"female\",\"female\",\"female\",\"female\",\"female\",\"female\",\"female\",\"female\",\"female\",\"female\",\"male\",\"male\",\"male\",\"male\",\"male\",\"male\",\"male\",\"male\",\"male\",\"male\",\"male\",\"male\",\"male\",\"male\",\"male\",\"male\",\"male\",\"male\",\"male\",\"male\",\"male\",\"male\",\"male\",\"male\",\"male\",\"male\",\"male\",\"male\",\"male\",\"male\",\"male\",\"male\",\"male\",\"male\",\"male\",\"male\",\"male\",\"male\",\"male\",\"male\",\"male\",\"male\",\"male\",\"male\",\"male\",\"male\",\"male\",\"male\",\"male\",\"male\",\"male\",\"male\",\"male\",\"female\",\"male\",\"female\",\"male\",\"male\",\"male\",\"male\",\"female\",\"male\",\"male\",\"male\",\"male\",\"female\",\"male\",\"male\",\"male\",\"male\",\"male\",\"male\",\"male\",\"male\",\"male\",\"male\",\"male\",\"female\",\"male\",\"female\",\"male\",\"male\",\"female\",\"female\",\"female\",\"male\",\"male\",\"male\",\"male\",\"male\",\"male\",\"male\",\"female\",\"male\",\"female\",\"male\",\"female\",\"male\",\"female\",\"female\",\"male\",\"male\",\"male\",\"male\",\"male\",\"male\",\"female\",\"female\",\"female\",\"male\",\"male\",\"female\",\"female\",\"male\",\"male\",\"female\",\"male\",\"male\",\"male\",\"male\",\"male\",\"male\",\"female\",\"male\",\"male\",\"male\",\"male\",\"female\",\"female\",\"female\",\"male\",\"female\",\"female\",\"male\",\"female\",\"male\",\"male\",\"female\",\"male\",\"male\",\"female\",\"male\",\"male\",\"male\",\"male\",\"male\",\"female\",\"female\",\"male\",\"male\"],\"xaxis\":\"x\",\"yaxis\":\"y\",\"type\":\"histogram\"}],                        {\"template\":{\"data\":{\"histogram2dcontour\":[{\"type\":\"histogram2dcontour\",\"colorbar\":{\"outlinewidth\":0,\"ticks\":\"\"},\"colorscale\":[[0.0,\"#0d0887\"],[0.1111111111111111,\"#46039f\"],[0.2222222222222222,\"#7201a8\"],[0.3333333333333333,\"#9c179e\"],[0.4444444444444444,\"#bd3786\"],[0.5555555555555556,\"#d8576b\"],[0.6666666666666666,\"#ed7953\"],[0.7777777777777778,\"#fb9f3a\"],[0.8888888888888888,\"#fdca26\"],[1.0,\"#f0f921\"]]}],\"choropleth\":[{\"type\":\"choropleth\",\"colorbar\":{\"outlinewidth\":0,\"ticks\":\"\"}}],\"histogram2d\":[{\"type\":\"histogram2d\",\"colorbar\":{\"outlinewidth\":0,\"ticks\":\"\"},\"colorscale\":[[0.0,\"#0d0887\"],[0.1111111111111111,\"#46039f\"],[0.2222222222222222,\"#7201a8\"],[0.3333333333333333,\"#9c179e\"],[0.4444444444444444,\"#bd3786\"],[0.5555555555555556,\"#d8576b\"],[0.6666666666666666,\"#ed7953\"],[0.7777777777777778,\"#fb9f3a\"],[0.8888888888888888,\"#fdca26\"],[1.0,\"#f0f921\"]]}],\"heatmap\":[{\"type\":\"heatmap\",\"colorbar\":{\"outlinewidth\":0,\"ticks\":\"\"},\"colorscale\":[[0.0,\"#0d0887\"],[0.1111111111111111,\"#46039f\"],[0.2222222222222222,\"#7201a8\"],[0.3333333333333333,\"#9c179e\"],[0.4444444444444444,\"#bd3786\"],[0.5555555555555556,\"#d8576b\"],[0.6666666666666666,\"#ed7953\"],[0.7777777777777778,\"#fb9f3a\"],[0.8888888888888888,\"#fdca26\"],[1.0,\"#f0f921\"]]}],\"heatmapgl\":[{\"type\":\"heatmapgl\",\"colorbar\":{\"outlinewidth\":0,\"ticks\":\"\"},\"colorscale\":[[0.0,\"#0d0887\"],[0.1111111111111111,\"#46039f\"],[0.2222222222222222,\"#7201a8\"],[0.3333333333333333,\"#9c179e\"],[0.4444444444444444,\"#bd3786\"],[0.5555555555555556,\"#d8576b\"],[0.6666666666666666,\"#ed7953\"],[0.7777777777777778,\"#fb9f3a\"],[0.8888888888888888,\"#fdca26\"],[1.0,\"#f0f921\"]]}],\"contourcarpet\":[{\"type\":\"contourcarpet\",\"colorbar\":{\"outlinewidth\":0,\"ticks\":\"\"}}],\"contour\":[{\"type\":\"contour\",\"colorbar\":{\"outlinewidth\":0,\"ticks\":\"\"},\"colorscale\":[[0.0,\"#0d0887\"],[0.1111111111111111,\"#46039f\"],[0.2222222222222222,\"#7201a8\"],[0.3333333333333333,\"#9c179e\"],[0.4444444444444444,\"#bd3786\"],[0.5555555555555556,\"#d8576b\"],[0.6666666666666666,\"#ed7953\"],[0.7777777777777778,\"#fb9f3a\"],[0.8888888888888888,\"#fdca26\"],[1.0,\"#f0f921\"]]}],\"surface\":[{\"type\":\"surface\",\"colorbar\":{\"outlinewidth\":0,\"ticks\":\"\"},\"colorscale\":[[0.0,\"#0d0887\"],[0.1111111111111111,\"#46039f\"],[0.2222222222222222,\"#7201a8\"],[0.3333333333333333,\"#9c179e\"],[0.4444444444444444,\"#bd3786\"],[0.5555555555555556,\"#d8576b\"],[0.6666666666666666,\"#ed7953\"],[0.7777777777777778,\"#fb9f3a\"],[0.8888888888888888,\"#fdca26\"],[1.0,\"#f0f921\"]]}],\"mesh3d\":[{\"type\":\"mesh3d\",\"colorbar\":{\"outlinewidth\":0,\"ticks\":\"\"}}],\"scatter\":[{\"fillpattern\":{\"fillmode\":\"overlay\",\"size\":10,\"solidity\":0.2},\"type\":\"scatter\"}],\"parcoords\":[{\"type\":\"parcoords\",\"line\":{\"colorbar\":{\"outlinewidth\":0,\"ticks\":\"\"}}}],\"scatterpolargl\":[{\"type\":\"scatterpolargl\",\"marker\":{\"colorbar\":{\"outlinewidth\":0,\"ticks\":\"\"}}}],\"bar\":[{\"error_x\":{\"color\":\"#2a3f5f\"},\"error_y\":{\"color\":\"#2a3f5f\"},\"marker\":{\"line\":{\"color\":\"#E5ECF6\",\"width\":0.5},\"pattern\":{\"fillmode\":\"overlay\",\"size\":10,\"solidity\":0.2}},\"type\":\"bar\"}],\"scattergeo\":[{\"type\":\"scattergeo\",\"marker\":{\"colorbar\":{\"outlinewidth\":0,\"ticks\":\"\"}}}],\"scatterpolar\":[{\"type\":\"scatterpolar\",\"marker\":{\"colorbar\":{\"outlinewidth\":0,\"ticks\":\"\"}}}],\"histogram\":[{\"marker\":{\"pattern\":{\"fillmode\":\"overlay\",\"size\":10,\"solidity\":0.2}},\"type\":\"histogram\"}],\"scattergl\":[{\"type\":\"scattergl\",\"marker\":{\"colorbar\":{\"outlinewidth\":0,\"ticks\":\"\"}}}],\"scatter3d\":[{\"type\":\"scatter3d\",\"line\":{\"colorbar\":{\"outlinewidth\":0,\"ticks\":\"\"}},\"marker\":{\"colorbar\":{\"outlinewidth\":0,\"ticks\":\"\"}}}],\"scattermapbox\":[{\"type\":\"scattermapbox\",\"marker\":{\"colorbar\":{\"outlinewidth\":0,\"ticks\":\"\"}}}],\"scatterternary\":[{\"type\":\"scatterternary\",\"marker\":{\"colorbar\":{\"outlinewidth\":0,\"ticks\":\"\"}}}],\"scattercarpet\":[{\"type\":\"scattercarpet\",\"marker\":{\"colorbar\":{\"outlinewidth\":0,\"ticks\":\"\"}}}],\"carpet\":[{\"aaxis\":{\"endlinecolor\":\"#2a3f5f\",\"gridcolor\":\"white\",\"linecolor\":\"white\",\"minorgridcolor\":\"white\",\"startlinecolor\":\"#2a3f5f\"},\"baxis\":{\"endlinecolor\":\"#2a3f5f\",\"gridcolor\":\"white\",\"linecolor\":\"white\",\"minorgridcolor\":\"white\",\"startlinecolor\":\"#2a3f5f\"},\"type\":\"carpet\"}],\"table\":[{\"cells\":{\"fill\":{\"color\":\"#EBF0F8\"},\"line\":{\"color\":\"white\"}},\"header\":{\"fill\":{\"color\":\"#C8D4E3\"},\"line\":{\"color\":\"white\"}},\"type\":\"table\"}],\"barpolar\":[{\"marker\":{\"line\":{\"color\":\"#E5ECF6\",\"width\":0.5},\"pattern\":{\"fillmode\":\"overlay\",\"size\":10,\"solidity\":0.2}},\"type\":\"barpolar\"}],\"pie\":[{\"automargin\":true,\"type\":\"pie\"}]},\"layout\":{\"autotypenumbers\":\"strict\",\"colorway\":[\"#636efa\",\"#EF553B\",\"#00cc96\",\"#ab63fa\",\"#FFA15A\",\"#19d3f3\",\"#FF6692\",\"#B6E880\",\"#FF97FF\",\"#FECB52\"],\"font\":{\"color\":\"#2a3f5f\"},\"hovermode\":\"closest\",\"hoverlabel\":{\"align\":\"left\"},\"paper_bgcolor\":\"white\",\"plot_bgcolor\":\"#E5ECF6\",\"polar\":{\"bgcolor\":\"#E5ECF6\",\"angularaxis\":{\"gridcolor\":\"white\",\"linecolor\":\"white\",\"ticks\":\"\"},\"radialaxis\":{\"gridcolor\":\"white\",\"linecolor\":\"white\",\"ticks\":\"\"}},\"ternary\":{\"bgcolor\":\"#E5ECF6\",\"aaxis\":{\"gridcolor\":\"white\",\"linecolor\":\"white\",\"ticks\":\"\"},\"baxis\":{\"gridcolor\":\"white\",\"linecolor\":\"white\",\"ticks\":\"\"},\"caxis\":{\"gridcolor\":\"white\",\"linecolor\":\"white\",\"ticks\":\"\"}},\"coloraxis\":{\"colorbar\":{\"outlinewidth\":0,\"ticks\":\"\"}},\"colorscale\":{\"sequential\":[[0.0,\"#0d0887\"],[0.1111111111111111,\"#46039f\"],[0.2222222222222222,\"#7201a8\"],[0.3333333333333333,\"#9c179e\"],[0.4444444444444444,\"#bd3786\"],[0.5555555555555556,\"#d8576b\"],[0.6666666666666666,\"#ed7953\"],[0.7777777777777778,\"#fb9f3a\"],[0.8888888888888888,\"#fdca26\"],[1.0,\"#f0f921\"]],\"sequentialminus\":[[0.0,\"#0d0887\"],[0.1111111111111111,\"#46039f\"],[0.2222222222222222,\"#7201a8\"],[0.3333333333333333,\"#9c179e\"],[0.4444444444444444,\"#bd3786\"],[0.5555555555555556,\"#d8576b\"],[0.6666666666666666,\"#ed7953\"],[0.7777777777777778,\"#fb9f3a\"],[0.8888888888888888,\"#fdca26\"],[1.0,\"#f0f921\"]],\"diverging\":[[0,\"#8e0152\"],[0.1,\"#c51b7d\"],[0.2,\"#de77ae\"],[0.3,\"#f1b6da\"],[0.4,\"#fde0ef\"],[0.5,\"#f7f7f7\"],[0.6,\"#e6f5d0\"],[0.7,\"#b8e186\"],[0.8,\"#7fbc41\"],[0.9,\"#4d9221\"],[1,\"#276419\"]]},\"xaxis\":{\"gridcolor\":\"white\",\"linecolor\":\"white\",\"ticks\":\"\",\"title\":{\"standoff\":15},\"zerolinecolor\":\"white\",\"automargin\":true,\"zerolinewidth\":2},\"yaxis\":{\"gridcolor\":\"white\",\"linecolor\":\"white\",\"ticks\":\"\",\"title\":{\"standoff\":15},\"zerolinecolor\":\"white\",\"automargin\":true,\"zerolinewidth\":2},\"scene\":{\"xaxis\":{\"backgroundcolor\":\"#E5ECF6\",\"gridcolor\":\"white\",\"linecolor\":\"white\",\"showbackground\":true,\"ticks\":\"\",\"zerolinecolor\":\"white\",\"gridwidth\":2},\"yaxis\":{\"backgroundcolor\":\"#E5ECF6\",\"gridcolor\":\"white\",\"linecolor\":\"white\",\"showbackground\":true,\"ticks\":\"\",\"zerolinecolor\":\"white\",\"gridwidth\":2},\"zaxis\":{\"backgroundcolor\":\"#E5ECF6\",\"gridcolor\":\"white\",\"linecolor\":\"white\",\"showbackground\":true,\"ticks\":\"\",\"zerolinecolor\":\"white\",\"gridwidth\":2}},\"shapedefaults\":{\"line\":{\"color\":\"#2a3f5f\"}},\"annotationdefaults\":{\"arrowcolor\":\"#2a3f5f\",\"arrowhead\":0,\"arrowwidth\":1},\"geo\":{\"bgcolor\":\"white\",\"landcolor\":\"#E5ECF6\",\"subunitcolor\":\"white\",\"showland\":true,\"showlakes\":true,\"lakecolor\":\"white\"},\"title\":{\"x\":0.05},\"mapbox\":{\"style\":\"light\"}}},\"xaxis\":{\"anchor\":\"y\",\"domain\":[0.0,1.0],\"title\":{\"text\":\"gender\"}},\"yaxis\":{\"anchor\":\"x\",\"domain\":[0.0,1.0],\"title\":{\"text\":\"count\"}},\"legend\":{\"tracegroupgap\":0},\"margin\":{\"t\":60},\"barmode\":\"relative\"},                        {\"responsive\": true}                    ).then(function(){\n",
       "                            \n",
       "var gd = document.getElementById('c220a973-8fde-4b7c-915b-9b1407a7cfca');\n",
       "var x = new MutationObserver(function (mutations, observer) {{\n",
       "        var display = window.getComputedStyle(gd).display;\n",
       "        if (!display || display === 'none') {{\n",
       "            console.log([gd, 'removed!']);\n",
       "            Plotly.purge(gd);\n",
       "            observer.disconnect();\n",
       "        }}\n",
       "}});\n",
       "\n",
       "// Listen for the removal of the full notebook cells\n",
       "var notebookContainer = gd.closest('#notebook-container');\n",
       "if (notebookContainer) {{\n",
       "    x.observe(notebookContainer, {childList: true});\n",
       "}}\n",
       "\n",
       "// Listen for the clearing of the current output cell\n",
       "var outputEl = gd.closest('.output');\n",
       "if (outputEl) {{\n",
       "    x.observe(outputEl, {childList: true});\n",
       "}}\n",
       "\n",
       "                        })                };                });            </script>        </div>"
      ]
     },
     "metadata": {},
     "output_type": "display_data"
    }
   ],
   "source": [
    "fig = px.histogram(agg, x = 'gender')\n",
    "fig.show()"
   ]
  },
  {
   "cell_type": "markdown",
   "id": "35d38d15",
   "metadata": {},
   "source": [
    "### Expertise colored by gender"
   ]
  },
  {
   "cell_type": "code",
   "execution_count": 116,
   "id": "92ed341c",
   "metadata": {},
   "outputs": [
    {
     "data": {
      "application/vnd.plotly.v1+json": {
       "config": {
        "plotlyServerURL": "https://plot.ly"
       },
       "data": [
        {
         "alignmentgroup": "True",
         "bingroup": "x",
         "hovertemplate": "gender=male<br>ExpertiseScale=%{x}<br>count=%{y}<extra></extra>",
         "legendgroup": "male",
         "marker": {
          "color": "#636efa",
          "pattern": {
           "shape": ""
          }
         },
         "name": "male",
         "offsetgroup": "male",
         "orientation": "v",
         "showlegend": true,
         "type": "histogram",
         "x": [
          "None-STEM degree",
          "No degree",
          "None-STEM degree",
          "STEM degree",
          "STEM degree",
          "STEM degree",
          "No degree",
          "STEM degree",
          "STEM degree",
          "STEM degree",
          "STEM degree",
          "No degree",
          "No degree",
          "STEM degree",
          "No degree",
          "No degree",
          "None-STEM degree",
          "None-STEM degree",
          "No degree",
          "STEM degree",
          "STEM degree",
          "STEM degree",
          "STEM degree",
          "None-STEM degree",
          "No degree",
          "None-STEM degree",
          "STEM degree",
          "STEM degree",
          "None-STEM degree",
          "None-STEM degree",
          "No degree",
          "STEM degree",
          "None-STEM degree",
          "None-STEM degree",
          "No degree",
          "No degree",
          "STEM degree",
          "None-STEM degree",
          "None-STEM degree",
          "STEM degree",
          "STEM degree",
          "None-STEM degree",
          "STEM degree",
          "STEM degree",
          "None-STEM degree",
          "STEM degree",
          "No degree",
          "None-STEM degree",
          "No degree",
          "No degree",
          "No degree",
          null,
          "None-STEM degree",
          "STEM degree",
          "None-STEM degree",
          "STEM degree",
          "None-STEM degree",
          "STEM degree",
          "None-STEM degree",
          "None-STEM degree",
          "None-STEM degree",
          "STEM degree",
          "STEM degree",
          "None-STEM degree",
          "STEM degree",
          "STEM degree",
          "None-STEM degree",
          "None-STEM degree",
          "STEM degree",
          "STEM degree",
          "None-STEM degree",
          "STEM degree",
          "None-STEM degree",
          "No degree",
          "STEM degree",
          "STEM degree",
          "No degree",
          "STEM degree",
          "STEM degree",
          "None-STEM degree",
          "None-STEM degree",
          "STEM degree",
          "STEM degree",
          "None-STEM degree",
          "STEM degree",
          "None-STEM degree",
          "None-STEM degree",
          "None-STEM degree",
          "No degree",
          "No degree",
          "None-STEM degree",
          "None-STEM degree",
          "No degree",
          "No degree",
          "No degree",
          "None-STEM degree",
          "STEM degree",
          "No degree",
          "None-STEM degree",
          "None-STEM degree",
          null,
          "No degree",
          "No degree",
          "STEM degree",
          "STEM degree",
          "No degree",
          "No degree",
          "No degree",
          "No degree",
          "No degree",
          "STEM degree",
          "STEM degree",
          "None-STEM degree",
          "No degree",
          null,
          "No degree",
          "No degree",
          "None-STEM degree",
          "No degree",
          "No degree",
          "None-STEM degree",
          "STEM degree",
          "None-STEM degree",
          "STEM degree",
          "None-STEM degree",
          "No degree",
          "None-STEM degree",
          "No degree",
          "None-STEM degree",
          "STEM degree",
          "None-STEM degree",
          "None-STEM degree",
          "No degree",
          "No degree",
          "STEM degree",
          "None-STEM degree",
          "None-STEM degree",
          "No degree",
          "STEM degree",
          "No degree",
          "No degree",
          "STEM degree",
          "No degree",
          "No degree",
          "No degree",
          "STEM degree",
          "No degree",
          "No degree",
          "No degree",
          "No degree",
          "No degree",
          "No degree",
          "No degree",
          "No degree",
          "No degree",
          "No degree",
          "STEM degree",
          "None-STEM degree",
          "No degree",
          "No degree",
          "No degree",
          "STEM degree",
          "STEM degree",
          "No degree",
          "No degree",
          "No degree",
          "No degree",
          "No degree",
          "No degree",
          "No degree",
          "No degree",
          "No degree",
          "No degree",
          "No degree",
          "No degree",
          "No degree",
          "No degree",
          "No degree",
          "No degree",
          "No degree",
          "No degree",
          "No degree",
          "No degree",
          "No degree",
          "No degree",
          "No degree",
          "No degree",
          "No degree",
          "No degree",
          "STEM degree",
          "No degree",
          "No degree",
          "No degree",
          "No degree",
          "No degree",
          "No degree",
          "No degree",
          "No degree",
          "None-STEM degree",
          "No degree",
          "No degree",
          "No degree",
          "STEM degree",
          "No degree",
          "None-STEM degree",
          "STEM degree",
          "STEM degree",
          "No degree",
          "No degree",
          "No degree",
          "STEM degree",
          "STEM degree",
          "STEM degree",
          "STEM degree",
          "STEM degree",
          "STEM degree",
          "STEM degree",
          "No degree",
          "None-STEM degree",
          "No degree",
          "STEM degree",
          "STEM degree",
          "No degree",
          "No degree",
          "No degree",
          "STEM degree",
          "STEM degree",
          "No degree",
          "STEM degree",
          "STEM degree",
          "STEM degree",
          "STEM degree",
          "STEM degree",
          "None-STEM degree",
          "None-STEM degree",
          "None-STEM degree",
          "STEM degree",
          "None-STEM degree",
          "No degree",
          "No degree",
          "STEM degree",
          "None-STEM degree",
          "STEM degree",
          "STEM degree",
          "STEM degree",
          "STEM degree",
          "STEM degree",
          "None-STEM degree",
          "No degree",
          "None-STEM degree",
          "STEM degree",
          "STEM degree",
          "STEM degree",
          "None-STEM degree",
          "None-STEM degree",
          "No degree",
          "None-STEM degree",
          "No degree",
          "STEM degree",
          "None-STEM degree",
          "STEM degree",
          "None-STEM degree",
          "STEM degree",
          "No degree",
          "No degree",
          "None-STEM degree",
          "None-STEM degree",
          "STEM degree",
          "STEM degree",
          "No degree",
          "None-STEM degree",
          "STEM degree",
          "None-STEM degree",
          "STEM degree",
          "None-STEM degree",
          "STEM degree",
          "None-STEM degree",
          "None-STEM degree",
          "None-STEM degree",
          "STEM degree",
          "STEM degree",
          "STEM degree",
          "STEM degree",
          "None-STEM degree",
          "No degree",
          "STEM degree",
          "None-STEM degree",
          "STEM degree",
          "STEM degree",
          "No degree",
          "STEM degree",
          "None-STEM degree",
          "STEM degree",
          "None-STEM degree",
          "None-STEM degree",
          "None-STEM degree",
          "None-STEM degree",
          "None-STEM degree",
          "None-STEM degree",
          "No degree",
          "STEM degree",
          "None-STEM degree",
          "None-STEM degree",
          "None-STEM degree",
          "No degree",
          "None-STEM degree",
          "STEM degree",
          "None-STEM degree",
          "STEM degree",
          "STEM degree",
          "None-STEM degree",
          "None-STEM degree",
          "None-STEM degree",
          "None-STEM degree",
          "None-STEM degree",
          "No degree",
          "No degree",
          "None-STEM degree",
          "STEM degree",
          "STEM degree",
          "No degree",
          "None-STEM degree",
          "None-STEM degree",
          "STEM degree",
          "None-STEM degree",
          "STEM degree",
          "None-STEM degree",
          "STEM degree",
          "None-STEM degree",
          "STEM degree",
          "STEM degree",
          "STEM degree",
          "STEM degree",
          "STEM degree",
          "None-STEM degree",
          "No degree",
          "No degree",
          "STEM degree",
          "STEM degree",
          "STEM degree",
          "STEM degree",
          "STEM degree",
          "None-STEM degree",
          "No degree",
          "None-STEM degree",
          "STEM degree",
          "No degree",
          "None-STEM degree",
          "STEM degree",
          "STEM degree",
          "None-STEM degree",
          "STEM degree",
          "None-STEM degree",
          "STEM degree",
          "STEM degree",
          "None-STEM degree",
          "STEM degree",
          "None-STEM degree",
          "None-STEM degree",
          "None-STEM degree",
          "None-STEM degree",
          "No degree",
          "None-STEM degree",
          "None-STEM degree",
          "STEM degree",
          "None-STEM degree",
          "STEM degree",
          "None-STEM degree",
          "STEM degree",
          "None-STEM degree",
          "None-STEM degree",
          "None-STEM degree",
          "STEM degree",
          "STEM degree",
          "None-STEM degree",
          "STEM degree",
          "STEM degree",
          "None-STEM degree",
          "None-STEM degree",
          "None-STEM degree",
          "STEM degree",
          "None-STEM degree",
          "STEM degree",
          "None-STEM degree",
          "None-STEM degree",
          "STEM degree",
          "STEM degree",
          "None-STEM degree",
          "None-STEM degree",
          "STEM degree",
          "STEM degree",
          "STEM degree",
          "None-STEM degree",
          "None-STEM degree",
          "No degree",
          "None-STEM degree",
          "None-STEM degree",
          "None-STEM degree",
          "None-STEM degree",
          "None-STEM degree",
          "None-STEM degree",
          "None-STEM degree",
          "None-STEM degree",
          "None-STEM degree",
          "None-STEM degree",
          "None-STEM degree",
          "None-STEM degree",
          "STEM degree",
          "None-STEM degree",
          "STEM degree",
          "No degree",
          "STEM degree",
          "None-STEM degree",
          "None-STEM degree",
          "STEM degree",
          "STEM degree",
          "None-STEM degree",
          "None-STEM degree",
          "None-STEM degree",
          "None-STEM degree",
          "None-STEM degree",
          "None-STEM degree",
          "None-STEM degree",
          "None-STEM degree",
          "None-STEM degree",
          "None-STEM degree",
          "STEM degree",
          "STEM degree",
          "None-STEM degree",
          "None-STEM degree",
          "STEM degree",
          "STEM degree",
          "No degree",
          "No degree",
          "None-STEM degree",
          "None-STEM degree",
          "None-STEM degree",
          "None-STEM degree",
          "No degree",
          "None-STEM degree",
          "STEM degree",
          "STEM degree",
          "None-STEM degree",
          "None-STEM degree",
          "STEM degree",
          "STEM degree",
          "No degree",
          "None-STEM degree",
          "No degree",
          "No degree",
          "STEM degree",
          "STEM degree",
          "None-STEM degree",
          "No degree",
          "None-STEM degree",
          "None-STEM degree",
          "No degree",
          "None-STEM degree",
          "No degree",
          "None-STEM degree",
          "None-STEM degree",
          "None-STEM degree",
          "No degree",
          "None-STEM degree",
          "STEM degree",
          "STEM degree",
          "STEM degree",
          "None-STEM degree",
          "STEM degree",
          "No degree",
          "None-STEM degree",
          "None-STEM degree",
          "None-STEM degree",
          "STEM degree",
          "None-STEM degree",
          "None-STEM degree",
          "STEM degree",
          "STEM degree",
          "None-STEM degree",
          "STEM degree",
          "No degree",
          "No degree",
          "STEM degree",
          "No degree",
          "STEM degree",
          "None-STEM degree",
          "None-STEM degree",
          "None-STEM degree",
          "None-STEM degree",
          "None-STEM degree",
          "None-STEM degree",
          "None-STEM degree",
          "None-STEM degree",
          "No degree",
          "None-STEM degree",
          "STEM degree",
          "STEM degree",
          "STEM degree",
          "None-STEM degree",
          "No degree",
          "STEM degree",
          "No degree",
          "None-STEM degree",
          "No degree",
          "STEM degree",
          "None-STEM degree",
          "None-STEM degree",
          "None-STEM degree",
          "STEM degree",
          "None-STEM degree",
          "STEM degree",
          "None-STEM degree",
          "None-STEM degree",
          "STEM degree",
          "STEM degree",
          "No degree",
          null,
          "None-STEM degree",
          "STEM degree",
          "STEM degree",
          "STEM degree",
          "None-STEM degree",
          "STEM degree",
          "None-STEM degree",
          "None-STEM degree",
          "None-STEM degree",
          "STEM degree",
          "No degree",
          "STEM degree",
          "None-STEM degree",
          "None-STEM degree",
          "No degree",
          "STEM degree",
          "STEM degree",
          "STEM degree",
          "No degree",
          "STEM degree",
          "None-STEM degree",
          "None-STEM degree",
          "STEM degree",
          "No degree",
          "No degree",
          "None-STEM degree",
          "STEM degree",
          "STEM degree",
          "None-STEM degree",
          "No degree",
          "No degree",
          "STEM degree",
          "None-STEM degree",
          "None-STEM degree",
          "None-STEM degree",
          "None-STEM degree",
          "No degree",
          "None-STEM degree",
          "STEM degree",
          "STEM degree",
          "STEM degree",
          "None-STEM degree",
          "None-STEM degree",
          "STEM degree",
          "None-STEM degree",
          "None-STEM degree",
          "STEM degree",
          "STEM degree",
          "STEM degree",
          "None-STEM degree",
          "No degree",
          "No degree",
          "No degree",
          "STEM degree",
          "None-STEM degree",
          "STEM degree",
          "STEM degree",
          "None-STEM degree",
          "STEM degree",
          "None-STEM degree",
          "STEM degree",
          "None-STEM degree",
          "None-STEM degree",
          "None-STEM degree",
          "None-STEM degree",
          "No degree",
          "None-STEM degree",
          "No degree",
          "No degree",
          "STEM degree",
          "None-STEM degree",
          "STEM degree",
          "STEM degree",
          "STEM degree",
          "None-STEM degree",
          "None-STEM degree",
          "STEM degree",
          "STEM degree",
          "No degree",
          "None-STEM degree",
          "No degree",
          "None-STEM degree",
          "STEM degree",
          "No degree",
          "STEM degree",
          "None-STEM degree",
          "STEM degree",
          "STEM degree",
          "None-STEM degree",
          "None-STEM degree",
          "None-STEM degree",
          "None-STEM degree",
          "None-STEM degree",
          "None-STEM degree",
          "STEM degree",
          "STEM degree",
          "STEM degree",
          "STEM degree",
          "None-STEM degree",
          "None-STEM degree",
          null,
          "None-STEM degree",
          "None-STEM degree",
          "No degree",
          "None-STEM degree",
          "None-STEM degree",
          "STEM degree",
          "None-STEM degree",
          "None-STEM degree",
          "None-STEM degree",
          "STEM degree",
          "None-STEM degree",
          "None-STEM degree",
          "STEM degree",
          "None-STEM degree",
          "STEM degree",
          "STEM degree",
          "None-STEM degree",
          "None-STEM degree",
          "None-STEM degree",
          "STEM degree",
          "STEM degree",
          "None-STEM degree",
          "None-STEM degree",
          "STEM degree",
          "STEM degree",
          "STEM degree",
          "None-STEM degree",
          "STEM degree",
          "None-STEM degree",
          "None-STEM degree",
          "None-STEM degree",
          "None-STEM degree",
          "STEM degree",
          "None-STEM degree",
          "None-STEM degree",
          "No degree",
          "No degree",
          "None-STEM degree",
          "No degree",
          "No degree",
          "No degree",
          "None-STEM degree",
          "None-STEM degree",
          "No degree",
          "None-STEM degree",
          "No degree",
          "No degree",
          "No degree",
          "No degree",
          "No degree",
          "No degree",
          "STEM degree",
          null,
          "No degree",
          "No degree",
          "STEM degree",
          "No degree",
          "No degree",
          "STEM degree",
          "No degree",
          "None-STEM degree",
          "No degree",
          "No degree",
          "STEM degree",
          "STEM degree",
          "No degree",
          "No degree",
          "STEM degree",
          "No degree",
          "STEM degree",
          "STEM degree",
          "None-STEM degree",
          "STEM degree",
          "STEM degree",
          "STEM degree",
          "No degree",
          "No degree",
          "None-STEM degree",
          "STEM degree",
          "No degree",
          "STEM degree",
          "No degree",
          "No degree",
          "None-STEM degree",
          "STEM degree",
          "No degree",
          "No degree",
          "No degree",
          "No degree",
          "No degree",
          "None-STEM degree",
          "No degree",
          "STEM degree",
          "No degree",
          "No degree",
          "STEM degree",
          "None-STEM degree",
          "No degree",
          "STEM degree",
          "No degree",
          "None-STEM degree",
          "STEM degree",
          "No degree",
          "None-STEM degree"
         ],
         "xaxis": "x",
         "yaxis": "y"
        },
        {
         "alignmentgroup": "True",
         "bingroup": "x",
         "hovertemplate": "gender=female<br>ExpertiseScale=%{x}<br>count=%{y}<extra></extra>",
         "legendgroup": "female",
         "marker": {
          "color": "#EF553B",
          "pattern": {
           "shape": ""
          }
         },
         "name": "female",
         "offsetgroup": "female",
         "orientation": "v",
         "showlegend": true,
         "type": "histogram",
         "x": [
          "STEM degree",
          "None-STEM degree",
          "No degree",
          "None-STEM degree",
          "None-STEM degree",
          "None-STEM degree",
          null,
          "None-STEM degree",
          "None-STEM degree",
          "None-STEM degree",
          "None-STEM degree",
          "None-STEM degree",
          "None-STEM degree",
          "No degree",
          "None-STEM degree",
          "None-STEM degree",
          "No degree",
          "None-STEM degree",
          "No degree",
          "STEM degree",
          "STEM degree",
          "None-STEM degree",
          "None-STEM degree",
          "STEM degree",
          "None-STEM degree",
          "None-STEM degree",
          "STEM degree",
          "STEM degree",
          "None-STEM degree",
          "None-STEM degree",
          "None-STEM degree",
          "None-STEM degree",
          "None-STEM degree",
          "None-STEM degree",
          "None-STEM degree",
          "STEM degree",
          "None-STEM degree",
          "None-STEM degree",
          "STEM degree",
          "STEM degree",
          "None-STEM degree",
          "None-STEM degree",
          "None-STEM degree",
          "None-STEM degree",
          "None-STEM degree",
          "STEM degree",
          "None-STEM degree",
          "None-STEM degree",
          "None-STEM degree",
          "None-STEM degree",
          "STEM degree",
          "None-STEM degree",
          "STEM degree",
          "None-STEM degree",
          "None-STEM degree",
          "STEM degree",
          "None-STEM degree",
          "None-STEM degree",
          "None-STEM degree",
          "None-STEM degree",
          "None-STEM degree",
          "None-STEM degree",
          "None-STEM degree",
          "None-STEM degree",
          "None-STEM degree",
          "None-STEM degree",
          "None-STEM degree",
          "None-STEM degree",
          "None-STEM degree",
          "None-STEM degree",
          "None-STEM degree",
          "None-STEM degree",
          "STEM degree",
          "None-STEM degree",
          "None-STEM degree",
          "None-STEM degree",
          "None-STEM degree",
          "STEM degree",
          "STEM degree",
          "None-STEM degree",
          "STEM degree",
          "None-STEM degree",
          "None-STEM degree",
          "None-STEM degree",
          "STEM degree",
          "STEM degree",
          "None-STEM degree",
          "None-STEM degree",
          "None-STEM degree",
          "None-STEM degree",
          "STEM degree",
          "STEM degree",
          "STEM degree",
          "None-STEM degree",
          "STEM degree",
          "STEM degree",
          "None-STEM degree",
          "STEM degree",
          "None-STEM degree",
          "STEM degree",
          "STEM degree",
          "None-STEM degree",
          "STEM degree",
          "None-STEM degree",
          "None-STEM degree",
          "STEM degree",
          "None-STEM degree",
          "None-STEM degree",
          "None-STEM degree",
          "STEM degree",
          "None-STEM degree",
          "None-STEM degree",
          "None-STEM degree",
          "None-STEM degree",
          "None-STEM degree",
          "None-STEM degree",
          "None-STEM degree",
          "STEM degree",
          "STEM degree",
          "STEM degree",
          "STEM degree",
          "None-STEM degree",
          "STEM degree",
          "None-STEM degree",
          "None-STEM degree",
          "No degree",
          "No degree",
          "None-STEM degree",
          "No degree",
          null,
          "STEM degree",
          "None-STEM degree",
          "No degree",
          "None-STEM degree",
          "None-STEM degree",
          "No degree",
          "No degree",
          "No degree",
          "No degree",
          "STEM degree",
          "STEM degree",
          "No degree",
          "No degree",
          "No degree",
          "STEM degree",
          "No degree",
          "No degree",
          "None-STEM degree",
          "No degree",
          "STEM degree",
          "STEM degree",
          "No degree",
          "No degree",
          "No degree",
          "STEM degree",
          "No degree",
          "No degree",
          "STEM degree",
          "No degree",
          "No degree",
          "No degree",
          "No degree",
          "No degree",
          "No degree",
          "No degree",
          "No degree",
          "No degree",
          "No degree",
          "No degree",
          "No degree",
          "No degree",
          "None-STEM degree",
          "STEM degree",
          "No degree",
          "No degree",
          "No degree",
          "No degree",
          "No degree",
          "No degree",
          "No degree",
          "No degree",
          "No degree",
          "No degree",
          "No degree",
          "No degree",
          "No degree",
          "No degree",
          "No degree",
          "No degree",
          "No degree",
          "No degree",
          "No degree",
          "No degree",
          "No degree",
          "No degree",
          "No degree",
          "No degree",
          "No degree",
          "No degree",
          "No degree",
          "No degree",
          "No degree",
          "No degree",
          "No degree",
          null,
          "No degree",
          "No degree",
          "No degree",
          "No degree",
          "No degree",
          "No degree",
          "No degree",
          "No degree",
          "No degree",
          "No degree",
          "No degree",
          "No degree",
          "No degree",
          "No degree",
          "No degree",
          "No degree",
          "No degree",
          "No degree",
          "No degree",
          "No degree",
          "No degree",
          "No degree",
          "No degree",
          "No degree",
          "No degree",
          "No degree",
          "No degree",
          "No degree",
          "No degree",
          "No degree",
          "No degree",
          "No degree",
          "No degree",
          "No degree",
          "No degree",
          "No degree",
          "No degree",
          "No degree",
          "No degree",
          "No degree",
          "No degree",
          "No degree",
          "No degree",
          "No degree",
          "No degree",
          "No degree",
          "No degree",
          "No degree",
          "No degree",
          "No degree",
          "No degree",
          "No degree",
          "No degree",
          "No degree",
          "No degree",
          "No degree",
          "No degree",
          "No degree",
          "No degree",
          "No degree",
          "No degree",
          "No degree",
          "No degree",
          "No degree",
          "No degree",
          "No degree",
          "No degree",
          "No degree",
          "STEM degree",
          "STEM degree",
          "None-STEM degree",
          "None-STEM degree",
          "No degree",
          "STEM degree",
          "None-STEM degree",
          "No degree",
          "STEM degree",
          "None-STEM degree",
          "None-STEM degree",
          "No degree",
          "STEM degree",
          "None-STEM degree",
          "STEM degree",
          "None-STEM degree",
          "None-STEM degree",
          "None-STEM degree",
          "No degree",
          "None-STEM degree",
          "STEM degree",
          "None-STEM degree",
          "STEM degree",
          "No degree",
          "None-STEM degree",
          "None-STEM degree",
          "No degree",
          "None-STEM degree",
          "None-STEM degree",
          "No degree",
          "None-STEM degree",
          "No degree",
          "None-STEM degree",
          "None-STEM degree",
          "No degree",
          "None-STEM degree",
          "No degree",
          "No degree",
          "No degree",
          "STEM degree",
          "STEM degree",
          "No degree",
          "None-STEM degree",
          "No degree",
          "No degree",
          "None-STEM degree",
          "No degree",
          "None-STEM degree",
          "None-STEM degree",
          "None-STEM degree",
          "STEM degree",
          "None-STEM degree",
          "None-STEM degree",
          "No degree",
          "STEM degree",
          "STEM degree",
          "STEM degree",
          "No degree",
          "None-STEM degree",
          "STEM degree",
          "No degree",
          "None-STEM degree",
          "No degree",
          "STEM degree",
          "None-STEM degree",
          "None-STEM degree",
          "No degree",
          "No degree",
          "STEM degree",
          "None-STEM degree",
          "None-STEM degree",
          "STEM degree",
          "None-STEM degree",
          "No degree",
          "No degree",
          "None-STEM degree",
          "No degree",
          "STEM degree",
          "None-STEM degree",
          "None-STEM degree",
          "None-STEM degree",
          "None-STEM degree",
          "None-STEM degree",
          "None-STEM degree",
          "None-STEM degree",
          "None-STEM degree",
          "None-STEM degree",
          "STEM degree",
          "STEM degree",
          "STEM degree",
          "None-STEM degree",
          "None-STEM degree",
          "None-STEM degree",
          "None-STEM degree",
          "None-STEM degree",
          "None-STEM degree",
          "No degree",
          "STEM degree",
          "None-STEM degree",
          "STEM degree",
          "STEM degree",
          "None-STEM degree",
          "No degree",
          "No degree",
          "No degree",
          "No degree",
          "None-STEM degree",
          "None-STEM degree",
          "None-STEM degree",
          "No degree",
          "None-STEM degree",
          "STEM degree",
          "No degree",
          "No degree",
          "No degree",
          "No degree",
          "None-STEM degree",
          "None-STEM degree",
          "STEM degree",
          "None-STEM degree",
          "STEM degree",
          "None-STEM degree",
          "No degree",
          "No degree",
          "STEM degree",
          "No degree",
          "No degree",
          "No degree",
          "No degree",
          "No degree",
          "None-STEM degree",
          "None-STEM degree",
          "STEM degree",
          "No degree",
          "No degree",
          "None-STEM degree",
          "STEM degree",
          "None-STEM degree",
          "None-STEM degree",
          "No degree",
          "STEM degree",
          "No degree",
          "None-STEM degree",
          "No degree",
          "STEM degree",
          "No degree",
          "No degree",
          "No degree",
          "None-STEM degree",
          "STEM degree",
          "STEM degree",
          "STEM degree",
          "STEM degree",
          "No degree",
          "No degree",
          "STEM degree",
          "STEM degree",
          "STEM degree",
          "No degree",
          "STEM degree",
          "No degree",
          "None-STEM degree",
          "No degree",
          "No degree",
          "None-STEM degree",
          "No degree",
          "No degree",
          "STEM degree",
          "No degree",
          "None-STEM degree",
          "STEM degree",
          "No degree",
          "No degree",
          "STEM degree",
          "STEM degree",
          "STEM degree",
          "No degree",
          "STEM degree",
          "No degree",
          "No degree",
          "No degree",
          "STEM degree",
          "None-STEM degree",
          "No degree",
          "None-STEM degree",
          "No degree",
          "STEM degree",
          "No degree",
          "No degree",
          "None-STEM degree",
          "No degree",
          "No degree",
          "No degree",
          "STEM degree",
          "None-STEM degree",
          "No degree",
          "STEM degree",
          "No degree",
          "No degree",
          "No degree",
          "No degree",
          "No degree",
          null,
          "STEM degree",
          "None-STEM degree",
          "None-STEM degree",
          "None-STEM degree",
          "None-STEM degree",
          "None-STEM degree",
          "None-STEM degree",
          "None-STEM degree",
          "STEM degree",
          "None-STEM degree",
          "None-STEM degree",
          "None-STEM degree",
          "STEM degree",
          "None-STEM degree",
          "STEM degree",
          "No degree",
          "None-STEM degree",
          "None-STEM degree",
          "STEM degree",
          "STEM degree",
          "None-STEM degree",
          "No degree",
          "None-STEM degree",
          "None-STEM degree",
          "No degree",
          "No degree",
          "No degree",
          "No degree",
          "No degree",
          "No degree",
          "No degree",
          "No degree",
          "No degree",
          "No degree",
          "No degree",
          "No degree",
          "No degree",
          "None-STEM degree",
          "No degree",
          "No degree",
          "None-STEM degree",
          "No degree",
          "No degree",
          "No degree",
          "None-STEM degree",
          "No degree",
          "No degree",
          "None-STEM degree",
          "No degree",
          "No degree",
          "None-STEM degree",
          "No degree",
          "No degree",
          "No degree",
          "No degree",
          "No degree",
          "None-STEM degree",
          "No degree",
          "No degree",
          "No degree",
          "None-STEM degree",
          "None-STEM degree",
          "None-STEM degree",
          "None-STEM degree",
          "STEM degree",
          "None-STEM degree",
          "No degree",
          "None-STEM degree",
          "None-STEM degree",
          "No degree",
          "None-STEM degree",
          "No degree",
          "None-STEM degree",
          "None-STEM degree",
          "None-STEM degree",
          "None-STEM degree",
          "No degree",
          "STEM degree",
          "STEM degree",
          "None-STEM degree",
          "None-STEM degree",
          "None-STEM degree",
          "None-STEM degree",
          "STEM degree",
          "STEM degree",
          "STEM degree",
          "STEM degree",
          "None-STEM degree",
          "No degree",
          "No degree",
          "No degree",
          "No degree",
          "No degree",
          "None-STEM degree",
          "None-STEM degree",
          "None-STEM degree",
          "None-STEM degree",
          "No degree",
          "STEM degree",
          "None-STEM degree",
          "No degree",
          "None-STEM degree",
          "None-STEM degree",
          "No degree",
          "None-STEM degree",
          "No degree",
          "None-STEM degree",
          "None-STEM degree",
          "No degree",
          "None-STEM degree",
          "None-STEM degree",
          "None-STEM degree",
          "No degree",
          "None-STEM degree",
          "No degree",
          "None-STEM degree",
          "None-STEM degree",
          "None-STEM degree",
          "None-STEM degree",
          "No degree",
          "No degree",
          "None-STEM degree",
          "None-STEM degree",
          "None-STEM degree",
          "None-STEM degree",
          "No degree",
          "STEM degree",
          "STEM degree",
          "No degree",
          "STEM degree",
          "STEM degree",
          "None-STEM degree",
          "No degree",
          "None-STEM degree",
          "STEM degree",
          "None-STEM degree",
          "None-STEM degree",
          "None-STEM degree",
          "None-STEM degree",
          "STEM degree",
          "STEM degree",
          "STEM degree",
          "STEM degree",
          "None-STEM degree",
          "None-STEM degree",
          "None-STEM degree",
          "No degree",
          "None-STEM degree",
          "None-STEM degree",
          "STEM degree",
          "None-STEM degree",
          "STEM degree",
          "STEM degree",
          "STEM degree",
          "STEM degree",
          "None-STEM degree",
          "STEM degree",
          "STEM degree",
          "None-STEM degree",
          "No degree",
          "None-STEM degree",
          "None-STEM degree",
          "None-STEM degree",
          "None-STEM degree",
          "STEM degree",
          "No degree",
          "None-STEM degree",
          "None-STEM degree",
          "STEM degree",
          "None-STEM degree",
          "None-STEM degree",
          "STEM degree",
          "None-STEM degree",
          "None-STEM degree",
          "No degree",
          "STEM degree",
          "None-STEM degree",
          "No degree",
          "None-STEM degree",
          "STEM degree",
          "No degree",
          "None-STEM degree",
          "No degree",
          "None-STEM degree",
          "None-STEM degree",
          "No degree",
          "No degree",
          "No degree",
          "None-STEM degree",
          "STEM degree",
          "STEM degree",
          "No degree",
          "None-STEM degree",
          "No degree",
          "None-STEM degree",
          "No degree",
          "No degree",
          "No degree",
          "No degree",
          "No degree",
          "STEM degree",
          "None-STEM degree",
          "None-STEM degree",
          "No degree",
          "STEM degree"
         ],
         "xaxis": "x",
         "yaxis": "y"
        }
       ],
       "layout": {
        "barmode": "relative",
        "legend": {
         "title": {
          "text": "gender"
         },
         "tracegroupgap": 0
        },
        "margin": {
         "t": 60
        },
        "template": {
         "data": {
          "bar": [
           {
            "error_x": {
             "color": "#2a3f5f"
            },
            "error_y": {
             "color": "#2a3f5f"
            },
            "marker": {
             "line": {
              "color": "#E5ECF6",
              "width": 0.5
             },
             "pattern": {
              "fillmode": "overlay",
              "size": 10,
              "solidity": 0.2
             }
            },
            "type": "bar"
           }
          ],
          "barpolar": [
           {
            "marker": {
             "line": {
              "color": "#E5ECF6",
              "width": 0.5
             },
             "pattern": {
              "fillmode": "overlay",
              "size": 10,
              "solidity": 0.2
             }
            },
            "type": "barpolar"
           }
          ],
          "carpet": [
           {
            "aaxis": {
             "endlinecolor": "#2a3f5f",
             "gridcolor": "white",
             "linecolor": "white",
             "minorgridcolor": "white",
             "startlinecolor": "#2a3f5f"
            },
            "baxis": {
             "endlinecolor": "#2a3f5f",
             "gridcolor": "white",
             "linecolor": "white",
             "minorgridcolor": "white",
             "startlinecolor": "#2a3f5f"
            },
            "type": "carpet"
           }
          ],
          "choropleth": [
           {
            "colorbar": {
             "outlinewidth": 0,
             "ticks": ""
            },
            "type": "choropleth"
           }
          ],
          "contour": [
           {
            "colorbar": {
             "outlinewidth": 0,
             "ticks": ""
            },
            "colorscale": [
             [
              0,
              "#0d0887"
             ],
             [
              0.1111111111111111,
              "#46039f"
             ],
             [
              0.2222222222222222,
              "#7201a8"
             ],
             [
              0.3333333333333333,
              "#9c179e"
             ],
             [
              0.4444444444444444,
              "#bd3786"
             ],
             [
              0.5555555555555556,
              "#d8576b"
             ],
             [
              0.6666666666666666,
              "#ed7953"
             ],
             [
              0.7777777777777778,
              "#fb9f3a"
             ],
             [
              0.8888888888888888,
              "#fdca26"
             ],
             [
              1,
              "#f0f921"
             ]
            ],
            "type": "contour"
           }
          ],
          "contourcarpet": [
           {
            "colorbar": {
             "outlinewidth": 0,
             "ticks": ""
            },
            "type": "contourcarpet"
           }
          ],
          "heatmap": [
           {
            "colorbar": {
             "outlinewidth": 0,
             "ticks": ""
            },
            "colorscale": [
             [
              0,
              "#0d0887"
             ],
             [
              0.1111111111111111,
              "#46039f"
             ],
             [
              0.2222222222222222,
              "#7201a8"
             ],
             [
              0.3333333333333333,
              "#9c179e"
             ],
             [
              0.4444444444444444,
              "#bd3786"
             ],
             [
              0.5555555555555556,
              "#d8576b"
             ],
             [
              0.6666666666666666,
              "#ed7953"
             ],
             [
              0.7777777777777778,
              "#fb9f3a"
             ],
             [
              0.8888888888888888,
              "#fdca26"
             ],
             [
              1,
              "#f0f921"
             ]
            ],
            "type": "heatmap"
           }
          ],
          "heatmapgl": [
           {
            "colorbar": {
             "outlinewidth": 0,
             "ticks": ""
            },
            "colorscale": [
             [
              0,
              "#0d0887"
             ],
             [
              0.1111111111111111,
              "#46039f"
             ],
             [
              0.2222222222222222,
              "#7201a8"
             ],
             [
              0.3333333333333333,
              "#9c179e"
             ],
             [
              0.4444444444444444,
              "#bd3786"
             ],
             [
              0.5555555555555556,
              "#d8576b"
             ],
             [
              0.6666666666666666,
              "#ed7953"
             ],
             [
              0.7777777777777778,
              "#fb9f3a"
             ],
             [
              0.8888888888888888,
              "#fdca26"
             ],
             [
              1,
              "#f0f921"
             ]
            ],
            "type": "heatmapgl"
           }
          ],
          "histogram": [
           {
            "marker": {
             "pattern": {
              "fillmode": "overlay",
              "size": 10,
              "solidity": 0.2
             }
            },
            "type": "histogram"
           }
          ],
          "histogram2d": [
           {
            "colorbar": {
             "outlinewidth": 0,
             "ticks": ""
            },
            "colorscale": [
             [
              0,
              "#0d0887"
             ],
             [
              0.1111111111111111,
              "#46039f"
             ],
             [
              0.2222222222222222,
              "#7201a8"
             ],
             [
              0.3333333333333333,
              "#9c179e"
             ],
             [
              0.4444444444444444,
              "#bd3786"
             ],
             [
              0.5555555555555556,
              "#d8576b"
             ],
             [
              0.6666666666666666,
              "#ed7953"
             ],
             [
              0.7777777777777778,
              "#fb9f3a"
             ],
             [
              0.8888888888888888,
              "#fdca26"
             ],
             [
              1,
              "#f0f921"
             ]
            ],
            "type": "histogram2d"
           }
          ],
          "histogram2dcontour": [
           {
            "colorbar": {
             "outlinewidth": 0,
             "ticks": ""
            },
            "colorscale": [
             [
              0,
              "#0d0887"
             ],
             [
              0.1111111111111111,
              "#46039f"
             ],
             [
              0.2222222222222222,
              "#7201a8"
             ],
             [
              0.3333333333333333,
              "#9c179e"
             ],
             [
              0.4444444444444444,
              "#bd3786"
             ],
             [
              0.5555555555555556,
              "#d8576b"
             ],
             [
              0.6666666666666666,
              "#ed7953"
             ],
             [
              0.7777777777777778,
              "#fb9f3a"
             ],
             [
              0.8888888888888888,
              "#fdca26"
             ],
             [
              1,
              "#f0f921"
             ]
            ],
            "type": "histogram2dcontour"
           }
          ],
          "mesh3d": [
           {
            "colorbar": {
             "outlinewidth": 0,
             "ticks": ""
            },
            "type": "mesh3d"
           }
          ],
          "parcoords": [
           {
            "line": {
             "colorbar": {
              "outlinewidth": 0,
              "ticks": ""
             }
            },
            "type": "parcoords"
           }
          ],
          "pie": [
           {
            "automargin": true,
            "type": "pie"
           }
          ],
          "scatter": [
           {
            "fillpattern": {
             "fillmode": "overlay",
             "size": 10,
             "solidity": 0.2
            },
            "type": "scatter"
           }
          ],
          "scatter3d": [
           {
            "line": {
             "colorbar": {
              "outlinewidth": 0,
              "ticks": ""
             }
            },
            "marker": {
             "colorbar": {
              "outlinewidth": 0,
              "ticks": ""
             }
            },
            "type": "scatter3d"
           }
          ],
          "scattercarpet": [
           {
            "marker": {
             "colorbar": {
              "outlinewidth": 0,
              "ticks": ""
             }
            },
            "type": "scattercarpet"
           }
          ],
          "scattergeo": [
           {
            "marker": {
             "colorbar": {
              "outlinewidth": 0,
              "ticks": ""
             }
            },
            "type": "scattergeo"
           }
          ],
          "scattergl": [
           {
            "marker": {
             "colorbar": {
              "outlinewidth": 0,
              "ticks": ""
             }
            },
            "type": "scattergl"
           }
          ],
          "scattermapbox": [
           {
            "marker": {
             "colorbar": {
              "outlinewidth": 0,
              "ticks": ""
             }
            },
            "type": "scattermapbox"
           }
          ],
          "scatterpolar": [
           {
            "marker": {
             "colorbar": {
              "outlinewidth": 0,
              "ticks": ""
             }
            },
            "type": "scatterpolar"
           }
          ],
          "scatterpolargl": [
           {
            "marker": {
             "colorbar": {
              "outlinewidth": 0,
              "ticks": ""
             }
            },
            "type": "scatterpolargl"
           }
          ],
          "scatterternary": [
           {
            "marker": {
             "colorbar": {
              "outlinewidth": 0,
              "ticks": ""
             }
            },
            "type": "scatterternary"
           }
          ],
          "surface": [
           {
            "colorbar": {
             "outlinewidth": 0,
             "ticks": ""
            },
            "colorscale": [
             [
              0,
              "#0d0887"
             ],
             [
              0.1111111111111111,
              "#46039f"
             ],
             [
              0.2222222222222222,
              "#7201a8"
             ],
             [
              0.3333333333333333,
              "#9c179e"
             ],
             [
              0.4444444444444444,
              "#bd3786"
             ],
             [
              0.5555555555555556,
              "#d8576b"
             ],
             [
              0.6666666666666666,
              "#ed7953"
             ],
             [
              0.7777777777777778,
              "#fb9f3a"
             ],
             [
              0.8888888888888888,
              "#fdca26"
             ],
             [
              1,
              "#f0f921"
             ]
            ],
            "type": "surface"
           }
          ],
          "table": [
           {
            "cells": {
             "fill": {
              "color": "#EBF0F8"
             },
             "line": {
              "color": "white"
             }
            },
            "header": {
             "fill": {
              "color": "#C8D4E3"
             },
             "line": {
              "color": "white"
             }
            },
            "type": "table"
           }
          ]
         },
         "layout": {
          "annotationdefaults": {
           "arrowcolor": "#2a3f5f",
           "arrowhead": 0,
           "arrowwidth": 1
          },
          "autotypenumbers": "strict",
          "coloraxis": {
           "colorbar": {
            "outlinewidth": 0,
            "ticks": ""
           }
          },
          "colorscale": {
           "diverging": [
            [
             0,
             "#8e0152"
            ],
            [
             0.1,
             "#c51b7d"
            ],
            [
             0.2,
             "#de77ae"
            ],
            [
             0.3,
             "#f1b6da"
            ],
            [
             0.4,
             "#fde0ef"
            ],
            [
             0.5,
             "#f7f7f7"
            ],
            [
             0.6,
             "#e6f5d0"
            ],
            [
             0.7,
             "#b8e186"
            ],
            [
             0.8,
             "#7fbc41"
            ],
            [
             0.9,
             "#4d9221"
            ],
            [
             1,
             "#276419"
            ]
           ],
           "sequential": [
            [
             0,
             "#0d0887"
            ],
            [
             0.1111111111111111,
             "#46039f"
            ],
            [
             0.2222222222222222,
             "#7201a8"
            ],
            [
             0.3333333333333333,
             "#9c179e"
            ],
            [
             0.4444444444444444,
             "#bd3786"
            ],
            [
             0.5555555555555556,
             "#d8576b"
            ],
            [
             0.6666666666666666,
             "#ed7953"
            ],
            [
             0.7777777777777778,
             "#fb9f3a"
            ],
            [
             0.8888888888888888,
             "#fdca26"
            ],
            [
             1,
             "#f0f921"
            ]
           ],
           "sequentialminus": [
            [
             0,
             "#0d0887"
            ],
            [
             0.1111111111111111,
             "#46039f"
            ],
            [
             0.2222222222222222,
             "#7201a8"
            ],
            [
             0.3333333333333333,
             "#9c179e"
            ],
            [
             0.4444444444444444,
             "#bd3786"
            ],
            [
             0.5555555555555556,
             "#d8576b"
            ],
            [
             0.6666666666666666,
             "#ed7953"
            ],
            [
             0.7777777777777778,
             "#fb9f3a"
            ],
            [
             0.8888888888888888,
             "#fdca26"
            ],
            [
             1,
             "#f0f921"
            ]
           ]
          },
          "colorway": [
           "#636efa",
           "#EF553B",
           "#00cc96",
           "#ab63fa",
           "#FFA15A",
           "#19d3f3",
           "#FF6692",
           "#B6E880",
           "#FF97FF",
           "#FECB52"
          ],
          "font": {
           "color": "#2a3f5f"
          },
          "geo": {
           "bgcolor": "white",
           "lakecolor": "white",
           "landcolor": "#E5ECF6",
           "showlakes": true,
           "showland": true,
           "subunitcolor": "white"
          },
          "hoverlabel": {
           "align": "left"
          },
          "hovermode": "closest",
          "mapbox": {
           "style": "light"
          },
          "paper_bgcolor": "white",
          "plot_bgcolor": "#E5ECF6",
          "polar": {
           "angularaxis": {
            "gridcolor": "white",
            "linecolor": "white",
            "ticks": ""
           },
           "bgcolor": "#E5ECF6",
           "radialaxis": {
            "gridcolor": "white",
            "linecolor": "white",
            "ticks": ""
           }
          },
          "scene": {
           "xaxis": {
            "backgroundcolor": "#E5ECF6",
            "gridcolor": "white",
            "gridwidth": 2,
            "linecolor": "white",
            "showbackground": true,
            "ticks": "",
            "zerolinecolor": "white"
           },
           "yaxis": {
            "backgroundcolor": "#E5ECF6",
            "gridcolor": "white",
            "gridwidth": 2,
            "linecolor": "white",
            "showbackground": true,
            "ticks": "",
            "zerolinecolor": "white"
           },
           "zaxis": {
            "backgroundcolor": "#E5ECF6",
            "gridcolor": "white",
            "gridwidth": 2,
            "linecolor": "white",
            "showbackground": true,
            "ticks": "",
            "zerolinecolor": "white"
           }
          },
          "shapedefaults": {
           "line": {
            "color": "#2a3f5f"
           }
          },
          "ternary": {
           "aaxis": {
            "gridcolor": "white",
            "linecolor": "white",
            "ticks": ""
           },
           "baxis": {
            "gridcolor": "white",
            "linecolor": "white",
            "ticks": ""
           },
           "bgcolor": "#E5ECF6",
           "caxis": {
            "gridcolor": "white",
            "linecolor": "white",
            "ticks": ""
           }
          },
          "title": {
           "x": 0.05
          },
          "xaxis": {
           "automargin": true,
           "gridcolor": "white",
           "linecolor": "white",
           "ticks": "",
           "title": {
            "standoff": 15
           },
           "zerolinecolor": "white",
           "zerolinewidth": 2
          },
          "yaxis": {
           "automargin": true,
           "gridcolor": "white",
           "linecolor": "white",
           "ticks": "",
           "title": {
            "standoff": 15
           },
           "zerolinecolor": "white",
           "zerolinewidth": 2
          }
         }
        },
        "xaxis": {
         "anchor": "y",
         "domain": [
          0,
          1
         ],
         "title": {
          "text": "ExpertiseScale"
         }
        },
        "yaxis": {
         "anchor": "x",
         "domain": [
          0,
          1
         ],
         "title": {
          "text": "count"
         }
        }
       }
      },
      "text/html": [
       "<div>                            <div id=\"02a6594e-0dec-4b76-aeab-03a0160b9f05\" class=\"plotly-graph-div\" style=\"height:525px; width:100%;\"></div>            <script type=\"text/javascript\">                require([\"plotly\"], function(Plotly) {                    window.PLOTLYENV=window.PLOTLYENV || {};                                    if (document.getElementById(\"02a6594e-0dec-4b76-aeab-03a0160b9f05\")) {                    Plotly.newPlot(                        \"02a6594e-0dec-4b76-aeab-03a0160b9f05\",                        [{\"alignmentgroup\":\"True\",\"bingroup\":\"x\",\"hovertemplate\":\"gender=male<br>ExpertiseScale=%{x}<br>count=%{y}<extra></extra>\",\"legendgroup\":\"male\",\"marker\":{\"color\":\"#636efa\",\"pattern\":{\"shape\":\"\"}},\"name\":\"male\",\"offsetgroup\":\"male\",\"orientation\":\"v\",\"showlegend\":true,\"x\":[\"None-STEM degree\",\"No degree\",\"None-STEM degree\",\"STEM degree\",\"STEM degree\",\"STEM degree\",\"No degree\",\"STEM degree\",\"STEM degree\",\"STEM degree\",\"STEM degree\",\"No degree\",\"No degree\",\"STEM degree\",\"No degree\",\"No degree\",\"None-STEM degree\",\"None-STEM degree\",\"No degree\",\"STEM degree\",\"STEM degree\",\"STEM degree\",\"STEM degree\",\"None-STEM degree\",\"No degree\",\"None-STEM degree\",\"STEM degree\",\"STEM degree\",\"None-STEM degree\",\"None-STEM degree\",\"No degree\",\"STEM degree\",\"None-STEM degree\",\"None-STEM degree\",\"No degree\",\"No degree\",\"STEM degree\",\"None-STEM degree\",\"None-STEM degree\",\"STEM degree\",\"STEM degree\",\"None-STEM degree\",\"STEM degree\",\"STEM degree\",\"None-STEM degree\",\"STEM degree\",\"No degree\",\"None-STEM degree\",\"No degree\",\"No degree\",\"No degree\",null,\"None-STEM degree\",\"STEM degree\",\"None-STEM degree\",\"STEM degree\",\"None-STEM degree\",\"STEM degree\",\"None-STEM degree\",\"None-STEM degree\",\"None-STEM degree\",\"STEM degree\",\"STEM degree\",\"None-STEM degree\",\"STEM degree\",\"STEM degree\",\"None-STEM degree\",\"None-STEM degree\",\"STEM degree\",\"STEM degree\",\"None-STEM degree\",\"STEM degree\",\"None-STEM degree\",\"No degree\",\"STEM degree\",\"STEM degree\",\"No degree\",\"STEM degree\",\"STEM degree\",\"None-STEM degree\",\"None-STEM degree\",\"STEM degree\",\"STEM degree\",\"None-STEM degree\",\"STEM degree\",\"None-STEM degree\",\"None-STEM degree\",\"None-STEM degree\",\"No degree\",\"No degree\",\"None-STEM degree\",\"None-STEM degree\",\"No degree\",\"No degree\",\"No degree\",\"None-STEM degree\",\"STEM degree\",\"No degree\",\"None-STEM degree\",\"None-STEM degree\",null,\"No degree\",\"No degree\",\"STEM degree\",\"STEM degree\",\"No degree\",\"No degree\",\"No degree\",\"No degree\",\"No degree\",\"STEM degree\",\"STEM degree\",\"None-STEM degree\",\"No degree\",null,\"No degree\",\"No degree\",\"None-STEM degree\",\"No degree\",\"No degree\",\"None-STEM degree\",\"STEM degree\",\"None-STEM degree\",\"STEM degree\",\"None-STEM degree\",\"No degree\",\"None-STEM degree\",\"No degree\",\"None-STEM degree\",\"STEM degree\",\"None-STEM degree\",\"None-STEM degree\",\"No degree\",\"No degree\",\"STEM degree\",\"None-STEM degree\",\"None-STEM degree\",\"No degree\",\"STEM degree\",\"No degree\",\"No degree\",\"STEM degree\",\"No degree\",\"No degree\",\"No degree\",\"STEM degree\",\"No degree\",\"No degree\",\"No degree\",\"No degree\",\"No degree\",\"No degree\",\"No degree\",\"No degree\",\"No degree\",\"No degree\",\"STEM degree\",\"None-STEM degree\",\"No degree\",\"No degree\",\"No degree\",\"STEM degree\",\"STEM degree\",\"No degree\",\"No degree\",\"No degree\",\"No degree\",\"No degree\",\"No degree\",\"No degree\",\"No degree\",\"No degree\",\"No degree\",\"No degree\",\"No degree\",\"No degree\",\"No degree\",\"No degree\",\"No degree\",\"No degree\",\"No degree\",\"No degree\",\"No degree\",\"No degree\",\"No degree\",\"No degree\",\"No degree\",\"No degree\",\"No degree\",\"STEM degree\",\"No degree\",\"No degree\",\"No degree\",\"No degree\",\"No degree\",\"No degree\",\"No degree\",\"No degree\",\"None-STEM degree\",\"No degree\",\"No degree\",\"No degree\",\"STEM degree\",\"No degree\",\"None-STEM degree\",\"STEM degree\",\"STEM degree\",\"No degree\",\"No degree\",\"No degree\",\"STEM degree\",\"STEM degree\",\"STEM degree\",\"STEM degree\",\"STEM degree\",\"STEM degree\",\"STEM degree\",\"No degree\",\"None-STEM degree\",\"No degree\",\"STEM degree\",\"STEM degree\",\"No degree\",\"No degree\",\"No degree\",\"STEM degree\",\"STEM degree\",\"No degree\",\"STEM degree\",\"STEM degree\",\"STEM degree\",\"STEM degree\",\"STEM degree\",\"None-STEM degree\",\"None-STEM degree\",\"None-STEM degree\",\"STEM degree\",\"None-STEM degree\",\"No degree\",\"No degree\",\"STEM degree\",\"None-STEM degree\",\"STEM degree\",\"STEM degree\",\"STEM degree\",\"STEM degree\",\"STEM degree\",\"None-STEM degree\",\"No degree\",\"None-STEM degree\",\"STEM degree\",\"STEM degree\",\"STEM degree\",\"None-STEM degree\",\"None-STEM degree\",\"No degree\",\"None-STEM degree\",\"No degree\",\"STEM degree\",\"None-STEM degree\",\"STEM degree\",\"None-STEM degree\",\"STEM degree\",\"No degree\",\"No degree\",\"None-STEM degree\",\"None-STEM degree\",\"STEM degree\",\"STEM degree\",\"No degree\",\"None-STEM degree\",\"STEM degree\",\"None-STEM degree\",\"STEM degree\",\"None-STEM degree\",\"STEM degree\",\"None-STEM degree\",\"None-STEM degree\",\"None-STEM degree\",\"STEM degree\",\"STEM degree\",\"STEM degree\",\"STEM degree\",\"None-STEM degree\",\"No degree\",\"STEM degree\",\"None-STEM degree\",\"STEM degree\",\"STEM degree\",\"No degree\",\"STEM degree\",\"None-STEM degree\",\"STEM degree\",\"None-STEM degree\",\"None-STEM degree\",\"None-STEM degree\",\"None-STEM degree\",\"None-STEM degree\",\"None-STEM degree\",\"No degree\",\"STEM degree\",\"None-STEM degree\",\"None-STEM degree\",\"None-STEM degree\",\"No degree\",\"None-STEM degree\",\"STEM degree\",\"None-STEM degree\",\"STEM degree\",\"STEM degree\",\"None-STEM degree\",\"None-STEM degree\",\"None-STEM degree\",\"None-STEM degree\",\"None-STEM degree\",\"No degree\",\"No degree\",\"None-STEM degree\",\"STEM degree\",\"STEM degree\",\"No degree\",\"None-STEM degree\",\"None-STEM degree\",\"STEM degree\",\"None-STEM degree\",\"STEM degree\",\"None-STEM degree\",\"STEM degree\",\"None-STEM degree\",\"STEM degree\",\"STEM degree\",\"STEM degree\",\"STEM degree\",\"STEM degree\",\"None-STEM degree\",\"No degree\",\"No degree\",\"STEM degree\",\"STEM degree\",\"STEM degree\",\"STEM degree\",\"STEM degree\",\"None-STEM degree\",\"No degree\",\"None-STEM degree\",\"STEM degree\",\"No degree\",\"None-STEM degree\",\"STEM degree\",\"STEM degree\",\"None-STEM degree\",\"STEM degree\",\"None-STEM degree\",\"STEM degree\",\"STEM degree\",\"None-STEM degree\",\"STEM degree\",\"None-STEM degree\",\"None-STEM degree\",\"None-STEM degree\",\"None-STEM degree\",\"No degree\",\"None-STEM degree\",\"None-STEM degree\",\"STEM degree\",\"None-STEM degree\",\"STEM degree\",\"None-STEM degree\",\"STEM degree\",\"None-STEM degree\",\"None-STEM degree\",\"None-STEM degree\",\"STEM degree\",\"STEM degree\",\"None-STEM degree\",\"STEM degree\",\"STEM degree\",\"None-STEM degree\",\"None-STEM degree\",\"None-STEM degree\",\"STEM degree\",\"None-STEM degree\",\"STEM degree\",\"None-STEM degree\",\"None-STEM degree\",\"STEM degree\",\"STEM degree\",\"None-STEM degree\",\"None-STEM degree\",\"STEM degree\",\"STEM degree\",\"STEM degree\",\"None-STEM degree\",\"None-STEM degree\",\"No degree\",\"None-STEM degree\",\"None-STEM degree\",\"None-STEM degree\",\"None-STEM degree\",\"None-STEM degree\",\"None-STEM degree\",\"None-STEM degree\",\"None-STEM degree\",\"None-STEM degree\",\"None-STEM degree\",\"None-STEM degree\",\"None-STEM degree\",\"STEM degree\",\"None-STEM degree\",\"STEM degree\",\"No degree\",\"STEM degree\",\"None-STEM degree\",\"None-STEM degree\",\"STEM degree\",\"STEM degree\",\"None-STEM degree\",\"None-STEM degree\",\"None-STEM degree\",\"None-STEM degree\",\"None-STEM degree\",\"None-STEM degree\",\"None-STEM degree\",\"None-STEM degree\",\"None-STEM degree\",\"None-STEM degree\",\"STEM degree\",\"STEM degree\",\"None-STEM degree\",\"None-STEM degree\",\"STEM degree\",\"STEM degree\",\"No degree\",\"No degree\",\"None-STEM degree\",\"None-STEM degree\",\"None-STEM degree\",\"None-STEM degree\",\"No degree\",\"None-STEM degree\",\"STEM degree\",\"STEM degree\",\"None-STEM degree\",\"None-STEM degree\",\"STEM degree\",\"STEM degree\",\"No degree\",\"None-STEM degree\",\"No degree\",\"No degree\",\"STEM degree\",\"STEM degree\",\"None-STEM degree\",\"No degree\",\"None-STEM degree\",\"None-STEM degree\",\"No degree\",\"None-STEM degree\",\"No degree\",\"None-STEM degree\",\"None-STEM degree\",\"None-STEM degree\",\"No degree\",\"None-STEM degree\",\"STEM degree\",\"STEM degree\",\"STEM degree\",\"None-STEM degree\",\"STEM degree\",\"No degree\",\"None-STEM degree\",\"None-STEM degree\",\"None-STEM degree\",\"STEM degree\",\"None-STEM degree\",\"None-STEM degree\",\"STEM degree\",\"STEM degree\",\"None-STEM degree\",\"STEM degree\",\"No degree\",\"No degree\",\"STEM degree\",\"No degree\",\"STEM degree\",\"None-STEM degree\",\"None-STEM degree\",\"None-STEM degree\",\"None-STEM degree\",\"None-STEM degree\",\"None-STEM degree\",\"None-STEM degree\",\"None-STEM degree\",\"No degree\",\"None-STEM degree\",\"STEM degree\",\"STEM degree\",\"STEM degree\",\"None-STEM degree\",\"No degree\",\"STEM degree\",\"No degree\",\"None-STEM degree\",\"No degree\",\"STEM degree\",\"None-STEM degree\",\"None-STEM degree\",\"None-STEM degree\",\"STEM degree\",\"None-STEM degree\",\"STEM degree\",\"None-STEM degree\",\"None-STEM degree\",\"STEM degree\",\"STEM degree\",\"No degree\",null,\"None-STEM degree\",\"STEM degree\",\"STEM degree\",\"STEM degree\",\"None-STEM degree\",\"STEM degree\",\"None-STEM degree\",\"None-STEM degree\",\"None-STEM degree\",\"STEM degree\",\"No degree\",\"STEM degree\",\"None-STEM degree\",\"None-STEM degree\",\"No degree\",\"STEM degree\",\"STEM degree\",\"STEM degree\",\"No degree\",\"STEM degree\",\"None-STEM degree\",\"None-STEM degree\",\"STEM degree\",\"No degree\",\"No degree\",\"None-STEM degree\",\"STEM degree\",\"STEM degree\",\"None-STEM degree\",\"No degree\",\"No degree\",\"STEM degree\",\"None-STEM degree\",\"None-STEM degree\",\"None-STEM degree\",\"None-STEM degree\",\"No degree\",\"None-STEM degree\",\"STEM degree\",\"STEM degree\",\"STEM degree\",\"None-STEM degree\",\"None-STEM degree\",\"STEM degree\",\"None-STEM degree\",\"None-STEM degree\",\"STEM degree\",\"STEM degree\",\"STEM degree\",\"None-STEM degree\",\"No degree\",\"No degree\",\"No degree\",\"STEM degree\",\"None-STEM degree\",\"STEM degree\",\"STEM degree\",\"None-STEM degree\",\"STEM degree\",\"None-STEM degree\",\"STEM degree\",\"None-STEM degree\",\"None-STEM degree\",\"None-STEM degree\",\"None-STEM degree\",\"No degree\",\"None-STEM degree\",\"No degree\",\"No degree\",\"STEM degree\",\"None-STEM degree\",\"STEM degree\",\"STEM degree\",\"STEM degree\",\"None-STEM degree\",\"None-STEM degree\",\"STEM degree\",\"STEM degree\",\"No degree\",\"None-STEM degree\",\"No degree\",\"None-STEM degree\",\"STEM degree\",\"No degree\",\"STEM degree\",\"None-STEM degree\",\"STEM degree\",\"STEM degree\",\"None-STEM degree\",\"None-STEM degree\",\"None-STEM degree\",\"None-STEM degree\",\"None-STEM degree\",\"None-STEM degree\",\"STEM degree\",\"STEM degree\",\"STEM degree\",\"STEM degree\",\"None-STEM degree\",\"None-STEM degree\",null,\"None-STEM degree\",\"None-STEM degree\",\"No degree\",\"None-STEM degree\",\"None-STEM degree\",\"STEM degree\",\"None-STEM degree\",\"None-STEM degree\",\"None-STEM degree\",\"STEM degree\",\"None-STEM degree\",\"None-STEM degree\",\"STEM degree\",\"None-STEM degree\",\"STEM degree\",\"STEM degree\",\"None-STEM degree\",\"None-STEM degree\",\"None-STEM degree\",\"STEM degree\",\"STEM degree\",\"None-STEM degree\",\"None-STEM degree\",\"STEM degree\",\"STEM degree\",\"STEM degree\",\"None-STEM degree\",\"STEM degree\",\"None-STEM degree\",\"None-STEM degree\",\"None-STEM degree\",\"None-STEM degree\",\"STEM degree\",\"None-STEM degree\",\"None-STEM degree\",\"No degree\",\"No degree\",\"None-STEM degree\",\"No degree\",\"No degree\",\"No degree\",\"None-STEM degree\",\"None-STEM degree\",\"No degree\",\"None-STEM degree\",\"No degree\",\"No degree\",\"No degree\",\"No degree\",\"No degree\",\"No degree\",\"STEM degree\",null,\"No degree\",\"No degree\",\"STEM degree\",\"No degree\",\"No degree\",\"STEM degree\",\"No degree\",\"None-STEM degree\",\"No degree\",\"No degree\",\"STEM degree\",\"STEM degree\",\"No degree\",\"No degree\",\"STEM degree\",\"No degree\",\"STEM degree\",\"STEM degree\",\"None-STEM degree\",\"STEM degree\",\"STEM degree\",\"STEM degree\",\"No degree\",\"No degree\",\"None-STEM degree\",\"STEM degree\",\"No degree\",\"STEM degree\",\"No degree\",\"No degree\",\"None-STEM degree\",\"STEM degree\",\"No degree\",\"No degree\",\"No degree\",\"No degree\",\"No degree\",\"None-STEM degree\",\"No degree\",\"STEM degree\",\"No degree\",\"No degree\",\"STEM degree\",\"None-STEM degree\",\"No degree\",\"STEM degree\",\"No degree\",\"None-STEM degree\",\"STEM degree\",\"No degree\",\"None-STEM degree\"],\"xaxis\":\"x\",\"yaxis\":\"y\",\"type\":\"histogram\"},{\"alignmentgroup\":\"True\",\"bingroup\":\"x\",\"hovertemplate\":\"gender=female<br>ExpertiseScale=%{x}<br>count=%{y}<extra></extra>\",\"legendgroup\":\"female\",\"marker\":{\"color\":\"#EF553B\",\"pattern\":{\"shape\":\"\"}},\"name\":\"female\",\"offsetgroup\":\"female\",\"orientation\":\"v\",\"showlegend\":true,\"x\":[\"STEM degree\",\"None-STEM degree\",\"No degree\",\"None-STEM degree\",\"None-STEM degree\",\"None-STEM degree\",null,\"None-STEM degree\",\"None-STEM degree\",\"None-STEM degree\",\"None-STEM degree\",\"None-STEM degree\",\"None-STEM degree\",\"No degree\",\"None-STEM degree\",\"None-STEM degree\",\"No degree\",\"None-STEM degree\",\"No degree\",\"STEM degree\",\"STEM degree\",\"None-STEM degree\",\"None-STEM degree\",\"STEM degree\",\"None-STEM degree\",\"None-STEM degree\",\"STEM degree\",\"STEM degree\",\"None-STEM degree\",\"None-STEM degree\",\"None-STEM degree\",\"None-STEM degree\",\"None-STEM degree\",\"None-STEM degree\",\"None-STEM degree\",\"STEM degree\",\"None-STEM degree\",\"None-STEM degree\",\"STEM degree\",\"STEM degree\",\"None-STEM degree\",\"None-STEM degree\",\"None-STEM degree\",\"None-STEM degree\",\"None-STEM degree\",\"STEM degree\",\"None-STEM degree\",\"None-STEM degree\",\"None-STEM degree\",\"None-STEM degree\",\"STEM degree\",\"None-STEM degree\",\"STEM degree\",\"None-STEM degree\",\"None-STEM degree\",\"STEM degree\",\"None-STEM degree\",\"None-STEM degree\",\"None-STEM degree\",\"None-STEM degree\",\"None-STEM degree\",\"None-STEM degree\",\"None-STEM degree\",\"None-STEM degree\",\"None-STEM degree\",\"None-STEM degree\",\"None-STEM degree\",\"None-STEM degree\",\"None-STEM degree\",\"None-STEM degree\",\"None-STEM degree\",\"None-STEM degree\",\"STEM degree\",\"None-STEM degree\",\"None-STEM degree\",\"None-STEM degree\",\"None-STEM degree\",\"STEM degree\",\"STEM degree\",\"None-STEM degree\",\"STEM degree\",\"None-STEM degree\",\"None-STEM degree\",\"None-STEM degree\",\"STEM degree\",\"STEM degree\",\"None-STEM degree\",\"None-STEM degree\",\"None-STEM degree\",\"None-STEM degree\",\"STEM degree\",\"STEM degree\",\"STEM degree\",\"None-STEM degree\",\"STEM degree\",\"STEM degree\",\"None-STEM degree\",\"STEM degree\",\"None-STEM degree\",\"STEM degree\",\"STEM degree\",\"None-STEM degree\",\"STEM degree\",\"None-STEM degree\",\"None-STEM degree\",\"STEM degree\",\"None-STEM degree\",\"None-STEM degree\",\"None-STEM degree\",\"STEM degree\",\"None-STEM degree\",\"None-STEM degree\",\"None-STEM degree\",\"None-STEM degree\",\"None-STEM degree\",\"None-STEM degree\",\"None-STEM degree\",\"STEM degree\",\"STEM degree\",\"STEM degree\",\"STEM degree\",\"None-STEM degree\",\"STEM degree\",\"None-STEM degree\",\"None-STEM degree\",\"No degree\",\"No degree\",\"None-STEM degree\",\"No degree\",null,\"STEM degree\",\"None-STEM degree\",\"No degree\",\"None-STEM degree\",\"None-STEM degree\",\"No degree\",\"No degree\",\"No degree\",\"No degree\",\"STEM degree\",\"STEM degree\",\"No degree\",\"No degree\",\"No degree\",\"STEM degree\",\"No degree\",\"No degree\",\"None-STEM degree\",\"No degree\",\"STEM degree\",\"STEM degree\",\"No degree\",\"No degree\",\"No degree\",\"STEM degree\",\"No degree\",\"No degree\",\"STEM degree\",\"No degree\",\"No degree\",\"No degree\",\"No degree\",\"No degree\",\"No degree\",\"No degree\",\"No degree\",\"No degree\",\"No degree\",\"No degree\",\"No degree\",\"No degree\",\"None-STEM degree\",\"STEM degree\",\"No degree\",\"No degree\",\"No degree\",\"No degree\",\"No degree\",\"No degree\",\"No degree\",\"No degree\",\"No degree\",\"No degree\",\"No degree\",\"No degree\",\"No degree\",\"No degree\",\"No degree\",\"No degree\",\"No degree\",\"No degree\",\"No degree\",\"No degree\",\"No degree\",\"No degree\",\"No degree\",\"No degree\",\"No degree\",\"No degree\",\"No degree\",\"No degree\",\"No degree\",\"No degree\",\"No degree\",null,\"No degree\",\"No degree\",\"No degree\",\"No degree\",\"No degree\",\"No degree\",\"No degree\",\"No degree\",\"No degree\",\"No degree\",\"No degree\",\"No degree\",\"No degree\",\"No degree\",\"No degree\",\"No degree\",\"No degree\",\"No degree\",\"No degree\",\"No degree\",\"No degree\",\"No degree\",\"No degree\",\"No degree\",\"No degree\",\"No degree\",\"No degree\",\"No degree\",\"No degree\",\"No degree\",\"No degree\",\"No degree\",\"No degree\",\"No degree\",\"No degree\",\"No degree\",\"No degree\",\"No degree\",\"No degree\",\"No degree\",\"No degree\",\"No degree\",\"No degree\",\"No degree\",\"No degree\",\"No degree\",\"No degree\",\"No degree\",\"No degree\",\"No degree\",\"No degree\",\"No degree\",\"No degree\",\"No degree\",\"No degree\",\"No degree\",\"No degree\",\"No degree\",\"No degree\",\"No degree\",\"No degree\",\"No degree\",\"No degree\",\"No degree\",\"No degree\",\"No degree\",\"No degree\",\"No degree\",\"STEM degree\",\"STEM degree\",\"None-STEM degree\",\"None-STEM degree\",\"No degree\",\"STEM degree\",\"None-STEM degree\",\"No degree\",\"STEM degree\",\"None-STEM degree\",\"None-STEM degree\",\"No degree\",\"STEM degree\",\"None-STEM degree\",\"STEM degree\",\"None-STEM degree\",\"None-STEM degree\",\"None-STEM degree\",\"No degree\",\"None-STEM degree\",\"STEM degree\",\"None-STEM degree\",\"STEM degree\",\"No degree\",\"None-STEM degree\",\"None-STEM degree\",\"No degree\",\"None-STEM degree\",\"None-STEM degree\",\"No degree\",\"None-STEM degree\",\"No degree\",\"None-STEM degree\",\"None-STEM degree\",\"No degree\",\"None-STEM degree\",\"No degree\",\"No degree\",\"No degree\",\"STEM degree\",\"STEM degree\",\"No degree\",\"None-STEM degree\",\"No degree\",\"No degree\",\"None-STEM degree\",\"No degree\",\"None-STEM degree\",\"None-STEM degree\",\"None-STEM degree\",\"STEM degree\",\"None-STEM degree\",\"None-STEM degree\",\"No degree\",\"STEM degree\",\"STEM degree\",\"STEM degree\",\"No degree\",\"None-STEM degree\",\"STEM degree\",\"No degree\",\"None-STEM degree\",\"No degree\",\"STEM degree\",\"None-STEM degree\",\"None-STEM degree\",\"No degree\",\"No degree\",\"STEM degree\",\"None-STEM degree\",\"None-STEM degree\",\"STEM degree\",\"None-STEM degree\",\"No degree\",\"No degree\",\"None-STEM degree\",\"No degree\",\"STEM degree\",\"None-STEM degree\",\"None-STEM degree\",\"None-STEM degree\",\"None-STEM degree\",\"None-STEM degree\",\"None-STEM degree\",\"None-STEM degree\",\"None-STEM degree\",\"None-STEM degree\",\"STEM degree\",\"STEM degree\",\"STEM degree\",\"None-STEM degree\",\"None-STEM degree\",\"None-STEM degree\",\"None-STEM degree\",\"None-STEM degree\",\"None-STEM degree\",\"No degree\",\"STEM degree\",\"None-STEM degree\",\"STEM degree\",\"STEM degree\",\"None-STEM degree\",\"No degree\",\"No degree\",\"No degree\",\"No degree\",\"None-STEM degree\",\"None-STEM degree\",\"None-STEM degree\",\"No degree\",\"None-STEM degree\",\"STEM degree\",\"No degree\",\"No degree\",\"No degree\",\"No degree\",\"None-STEM degree\",\"None-STEM degree\",\"STEM degree\",\"None-STEM degree\",\"STEM degree\",\"None-STEM degree\",\"No degree\",\"No degree\",\"STEM degree\",\"No degree\",\"No degree\",\"No degree\",\"No degree\",\"No degree\",\"None-STEM degree\",\"None-STEM degree\",\"STEM degree\",\"No degree\",\"No degree\",\"None-STEM degree\",\"STEM degree\",\"None-STEM degree\",\"None-STEM degree\",\"No degree\",\"STEM degree\",\"No degree\",\"None-STEM degree\",\"No degree\",\"STEM degree\",\"No degree\",\"No degree\",\"No degree\",\"None-STEM degree\",\"STEM degree\",\"STEM degree\",\"STEM degree\",\"STEM degree\",\"No degree\",\"No degree\",\"STEM degree\",\"STEM degree\",\"STEM degree\",\"No degree\",\"STEM degree\",\"No degree\",\"None-STEM degree\",\"No degree\",\"No degree\",\"None-STEM degree\",\"No degree\",\"No degree\",\"STEM degree\",\"No degree\",\"None-STEM degree\",\"STEM degree\",\"No degree\",\"No degree\",\"STEM degree\",\"STEM degree\",\"STEM degree\",\"No degree\",\"STEM degree\",\"No degree\",\"No degree\",\"No degree\",\"STEM degree\",\"None-STEM degree\",\"No degree\",\"None-STEM degree\",\"No degree\",\"STEM degree\",\"No degree\",\"No degree\",\"None-STEM degree\",\"No degree\",\"No degree\",\"No degree\",\"STEM degree\",\"None-STEM degree\",\"No degree\",\"STEM degree\",\"No degree\",\"No degree\",\"No degree\",\"No degree\",\"No degree\",null,\"STEM degree\",\"None-STEM degree\",\"None-STEM degree\",\"None-STEM degree\",\"None-STEM degree\",\"None-STEM degree\",\"None-STEM degree\",\"None-STEM degree\",\"STEM degree\",\"None-STEM degree\",\"None-STEM degree\",\"None-STEM degree\",\"STEM degree\",\"None-STEM degree\",\"STEM degree\",\"No degree\",\"None-STEM degree\",\"None-STEM degree\",\"STEM degree\",\"STEM degree\",\"None-STEM degree\",\"No degree\",\"None-STEM degree\",\"None-STEM degree\",\"No degree\",\"No degree\",\"No degree\",\"No degree\",\"No degree\",\"No degree\",\"No degree\",\"No degree\",\"No degree\",\"No degree\",\"No degree\",\"No degree\",\"No degree\",\"None-STEM degree\",\"No degree\",\"No degree\",\"None-STEM degree\",\"No degree\",\"No degree\",\"No degree\",\"None-STEM degree\",\"No degree\",\"No degree\",\"None-STEM degree\",\"No degree\",\"No degree\",\"None-STEM degree\",\"No degree\",\"No degree\",\"No degree\",\"No degree\",\"No degree\",\"None-STEM degree\",\"No degree\",\"No degree\",\"No degree\",\"None-STEM degree\",\"None-STEM degree\",\"None-STEM degree\",\"None-STEM degree\",\"STEM degree\",\"None-STEM degree\",\"No degree\",\"None-STEM degree\",\"None-STEM degree\",\"No degree\",\"None-STEM degree\",\"No degree\",\"None-STEM degree\",\"None-STEM degree\",\"None-STEM degree\",\"None-STEM degree\",\"No degree\",\"STEM degree\",\"STEM degree\",\"None-STEM degree\",\"None-STEM degree\",\"None-STEM degree\",\"None-STEM degree\",\"STEM degree\",\"STEM degree\",\"STEM degree\",\"STEM degree\",\"None-STEM degree\",\"No degree\",\"No degree\",\"No degree\",\"No degree\",\"No degree\",\"None-STEM degree\",\"None-STEM degree\",\"None-STEM degree\",\"None-STEM degree\",\"No degree\",\"STEM degree\",\"None-STEM degree\",\"No degree\",\"None-STEM degree\",\"None-STEM degree\",\"No degree\",\"None-STEM degree\",\"No degree\",\"None-STEM degree\",\"None-STEM degree\",\"No degree\",\"None-STEM degree\",\"None-STEM degree\",\"None-STEM degree\",\"No degree\",\"None-STEM degree\",\"No degree\",\"None-STEM degree\",\"None-STEM degree\",\"None-STEM degree\",\"None-STEM degree\",\"No degree\",\"No degree\",\"None-STEM degree\",\"None-STEM degree\",\"None-STEM degree\",\"None-STEM degree\",\"No degree\",\"STEM degree\",\"STEM degree\",\"No degree\",\"STEM degree\",\"STEM degree\",\"None-STEM degree\",\"No degree\",\"None-STEM degree\",\"STEM degree\",\"None-STEM degree\",\"None-STEM degree\",\"None-STEM degree\",\"None-STEM degree\",\"STEM degree\",\"STEM degree\",\"STEM degree\",\"STEM degree\",\"None-STEM degree\",\"None-STEM degree\",\"None-STEM degree\",\"No degree\",\"None-STEM degree\",\"None-STEM degree\",\"STEM degree\",\"None-STEM degree\",\"STEM degree\",\"STEM degree\",\"STEM degree\",\"STEM degree\",\"None-STEM degree\",\"STEM degree\",\"STEM degree\",\"None-STEM degree\",\"No degree\",\"None-STEM degree\",\"None-STEM degree\",\"None-STEM degree\",\"None-STEM degree\",\"STEM degree\",\"No degree\",\"None-STEM degree\",\"None-STEM degree\",\"STEM degree\",\"None-STEM degree\",\"None-STEM degree\",\"STEM degree\",\"None-STEM degree\",\"None-STEM degree\",\"No degree\",\"STEM degree\",\"None-STEM degree\",\"No degree\",\"None-STEM degree\",\"STEM degree\",\"No degree\",\"None-STEM degree\",\"No degree\",\"None-STEM degree\",\"None-STEM degree\",\"No degree\",\"No degree\",\"No degree\",\"None-STEM degree\",\"STEM degree\",\"STEM degree\",\"No degree\",\"None-STEM degree\",\"No degree\",\"None-STEM degree\",\"No degree\",\"No degree\",\"No degree\",\"No degree\",\"No degree\",\"STEM degree\",\"None-STEM degree\",\"None-STEM degree\",\"No degree\",\"STEM degree\"],\"xaxis\":\"x\",\"yaxis\":\"y\",\"type\":\"histogram\"}],                        {\"template\":{\"data\":{\"histogram2dcontour\":[{\"type\":\"histogram2dcontour\",\"colorbar\":{\"outlinewidth\":0,\"ticks\":\"\"},\"colorscale\":[[0.0,\"#0d0887\"],[0.1111111111111111,\"#46039f\"],[0.2222222222222222,\"#7201a8\"],[0.3333333333333333,\"#9c179e\"],[0.4444444444444444,\"#bd3786\"],[0.5555555555555556,\"#d8576b\"],[0.6666666666666666,\"#ed7953\"],[0.7777777777777778,\"#fb9f3a\"],[0.8888888888888888,\"#fdca26\"],[1.0,\"#f0f921\"]]}],\"choropleth\":[{\"type\":\"choropleth\",\"colorbar\":{\"outlinewidth\":0,\"ticks\":\"\"}}],\"histogram2d\":[{\"type\":\"histogram2d\",\"colorbar\":{\"outlinewidth\":0,\"ticks\":\"\"},\"colorscale\":[[0.0,\"#0d0887\"],[0.1111111111111111,\"#46039f\"],[0.2222222222222222,\"#7201a8\"],[0.3333333333333333,\"#9c179e\"],[0.4444444444444444,\"#bd3786\"],[0.5555555555555556,\"#d8576b\"],[0.6666666666666666,\"#ed7953\"],[0.7777777777777778,\"#fb9f3a\"],[0.8888888888888888,\"#fdca26\"],[1.0,\"#f0f921\"]]}],\"heatmap\":[{\"type\":\"heatmap\",\"colorbar\":{\"outlinewidth\":0,\"ticks\":\"\"},\"colorscale\":[[0.0,\"#0d0887\"],[0.1111111111111111,\"#46039f\"],[0.2222222222222222,\"#7201a8\"],[0.3333333333333333,\"#9c179e\"],[0.4444444444444444,\"#bd3786\"],[0.5555555555555556,\"#d8576b\"],[0.6666666666666666,\"#ed7953\"],[0.7777777777777778,\"#fb9f3a\"],[0.8888888888888888,\"#fdca26\"],[1.0,\"#f0f921\"]]}],\"heatmapgl\":[{\"type\":\"heatmapgl\",\"colorbar\":{\"outlinewidth\":0,\"ticks\":\"\"},\"colorscale\":[[0.0,\"#0d0887\"],[0.1111111111111111,\"#46039f\"],[0.2222222222222222,\"#7201a8\"],[0.3333333333333333,\"#9c179e\"],[0.4444444444444444,\"#bd3786\"],[0.5555555555555556,\"#d8576b\"],[0.6666666666666666,\"#ed7953\"],[0.7777777777777778,\"#fb9f3a\"],[0.8888888888888888,\"#fdca26\"],[1.0,\"#f0f921\"]]}],\"contourcarpet\":[{\"type\":\"contourcarpet\",\"colorbar\":{\"outlinewidth\":0,\"ticks\":\"\"}}],\"contour\":[{\"type\":\"contour\",\"colorbar\":{\"outlinewidth\":0,\"ticks\":\"\"},\"colorscale\":[[0.0,\"#0d0887\"],[0.1111111111111111,\"#46039f\"],[0.2222222222222222,\"#7201a8\"],[0.3333333333333333,\"#9c179e\"],[0.4444444444444444,\"#bd3786\"],[0.5555555555555556,\"#d8576b\"],[0.6666666666666666,\"#ed7953\"],[0.7777777777777778,\"#fb9f3a\"],[0.8888888888888888,\"#fdca26\"],[1.0,\"#f0f921\"]]}],\"surface\":[{\"type\":\"surface\",\"colorbar\":{\"outlinewidth\":0,\"ticks\":\"\"},\"colorscale\":[[0.0,\"#0d0887\"],[0.1111111111111111,\"#46039f\"],[0.2222222222222222,\"#7201a8\"],[0.3333333333333333,\"#9c179e\"],[0.4444444444444444,\"#bd3786\"],[0.5555555555555556,\"#d8576b\"],[0.6666666666666666,\"#ed7953\"],[0.7777777777777778,\"#fb9f3a\"],[0.8888888888888888,\"#fdca26\"],[1.0,\"#f0f921\"]]}],\"mesh3d\":[{\"type\":\"mesh3d\",\"colorbar\":{\"outlinewidth\":0,\"ticks\":\"\"}}],\"scatter\":[{\"fillpattern\":{\"fillmode\":\"overlay\",\"size\":10,\"solidity\":0.2},\"type\":\"scatter\"}],\"parcoords\":[{\"type\":\"parcoords\",\"line\":{\"colorbar\":{\"outlinewidth\":0,\"ticks\":\"\"}}}],\"scatterpolargl\":[{\"type\":\"scatterpolargl\",\"marker\":{\"colorbar\":{\"outlinewidth\":0,\"ticks\":\"\"}}}],\"bar\":[{\"error_x\":{\"color\":\"#2a3f5f\"},\"error_y\":{\"color\":\"#2a3f5f\"},\"marker\":{\"line\":{\"color\":\"#E5ECF6\",\"width\":0.5},\"pattern\":{\"fillmode\":\"overlay\",\"size\":10,\"solidity\":0.2}},\"type\":\"bar\"}],\"scattergeo\":[{\"type\":\"scattergeo\",\"marker\":{\"colorbar\":{\"outlinewidth\":0,\"ticks\":\"\"}}}],\"scatterpolar\":[{\"type\":\"scatterpolar\",\"marker\":{\"colorbar\":{\"outlinewidth\":0,\"ticks\":\"\"}}}],\"histogram\":[{\"marker\":{\"pattern\":{\"fillmode\":\"overlay\",\"size\":10,\"solidity\":0.2}},\"type\":\"histogram\"}],\"scattergl\":[{\"type\":\"scattergl\",\"marker\":{\"colorbar\":{\"outlinewidth\":0,\"ticks\":\"\"}}}],\"scatter3d\":[{\"type\":\"scatter3d\",\"line\":{\"colorbar\":{\"outlinewidth\":0,\"ticks\":\"\"}},\"marker\":{\"colorbar\":{\"outlinewidth\":0,\"ticks\":\"\"}}}],\"scattermapbox\":[{\"type\":\"scattermapbox\",\"marker\":{\"colorbar\":{\"outlinewidth\":0,\"ticks\":\"\"}}}],\"scatterternary\":[{\"type\":\"scatterternary\",\"marker\":{\"colorbar\":{\"outlinewidth\":0,\"ticks\":\"\"}}}],\"scattercarpet\":[{\"type\":\"scattercarpet\",\"marker\":{\"colorbar\":{\"outlinewidth\":0,\"ticks\":\"\"}}}],\"carpet\":[{\"aaxis\":{\"endlinecolor\":\"#2a3f5f\",\"gridcolor\":\"white\",\"linecolor\":\"white\",\"minorgridcolor\":\"white\",\"startlinecolor\":\"#2a3f5f\"},\"baxis\":{\"endlinecolor\":\"#2a3f5f\",\"gridcolor\":\"white\",\"linecolor\":\"white\",\"minorgridcolor\":\"white\",\"startlinecolor\":\"#2a3f5f\"},\"type\":\"carpet\"}],\"table\":[{\"cells\":{\"fill\":{\"color\":\"#EBF0F8\"},\"line\":{\"color\":\"white\"}},\"header\":{\"fill\":{\"color\":\"#C8D4E3\"},\"line\":{\"color\":\"white\"}},\"type\":\"table\"}],\"barpolar\":[{\"marker\":{\"line\":{\"color\":\"#E5ECF6\",\"width\":0.5},\"pattern\":{\"fillmode\":\"overlay\",\"size\":10,\"solidity\":0.2}},\"type\":\"barpolar\"}],\"pie\":[{\"automargin\":true,\"type\":\"pie\"}]},\"layout\":{\"autotypenumbers\":\"strict\",\"colorway\":[\"#636efa\",\"#EF553B\",\"#00cc96\",\"#ab63fa\",\"#FFA15A\",\"#19d3f3\",\"#FF6692\",\"#B6E880\",\"#FF97FF\",\"#FECB52\"],\"font\":{\"color\":\"#2a3f5f\"},\"hovermode\":\"closest\",\"hoverlabel\":{\"align\":\"left\"},\"paper_bgcolor\":\"white\",\"plot_bgcolor\":\"#E5ECF6\",\"polar\":{\"bgcolor\":\"#E5ECF6\",\"angularaxis\":{\"gridcolor\":\"white\",\"linecolor\":\"white\",\"ticks\":\"\"},\"radialaxis\":{\"gridcolor\":\"white\",\"linecolor\":\"white\",\"ticks\":\"\"}},\"ternary\":{\"bgcolor\":\"#E5ECF6\",\"aaxis\":{\"gridcolor\":\"white\",\"linecolor\":\"white\",\"ticks\":\"\"},\"baxis\":{\"gridcolor\":\"white\",\"linecolor\":\"white\",\"ticks\":\"\"},\"caxis\":{\"gridcolor\":\"white\",\"linecolor\":\"white\",\"ticks\":\"\"}},\"coloraxis\":{\"colorbar\":{\"outlinewidth\":0,\"ticks\":\"\"}},\"colorscale\":{\"sequential\":[[0.0,\"#0d0887\"],[0.1111111111111111,\"#46039f\"],[0.2222222222222222,\"#7201a8\"],[0.3333333333333333,\"#9c179e\"],[0.4444444444444444,\"#bd3786\"],[0.5555555555555556,\"#d8576b\"],[0.6666666666666666,\"#ed7953\"],[0.7777777777777778,\"#fb9f3a\"],[0.8888888888888888,\"#fdca26\"],[1.0,\"#f0f921\"]],\"sequentialminus\":[[0.0,\"#0d0887\"],[0.1111111111111111,\"#46039f\"],[0.2222222222222222,\"#7201a8\"],[0.3333333333333333,\"#9c179e\"],[0.4444444444444444,\"#bd3786\"],[0.5555555555555556,\"#d8576b\"],[0.6666666666666666,\"#ed7953\"],[0.7777777777777778,\"#fb9f3a\"],[0.8888888888888888,\"#fdca26\"],[1.0,\"#f0f921\"]],\"diverging\":[[0,\"#8e0152\"],[0.1,\"#c51b7d\"],[0.2,\"#de77ae\"],[0.3,\"#f1b6da\"],[0.4,\"#fde0ef\"],[0.5,\"#f7f7f7\"],[0.6,\"#e6f5d0\"],[0.7,\"#b8e186\"],[0.8,\"#7fbc41\"],[0.9,\"#4d9221\"],[1,\"#276419\"]]},\"xaxis\":{\"gridcolor\":\"white\",\"linecolor\":\"white\",\"ticks\":\"\",\"title\":{\"standoff\":15},\"zerolinecolor\":\"white\",\"automargin\":true,\"zerolinewidth\":2},\"yaxis\":{\"gridcolor\":\"white\",\"linecolor\":\"white\",\"ticks\":\"\",\"title\":{\"standoff\":15},\"zerolinecolor\":\"white\",\"automargin\":true,\"zerolinewidth\":2},\"scene\":{\"xaxis\":{\"backgroundcolor\":\"#E5ECF6\",\"gridcolor\":\"white\",\"linecolor\":\"white\",\"showbackground\":true,\"ticks\":\"\",\"zerolinecolor\":\"white\",\"gridwidth\":2},\"yaxis\":{\"backgroundcolor\":\"#E5ECF6\",\"gridcolor\":\"white\",\"linecolor\":\"white\",\"showbackground\":true,\"ticks\":\"\",\"zerolinecolor\":\"white\",\"gridwidth\":2},\"zaxis\":{\"backgroundcolor\":\"#E5ECF6\",\"gridcolor\":\"white\",\"linecolor\":\"white\",\"showbackground\":true,\"ticks\":\"\",\"zerolinecolor\":\"white\",\"gridwidth\":2}},\"shapedefaults\":{\"line\":{\"color\":\"#2a3f5f\"}},\"annotationdefaults\":{\"arrowcolor\":\"#2a3f5f\",\"arrowhead\":0,\"arrowwidth\":1},\"geo\":{\"bgcolor\":\"white\",\"landcolor\":\"#E5ECF6\",\"subunitcolor\":\"white\",\"showland\":true,\"showlakes\":true,\"lakecolor\":\"white\"},\"title\":{\"x\":0.05},\"mapbox\":{\"style\":\"light\"}}},\"xaxis\":{\"anchor\":\"y\",\"domain\":[0.0,1.0],\"title\":{\"text\":\"ExpertiseScale\"}},\"yaxis\":{\"anchor\":\"x\",\"domain\":[0.0,1.0],\"title\":{\"text\":\"count\"}},\"legend\":{\"title\":{\"text\":\"gender\"},\"tracegroupgap\":0},\"margin\":{\"t\":60},\"barmode\":\"relative\"},                        {\"responsive\": true}                    ).then(function(){\n",
       "                            \n",
       "var gd = document.getElementById('02a6594e-0dec-4b76-aeab-03a0160b9f05');\n",
       "var x = new MutationObserver(function (mutations, observer) {{\n",
       "        var display = window.getComputedStyle(gd).display;\n",
       "        if (!display || display === 'none') {{\n",
       "            console.log([gd, 'removed!']);\n",
       "            Plotly.purge(gd);\n",
       "            observer.disconnect();\n",
       "        }}\n",
       "}});\n",
       "\n",
       "// Listen for the removal of the full notebook cells\n",
       "var notebookContainer = gd.closest('#notebook-container');\n",
       "if (notebookContainer) {{\n",
       "    x.observe(notebookContainer, {childList: true});\n",
       "}}\n",
       "\n",
       "// Listen for the clearing of the current output cell\n",
       "var outputEl = gd.closest('.output');\n",
       "if (outputEl) {{\n",
       "    x.observe(outputEl, {childList: true});\n",
       "}}\n",
       "\n",
       "                        })                };                });            </script>        </div>"
      ]
     },
     "metadata": {},
     "output_type": "display_data"
    }
   ],
   "source": [
    "fig = px.histogram(agg, x = 'ExpertiseScale', color = 'gender')\n",
    "fig.show()"
   ]
  },
  {
   "cell_type": "markdown",
   "id": "8b4106e5",
   "metadata": {},
   "source": [
    "### Tone colored by gender"
   ]
  },
  {
   "cell_type": "code",
   "execution_count": 118,
   "id": "93c72902",
   "metadata": {},
   "outputs": [
    {
     "data": {
      "application/vnd.plotly.v1+json": {
       "config": {
        "plotlyServerURL": "https://plot.ly"
       },
       "data": [
        {
         "alignmentgroup": "True",
         "bingroup": "x",
         "hovertemplate": "gender=male<br>PosterTone=%{x}<br>count=%{y}<extra></extra>",
         "legendgroup": "male",
         "marker": {
          "color": "#636efa",
          "pattern": {
           "shape": ""
          }
         },
         "name": "male",
         "offsetgroup": "male",
         "orientation": "v",
         "showlegend": true,
         "type": "histogram",
         "x": [
          "Negative",
          "None",
          "Positive",
          "None",
          "None",
          "Negative",
          "Strongly Positive",
          "Strongly Negative",
          "Strongly Positive",
          "Positive",
          "None",
          "Positive",
          "Negative",
          "None",
          "Negative",
          "Positive",
          "Neutral",
          "Strongly Positive",
          "Negative",
          "None",
          "None",
          "Positive",
          "Negative",
          "Neutral",
          "Negative",
          "Positive",
          "None",
          "Positive",
          "Positive",
          "Negative",
          "Positive",
          "None",
          "None",
          "Neutral",
          "Neutral",
          "Positive",
          "Neutral",
          "Positive",
          "Positive",
          "Strongly Positive",
          "Neutral",
          "Positive",
          "None",
          "Positive",
          "Positive",
          "None",
          "Positive",
          "None",
          "None",
          "Strongly Positive",
          "Neutral",
          "Neutral",
          "None",
          "None",
          "Strongly Negative",
          "None",
          "Strongly Positive",
          "Positive",
          "Strongly Negative",
          "Negative",
          "None",
          "None",
          "Negative",
          "None",
          "Negative",
          "Negative",
          "Negative",
          "Positive",
          "Strongly Positive",
          "None",
          "None",
          "Neutral",
          "Positive",
          "None",
          "Negative",
          "Strongly Negative",
          "Strongly Positive",
          "Negative",
          "Negative",
          "Positive",
          "Positive",
          "Neutral",
          "None",
          "Positive",
          "Strongly Positive",
          "Strongly Positive",
          "Negative",
          "Neutral",
          "Strongly Positive",
          "Positive",
          "Strongly Positive",
          "Strongly Positive",
          "Neutral",
          "Negative",
          "Neutral",
          "Strongly Positive",
          "Neutral",
          "None",
          "None",
          "None",
          "Strongly Positive",
          "Strongly Positive",
          "None",
          "None",
          "Neutral",
          "Strongly Positive",
          "Strongly Positive",
          "None",
          "None",
          "Strongly Positive",
          "Strongly Negative",
          "Neutral",
          "None",
          "None",
          "None",
          "None",
          "Strongly Positive",
          "Positive",
          "Negative",
          "None",
          "Positive",
          "Strongly Positive",
          "None",
          "Neutral",
          "Negative",
          "Strongly Positive",
          "Strongly Positive",
          "Strongly Positive",
          "None",
          "Strongly Positive",
          "Positive",
          "Negative",
          "Positive",
          "None",
          "None",
          "Negative",
          "None",
          "Positive",
          "Strongly Negative",
          "Positive",
          "Positive",
          "Strongly Positive",
          "None",
          "None",
          "None",
          "Negative",
          "Strongly Positive",
          "Negative",
          "Neutral",
          "Strongly Positive",
          "Strongly Positive",
          "None",
          "None",
          "Negative",
          "None",
          "None",
          "Strongly Positive",
          "None",
          "Positive",
          "None",
          "Negative",
          "Strongly Positive",
          "None",
          "None",
          "Strongly Positive",
          "None",
          "Negative",
          "None",
          "Neutral",
          "None",
          "None",
          "None",
          "Strongly Positive",
          "None",
          "Negative",
          "Positive",
          "None",
          "Positive",
          "None",
          "Positive",
          "None",
          "Strongly Positive",
          "Positive",
          "Strongly Negative",
          "Strongly Positive",
          "None",
          "None",
          "Strongly Negative",
          "Positive",
          "Positive",
          "None",
          "None",
          "Strongly Negative",
          "Strongly Positive",
          "None",
          "Negative",
          "Negative",
          "None",
          "None",
          "None",
          "None",
          "None",
          "None",
          "None",
          "None",
          "Positive",
          "None",
          "Positive",
          "Strongly Positive",
          "Negative",
          "None",
          "None",
          "None",
          "None",
          "None",
          "Positive",
          "None",
          "None",
          "Strongly Positive",
          "None",
          "None",
          "Negative",
          "None",
          "None",
          "None",
          "None",
          "None",
          "Negative",
          "Strongly Positive",
          "Strongly Positive",
          "Positive",
          "None",
          "Strongly Positive",
          "None",
          "Strongly Negative",
          "None",
          "None",
          "Negative",
          "Negative",
          "Neutral",
          "Negative",
          "Negative",
          "Negative",
          "Negative",
          "None",
          "None",
          "Negative",
          "Negative",
          "Neutral",
          "Positive",
          "None",
          "Positive",
          "None",
          "None",
          "Positive",
          "None",
          "None",
          "Positive",
          "None",
          "Positive",
          "Negative",
          "Positive",
          "Negative",
          "None",
          "Strongly Negative",
          "Negative",
          "Negative",
          "Neutral",
          "None",
          "None",
          "Strongly Positive",
          "Negative",
          "None",
          "Positive",
          "Negative",
          "Negative",
          "Neutral",
          "Strongly Positive",
          "Positive",
          "Strongly Positive",
          "None",
          "None",
          "None",
          "Strongly Positive",
          "Negative",
          "Neutral",
          "Strongly Negative",
          "None",
          "Negative",
          "Negative",
          "None",
          "None",
          "Strongly Positive",
          "Strongly Positive",
          "None",
          "Strongly Positive",
          "Strongly Positive",
          "None",
          "None",
          "Strongly Positive",
          "Strongly Negative",
          "None",
          "Negative",
          "None",
          "Strongly Positive",
          "Strongly Positive",
          "Negative",
          "None",
          "Positive",
          "Strongly Positive",
          "Strongly Negative",
          "None",
          "None",
          "None",
          "None",
          "None",
          "Strongly Positive",
          "Positive",
          "None",
          "Strongly Positive",
          "None",
          "Strongly Negative",
          "Negative",
          "None",
          "None",
          "Strongly Negative",
          "Neutral",
          "None",
          "Negative",
          "Negative",
          "Strongly Negative",
          "None",
          "Positive",
          "Negative",
          "None",
          "None",
          "Strongly Positive",
          "None",
          "Strongly Positive",
          "None",
          "Positive",
          "None",
          "Neutral",
          "Positive",
          "Strongly Positive",
          "Negative",
          "None",
          "Negative",
          "Strongly Positive",
          "None",
          "None",
          "Neutral",
          "Positive",
          "Positive",
          "Positive",
          "Positive",
          "None",
          "Positive",
          "None",
          "None",
          "Strongly Positive",
          "Neutral",
          "Neutral",
          "Neutral",
          "None",
          "Strongly Negative",
          "None",
          "Strongly Positive",
          "Positive",
          "Strongly Negative",
          "Negative",
          "None",
          "None",
          "Neutral",
          "None",
          "Negative",
          "Negative",
          "Negative",
          "Positive",
          "Strongly Positive",
          "None",
          "None",
          "Neutral",
          "Positive",
          "None",
          "Negative",
          "Strongly Negative",
          "Strongly Positive",
          "Neutral",
          "Neutral",
          "Neutral",
          "None",
          "Positive",
          "Strongly Positive",
          "Strongly Positive",
          "Negative",
          "Strongly Negative",
          "Strongly Positive",
          "Positive",
          "Positive",
          "Positive",
          "Negative",
          "Neutral",
          "None",
          "Positive",
          "None",
          "None",
          "Positive",
          "Strongly Positive",
          "Strongly Negative",
          "Positive",
          "None",
          "None",
          "Positive",
          "None",
          "Negative",
          "None",
          "Positive",
          "Positive",
          "None",
          "Strongly Positive",
          "Negative",
          "Neutral",
          "None",
          "None",
          "None",
          "Negative",
          "Negative",
          "Positive",
          "Positive",
          "Positive",
          "Strongly Negative",
          "Strongly Positive",
          "Neutral",
          "Strongly Negative",
          "Positive",
          null,
          "Neutral",
          "Positive",
          "Positive",
          "Neutral",
          "Positive",
          "Neutral",
          "Positive",
          "Positive",
          "Positive",
          "Positive",
          "Strongly Positive",
          "Neutral",
          "Neutral",
          "Neutral",
          "Neutral",
          "Neutral",
          "Strongly Positive",
          "Positive",
          "Positive",
          "Neutral",
          "Strongly Positive",
          "Neutral",
          "Positive",
          "Negative",
          "Neutral",
          "Neutral",
          "Neutral",
          "Positive",
          "Positive",
          "Negative",
          "Strongly Positive",
          "Strongly Positive",
          "Neutral",
          "Neutral",
          "Strongly Positive",
          "Neutral",
          "Neutral",
          "Neutral",
          "Strongly Positive",
          "Negative",
          "Positive",
          "Positive",
          "Positive",
          "Strongly Positive",
          "Negative",
          "Neutral",
          "Negative",
          "Positive",
          "Negative",
          "Strongly Positive",
          "Negative",
          "Neutral",
          "Neutral",
          "Positive",
          "Neutral",
          "Negative",
          "Positive",
          "Positive",
          "Negative",
          "Strongly Positive",
          "Strongly Positive",
          "Positive",
          "Strongly Positive",
          "Positive",
          "Neutral",
          "Positive",
          "Positive",
          "Positive",
          "Negative",
          null,
          "Strongly Positive",
          "Strongly Positive",
          "None",
          "Negative",
          "None",
          "None",
          "Negative",
          "None",
          "Negative",
          "None",
          "None",
          "Negative",
          "Positive",
          "Positive",
          "None",
          "Strongly Negative",
          "Positive",
          "Neutral",
          "Neutral",
          "Negative",
          "None",
          "Neutral",
          "Negative",
          "Negative",
          "Positive",
          "Negative",
          "Negative",
          "None",
          "Positive",
          "None",
          "Strongly Positive",
          "None",
          "None",
          "None",
          "None",
          "Negative",
          "Strongly Negative",
          "None",
          "Strongly Positive",
          "Neutral",
          "Strongly Positive",
          "Positive",
          "Strongly Positive",
          "Negative",
          "Strongly Positive",
          "None",
          "Strongly Positive",
          "None",
          "Negative",
          "Neutral",
          "Negative",
          "Negative",
          "Positive",
          "None",
          "Strongly Positive",
          "Neutral",
          "Negative",
          "None",
          "Strongly Negative",
          "None",
          "Strongly Positive",
          "None",
          "Positive",
          "None",
          "Negative",
          "Positive",
          "Positive",
          "Negative",
          "None",
          "None",
          "Negative",
          "Neutral",
          "Positive",
          "Positive",
          "None",
          "None",
          "Negative",
          "None",
          "None",
          "Strongly Positive",
          "Strongly Positive",
          "Positive",
          "Strongly Negative",
          "None",
          "Neutral",
          "None",
          "Positive",
          "Neutral",
          "None",
          "Positive",
          "Negative",
          "Strongly Positive",
          "None",
          "Neutral",
          "Neutral",
          "Neutral",
          "None",
          "Neutral",
          "Positive",
          "None",
          "Negative",
          "None",
          "Strongly Negative",
          "None",
          "Negative",
          "Negative",
          "Positive",
          "Positive",
          "Strongly Negative",
          "Strongly Negative",
          "Neutral",
          "Neutral",
          "Neutral",
          "Strongly Negative",
          "None",
          "Positive",
          "Neutral",
          "Negative",
          "Positive",
          "Positive",
          "None",
          "Negative",
          "Positive",
          "Positive",
          "Positive",
          "None",
          "Positive",
          "None",
          "None",
          "Negative",
          "Negative",
          "Neutral",
          "Positive",
          "None",
          "Positive",
          "Positive",
          "Positive",
          "Negative",
          "Strongly Positive",
          "None",
          "Strongly Positive",
          "None",
          "Negative",
          "None",
          "Negative",
          "Positive",
          "Negative",
          "None",
          "Strongly Positive",
          "Positive",
          "None",
          "None",
          "None",
          "None",
          "Positive",
          "Strongly Positive",
          "None",
          "None",
          "Positive",
          "None",
          "None",
          "None",
          "None",
          "None",
          "None",
          "Positive",
          "None",
          "None",
          "None",
          "Strongly Positive",
          "None",
          "Strongly Positive",
          "None",
          "None",
          "None",
          "Strongly Positive",
          "Strongly Negative",
          "Neutral",
          "Positive",
          "None",
          "None",
          "Strongly Positive",
          "None",
          "None",
          "Neutral",
          "None",
          "None",
          "None",
          "None",
          "None",
          "None",
          "None",
          "None",
          "Strongly Positive",
          "Neutral",
          "None",
          "None",
          "None",
          "None",
          "None",
          "None",
          "None",
          "None",
          "None",
          "Positive",
          "None",
          "None",
          "None",
          "Negative",
          "None",
          "Positive",
          "Strongly Positive",
          "None",
          "None",
          "None"
         ],
         "xaxis": "x",
         "yaxis": "y"
        },
        {
         "alignmentgroup": "True",
         "bingroup": "x",
         "hovertemplate": "gender=female<br>PosterTone=%{x}<br>count=%{y}<extra></extra>",
         "legendgroup": "female",
         "marker": {
          "color": "#EF553B",
          "pattern": {
           "shape": ""
          }
         },
         "name": "female",
         "offsetgroup": "female",
         "orientation": "v",
         "showlegend": true,
         "type": "histogram",
         "x": [
          "Neutral",
          "Neutral",
          "Positive",
          "None",
          "Strongly Positive",
          "Strongly Negative",
          "None",
          "None",
          "Strongly Positive",
          "None",
          "None",
          "None",
          "Positive",
          "Positive",
          "Positive",
          "Strongly Positive",
          "Strongly Positive",
          "Positive",
          "Positive",
          "Strongly Negative",
          "Positive",
          "None",
          "Positive",
          "Strongly Positive",
          "Positive",
          "Neutral",
          "Strongly Negative",
          "Negative",
          "Neutral",
          "Neutral",
          "Neutral",
          "Neutral",
          "Strongly Positive",
          "Neutral",
          "Strongly Positive",
          "Strongly Negative",
          "Neutral",
          "Strongly Positive",
          "Neutral",
          "Strongly Negative",
          "Neutral",
          "Negative",
          "Neutral",
          "Negative",
          "Neutral",
          "Neutral",
          "Strongly Positive",
          "Negative",
          "Neutral",
          "Neutral",
          "Strongly Positive",
          "Neutral",
          "Neutral",
          "Strongly Positive",
          "Positive",
          "Neutral",
          "Strongly Positive",
          "Neutral",
          "Negative",
          "Neutral",
          "Positive",
          "Neutral",
          "Neutral",
          "Strongly Positive",
          "Positive",
          "Negative",
          "Strongly Positive",
          "Negative",
          "Strongly Positive",
          "Strongly Positive",
          "Neutral",
          "Strongly Negative",
          "Neutral",
          "Neutral",
          "Neutral",
          "Neutral",
          "Strongly Positive",
          "Strongly Positive",
          "Strongly Positive",
          "Neutral",
          "Positive",
          "Negative",
          "Strongly Positive",
          "Positive",
          "Negative",
          "Strongly Positive",
          "Strongly Positive",
          "Neutral",
          "Strongly Positive",
          "Positive",
          "Negative",
          "Neutral",
          "Neutral",
          "Strongly Positive",
          "Positive",
          "Neutral",
          "Positive",
          "Negative",
          "Positive",
          "Neutral",
          "Neutral",
          "Negative",
          "Negative",
          "Positive",
          "Strongly Negative",
          "Neutral",
          "Positive",
          "Positive",
          "Positive",
          "Positive",
          "Neutral",
          "Strongly Negative",
          "Negative",
          "Positive",
          "Neutral",
          "Positive",
          "Positive",
          "Positive",
          "Negative",
          "Strongly Positive",
          "Strongly Positive",
          "Strongly Positive",
          "Neutral",
          "Positive",
          "Positive",
          "Strongly Positive",
          "Positive",
          "None",
          "Strongly Positive",
          "Strongly Positive",
          "Negative",
          "None",
          "None",
          "Strongly Positive",
          "Strongly Positive",
          "Strongly Positive",
          "Positive",
          "None",
          "None",
          "Strongly Positive",
          "Strongly Positive",
          "None",
          "None",
          "None",
          "Strongly Positive",
          "None",
          "None",
          "Strongly Positive",
          "Strongly Positive",
          "None",
          "Positive",
          "None",
          "Strongly Positive",
          "Positive",
          "None",
          "None",
          "None",
          "None",
          "Positive",
          "None",
          "Strongly Negative",
          "Positive",
          "Neutral",
          "Strongly Positive",
          "None",
          "None",
          "None",
          "Strongly Positive",
          "Neutral",
          "Neutral",
          "None",
          "None",
          "Negative",
          "None",
          "Positive",
          "None",
          "None",
          "Positive",
          "None",
          "None",
          "None",
          "Positive",
          "Strongly Positive",
          "None",
          "None",
          "Positive",
          "Negative",
          "None",
          "Positive",
          "None",
          "Neutral",
          "Positive",
          "Neutral",
          "None",
          "None",
          "None",
          "Strongly Positive",
          "Strongly Positive",
          "Positive",
          "None",
          "None",
          "None",
          "None",
          "Positive",
          "Positive",
          "Positive",
          "Strongly Positive",
          "None",
          "Neutral",
          "None",
          "Positive",
          "Negative",
          "Positive",
          "Positive",
          "None",
          "Strongly Positive",
          "None",
          "Positive",
          "Positive",
          "None",
          "Negative",
          "Positive",
          "Positive",
          "None",
          "None",
          "None",
          "Negative",
          "Positive",
          "None",
          "Positive",
          "Negative",
          "Positive",
          "Positive",
          "Positive",
          "None",
          "Positive",
          "Neutral",
          "None",
          "Strongly Positive",
          "None",
          "None",
          "None",
          "Negative",
          "Positive",
          "Positive",
          "Negative",
          "None",
          "Positive",
          "Positive",
          "Negative",
          "Strongly Positive",
          "Positive",
          "Positive",
          "Positive",
          "Positive",
          "Positive",
          "None",
          "None",
          "None",
          "None",
          "Positive",
          "Neutral",
          "None",
          "None",
          "None",
          "None",
          "None",
          "None",
          "Strongly Positive",
          "None",
          "Negative",
          "Positive",
          "Negative",
          "None",
          "Positive",
          "Strongly Positive",
          "None",
          "Strongly Positive",
          "Negative",
          "None",
          "None",
          "Strongly Positive",
          "None",
          "Negative",
          "None",
          "None",
          "Positive",
          "Strongly Negative",
          "Strongly Positive",
          "Positive",
          "Strongly Positive",
          "None",
          "Positive",
          "Strongly Positive",
          "Negative",
          "Negative",
          "Strongly Positive",
          "Strongly Positive",
          "None",
          "Negative",
          "Positive",
          "Positive",
          "Neutral",
          "Strongly Positive",
          "Strongly Positive",
          "None",
          "Positive",
          "Positive",
          "Positive",
          "Strongly Positive",
          "Positive",
          "Positive",
          "Negative",
          "Strongly Negative",
          "None",
          "Strongly Negative",
          "Positive",
          "Positive",
          "Negative",
          "None",
          "Strongly Positive",
          "None",
          "Positive",
          "None",
          "Neutral",
          "None",
          "Strongly Positive",
          "None",
          "None",
          "Strongly Negative",
          "Strongly Positive",
          "None",
          "Strongly Positive",
          "Strongly Positive",
          "Negative",
          "Positive",
          "None",
          "None",
          "None",
          "None",
          "Strongly Positive",
          "None",
          "None",
          "None",
          "None",
          "None",
          "None",
          "None",
          "None",
          "None",
          "Strongly Negative",
          "None",
          "None",
          "None",
          "Positive",
          "Positive",
          "Positive",
          "Positive",
          "Strongly Positive",
          "Positive",
          "Neutral",
          "Negative",
          "None",
          "None",
          "None",
          "Strongly Positive",
          "Strongly Positive",
          "Strongly Positive",
          "Positive",
          "Strongly Positive",
          "None",
          "Positive",
          "Strongly Negative",
          "Negative",
          "Neutral",
          "None",
          "None",
          "Strongly Negative",
          "None",
          "Positive",
          "Negative",
          "None",
          "None",
          "None",
          "Positive",
          "None",
          "None",
          "Negative",
          "None",
          "None",
          "None",
          "Positive",
          "None",
          "Positive",
          "Strongly Positive",
          "None",
          "Positive",
          "None",
          "Negative",
          "Positive",
          "Positive",
          "None",
          "None",
          "None",
          "Positive",
          "Positive",
          "Strongly Positive",
          "Negative",
          "Negative",
          "Positive",
          "Strongly Negative",
          "Negative",
          "None",
          "None",
          "None",
          "None",
          "None",
          "None",
          "None",
          "Positive",
          "None",
          "None",
          "None",
          "Positive",
          "None",
          "None",
          "None",
          "Positive",
          "None",
          "None",
          "None",
          "None",
          "None",
          "None",
          "None",
          "Positive",
          "None",
          "None",
          "Positive",
          "Negative",
          "None",
          "None",
          "None",
          "None",
          "Positive",
          "Neutral",
          "None",
          "None",
          "None",
          "Strongly Positive",
          "Strongly Positive",
          "Positive",
          "Positive",
          "None",
          "None",
          "None",
          "None",
          "None",
          "Positive",
          "Strongly Positive",
          "None",
          "Negative",
          "None",
          "Strongly Positive",
          "Strongly Negative",
          "Positive",
          "Positive",
          "Positive",
          "Strongly Positive",
          "None",
          "Strongly Positive",
          "None",
          "None",
          "None",
          "None",
          "Positive",
          "Neutral",
          "Negative",
          "Neutral",
          "Strongly Positive",
          "Positive",
          "Positive",
          "Neutral",
          "Positive",
          "Neutral",
          "Neutral",
          "Strongly Positive",
          "Neutral",
          "Positive",
          "Negative",
          "Positive",
          "Neutral",
          "Strongly Positive",
          "Neutral",
          "Strongly Positive",
          "Strongly Positive",
          "Strongly Positive",
          "None",
          "Positive",
          "Positive",
          "None",
          "Positive",
          "None",
          "Negative",
          "None",
          "Strongly Positive",
          "None",
          "None",
          "None",
          "Strongly Positive",
          "None",
          "Strongly Positive",
          "Negative",
          "Negative",
          "None",
          "None",
          "Strongly Positive",
          "None",
          "None",
          "None",
          "Strongly Positive",
          "Strongly Positive",
          "Strongly Positive",
          "Neutral",
          "None",
          "None",
          "Positive",
          "None",
          "None",
          "None",
          "None",
          "None",
          "Positive",
          "None",
          "None",
          "None",
          "Positive",
          "Positive",
          "Negative",
          "None",
          "Positive",
          "Strongly Positive",
          "Negative",
          "Positive",
          "Positive",
          "None",
          "None",
          "None",
          "Positive",
          "Positive",
          "None",
          "Negative",
          "None",
          "Strongly Positive",
          "Positive",
          "Negative",
          "None",
          "None",
          "Positive",
          "None",
          "Negative",
          "None",
          "Strongly Positive",
          "Positive",
          "Neutral",
          "Strongly Positive",
          "Strongly Negative",
          "None",
          "Neutral",
          "Positive",
          "Positive",
          "Strongly Positive",
          "Positive",
          "None",
          "Negative",
          "Strongly Positive",
          "None",
          "Positive",
          "None",
          "None",
          "Negative",
          "Positive",
          "Strongly Negative",
          "Strongly Positive",
          "None",
          "Positive",
          "Strongly Positive",
          "Strongly Positive",
          "None",
          "Negative",
          "None",
          "Negative",
          "None",
          "Neutral",
          "Negative",
          "None",
          "Negative",
          "None",
          "Strongly Positive",
          "Strongly Negative",
          "Strongly Positive",
          "None",
          "Negative",
          "Neutral",
          "Positive",
          "Positive",
          "Positive",
          "Negative",
          "None",
          "Strongly Positive",
          "Positive",
          "Negative",
          "Positive",
          "Positive",
          "Positive",
          "Positive",
          "Negative",
          "Positive",
          "Strongly Positive",
          "Positive",
          "None",
          "Strongly Positive",
          "Negative",
          "Positive",
          "Positive",
          "Negative",
          "Positive",
          "Strongly Positive",
          "Positive",
          "Negative",
          "Positive",
          "Strongly Positive",
          "None",
          "Positive",
          "None",
          "None",
          "Positive",
          "Strongly Positive",
          "Strongly Negative",
          "Strongly Positive",
          "None",
          "Strongly Positive",
          "Positive",
          "Positive",
          "None",
          "Negative",
          "None",
          "Strongly Negative",
          "Neutral",
          "Neutral",
          "Positive",
          "Positive",
          "Positive",
          "None",
          "None",
          "None",
          "None",
          "None",
          "None",
          "Positive",
          "Positive",
          "None",
          "None",
          "None",
          "Positive",
          "None",
          "None",
          "None",
          "None",
          "Positive",
          "None",
          "None",
          "Positive",
          "None",
          "None",
          "None",
          "None",
          "None",
          "None",
          "None",
          "None"
         ],
         "xaxis": "x",
         "yaxis": "y"
        }
       ],
       "layout": {
        "barmode": "relative",
        "legend": {
         "title": {
          "text": "gender"
         },
         "tracegroupgap": 0
        },
        "margin": {
         "t": 60
        },
        "template": {
         "data": {
          "bar": [
           {
            "error_x": {
             "color": "#2a3f5f"
            },
            "error_y": {
             "color": "#2a3f5f"
            },
            "marker": {
             "line": {
              "color": "#E5ECF6",
              "width": 0.5
             },
             "pattern": {
              "fillmode": "overlay",
              "size": 10,
              "solidity": 0.2
             }
            },
            "type": "bar"
           }
          ],
          "barpolar": [
           {
            "marker": {
             "line": {
              "color": "#E5ECF6",
              "width": 0.5
             },
             "pattern": {
              "fillmode": "overlay",
              "size": 10,
              "solidity": 0.2
             }
            },
            "type": "barpolar"
           }
          ],
          "carpet": [
           {
            "aaxis": {
             "endlinecolor": "#2a3f5f",
             "gridcolor": "white",
             "linecolor": "white",
             "minorgridcolor": "white",
             "startlinecolor": "#2a3f5f"
            },
            "baxis": {
             "endlinecolor": "#2a3f5f",
             "gridcolor": "white",
             "linecolor": "white",
             "minorgridcolor": "white",
             "startlinecolor": "#2a3f5f"
            },
            "type": "carpet"
           }
          ],
          "choropleth": [
           {
            "colorbar": {
             "outlinewidth": 0,
             "ticks": ""
            },
            "type": "choropleth"
           }
          ],
          "contour": [
           {
            "colorbar": {
             "outlinewidth": 0,
             "ticks": ""
            },
            "colorscale": [
             [
              0,
              "#0d0887"
             ],
             [
              0.1111111111111111,
              "#46039f"
             ],
             [
              0.2222222222222222,
              "#7201a8"
             ],
             [
              0.3333333333333333,
              "#9c179e"
             ],
             [
              0.4444444444444444,
              "#bd3786"
             ],
             [
              0.5555555555555556,
              "#d8576b"
             ],
             [
              0.6666666666666666,
              "#ed7953"
             ],
             [
              0.7777777777777778,
              "#fb9f3a"
             ],
             [
              0.8888888888888888,
              "#fdca26"
             ],
             [
              1,
              "#f0f921"
             ]
            ],
            "type": "contour"
           }
          ],
          "contourcarpet": [
           {
            "colorbar": {
             "outlinewidth": 0,
             "ticks": ""
            },
            "type": "contourcarpet"
           }
          ],
          "heatmap": [
           {
            "colorbar": {
             "outlinewidth": 0,
             "ticks": ""
            },
            "colorscale": [
             [
              0,
              "#0d0887"
             ],
             [
              0.1111111111111111,
              "#46039f"
             ],
             [
              0.2222222222222222,
              "#7201a8"
             ],
             [
              0.3333333333333333,
              "#9c179e"
             ],
             [
              0.4444444444444444,
              "#bd3786"
             ],
             [
              0.5555555555555556,
              "#d8576b"
             ],
             [
              0.6666666666666666,
              "#ed7953"
             ],
             [
              0.7777777777777778,
              "#fb9f3a"
             ],
             [
              0.8888888888888888,
              "#fdca26"
             ],
             [
              1,
              "#f0f921"
             ]
            ],
            "type": "heatmap"
           }
          ],
          "heatmapgl": [
           {
            "colorbar": {
             "outlinewidth": 0,
             "ticks": ""
            },
            "colorscale": [
             [
              0,
              "#0d0887"
             ],
             [
              0.1111111111111111,
              "#46039f"
             ],
             [
              0.2222222222222222,
              "#7201a8"
             ],
             [
              0.3333333333333333,
              "#9c179e"
             ],
             [
              0.4444444444444444,
              "#bd3786"
             ],
             [
              0.5555555555555556,
              "#d8576b"
             ],
             [
              0.6666666666666666,
              "#ed7953"
             ],
             [
              0.7777777777777778,
              "#fb9f3a"
             ],
             [
              0.8888888888888888,
              "#fdca26"
             ],
             [
              1,
              "#f0f921"
             ]
            ],
            "type": "heatmapgl"
           }
          ],
          "histogram": [
           {
            "marker": {
             "pattern": {
              "fillmode": "overlay",
              "size": 10,
              "solidity": 0.2
             }
            },
            "type": "histogram"
           }
          ],
          "histogram2d": [
           {
            "colorbar": {
             "outlinewidth": 0,
             "ticks": ""
            },
            "colorscale": [
             [
              0,
              "#0d0887"
             ],
             [
              0.1111111111111111,
              "#46039f"
             ],
             [
              0.2222222222222222,
              "#7201a8"
             ],
             [
              0.3333333333333333,
              "#9c179e"
             ],
             [
              0.4444444444444444,
              "#bd3786"
             ],
             [
              0.5555555555555556,
              "#d8576b"
             ],
             [
              0.6666666666666666,
              "#ed7953"
             ],
             [
              0.7777777777777778,
              "#fb9f3a"
             ],
             [
              0.8888888888888888,
              "#fdca26"
             ],
             [
              1,
              "#f0f921"
             ]
            ],
            "type": "histogram2d"
           }
          ],
          "histogram2dcontour": [
           {
            "colorbar": {
             "outlinewidth": 0,
             "ticks": ""
            },
            "colorscale": [
             [
              0,
              "#0d0887"
             ],
             [
              0.1111111111111111,
              "#46039f"
             ],
             [
              0.2222222222222222,
              "#7201a8"
             ],
             [
              0.3333333333333333,
              "#9c179e"
             ],
             [
              0.4444444444444444,
              "#bd3786"
             ],
             [
              0.5555555555555556,
              "#d8576b"
             ],
             [
              0.6666666666666666,
              "#ed7953"
             ],
             [
              0.7777777777777778,
              "#fb9f3a"
             ],
             [
              0.8888888888888888,
              "#fdca26"
             ],
             [
              1,
              "#f0f921"
             ]
            ],
            "type": "histogram2dcontour"
           }
          ],
          "mesh3d": [
           {
            "colorbar": {
             "outlinewidth": 0,
             "ticks": ""
            },
            "type": "mesh3d"
           }
          ],
          "parcoords": [
           {
            "line": {
             "colorbar": {
              "outlinewidth": 0,
              "ticks": ""
             }
            },
            "type": "parcoords"
           }
          ],
          "pie": [
           {
            "automargin": true,
            "type": "pie"
           }
          ],
          "scatter": [
           {
            "fillpattern": {
             "fillmode": "overlay",
             "size": 10,
             "solidity": 0.2
            },
            "type": "scatter"
           }
          ],
          "scatter3d": [
           {
            "line": {
             "colorbar": {
              "outlinewidth": 0,
              "ticks": ""
             }
            },
            "marker": {
             "colorbar": {
              "outlinewidth": 0,
              "ticks": ""
             }
            },
            "type": "scatter3d"
           }
          ],
          "scattercarpet": [
           {
            "marker": {
             "colorbar": {
              "outlinewidth": 0,
              "ticks": ""
             }
            },
            "type": "scattercarpet"
           }
          ],
          "scattergeo": [
           {
            "marker": {
             "colorbar": {
              "outlinewidth": 0,
              "ticks": ""
             }
            },
            "type": "scattergeo"
           }
          ],
          "scattergl": [
           {
            "marker": {
             "colorbar": {
              "outlinewidth": 0,
              "ticks": ""
             }
            },
            "type": "scattergl"
           }
          ],
          "scattermapbox": [
           {
            "marker": {
             "colorbar": {
              "outlinewidth": 0,
              "ticks": ""
             }
            },
            "type": "scattermapbox"
           }
          ],
          "scatterpolar": [
           {
            "marker": {
             "colorbar": {
              "outlinewidth": 0,
              "ticks": ""
             }
            },
            "type": "scatterpolar"
           }
          ],
          "scatterpolargl": [
           {
            "marker": {
             "colorbar": {
              "outlinewidth": 0,
              "ticks": ""
             }
            },
            "type": "scatterpolargl"
           }
          ],
          "scatterternary": [
           {
            "marker": {
             "colorbar": {
              "outlinewidth": 0,
              "ticks": ""
             }
            },
            "type": "scatterternary"
           }
          ],
          "surface": [
           {
            "colorbar": {
             "outlinewidth": 0,
             "ticks": ""
            },
            "colorscale": [
             [
              0,
              "#0d0887"
             ],
             [
              0.1111111111111111,
              "#46039f"
             ],
             [
              0.2222222222222222,
              "#7201a8"
             ],
             [
              0.3333333333333333,
              "#9c179e"
             ],
             [
              0.4444444444444444,
              "#bd3786"
             ],
             [
              0.5555555555555556,
              "#d8576b"
             ],
             [
              0.6666666666666666,
              "#ed7953"
             ],
             [
              0.7777777777777778,
              "#fb9f3a"
             ],
             [
              0.8888888888888888,
              "#fdca26"
             ],
             [
              1,
              "#f0f921"
             ]
            ],
            "type": "surface"
           }
          ],
          "table": [
           {
            "cells": {
             "fill": {
              "color": "#EBF0F8"
             },
             "line": {
              "color": "white"
             }
            },
            "header": {
             "fill": {
              "color": "#C8D4E3"
             },
             "line": {
              "color": "white"
             }
            },
            "type": "table"
           }
          ]
         },
         "layout": {
          "annotationdefaults": {
           "arrowcolor": "#2a3f5f",
           "arrowhead": 0,
           "arrowwidth": 1
          },
          "autotypenumbers": "strict",
          "coloraxis": {
           "colorbar": {
            "outlinewidth": 0,
            "ticks": ""
           }
          },
          "colorscale": {
           "diverging": [
            [
             0,
             "#8e0152"
            ],
            [
             0.1,
             "#c51b7d"
            ],
            [
             0.2,
             "#de77ae"
            ],
            [
             0.3,
             "#f1b6da"
            ],
            [
             0.4,
             "#fde0ef"
            ],
            [
             0.5,
             "#f7f7f7"
            ],
            [
             0.6,
             "#e6f5d0"
            ],
            [
             0.7,
             "#b8e186"
            ],
            [
             0.8,
             "#7fbc41"
            ],
            [
             0.9,
             "#4d9221"
            ],
            [
             1,
             "#276419"
            ]
           ],
           "sequential": [
            [
             0,
             "#0d0887"
            ],
            [
             0.1111111111111111,
             "#46039f"
            ],
            [
             0.2222222222222222,
             "#7201a8"
            ],
            [
             0.3333333333333333,
             "#9c179e"
            ],
            [
             0.4444444444444444,
             "#bd3786"
            ],
            [
             0.5555555555555556,
             "#d8576b"
            ],
            [
             0.6666666666666666,
             "#ed7953"
            ],
            [
             0.7777777777777778,
             "#fb9f3a"
            ],
            [
             0.8888888888888888,
             "#fdca26"
            ],
            [
             1,
             "#f0f921"
            ]
           ],
           "sequentialminus": [
            [
             0,
             "#0d0887"
            ],
            [
             0.1111111111111111,
             "#46039f"
            ],
            [
             0.2222222222222222,
             "#7201a8"
            ],
            [
             0.3333333333333333,
             "#9c179e"
            ],
            [
             0.4444444444444444,
             "#bd3786"
            ],
            [
             0.5555555555555556,
             "#d8576b"
            ],
            [
             0.6666666666666666,
             "#ed7953"
            ],
            [
             0.7777777777777778,
             "#fb9f3a"
            ],
            [
             0.8888888888888888,
             "#fdca26"
            ],
            [
             1,
             "#f0f921"
            ]
           ]
          },
          "colorway": [
           "#636efa",
           "#EF553B",
           "#00cc96",
           "#ab63fa",
           "#FFA15A",
           "#19d3f3",
           "#FF6692",
           "#B6E880",
           "#FF97FF",
           "#FECB52"
          ],
          "font": {
           "color": "#2a3f5f"
          },
          "geo": {
           "bgcolor": "white",
           "lakecolor": "white",
           "landcolor": "#E5ECF6",
           "showlakes": true,
           "showland": true,
           "subunitcolor": "white"
          },
          "hoverlabel": {
           "align": "left"
          },
          "hovermode": "closest",
          "mapbox": {
           "style": "light"
          },
          "paper_bgcolor": "white",
          "plot_bgcolor": "#E5ECF6",
          "polar": {
           "angularaxis": {
            "gridcolor": "white",
            "linecolor": "white",
            "ticks": ""
           },
           "bgcolor": "#E5ECF6",
           "radialaxis": {
            "gridcolor": "white",
            "linecolor": "white",
            "ticks": ""
           }
          },
          "scene": {
           "xaxis": {
            "backgroundcolor": "#E5ECF6",
            "gridcolor": "white",
            "gridwidth": 2,
            "linecolor": "white",
            "showbackground": true,
            "ticks": "",
            "zerolinecolor": "white"
           },
           "yaxis": {
            "backgroundcolor": "#E5ECF6",
            "gridcolor": "white",
            "gridwidth": 2,
            "linecolor": "white",
            "showbackground": true,
            "ticks": "",
            "zerolinecolor": "white"
           },
           "zaxis": {
            "backgroundcolor": "#E5ECF6",
            "gridcolor": "white",
            "gridwidth": 2,
            "linecolor": "white",
            "showbackground": true,
            "ticks": "",
            "zerolinecolor": "white"
           }
          },
          "shapedefaults": {
           "line": {
            "color": "#2a3f5f"
           }
          },
          "ternary": {
           "aaxis": {
            "gridcolor": "white",
            "linecolor": "white",
            "ticks": ""
           },
           "baxis": {
            "gridcolor": "white",
            "linecolor": "white",
            "ticks": ""
           },
           "bgcolor": "#E5ECF6",
           "caxis": {
            "gridcolor": "white",
            "linecolor": "white",
            "ticks": ""
           }
          },
          "title": {
           "x": 0.05
          },
          "xaxis": {
           "automargin": true,
           "gridcolor": "white",
           "linecolor": "white",
           "ticks": "",
           "title": {
            "standoff": 15
           },
           "zerolinecolor": "white",
           "zerolinewidth": 2
          },
          "yaxis": {
           "automargin": true,
           "gridcolor": "white",
           "linecolor": "white",
           "ticks": "",
           "title": {
            "standoff": 15
           },
           "zerolinecolor": "white",
           "zerolinewidth": 2
          }
         }
        },
        "xaxis": {
         "anchor": "y",
         "domain": [
          0,
          1
         ],
         "title": {
          "text": "PosterTone"
         }
        },
        "yaxis": {
         "anchor": "x",
         "domain": [
          0,
          1
         ],
         "title": {
          "text": "count"
         }
        }
       }
      },
      "text/html": [
       "<div>                            <div id=\"4ed78bb8-349e-4442-9507-b64489127296\" class=\"plotly-graph-div\" style=\"height:525px; width:100%;\"></div>            <script type=\"text/javascript\">                require([\"plotly\"], function(Plotly) {                    window.PLOTLYENV=window.PLOTLYENV || {};                                    if (document.getElementById(\"4ed78bb8-349e-4442-9507-b64489127296\")) {                    Plotly.newPlot(                        \"4ed78bb8-349e-4442-9507-b64489127296\",                        [{\"alignmentgroup\":\"True\",\"bingroup\":\"x\",\"hovertemplate\":\"gender=male<br>PosterTone=%{x}<br>count=%{y}<extra></extra>\",\"legendgroup\":\"male\",\"marker\":{\"color\":\"#636efa\",\"pattern\":{\"shape\":\"\"}},\"name\":\"male\",\"offsetgroup\":\"male\",\"orientation\":\"v\",\"showlegend\":true,\"x\":[\"Negative\",\"None\",\"Positive\",\"None\",\"None\",\"Negative\",\"Strongly Positive\",\"Strongly Negative\",\"Strongly Positive\",\"Positive\",\"None\",\"Positive\",\"Negative\",\"None\",\"Negative\",\"Positive\",\"Neutral\",\"Strongly Positive\",\"Negative\",\"None\",\"None\",\"Positive\",\"Negative\",\"Neutral\",\"Negative\",\"Positive\",\"None\",\"Positive\",\"Positive\",\"Negative\",\"Positive\",\"None\",\"None\",\"Neutral\",\"Neutral\",\"Positive\",\"Neutral\",\"Positive\",\"Positive\",\"Strongly Positive\",\"Neutral\",\"Positive\",\"None\",\"Positive\",\"Positive\",\"None\",\"Positive\",\"None\",\"None\",\"Strongly Positive\",\"Neutral\",\"Neutral\",\"None\",\"None\",\"Strongly Negative\",\"None\",\"Strongly Positive\",\"Positive\",\"Strongly Negative\",\"Negative\",\"None\",\"None\",\"Negative\",\"None\",\"Negative\",\"Negative\",\"Negative\",\"Positive\",\"Strongly Positive\",\"None\",\"None\",\"Neutral\",\"Positive\",\"None\",\"Negative\",\"Strongly Negative\",\"Strongly Positive\",\"Negative\",\"Negative\",\"Positive\",\"Positive\",\"Neutral\",\"None\",\"Positive\",\"Strongly Positive\",\"Strongly Positive\",\"Negative\",\"Neutral\",\"Strongly Positive\",\"Positive\",\"Strongly Positive\",\"Strongly Positive\",\"Neutral\",\"Negative\",\"Neutral\",\"Strongly Positive\",\"Neutral\",\"None\",\"None\",\"None\",\"Strongly Positive\",\"Strongly Positive\",\"None\",\"None\",\"Neutral\",\"Strongly Positive\",\"Strongly Positive\",\"None\",\"None\",\"Strongly Positive\",\"Strongly Negative\",\"Neutral\",\"None\",\"None\",\"None\",\"None\",\"Strongly Positive\",\"Positive\",\"Negative\",\"None\",\"Positive\",\"Strongly Positive\",\"None\",\"Neutral\",\"Negative\",\"Strongly Positive\",\"Strongly Positive\",\"Strongly Positive\",\"None\",\"Strongly Positive\",\"Positive\",\"Negative\",\"Positive\",\"None\",\"None\",\"Negative\",\"None\",\"Positive\",\"Strongly Negative\",\"Positive\",\"Positive\",\"Strongly Positive\",\"None\",\"None\",\"None\",\"Negative\",\"Strongly Positive\",\"Negative\",\"Neutral\",\"Strongly Positive\",\"Strongly Positive\",\"None\",\"None\",\"Negative\",\"None\",\"None\",\"Strongly Positive\",\"None\",\"Positive\",\"None\",\"Negative\",\"Strongly Positive\",\"None\",\"None\",\"Strongly Positive\",\"None\",\"Negative\",\"None\",\"Neutral\",\"None\",\"None\",\"None\",\"Strongly Positive\",\"None\",\"Negative\",\"Positive\",\"None\",\"Positive\",\"None\",\"Positive\",\"None\",\"Strongly Positive\",\"Positive\",\"Strongly Negative\",\"Strongly Positive\",\"None\",\"None\",\"Strongly Negative\",\"Positive\",\"Positive\",\"None\",\"None\",\"Strongly Negative\",\"Strongly Positive\",\"None\",\"Negative\",\"Negative\",\"None\",\"None\",\"None\",\"None\",\"None\",\"None\",\"None\",\"None\",\"Positive\",\"None\",\"Positive\",\"Strongly Positive\",\"Negative\",\"None\",\"None\",\"None\",\"None\",\"None\",\"Positive\",\"None\",\"None\",\"Strongly Positive\",\"None\",\"None\",\"Negative\",\"None\",\"None\",\"None\",\"None\",\"None\",\"Negative\",\"Strongly Positive\",\"Strongly Positive\",\"Positive\",\"None\",\"Strongly Positive\",\"None\",\"Strongly Negative\",\"None\",\"None\",\"Negative\",\"Negative\",\"Neutral\",\"Negative\",\"Negative\",\"Negative\",\"Negative\",\"None\",\"None\",\"Negative\",\"Negative\",\"Neutral\",\"Positive\",\"None\",\"Positive\",\"None\",\"None\",\"Positive\",\"None\",\"None\",\"Positive\",\"None\",\"Positive\",\"Negative\",\"Positive\",\"Negative\",\"None\",\"Strongly Negative\",\"Negative\",\"Negative\",\"Neutral\",\"None\",\"None\",\"Strongly Positive\",\"Negative\",\"None\",\"Positive\",\"Negative\",\"Negative\",\"Neutral\",\"Strongly Positive\",\"Positive\",\"Strongly Positive\",\"None\",\"None\",\"None\",\"Strongly Positive\",\"Negative\",\"Neutral\",\"Strongly Negative\",\"None\",\"Negative\",\"Negative\",\"None\",\"None\",\"Strongly Positive\",\"Strongly Positive\",\"None\",\"Strongly Positive\",\"Strongly Positive\",\"None\",\"None\",\"Strongly Positive\",\"Strongly Negative\",\"None\",\"Negative\",\"None\",\"Strongly Positive\",\"Strongly Positive\",\"Negative\",\"None\",\"Positive\",\"Strongly Positive\",\"Strongly Negative\",\"None\",\"None\",\"None\",\"None\",\"None\",\"Strongly Positive\",\"Positive\",\"None\",\"Strongly Positive\",\"None\",\"Strongly Negative\",\"Negative\",\"None\",\"None\",\"Strongly Negative\",\"Neutral\",\"None\",\"Negative\",\"Negative\",\"Strongly Negative\",\"None\",\"Positive\",\"Negative\",\"None\",\"None\",\"Strongly Positive\",\"None\",\"Strongly Positive\",\"None\",\"Positive\",\"None\",\"Neutral\",\"Positive\",\"Strongly Positive\",\"Negative\",\"None\",\"Negative\",\"Strongly Positive\",\"None\",\"None\",\"Neutral\",\"Positive\",\"Positive\",\"Positive\",\"Positive\",\"None\",\"Positive\",\"None\",\"None\",\"Strongly Positive\",\"Neutral\",\"Neutral\",\"Neutral\",\"None\",\"Strongly Negative\",\"None\",\"Strongly Positive\",\"Positive\",\"Strongly Negative\",\"Negative\",\"None\",\"None\",\"Neutral\",\"None\",\"Negative\",\"Negative\",\"Negative\",\"Positive\",\"Strongly Positive\",\"None\",\"None\",\"Neutral\",\"Positive\",\"None\",\"Negative\",\"Strongly Negative\",\"Strongly Positive\",\"Neutral\",\"Neutral\",\"Neutral\",\"None\",\"Positive\",\"Strongly Positive\",\"Strongly Positive\",\"Negative\",\"Strongly Negative\",\"Strongly Positive\",\"Positive\",\"Positive\",\"Positive\",\"Negative\",\"Neutral\",\"None\",\"Positive\",\"None\",\"None\",\"Positive\",\"Strongly Positive\",\"Strongly Negative\",\"Positive\",\"None\",\"None\",\"Positive\",\"None\",\"Negative\",\"None\",\"Positive\",\"Positive\",\"None\",\"Strongly Positive\",\"Negative\",\"Neutral\",\"None\",\"None\",\"None\",\"Negative\",\"Negative\",\"Positive\",\"Positive\",\"Positive\",\"Strongly Negative\",\"Strongly Positive\",\"Neutral\",\"Strongly Negative\",\"Positive\",null,\"Neutral\",\"Positive\",\"Positive\",\"Neutral\",\"Positive\",\"Neutral\",\"Positive\",\"Positive\",\"Positive\",\"Positive\",\"Strongly Positive\",\"Neutral\",\"Neutral\",\"Neutral\",\"Neutral\",\"Neutral\",\"Strongly Positive\",\"Positive\",\"Positive\",\"Neutral\",\"Strongly Positive\",\"Neutral\",\"Positive\",\"Negative\",\"Neutral\",\"Neutral\",\"Neutral\",\"Positive\",\"Positive\",\"Negative\",\"Strongly Positive\",\"Strongly Positive\",\"Neutral\",\"Neutral\",\"Strongly Positive\",\"Neutral\",\"Neutral\",\"Neutral\",\"Strongly Positive\",\"Negative\",\"Positive\",\"Positive\",\"Positive\",\"Strongly Positive\",\"Negative\",\"Neutral\",\"Negative\",\"Positive\",\"Negative\",\"Strongly Positive\",\"Negative\",\"Neutral\",\"Neutral\",\"Positive\",\"Neutral\",\"Negative\",\"Positive\",\"Positive\",\"Negative\",\"Strongly Positive\",\"Strongly Positive\",\"Positive\",\"Strongly Positive\",\"Positive\",\"Neutral\",\"Positive\",\"Positive\",\"Positive\",\"Negative\",null,\"Strongly Positive\",\"Strongly Positive\",\"None\",\"Negative\",\"None\",\"None\",\"Negative\",\"None\",\"Negative\",\"None\",\"None\",\"Negative\",\"Positive\",\"Positive\",\"None\",\"Strongly Negative\",\"Positive\",\"Neutral\",\"Neutral\",\"Negative\",\"None\",\"Neutral\",\"Negative\",\"Negative\",\"Positive\",\"Negative\",\"Negative\",\"None\",\"Positive\",\"None\",\"Strongly Positive\",\"None\",\"None\",\"None\",\"None\",\"Negative\",\"Strongly Negative\",\"None\",\"Strongly Positive\",\"Neutral\",\"Strongly Positive\",\"Positive\",\"Strongly Positive\",\"Negative\",\"Strongly Positive\",\"None\",\"Strongly Positive\",\"None\",\"Negative\",\"Neutral\",\"Negative\",\"Negative\",\"Positive\",\"None\",\"Strongly Positive\",\"Neutral\",\"Negative\",\"None\",\"Strongly Negative\",\"None\",\"Strongly Positive\",\"None\",\"Positive\",\"None\",\"Negative\",\"Positive\",\"Positive\",\"Negative\",\"None\",\"None\",\"Negative\",\"Neutral\",\"Positive\",\"Positive\",\"None\",\"None\",\"Negative\",\"None\",\"None\",\"Strongly Positive\",\"Strongly Positive\",\"Positive\",\"Strongly Negative\",\"None\",\"Neutral\",\"None\",\"Positive\",\"Neutral\",\"None\",\"Positive\",\"Negative\",\"Strongly Positive\",\"None\",\"Neutral\",\"Neutral\",\"Neutral\",\"None\",\"Neutral\",\"Positive\",\"None\",\"Negative\",\"None\",\"Strongly Negative\",\"None\",\"Negative\",\"Negative\",\"Positive\",\"Positive\",\"Strongly Negative\",\"Strongly Negative\",\"Neutral\",\"Neutral\",\"Neutral\",\"Strongly Negative\",\"None\",\"Positive\",\"Neutral\",\"Negative\",\"Positive\",\"Positive\",\"None\",\"Negative\",\"Positive\",\"Positive\",\"Positive\",\"None\",\"Positive\",\"None\",\"None\",\"Negative\",\"Negative\",\"Neutral\",\"Positive\",\"None\",\"Positive\",\"Positive\",\"Positive\",\"Negative\",\"Strongly Positive\",\"None\",\"Strongly Positive\",\"None\",\"Negative\",\"None\",\"Negative\",\"Positive\",\"Negative\",\"None\",\"Strongly Positive\",\"Positive\",\"None\",\"None\",\"None\",\"None\",\"Positive\",\"Strongly Positive\",\"None\",\"None\",\"Positive\",\"None\",\"None\",\"None\",\"None\",\"None\",\"None\",\"Positive\",\"None\",\"None\",\"None\",\"Strongly Positive\",\"None\",\"Strongly Positive\",\"None\",\"None\",\"None\",\"Strongly Positive\",\"Strongly Negative\",\"Neutral\",\"Positive\",\"None\",\"None\",\"Strongly Positive\",\"None\",\"None\",\"Neutral\",\"None\",\"None\",\"None\",\"None\",\"None\",\"None\",\"None\",\"None\",\"Strongly Positive\",\"Neutral\",\"None\",\"None\",\"None\",\"None\",\"None\",\"None\",\"None\",\"None\",\"None\",\"Positive\",\"None\",\"None\",\"None\",\"Negative\",\"None\",\"Positive\",\"Strongly Positive\",\"None\",\"None\",\"None\"],\"xaxis\":\"x\",\"yaxis\":\"y\",\"type\":\"histogram\"},{\"alignmentgroup\":\"True\",\"bingroup\":\"x\",\"hovertemplate\":\"gender=female<br>PosterTone=%{x}<br>count=%{y}<extra></extra>\",\"legendgroup\":\"female\",\"marker\":{\"color\":\"#EF553B\",\"pattern\":{\"shape\":\"\"}},\"name\":\"female\",\"offsetgroup\":\"female\",\"orientation\":\"v\",\"showlegend\":true,\"x\":[\"Neutral\",\"Neutral\",\"Positive\",\"None\",\"Strongly Positive\",\"Strongly Negative\",\"None\",\"None\",\"Strongly Positive\",\"None\",\"None\",\"None\",\"Positive\",\"Positive\",\"Positive\",\"Strongly Positive\",\"Strongly Positive\",\"Positive\",\"Positive\",\"Strongly Negative\",\"Positive\",\"None\",\"Positive\",\"Strongly Positive\",\"Positive\",\"Neutral\",\"Strongly Negative\",\"Negative\",\"Neutral\",\"Neutral\",\"Neutral\",\"Neutral\",\"Strongly Positive\",\"Neutral\",\"Strongly Positive\",\"Strongly Negative\",\"Neutral\",\"Strongly Positive\",\"Neutral\",\"Strongly Negative\",\"Neutral\",\"Negative\",\"Neutral\",\"Negative\",\"Neutral\",\"Neutral\",\"Strongly Positive\",\"Negative\",\"Neutral\",\"Neutral\",\"Strongly Positive\",\"Neutral\",\"Neutral\",\"Strongly Positive\",\"Positive\",\"Neutral\",\"Strongly Positive\",\"Neutral\",\"Negative\",\"Neutral\",\"Positive\",\"Neutral\",\"Neutral\",\"Strongly Positive\",\"Positive\",\"Negative\",\"Strongly Positive\",\"Negative\",\"Strongly Positive\",\"Strongly Positive\",\"Neutral\",\"Strongly Negative\",\"Neutral\",\"Neutral\",\"Neutral\",\"Neutral\",\"Strongly Positive\",\"Strongly Positive\",\"Strongly Positive\",\"Neutral\",\"Positive\",\"Negative\",\"Strongly Positive\",\"Positive\",\"Negative\",\"Strongly Positive\",\"Strongly Positive\",\"Neutral\",\"Strongly Positive\",\"Positive\",\"Negative\",\"Neutral\",\"Neutral\",\"Strongly Positive\",\"Positive\",\"Neutral\",\"Positive\",\"Negative\",\"Positive\",\"Neutral\",\"Neutral\",\"Negative\",\"Negative\",\"Positive\",\"Strongly Negative\",\"Neutral\",\"Positive\",\"Positive\",\"Positive\",\"Positive\",\"Neutral\",\"Strongly Negative\",\"Negative\",\"Positive\",\"Neutral\",\"Positive\",\"Positive\",\"Positive\",\"Negative\",\"Strongly Positive\",\"Strongly Positive\",\"Strongly Positive\",\"Neutral\",\"Positive\",\"Positive\",\"Strongly Positive\",\"Positive\",\"None\",\"Strongly Positive\",\"Strongly Positive\",\"Negative\",\"None\",\"None\",\"Strongly Positive\",\"Strongly Positive\",\"Strongly Positive\",\"Positive\",\"None\",\"None\",\"Strongly Positive\",\"Strongly Positive\",\"None\",\"None\",\"None\",\"Strongly Positive\",\"None\",\"None\",\"Strongly Positive\",\"Strongly Positive\",\"None\",\"Positive\",\"None\",\"Strongly Positive\",\"Positive\",\"None\",\"None\",\"None\",\"None\",\"Positive\",\"None\",\"Strongly Negative\",\"Positive\",\"Neutral\",\"Strongly Positive\",\"None\",\"None\",\"None\",\"Strongly Positive\",\"Neutral\",\"Neutral\",\"None\",\"None\",\"Negative\",\"None\",\"Positive\",\"None\",\"None\",\"Positive\",\"None\",\"None\",\"None\",\"Positive\",\"Strongly Positive\",\"None\",\"None\",\"Positive\",\"Negative\",\"None\",\"Positive\",\"None\",\"Neutral\",\"Positive\",\"Neutral\",\"None\",\"None\",\"None\",\"Strongly Positive\",\"Strongly Positive\",\"Positive\",\"None\",\"None\",\"None\",\"None\",\"Positive\",\"Positive\",\"Positive\",\"Strongly Positive\",\"None\",\"Neutral\",\"None\",\"Positive\",\"Negative\",\"Positive\",\"Positive\",\"None\",\"Strongly Positive\",\"None\",\"Positive\",\"Positive\",\"None\",\"Negative\",\"Positive\",\"Positive\",\"None\",\"None\",\"None\",\"Negative\",\"Positive\",\"None\",\"Positive\",\"Negative\",\"Positive\",\"Positive\",\"Positive\",\"None\",\"Positive\",\"Neutral\",\"None\",\"Strongly Positive\",\"None\",\"None\",\"None\",\"Negative\",\"Positive\",\"Positive\",\"Negative\",\"None\",\"Positive\",\"Positive\",\"Negative\",\"Strongly Positive\",\"Positive\",\"Positive\",\"Positive\",\"Positive\",\"Positive\",\"None\",\"None\",\"None\",\"None\",\"Positive\",\"Neutral\",\"None\",\"None\",\"None\",\"None\",\"None\",\"None\",\"Strongly Positive\",\"None\",\"Negative\",\"Positive\",\"Negative\",\"None\",\"Positive\",\"Strongly Positive\",\"None\",\"Strongly Positive\",\"Negative\",\"None\",\"None\",\"Strongly Positive\",\"None\",\"Negative\",\"None\",\"None\",\"Positive\",\"Strongly Negative\",\"Strongly Positive\",\"Positive\",\"Strongly Positive\",\"None\",\"Positive\",\"Strongly Positive\",\"Negative\",\"Negative\",\"Strongly Positive\",\"Strongly Positive\",\"None\",\"Negative\",\"Positive\",\"Positive\",\"Neutral\",\"Strongly Positive\",\"Strongly Positive\",\"None\",\"Positive\",\"Positive\",\"Positive\",\"Strongly Positive\",\"Positive\",\"Positive\",\"Negative\",\"Strongly Negative\",\"None\",\"Strongly Negative\",\"Positive\",\"Positive\",\"Negative\",\"None\",\"Strongly Positive\",\"None\",\"Positive\",\"None\",\"Neutral\",\"None\",\"Strongly Positive\",\"None\",\"None\",\"Strongly Negative\",\"Strongly Positive\",\"None\",\"Strongly Positive\",\"Strongly Positive\",\"Negative\",\"Positive\",\"None\",\"None\",\"None\",\"None\",\"Strongly Positive\",\"None\",\"None\",\"None\",\"None\",\"None\",\"None\",\"None\",\"None\",\"None\",\"Strongly Negative\",\"None\",\"None\",\"None\",\"Positive\",\"Positive\",\"Positive\",\"Positive\",\"Strongly Positive\",\"Positive\",\"Neutral\",\"Negative\",\"None\",\"None\",\"None\",\"Strongly Positive\",\"Strongly Positive\",\"Strongly Positive\",\"Positive\",\"Strongly Positive\",\"None\",\"Positive\",\"Strongly Negative\",\"Negative\",\"Neutral\",\"None\",\"None\",\"Strongly Negative\",\"None\",\"Positive\",\"Negative\",\"None\",\"None\",\"None\",\"Positive\",\"None\",\"None\",\"Negative\",\"None\",\"None\",\"None\",\"Positive\",\"None\",\"Positive\",\"Strongly Positive\",\"None\",\"Positive\",\"None\",\"Negative\",\"Positive\",\"Positive\",\"None\",\"None\",\"None\",\"Positive\",\"Positive\",\"Strongly Positive\",\"Negative\",\"Negative\",\"Positive\",\"Strongly Negative\",\"Negative\",\"None\",\"None\",\"None\",\"None\",\"None\",\"None\",\"None\",\"Positive\",\"None\",\"None\",\"None\",\"Positive\",\"None\",\"None\",\"None\",\"Positive\",\"None\",\"None\",\"None\",\"None\",\"None\",\"None\",\"None\",\"Positive\",\"None\",\"None\",\"Positive\",\"Negative\",\"None\",\"None\",\"None\",\"None\",\"Positive\",\"Neutral\",\"None\",\"None\",\"None\",\"Strongly Positive\",\"Strongly Positive\",\"Positive\",\"Positive\",\"None\",\"None\",\"None\",\"None\",\"None\",\"Positive\",\"Strongly Positive\",\"None\",\"Negative\",\"None\",\"Strongly Positive\",\"Strongly Negative\",\"Positive\",\"Positive\",\"Positive\",\"Strongly Positive\",\"None\",\"Strongly Positive\",\"None\",\"None\",\"None\",\"None\",\"Positive\",\"Neutral\",\"Negative\",\"Neutral\",\"Strongly Positive\",\"Positive\",\"Positive\",\"Neutral\",\"Positive\",\"Neutral\",\"Neutral\",\"Strongly Positive\",\"Neutral\",\"Positive\",\"Negative\",\"Positive\",\"Neutral\",\"Strongly Positive\",\"Neutral\",\"Strongly Positive\",\"Strongly Positive\",\"Strongly Positive\",\"None\",\"Positive\",\"Positive\",\"None\",\"Positive\",\"None\",\"Negative\",\"None\",\"Strongly Positive\",\"None\",\"None\",\"None\",\"Strongly Positive\",\"None\",\"Strongly Positive\",\"Negative\",\"Negative\",\"None\",\"None\",\"Strongly Positive\",\"None\",\"None\",\"None\",\"Strongly Positive\",\"Strongly Positive\",\"Strongly Positive\",\"Neutral\",\"None\",\"None\",\"Positive\",\"None\",\"None\",\"None\",\"None\",\"None\",\"Positive\",\"None\",\"None\",\"None\",\"Positive\",\"Positive\",\"Negative\",\"None\",\"Positive\",\"Strongly Positive\",\"Negative\",\"Positive\",\"Positive\",\"None\",\"None\",\"None\",\"Positive\",\"Positive\",\"None\",\"Negative\",\"None\",\"Strongly Positive\",\"Positive\",\"Negative\",\"None\",\"None\",\"Positive\",\"None\",\"Negative\",\"None\",\"Strongly Positive\",\"Positive\",\"Neutral\",\"Strongly Positive\",\"Strongly Negative\",\"None\",\"Neutral\",\"Positive\",\"Positive\",\"Strongly Positive\",\"Positive\",\"None\",\"Negative\",\"Strongly Positive\",\"None\",\"Positive\",\"None\",\"None\",\"Negative\",\"Positive\",\"Strongly Negative\",\"Strongly Positive\",\"None\",\"Positive\",\"Strongly Positive\",\"Strongly Positive\",\"None\",\"Negative\",\"None\",\"Negative\",\"None\",\"Neutral\",\"Negative\",\"None\",\"Negative\",\"None\",\"Strongly Positive\",\"Strongly Negative\",\"Strongly Positive\",\"None\",\"Negative\",\"Neutral\",\"Positive\",\"Positive\",\"Positive\",\"Negative\",\"None\",\"Strongly Positive\",\"Positive\",\"Negative\",\"Positive\",\"Positive\",\"Positive\",\"Positive\",\"Negative\",\"Positive\",\"Strongly Positive\",\"Positive\",\"None\",\"Strongly Positive\",\"Negative\",\"Positive\",\"Positive\",\"Negative\",\"Positive\",\"Strongly Positive\",\"Positive\",\"Negative\",\"Positive\",\"Strongly Positive\",\"None\",\"Positive\",\"None\",\"None\",\"Positive\",\"Strongly Positive\",\"Strongly Negative\",\"Strongly Positive\",\"None\",\"Strongly Positive\",\"Positive\",\"Positive\",\"None\",\"Negative\",\"None\",\"Strongly Negative\",\"Neutral\",\"Neutral\",\"Positive\",\"Positive\",\"Positive\",\"None\",\"None\",\"None\",\"None\",\"None\",\"None\",\"Positive\",\"Positive\",\"None\",\"None\",\"None\",\"Positive\",\"None\",\"None\",\"None\",\"None\",\"Positive\",\"None\",\"None\",\"Positive\",\"None\",\"None\",\"None\",\"None\",\"None\",\"None\",\"None\",\"None\"],\"xaxis\":\"x\",\"yaxis\":\"y\",\"type\":\"histogram\"}],                        {\"template\":{\"data\":{\"histogram2dcontour\":[{\"type\":\"histogram2dcontour\",\"colorbar\":{\"outlinewidth\":0,\"ticks\":\"\"},\"colorscale\":[[0.0,\"#0d0887\"],[0.1111111111111111,\"#46039f\"],[0.2222222222222222,\"#7201a8\"],[0.3333333333333333,\"#9c179e\"],[0.4444444444444444,\"#bd3786\"],[0.5555555555555556,\"#d8576b\"],[0.6666666666666666,\"#ed7953\"],[0.7777777777777778,\"#fb9f3a\"],[0.8888888888888888,\"#fdca26\"],[1.0,\"#f0f921\"]]}],\"choropleth\":[{\"type\":\"choropleth\",\"colorbar\":{\"outlinewidth\":0,\"ticks\":\"\"}}],\"histogram2d\":[{\"type\":\"histogram2d\",\"colorbar\":{\"outlinewidth\":0,\"ticks\":\"\"},\"colorscale\":[[0.0,\"#0d0887\"],[0.1111111111111111,\"#46039f\"],[0.2222222222222222,\"#7201a8\"],[0.3333333333333333,\"#9c179e\"],[0.4444444444444444,\"#bd3786\"],[0.5555555555555556,\"#d8576b\"],[0.6666666666666666,\"#ed7953\"],[0.7777777777777778,\"#fb9f3a\"],[0.8888888888888888,\"#fdca26\"],[1.0,\"#f0f921\"]]}],\"heatmap\":[{\"type\":\"heatmap\",\"colorbar\":{\"outlinewidth\":0,\"ticks\":\"\"},\"colorscale\":[[0.0,\"#0d0887\"],[0.1111111111111111,\"#46039f\"],[0.2222222222222222,\"#7201a8\"],[0.3333333333333333,\"#9c179e\"],[0.4444444444444444,\"#bd3786\"],[0.5555555555555556,\"#d8576b\"],[0.6666666666666666,\"#ed7953\"],[0.7777777777777778,\"#fb9f3a\"],[0.8888888888888888,\"#fdca26\"],[1.0,\"#f0f921\"]]}],\"heatmapgl\":[{\"type\":\"heatmapgl\",\"colorbar\":{\"outlinewidth\":0,\"ticks\":\"\"},\"colorscale\":[[0.0,\"#0d0887\"],[0.1111111111111111,\"#46039f\"],[0.2222222222222222,\"#7201a8\"],[0.3333333333333333,\"#9c179e\"],[0.4444444444444444,\"#bd3786\"],[0.5555555555555556,\"#d8576b\"],[0.6666666666666666,\"#ed7953\"],[0.7777777777777778,\"#fb9f3a\"],[0.8888888888888888,\"#fdca26\"],[1.0,\"#f0f921\"]]}],\"contourcarpet\":[{\"type\":\"contourcarpet\",\"colorbar\":{\"outlinewidth\":0,\"ticks\":\"\"}}],\"contour\":[{\"type\":\"contour\",\"colorbar\":{\"outlinewidth\":0,\"ticks\":\"\"},\"colorscale\":[[0.0,\"#0d0887\"],[0.1111111111111111,\"#46039f\"],[0.2222222222222222,\"#7201a8\"],[0.3333333333333333,\"#9c179e\"],[0.4444444444444444,\"#bd3786\"],[0.5555555555555556,\"#d8576b\"],[0.6666666666666666,\"#ed7953\"],[0.7777777777777778,\"#fb9f3a\"],[0.8888888888888888,\"#fdca26\"],[1.0,\"#f0f921\"]]}],\"surface\":[{\"type\":\"surface\",\"colorbar\":{\"outlinewidth\":0,\"ticks\":\"\"},\"colorscale\":[[0.0,\"#0d0887\"],[0.1111111111111111,\"#46039f\"],[0.2222222222222222,\"#7201a8\"],[0.3333333333333333,\"#9c179e\"],[0.4444444444444444,\"#bd3786\"],[0.5555555555555556,\"#d8576b\"],[0.6666666666666666,\"#ed7953\"],[0.7777777777777778,\"#fb9f3a\"],[0.8888888888888888,\"#fdca26\"],[1.0,\"#f0f921\"]]}],\"mesh3d\":[{\"type\":\"mesh3d\",\"colorbar\":{\"outlinewidth\":0,\"ticks\":\"\"}}],\"scatter\":[{\"fillpattern\":{\"fillmode\":\"overlay\",\"size\":10,\"solidity\":0.2},\"type\":\"scatter\"}],\"parcoords\":[{\"type\":\"parcoords\",\"line\":{\"colorbar\":{\"outlinewidth\":0,\"ticks\":\"\"}}}],\"scatterpolargl\":[{\"type\":\"scatterpolargl\",\"marker\":{\"colorbar\":{\"outlinewidth\":0,\"ticks\":\"\"}}}],\"bar\":[{\"error_x\":{\"color\":\"#2a3f5f\"},\"error_y\":{\"color\":\"#2a3f5f\"},\"marker\":{\"line\":{\"color\":\"#E5ECF6\",\"width\":0.5},\"pattern\":{\"fillmode\":\"overlay\",\"size\":10,\"solidity\":0.2}},\"type\":\"bar\"}],\"scattergeo\":[{\"type\":\"scattergeo\",\"marker\":{\"colorbar\":{\"outlinewidth\":0,\"ticks\":\"\"}}}],\"scatterpolar\":[{\"type\":\"scatterpolar\",\"marker\":{\"colorbar\":{\"outlinewidth\":0,\"ticks\":\"\"}}}],\"histogram\":[{\"marker\":{\"pattern\":{\"fillmode\":\"overlay\",\"size\":10,\"solidity\":0.2}},\"type\":\"histogram\"}],\"scattergl\":[{\"type\":\"scattergl\",\"marker\":{\"colorbar\":{\"outlinewidth\":0,\"ticks\":\"\"}}}],\"scatter3d\":[{\"type\":\"scatter3d\",\"line\":{\"colorbar\":{\"outlinewidth\":0,\"ticks\":\"\"}},\"marker\":{\"colorbar\":{\"outlinewidth\":0,\"ticks\":\"\"}}}],\"scattermapbox\":[{\"type\":\"scattermapbox\",\"marker\":{\"colorbar\":{\"outlinewidth\":0,\"ticks\":\"\"}}}],\"scatterternary\":[{\"type\":\"scatterternary\",\"marker\":{\"colorbar\":{\"outlinewidth\":0,\"ticks\":\"\"}}}],\"scattercarpet\":[{\"type\":\"scattercarpet\",\"marker\":{\"colorbar\":{\"outlinewidth\":0,\"ticks\":\"\"}}}],\"carpet\":[{\"aaxis\":{\"endlinecolor\":\"#2a3f5f\",\"gridcolor\":\"white\",\"linecolor\":\"white\",\"minorgridcolor\":\"white\",\"startlinecolor\":\"#2a3f5f\"},\"baxis\":{\"endlinecolor\":\"#2a3f5f\",\"gridcolor\":\"white\",\"linecolor\":\"white\",\"minorgridcolor\":\"white\",\"startlinecolor\":\"#2a3f5f\"},\"type\":\"carpet\"}],\"table\":[{\"cells\":{\"fill\":{\"color\":\"#EBF0F8\"},\"line\":{\"color\":\"white\"}},\"header\":{\"fill\":{\"color\":\"#C8D4E3\"},\"line\":{\"color\":\"white\"}},\"type\":\"table\"}],\"barpolar\":[{\"marker\":{\"line\":{\"color\":\"#E5ECF6\",\"width\":0.5},\"pattern\":{\"fillmode\":\"overlay\",\"size\":10,\"solidity\":0.2}},\"type\":\"barpolar\"}],\"pie\":[{\"automargin\":true,\"type\":\"pie\"}]},\"layout\":{\"autotypenumbers\":\"strict\",\"colorway\":[\"#636efa\",\"#EF553B\",\"#00cc96\",\"#ab63fa\",\"#FFA15A\",\"#19d3f3\",\"#FF6692\",\"#B6E880\",\"#FF97FF\",\"#FECB52\"],\"font\":{\"color\":\"#2a3f5f\"},\"hovermode\":\"closest\",\"hoverlabel\":{\"align\":\"left\"},\"paper_bgcolor\":\"white\",\"plot_bgcolor\":\"#E5ECF6\",\"polar\":{\"bgcolor\":\"#E5ECF6\",\"angularaxis\":{\"gridcolor\":\"white\",\"linecolor\":\"white\",\"ticks\":\"\"},\"radialaxis\":{\"gridcolor\":\"white\",\"linecolor\":\"white\",\"ticks\":\"\"}},\"ternary\":{\"bgcolor\":\"#E5ECF6\",\"aaxis\":{\"gridcolor\":\"white\",\"linecolor\":\"white\",\"ticks\":\"\"},\"baxis\":{\"gridcolor\":\"white\",\"linecolor\":\"white\",\"ticks\":\"\"},\"caxis\":{\"gridcolor\":\"white\",\"linecolor\":\"white\",\"ticks\":\"\"}},\"coloraxis\":{\"colorbar\":{\"outlinewidth\":0,\"ticks\":\"\"}},\"colorscale\":{\"sequential\":[[0.0,\"#0d0887\"],[0.1111111111111111,\"#46039f\"],[0.2222222222222222,\"#7201a8\"],[0.3333333333333333,\"#9c179e\"],[0.4444444444444444,\"#bd3786\"],[0.5555555555555556,\"#d8576b\"],[0.6666666666666666,\"#ed7953\"],[0.7777777777777778,\"#fb9f3a\"],[0.8888888888888888,\"#fdca26\"],[1.0,\"#f0f921\"]],\"sequentialminus\":[[0.0,\"#0d0887\"],[0.1111111111111111,\"#46039f\"],[0.2222222222222222,\"#7201a8\"],[0.3333333333333333,\"#9c179e\"],[0.4444444444444444,\"#bd3786\"],[0.5555555555555556,\"#d8576b\"],[0.6666666666666666,\"#ed7953\"],[0.7777777777777778,\"#fb9f3a\"],[0.8888888888888888,\"#fdca26\"],[1.0,\"#f0f921\"]],\"diverging\":[[0,\"#8e0152\"],[0.1,\"#c51b7d\"],[0.2,\"#de77ae\"],[0.3,\"#f1b6da\"],[0.4,\"#fde0ef\"],[0.5,\"#f7f7f7\"],[0.6,\"#e6f5d0\"],[0.7,\"#b8e186\"],[0.8,\"#7fbc41\"],[0.9,\"#4d9221\"],[1,\"#276419\"]]},\"xaxis\":{\"gridcolor\":\"white\",\"linecolor\":\"white\",\"ticks\":\"\",\"title\":{\"standoff\":15},\"zerolinecolor\":\"white\",\"automargin\":true,\"zerolinewidth\":2},\"yaxis\":{\"gridcolor\":\"white\",\"linecolor\":\"white\",\"ticks\":\"\",\"title\":{\"standoff\":15},\"zerolinecolor\":\"white\",\"automargin\":true,\"zerolinewidth\":2},\"scene\":{\"xaxis\":{\"backgroundcolor\":\"#E5ECF6\",\"gridcolor\":\"white\",\"linecolor\":\"white\",\"showbackground\":true,\"ticks\":\"\",\"zerolinecolor\":\"white\",\"gridwidth\":2},\"yaxis\":{\"backgroundcolor\":\"#E5ECF6\",\"gridcolor\":\"white\",\"linecolor\":\"white\",\"showbackground\":true,\"ticks\":\"\",\"zerolinecolor\":\"white\",\"gridwidth\":2},\"zaxis\":{\"backgroundcolor\":\"#E5ECF6\",\"gridcolor\":\"white\",\"linecolor\":\"white\",\"showbackground\":true,\"ticks\":\"\",\"zerolinecolor\":\"white\",\"gridwidth\":2}},\"shapedefaults\":{\"line\":{\"color\":\"#2a3f5f\"}},\"annotationdefaults\":{\"arrowcolor\":\"#2a3f5f\",\"arrowhead\":0,\"arrowwidth\":1},\"geo\":{\"bgcolor\":\"white\",\"landcolor\":\"#E5ECF6\",\"subunitcolor\":\"white\",\"showland\":true,\"showlakes\":true,\"lakecolor\":\"white\"},\"title\":{\"x\":0.05},\"mapbox\":{\"style\":\"light\"}}},\"xaxis\":{\"anchor\":\"y\",\"domain\":[0.0,1.0],\"title\":{\"text\":\"PosterTone\"}},\"yaxis\":{\"anchor\":\"x\",\"domain\":[0.0,1.0],\"title\":{\"text\":\"count\"}},\"legend\":{\"title\":{\"text\":\"gender\"},\"tracegroupgap\":0},\"margin\":{\"t\":60},\"barmode\":\"relative\"},                        {\"responsive\": true}                    ).then(function(){\n",
       "                            \n",
       "var gd = document.getElementById('4ed78bb8-349e-4442-9507-b64489127296');\n",
       "var x = new MutationObserver(function (mutations, observer) {{\n",
       "        var display = window.getComputedStyle(gd).display;\n",
       "        if (!display || display === 'none') {{\n",
       "            console.log([gd, 'removed!']);\n",
       "            Plotly.purge(gd);\n",
       "            observer.disconnect();\n",
       "        }}\n",
       "}});\n",
       "\n",
       "// Listen for the removal of the full notebook cells\n",
       "var notebookContainer = gd.closest('#notebook-container');\n",
       "if (notebookContainer) {{\n",
       "    x.observe(notebookContainer, {childList: true});\n",
       "}}\n",
       "\n",
       "// Listen for the clearing of the current output cell\n",
       "var outputEl = gd.closest('.output');\n",
       "if (outputEl) {{\n",
       "    x.observe(outputEl, {childList: true});\n",
       "}}\n",
       "\n",
       "                        })                };                });            </script>        </div>"
      ]
     },
     "metadata": {},
     "output_type": "display_data"
    }
   ],
   "source": [
    "fig = px.histogram(agg, x = 'PosterTone', color = 'gender')\n",
    "fig.show()"
   ]
  },
  {
   "cell_type": "markdown",
   "id": "68aa8fff",
   "metadata": {},
   "source": [
    "### Respectful/disresepectful colored by gender"
   ]
  },
  {
   "cell_type": "code",
   "execution_count": 119,
   "id": "ed5747fa",
   "metadata": {},
   "outputs": [
    {
     "data": {
      "application/vnd.plotly.v1+json": {
       "config": {
        "plotlyServerURL": "https://plot.ly"
       },
       "data": [
        {
         "alignmentgroup": "True",
         "bingroup": "x",
         "hovertemplate": "gender=male<br>RespectfulDisrespectful=%{x}<br>count=%{y}<extra></extra>",
         "legendgroup": "male",
         "marker": {
          "color": "#636efa",
          "pattern": {
           "shape": ""
          }
         },
         "name": "male",
         "offsetgroup": "male",
         "orientation": "v",
         "showlegend": true,
         "type": "histogram",
         "x": [
          "Neutral",
          "Neutral",
          "Respectful",
          "Neutral",
          "Neutral",
          "Neutral",
          "Respectful",
          "Neutral",
          "Respectful",
          "Respectful",
          "Neutral",
          "Respectful",
          "Disrespectful",
          "Neutral",
          "Disrespectful",
          "Neutral",
          "Neutral",
          "Respectful",
          "Disrespectful",
          "Neutral",
          "Neutral",
          "Respectful",
          "Neutral",
          "Neutral",
          "Disrespectful",
          "Respectful",
          "Neutral",
          "Neutral",
          "Neutral",
          "Neutral",
          "Respectful",
          "Neutral",
          "Neutral",
          "Neutral",
          "Neutral",
          "Neutral",
          "Neutral",
          "Respectful",
          "Neutral",
          "Respectful",
          "Respectful",
          "Respectful",
          "Neutral",
          "Respectful",
          "Disrespectful",
          "Neutral",
          "Neutral",
          "Neutral",
          "Neutral",
          "Neutral",
          "Neutral",
          "Neutral",
          "Neutral",
          "Neutral",
          "Disrespectful",
          "Neutral",
          "Respectful",
          "Respectful",
          "Disrespectful",
          "Neutral",
          "Neutral",
          "Neutral",
          "Neutral",
          "Neutral",
          "Disrespectful",
          "Neutral",
          "Disrespectful",
          "Neutral",
          "Respectful",
          "Neutral",
          "Neutral",
          "Neutral",
          "Respectful",
          "Neutral",
          "Disrespectful",
          "Disrespectful",
          "Respectful",
          "Neutral",
          "Neutral",
          "Respectful",
          "Respectful",
          "Respectful",
          "Respectful",
          "Respectful",
          "Respectful",
          "Respectful",
          "Disrespectful",
          "Neutral",
          "Respectful",
          "Respectful",
          null,
          "Respectful",
          "Disrespectful",
          "Disrespectful",
          "Neutral",
          "Respectful",
          "Respectful",
          "Respectful",
          null,
          "Respectful",
          "Respectful",
          "Respectful",
          "Respectful",
          "Respectful",
          "Respectful",
          "Respectful",
          "Respectful",
          "Respectful",
          "Respectful",
          "Respectful",
          "Disrespectful",
          "Neutral",
          "Respectful",
          "Neutral",
          "Neutral",
          "Neutral",
          "Respectful",
          "Neutral",
          "Neutral",
          "Respectful",
          "Respectful",
          "Respectful",
          "Respectful",
          "Neutral",
          "Neutral",
          "Respectful",
          "Respectful",
          "Respectful",
          "Respectful",
          "Respectful",
          "Respectful",
          "Neutral",
          "Respectful",
          "Respectful",
          "Respectful",
          "Neutral",
          "Respectful",
          "Respectful",
          "Neutral",
          "Respectful",
          "Respectful",
          "Respectful",
          "Neutral",
          "Neutral",
          "Neutral",
          "Neutral",
          "Neutral",
          "Disrespectful",
          "Neutral",
          "Respectful",
          "Respectful",
          "Respectful",
          "Neutral",
          "Disrespectful",
          "Neutral",
          "Neutral",
          "Respectful",
          "Disrespectful",
          "Respectful",
          "Neutral",
          "Disrespectful",
          "Neutral",
          "Neutral",
          "Neutral",
          "Respectful",
          "Neutral",
          "Disrespectful",
          "Neutral",
          "Neutral",
          "Neutral",
          "Neutral",
          "Respectful",
          "Respectful",
          "Neutral",
          "Neutral",
          "Neutral",
          "Neutral",
          "Respectful",
          "Neutral",
          "Respectful",
          "Neutral",
          "Neutral",
          "Respectful",
          "Disrespectful",
          "Neutral",
          "Respectful",
          "Neutral",
          "Disrespectful",
          "Neutral",
          "Respectful",
          "Neutral",
          "Neutral",
          "Disrespectful",
          "Respectful",
          "Neutral",
          "Disrespectful",
          "Neutral",
          "Neutral",
          "Neutral",
          "Neutral",
          "Disrespectful",
          "Neutral",
          "Respectful",
          "Respectful",
          "Respectful",
          "Disrespectful",
          "Disrespectful",
          "Respectful",
          "Respectful",
          "Respectful",
          "Neutral",
          "Neutral",
          "Disrespectful",
          "Neutral",
          "Neutral",
          "Respectful",
          "Respectful",
          "Neutral",
          "Neutral",
          "Neutral",
          "Neutral",
          "Neutral",
          "Neutral",
          "Neutral",
          "Neutral",
          "Neutral",
          "Neutral",
          "Disrespectful",
          "Respectful",
          "Respectful",
          "Respectful",
          "Neutral",
          "Respectful",
          "Respectful",
          "Disrespectful",
          "Disrespectful",
          "Disrespectful",
          "Neutral",
          "Disrespectful",
          "Respectful",
          "Disrespectful",
          "Respectful",
          "Neutral",
          "Disrespectful",
          "Respectful",
          "Respectful",
          "Disrespectful",
          "Disrespectful",
          "Neutral",
          "Respectful",
          "Neutral",
          "Respectful",
          "Disrespectful",
          "Respectful",
          "Respectful",
          "Disrespectful",
          "Respectful",
          "Respectful",
          "Disrespectful",
          "Respectful",
          "Disrespectful",
          "Respectful",
          "Neutral",
          "Neutral",
          "Disrespectful",
          "Disrespectful",
          "Disrespectful",
          "Respectful",
          "Neutral",
          "Respectful",
          "Respectful",
          "Disrespectful",
          "Respectful",
          "Respectful",
          "Disrespectful",
          "Respectful",
          "Respectful",
          "Respectful",
          "Respectful",
          "Respectful",
          "Disrespectful",
          "Disrespectful",
          "Respectful",
          "Respectful",
          "Disrespectful",
          "Neutral",
          "Disrespectful",
          "Neutral",
          "Respectful",
          "Disrespectful",
          "Disrespectful",
          "Disrespectful",
          "Respectful",
          "Respectful",
          "Neutral",
          "Respectful",
          "Disrespectful",
          "Neutral",
          "Neutral",
          "Respectful",
          "Disrespectful",
          "Neutral",
          "Disrespectful",
          "Respectful",
          "Respectful",
          "Respectful",
          "Respectful",
          "Respectful",
          "Respectful",
          "Respectful",
          "Disrespectful",
          "Neutral",
          "Disrespectful",
          "Respectful",
          "Disrespectful",
          "Disrespectful",
          "Respectful",
          "Disrespectful",
          "Neutral",
          "Respectful",
          "Neutral",
          "Disrespectful",
          "Neutral",
          "Neutral",
          "Disrespectful",
          "Disrespectful",
          "Neutral",
          "Neutral",
          "Disrespectful",
          "Disrespectful",
          "Disrespectful",
          "Neutral",
          "Respectful",
          "Neutral",
          "Neutral",
          "Neutral",
          "Respectful",
          "Neutral",
          "Respectful",
          "Disrespectful",
          "Neutral",
          "Neutral",
          "Disrespectful",
          "Neutral",
          "Respectful",
          "Neutral",
          "Neutral",
          "Neutral",
          "Respectful",
          "Neutral",
          "Neutral",
          "Neutral",
          "Neutral",
          "Respectful",
          "Neutral",
          "Neutral",
          "Neutral",
          "Neutral",
          "Neutral",
          "Neutral",
          "Respectful",
          "Neutral",
          "Neutral",
          "Respectful",
          "Neutral",
          "Disrespectful",
          "Respectful",
          "Respectful",
          "Neutral",
          "Disrespectful",
          "Disrespectful",
          "Neutral",
          "Respectful",
          "Neutral",
          "Neutral",
          "Disrespectful",
          "Neutral",
          "Disrespectful",
          "Respectful",
          "Respectful",
          "Neutral",
          "Respectful",
          "Respectful",
          "Respectful",
          "Neutral",
          "Disrespectful",
          "Disrespectful",
          "Respectful",
          "Disrespectful",
          "Neutral",
          "Respectful",
          "Neutral",
          "Neutral",
          "Respectful",
          "Neutral",
          "Disrespectful",
          "Disrespectful",
          "Respectful",
          "Neutral",
          "Neutral",
          "Neutral",
          "Neutral",
          "Neutral",
          "Neutral",
          "Neutral",
          "Neutral",
          "Neutral",
          "Neutral",
          "Neutral",
          "Disrespectful",
          "Neutral",
          "Respectful",
          "Neutral",
          "Neutral",
          "Respectful",
          "Neutral",
          "Respectful",
          "Neutral",
          "Neutral",
          "Neutral",
          "Respectful",
          "Disrespectful",
          "Neutral",
          "Neutral",
          "Neutral",
          "Disrespectful",
          "Disrespectful",
          "Disrespectful",
          "Neutral",
          "Neutral",
          "Neutral",
          "Neutral",
          "Neutral",
          "Neutral",
          "Disrespectful",
          "Neutral",
          "Neutral",
          "Neutral",
          "Neutral",
          "Neutral",
          "Neutral",
          "Neutral",
          "Neutral",
          "Neutral",
          null,
          "Neutral",
          "Neutral",
          "Neutral",
          "Neutral",
          "Neutral",
          null,
          "Disrespectful",
          "Neutral",
          "Neutral",
          "Neutral",
          "Neutral",
          "Neutral",
          "Neutral",
          "Neutral",
          "Neutral",
          "Neutral",
          "Neutral",
          "Neutral",
          "Neutral",
          "Neutral",
          "Neutral",
          "Neutral",
          "Neutral",
          "Neutral",
          "Neutral",
          "Neutral",
          "Neutral",
          "Neutral",
          "Neutral",
          "Neutral",
          "Neutral",
          "Neutral",
          "Neutral",
          "Neutral",
          "Neutral",
          "Neutral",
          "Neutral",
          "Neutral",
          "Neutral",
          "Neutral",
          "Neutral",
          "Neutral",
          "Neutral",
          "Neutral",
          "Neutral",
          "Neutral",
          "Neutral",
          "Neutral",
          "Neutral",
          "Neutral",
          "Neutral",
          null,
          "Neutral",
          "Neutral",
          "Neutral",
          "Neutral",
          "Neutral",
          "Neutral",
          "Neutral",
          "Neutral",
          "Neutral",
          "Neutral",
          "Neutral",
          "Neutral",
          "Neutral",
          "Disrespectful",
          "Disrespectful",
          "Neutral",
          "Respectful",
          "Respectful",
          "Neutral",
          "Neutral",
          "Neutral",
          "Neutral",
          "Respectful",
          "Respectful",
          "Disrespectful",
          "Disrespectful",
          "Neutral",
          "Respectful",
          "Respectful",
          "Neutral",
          "Neutral",
          "Respectful",
          "Respectful",
          "Respectful",
          "Respectful",
          "Respectful",
          "Neutral",
          "Disrespectful",
          "Respectful",
          "Respectful",
          "Neutral",
          "Respectful",
          "Neutral",
          "Respectful",
          "Neutral",
          "Respectful",
          "Disrespectful",
          "Neutral",
          "Neutral",
          "Respectful",
          "Neutral",
          "Neutral",
          "Neutral",
          "Respectful",
          "Respectful",
          "Respectful",
          "Respectful",
          "Respectful",
          "Neutral",
          "Respectful",
          "Neutral",
          "Neutral",
          "Respectful",
          "Respectful",
          "Neutral",
          "Neutral",
          "Neutral",
          "Neutral",
          "Disrespectful",
          "Respectful",
          "Neutral",
          "Neutral",
          "Neutral",
          "Respectful",
          "Respectful",
          "Respectful",
          "Neutral",
          "Disrespectful",
          "Neutral",
          "Neutral",
          "Neutral",
          "Neutral",
          "Respectful",
          "Respectful",
          "Disrespectful",
          "Neutral",
          "Respectful",
          "Neutral",
          "Neutral",
          "Respectful",
          "Respectful",
          "Respectful",
          "Disrespectful",
          "Neutral",
          "Neutral",
          "Neutral",
          "Respectful",
          "Respectful",
          "Neutral",
          "Respectful",
          "Neutral",
          "Neutral",
          "Neutral",
          "Neutral",
          "Neutral",
          "Respectful",
          "Neutral",
          "Disrespectful",
          "Disrespectful",
          "Neutral",
          "Disrespectful",
          "Respectful",
          "Respectful",
          "Respectful",
          "Neutral",
          "Disrespectful",
          "Respectful",
          "Respectful",
          "Disrespectful",
          "Disrespectful",
          "Neutral",
          "Neutral",
          "Respectful",
          "Disrespectful",
          "Respectful",
          "Respectful",
          "Respectful",
          "Respectful",
          "Respectful",
          "Respectful",
          "Neutral",
          "Respectful",
          "Respectful",
          "Respectful",
          "Respectful",
          "Neutral",
          "Respectful",
          "Respectful",
          "Respectful",
          "Neutral",
          "Disrespectful",
          "Neutral",
          "Respectful",
          "Neutral",
          "Neutral",
          "Respectful",
          "Respectful",
          "Neutral",
          "Respectful",
          "Neutral",
          "Respectful",
          "Neutral",
          "Neutral",
          "Respectful",
          "Neutral",
          "Respectful",
          "Neutral",
          "Neutral",
          "Respectful",
          "Respectful",
          "Neutral",
          "Neutral",
          "Neutral",
          "Respectful",
          "Neutral",
          "Respectful",
          "Neutral",
          "Neutral",
          "Disrespectful",
          "Neutral",
          "Neutral",
          "Neutral",
          "Neutral",
          "Neutral",
          "Neutral",
          "Neutral",
          "Neutral",
          "Neutral",
          "Neutral",
          "Neutral",
          "Neutral",
          "Neutral",
          "Neutral",
          "Disrespectful",
          "Neutral",
          "Respectful",
          "Disrespectful",
          "Neutral",
          "Neutral",
          "Neutral",
          "Neutral",
          "Respectful",
          "Neutral",
          "Neutral",
          "Respectful",
          "Respectful",
          "Neutral",
          "Neutral",
          "Respectful",
          "Neutral",
          "Disrespectful",
          "Neutral",
          "Neutral",
          "Neutral",
          "Respectful",
          "Neutral",
          "Disrespectful",
          "Disrespectful",
          "Neutral",
          "Neutral",
          "Neutral",
          "Neutral",
          "Neutral",
          "Disrespectful",
          "Respectful",
          "Neutral",
          "Neutral",
          "Neutral",
          "Neutral",
          "Disrespectful",
          "Respectful",
          "Respectful",
          "Respectful",
          "Neutral",
          "Disrespectful"
         ],
         "xaxis": "x",
         "yaxis": "y"
        },
        {
         "alignmentgroup": "True",
         "bingroup": "x",
         "hovertemplate": "gender=female<br>RespectfulDisrespectful=%{x}<br>count=%{y}<extra></extra>",
         "legendgroup": "female",
         "marker": {
          "color": "#EF553B",
          "pattern": {
           "shape": ""
          }
         },
         "name": "female",
         "offsetgroup": "female",
         "orientation": "v",
         "showlegend": true,
         "type": "histogram",
         "x": [
          "Neutral",
          "Neutral",
          "Neutral",
          "Neutral",
          "Respectful",
          "Disrespectful",
          "Neutral",
          "Neutral",
          "Respectful",
          "Neutral",
          "Disrespectful",
          "Neutral",
          "Respectful",
          "Respectful",
          "Neutral",
          "Respectful",
          "Respectful",
          "Disrespectful",
          "Neutral",
          "Disrespectful",
          "Respectful",
          "Neutral",
          "Respectful",
          "Disrespectful",
          "Respectful",
          "Respectful",
          "Neutral",
          "Neutral",
          "Respectful",
          "Neutral",
          "Respectful",
          "Neutral",
          "Respectful",
          "Neutral",
          "Respectful",
          "Disrespectful",
          "Respectful",
          "Respectful",
          "Respectful",
          "Disrespectful",
          "Neutral",
          "Neutral",
          "Neutral",
          "Neutral",
          "Respectful",
          "Respectful",
          "Respectful",
          "Disrespectful",
          "Respectful",
          "Respectful",
          "Respectful",
          "Respectful",
          "Respectful",
          "Respectful",
          "Respectful",
          "Respectful",
          "Respectful",
          "Respectful",
          "Disrespectful",
          "Respectful",
          "Respectful",
          "Neutral",
          "Respectful",
          "Respectful",
          "Respectful",
          "Neutral",
          "Respectful",
          "Respectful",
          "Respectful",
          "Respectful",
          "Disrespectful",
          "Disrespectful",
          "Respectful",
          "Respectful",
          "Respectful",
          "Respectful",
          "Respectful",
          "Respectful",
          "Respectful",
          "Respectful",
          "Respectful",
          "Disrespectful",
          "Respectful",
          "Respectful",
          "Respectful",
          "Respectful",
          "Respectful",
          "Respectful",
          "Respectful",
          "Respectful",
          "Respectful",
          "Respectful",
          "Respectful",
          "Respectful",
          "Respectful",
          "Respectful",
          "Respectful",
          "Respectful",
          "Respectful",
          "Respectful",
          "Respectful",
          "Disrespectful",
          "Disrespectful",
          "Respectful",
          "Disrespectful",
          "Respectful",
          "Respectful",
          "Respectful",
          "Respectful",
          "Respectful",
          "Respectful",
          "Disrespectful",
          "Disrespectful",
          "Respectful",
          "Respectful",
          "Respectful",
          "Respectful",
          "Respectful",
          "Respectful",
          "Respectful",
          "Respectful",
          "Respectful",
          "Disrespectful",
          "Neutral",
          "Respectful",
          "Respectful",
          "Neutral",
          null,
          "Respectful",
          "Respectful",
          "Neutral",
          "Respectful",
          "Respectful",
          "Respectful",
          "Respectful",
          "Respectful",
          "Respectful",
          "Disrespectful",
          "Respectful",
          "Respectful",
          "Respectful",
          "Neutral",
          "Neutral",
          "Respectful",
          "Respectful",
          "Neutral",
          "Respectful",
          "Respectful",
          "Respectful",
          "Respectful",
          "Respectful",
          "Respectful",
          "Neutral",
          "Neutral",
          "Respectful",
          "Disrespectful",
          "Neutral",
          "Respectful",
          "Neutral",
          "Neutral",
          "Disrespectful",
          "Neutral",
          "Neutral",
          "Respectful",
          "Neutral",
          "Neutral",
          "Respectful",
          "Neutral",
          "Neutral",
          "Neutral",
          "Neutral",
          "Respectful",
          "Neutral",
          "Respectful",
          "Respectful",
          "Respectful",
          "Respectful",
          "Respectful",
          "Respectful",
          "Respectful",
          "Respectful",
          "Respectful",
          "Respectful",
          "Respectful",
          "Respectful",
          "Respectful",
          "Disrespectful",
          "Respectful",
          "Respectful",
          "Respectful",
          "Disrespectful",
          "Respectful",
          "Neutral",
          "Respectful",
          "Neutral",
          "Respectful",
          "Respectful",
          "Respectful",
          "Respectful",
          "Respectful",
          "Respectful",
          "Respectful",
          "Disrespectful",
          "Respectful",
          "Respectful",
          "Respectful",
          "Respectful",
          "Respectful",
          "Neutral",
          "Neutral",
          "Respectful",
          "Disrespectful",
          "Neutral",
          "Respectful",
          "Respectful",
          "Respectful",
          "Respectful",
          "Respectful",
          "Respectful",
          "Respectful",
          "Respectful",
          "Respectful",
          "Respectful",
          "Respectful",
          "Respectful",
          "Respectful",
          "Disrespectful",
          "Respectful",
          "Respectful",
          "Respectful",
          "Disrespectful",
          "Disrespectful",
          "Respectful",
          "Respectful",
          "Respectful",
          "Respectful",
          "Respectful",
          "Respectful",
          "Respectful",
          "Respectful",
          "Respectful",
          "Respectful",
          "Neutral",
          "Respectful",
          "Respectful",
          "Disrespectful",
          "Respectful",
          "Respectful",
          "Respectful",
          "Disrespectful",
          "Respectful",
          "Respectful",
          "Respectful",
          "Respectful",
          "Respectful",
          "Respectful",
          "Respectful",
          "Respectful",
          "Respectful",
          "Respectful",
          "Respectful",
          "Neutral",
          "Respectful",
          "Respectful",
          "Respectful",
          "Respectful",
          "Respectful",
          "Respectful",
          "Respectful",
          "Respectful",
          "Neutral",
          "Respectful",
          "Respectful",
          "Neutral",
          "Respectful",
          "Respectful",
          "Respectful",
          "Respectful",
          "Neutral",
          "Neutral",
          "Respectful",
          "Respectful",
          "Neutral",
          "Neutral",
          "Neutral",
          "Respectful",
          "Respectful",
          "Disrespectful",
          "Respectful",
          "Neutral",
          "Respectful",
          "Neutral",
          "Respectful",
          "Respectful",
          "Disrespectful",
          "Disrespectful",
          "Respectful",
          "Respectful",
          "Neutral",
          "Neutral",
          "Respectful",
          "Respectful",
          "Neutral",
          "Respectful",
          "Respectful",
          "Neutral",
          "Respectful",
          "Disrespectful",
          "Respectful",
          "Respectful",
          "Respectful",
          "Respectful",
          "Respectful",
          "Disrespectful",
          "Neutral",
          "Disrespectful",
          "Respectful",
          "Respectful",
          "Disrespectful",
          "Neutral",
          "Respectful",
          "Disrespectful",
          "Respectful",
          "Respectful",
          "Neutral",
          "Disrespectful",
          "Respectful",
          "Neutral",
          "Neutral",
          "Disrespectful",
          "Respectful",
          "Disrespectful",
          "Respectful",
          "Respectful",
          "Disrespectful",
          "Respectful",
          "Neutral",
          "Neutral",
          "Respectful",
          "Neutral",
          "Respectful",
          "Neutral",
          "Neutral",
          "Neutral",
          "Respectful",
          "Neutral",
          "Disrespectful",
          "Neutral",
          "Neutral",
          "Respectful",
          "Disrespectful",
          "Respectful",
          "Neutral",
          "Neutral",
          "Neutral",
          "Neutral",
          "Respectful",
          "Respectful",
          "Respectful",
          "Neutral",
          "Neutral",
          "Disrespectful",
          "Neutral",
          "Neutral",
          "Respectful",
          "Neutral",
          "Respectful",
          "Respectful",
          "Neutral",
          "Respectful",
          "Neutral",
          "Respectful",
          "Disrespectful",
          "Disrespectful",
          "Disrespectful",
          "Neutral",
          "Respectful",
          "Disrespectful",
          "Respectful",
          "Respectful",
          "Disrespectful",
          "Respectful",
          "Neutral",
          "Neutral",
          "Respectful",
          "Neutral",
          "Respectful",
          "Neutral",
          "Respectful",
          "Respectful",
          "Respectful",
          "Respectful",
          "Respectful",
          "Respectful",
          "Respectful",
          "Neutral",
          "Neutral",
          "Respectful",
          "Respectful",
          "Respectful",
          "Respectful",
          "Neutral",
          "Respectful",
          "Neutral",
          "Respectful",
          "Respectful",
          "Respectful",
          "Neutral",
          "Neutral",
          "Respectful",
          "Disrespectful",
          "Neutral",
          "Respectful",
          "Respectful",
          "Respectful",
          "Respectful",
          "Respectful",
          "Respectful",
          "Neutral",
          "Respectful",
          "Neutral",
          "Respectful",
          "Respectful",
          "Respectful",
          "Respectful",
          "Respectful",
          "Disrespectful",
          "Respectful",
          "Respectful",
          "Respectful",
          "Respectful",
          "Neutral",
          "Respectful",
          "Respectful",
          "Respectful",
          "Respectful",
          "Neutral",
          "Respectful",
          "Respectful",
          "Disrespectful",
          "Respectful",
          "Respectful",
          "Respectful",
          "Neutral",
          "Respectful",
          "Neutral",
          "Respectful",
          "Respectful",
          "Respectful",
          "Respectful",
          "Respectful",
          "Respectful",
          "Respectful",
          "Neutral",
          "Neutral",
          "Disrespectful",
          "Respectful",
          "Respectful",
          "Respectful",
          "Respectful",
          "Respectful",
          "Neutral",
          "Disrespectful",
          "Respectful",
          "Neutral",
          "Respectful",
          "Respectful",
          "Respectful",
          "Respectful",
          "Respectful",
          "Respectful",
          "Respectful",
          "Respectful",
          "Respectful",
          "Respectful",
          "Neutral",
          "Neutral",
          "Neutral",
          "Neutral",
          "Neutral",
          "Neutral",
          "Neutral",
          "Neutral",
          "Neutral",
          "Neutral",
          "Neutral",
          "Neutral",
          "Neutral",
          null,
          "Neutral",
          "Neutral",
          "Neutral",
          "Neutral",
          "Neutral",
          "Respectful",
          "Respectful",
          "Respectful",
          "Disrespectful",
          "Respectful",
          "Respectful",
          "Disrespectful",
          "Respectful",
          "Disrespectful",
          "Neutral",
          "Disrespectful",
          "Respectful",
          "Disrespectful",
          "Disrespectful",
          "Disrespectful",
          "Respectful",
          "Disrespectful",
          "Respectful",
          "Neutral",
          "Disrespectful",
          "Disrespectful",
          "Disrespectful",
          "Respectful",
          "Disrespectful",
          "Neutral",
          "Neutral",
          "Respectful",
          "Respectful",
          "Respectful",
          "Neutral",
          "Neutral",
          "Neutral",
          "Respectful",
          "Neutral",
          "Neutral",
          "Disrespectful",
          "Respectful",
          "Respectful",
          "Respectful",
          "Neutral",
          "Neutral",
          "Neutral",
          "Neutral",
          "Respectful",
          "Neutral",
          "Disrespectful",
          "Respectful",
          "Respectful",
          "Disrespectful",
          "Respectful",
          "Respectful",
          "Neutral",
          "Neutral",
          "Neutral",
          "Respectful",
          "Respectful",
          "Respectful",
          "Disrespectful",
          "Neutral",
          "Respectful",
          "Respectful",
          "Disrespectful",
          "Neutral",
          "Respectful",
          "Respectful",
          "Respectful",
          "Disrespectful",
          "Respectful",
          "Respectful",
          "Respectful",
          "Neutral",
          "Respectful",
          "Disrespectful",
          "Neutral",
          "Respectful",
          "Respectful",
          "Respectful",
          "Respectful",
          "Respectful",
          "Neutral",
          "Neutral",
          "Respectful",
          "Neutral",
          "Respectful",
          "Neutral",
          "Neutral",
          "Neutral",
          "Respectful",
          "Disrespectful",
          "Respectful",
          "Neutral",
          "Respectful",
          "Respectful",
          "Respectful",
          "Neutral",
          "Neutral",
          "Neutral",
          "Disrespectful",
          "Neutral",
          "Neutral",
          "Neutral",
          "Neutral",
          "Neutral",
          "Neutral",
          "Respectful",
          "Disrespectful",
          "Respectful",
          "Neutral",
          "Neutral",
          "Neutral",
          "Respectful",
          "Respectful",
          "Respectful",
          "Disrespectful",
          "Neutral",
          "Respectful",
          "Respectful",
          "Neutral",
          "Respectful",
          "Respectful",
          "Respectful",
          "Respectful",
          "Disrespectful",
          "Respectful",
          "Respectful",
          "Respectful",
          "Disrespectful",
          "Respectful",
          "Disrespectful",
          "Neutral",
          "Neutral",
          "Neutral",
          "Respectful",
          "Respectful",
          "Respectful",
          "Neutral",
          "Neutral",
          "Respectful",
          "Respectful",
          "Respectful",
          "Respectful",
          "Respectful",
          "Respectful",
          "Respectful",
          "Disrespectful",
          "Respectful",
          "Disrespectful",
          "Respectful",
          "Respectful",
          "Respectful",
          "Respectful",
          "Neutral",
          "Respectful",
          "Disrespectful",
          "Respectful",
          "Respectful",
          "Respectful",
          "Neutral",
          "Respectful",
          "Respectful",
          "Respectful",
          "Respectful",
          "Disrespectful",
          "Neutral",
          "Neutral",
          "Neutral",
          "Respectful",
          "Neutral",
          "Respectful",
          "Neutral",
          "Respectful",
          "Disrespectful",
          "Neutral",
          "Neutral",
          "Respectful",
          "Neutral",
          "Disrespectful",
          "Neutral",
          "Neutral",
          "Neutral",
          "Neutral",
          "Neutral",
          "Respectful",
          "Neutral",
          "Respectful",
          "Neutral",
          "Neutral"
         ],
         "xaxis": "x",
         "yaxis": "y"
        }
       ],
       "layout": {
        "barmode": "relative",
        "legend": {
         "title": {
          "text": "gender"
         },
         "tracegroupgap": 0
        },
        "margin": {
         "t": 60
        },
        "template": {
         "data": {
          "bar": [
           {
            "error_x": {
             "color": "#2a3f5f"
            },
            "error_y": {
             "color": "#2a3f5f"
            },
            "marker": {
             "line": {
              "color": "#E5ECF6",
              "width": 0.5
             },
             "pattern": {
              "fillmode": "overlay",
              "size": 10,
              "solidity": 0.2
             }
            },
            "type": "bar"
           }
          ],
          "barpolar": [
           {
            "marker": {
             "line": {
              "color": "#E5ECF6",
              "width": 0.5
             },
             "pattern": {
              "fillmode": "overlay",
              "size": 10,
              "solidity": 0.2
             }
            },
            "type": "barpolar"
           }
          ],
          "carpet": [
           {
            "aaxis": {
             "endlinecolor": "#2a3f5f",
             "gridcolor": "white",
             "linecolor": "white",
             "minorgridcolor": "white",
             "startlinecolor": "#2a3f5f"
            },
            "baxis": {
             "endlinecolor": "#2a3f5f",
             "gridcolor": "white",
             "linecolor": "white",
             "minorgridcolor": "white",
             "startlinecolor": "#2a3f5f"
            },
            "type": "carpet"
           }
          ],
          "choropleth": [
           {
            "colorbar": {
             "outlinewidth": 0,
             "ticks": ""
            },
            "type": "choropleth"
           }
          ],
          "contour": [
           {
            "colorbar": {
             "outlinewidth": 0,
             "ticks": ""
            },
            "colorscale": [
             [
              0,
              "#0d0887"
             ],
             [
              0.1111111111111111,
              "#46039f"
             ],
             [
              0.2222222222222222,
              "#7201a8"
             ],
             [
              0.3333333333333333,
              "#9c179e"
             ],
             [
              0.4444444444444444,
              "#bd3786"
             ],
             [
              0.5555555555555556,
              "#d8576b"
             ],
             [
              0.6666666666666666,
              "#ed7953"
             ],
             [
              0.7777777777777778,
              "#fb9f3a"
             ],
             [
              0.8888888888888888,
              "#fdca26"
             ],
             [
              1,
              "#f0f921"
             ]
            ],
            "type": "contour"
           }
          ],
          "contourcarpet": [
           {
            "colorbar": {
             "outlinewidth": 0,
             "ticks": ""
            },
            "type": "contourcarpet"
           }
          ],
          "heatmap": [
           {
            "colorbar": {
             "outlinewidth": 0,
             "ticks": ""
            },
            "colorscale": [
             [
              0,
              "#0d0887"
             ],
             [
              0.1111111111111111,
              "#46039f"
             ],
             [
              0.2222222222222222,
              "#7201a8"
             ],
             [
              0.3333333333333333,
              "#9c179e"
             ],
             [
              0.4444444444444444,
              "#bd3786"
             ],
             [
              0.5555555555555556,
              "#d8576b"
             ],
             [
              0.6666666666666666,
              "#ed7953"
             ],
             [
              0.7777777777777778,
              "#fb9f3a"
             ],
             [
              0.8888888888888888,
              "#fdca26"
             ],
             [
              1,
              "#f0f921"
             ]
            ],
            "type": "heatmap"
           }
          ],
          "heatmapgl": [
           {
            "colorbar": {
             "outlinewidth": 0,
             "ticks": ""
            },
            "colorscale": [
             [
              0,
              "#0d0887"
             ],
             [
              0.1111111111111111,
              "#46039f"
             ],
             [
              0.2222222222222222,
              "#7201a8"
             ],
             [
              0.3333333333333333,
              "#9c179e"
             ],
             [
              0.4444444444444444,
              "#bd3786"
             ],
             [
              0.5555555555555556,
              "#d8576b"
             ],
             [
              0.6666666666666666,
              "#ed7953"
             ],
             [
              0.7777777777777778,
              "#fb9f3a"
             ],
             [
              0.8888888888888888,
              "#fdca26"
             ],
             [
              1,
              "#f0f921"
             ]
            ],
            "type": "heatmapgl"
           }
          ],
          "histogram": [
           {
            "marker": {
             "pattern": {
              "fillmode": "overlay",
              "size": 10,
              "solidity": 0.2
             }
            },
            "type": "histogram"
           }
          ],
          "histogram2d": [
           {
            "colorbar": {
             "outlinewidth": 0,
             "ticks": ""
            },
            "colorscale": [
             [
              0,
              "#0d0887"
             ],
             [
              0.1111111111111111,
              "#46039f"
             ],
             [
              0.2222222222222222,
              "#7201a8"
             ],
             [
              0.3333333333333333,
              "#9c179e"
             ],
             [
              0.4444444444444444,
              "#bd3786"
             ],
             [
              0.5555555555555556,
              "#d8576b"
             ],
             [
              0.6666666666666666,
              "#ed7953"
             ],
             [
              0.7777777777777778,
              "#fb9f3a"
             ],
             [
              0.8888888888888888,
              "#fdca26"
             ],
             [
              1,
              "#f0f921"
             ]
            ],
            "type": "histogram2d"
           }
          ],
          "histogram2dcontour": [
           {
            "colorbar": {
             "outlinewidth": 0,
             "ticks": ""
            },
            "colorscale": [
             [
              0,
              "#0d0887"
             ],
             [
              0.1111111111111111,
              "#46039f"
             ],
             [
              0.2222222222222222,
              "#7201a8"
             ],
             [
              0.3333333333333333,
              "#9c179e"
             ],
             [
              0.4444444444444444,
              "#bd3786"
             ],
             [
              0.5555555555555556,
              "#d8576b"
             ],
             [
              0.6666666666666666,
              "#ed7953"
             ],
             [
              0.7777777777777778,
              "#fb9f3a"
             ],
             [
              0.8888888888888888,
              "#fdca26"
             ],
             [
              1,
              "#f0f921"
             ]
            ],
            "type": "histogram2dcontour"
           }
          ],
          "mesh3d": [
           {
            "colorbar": {
             "outlinewidth": 0,
             "ticks": ""
            },
            "type": "mesh3d"
           }
          ],
          "parcoords": [
           {
            "line": {
             "colorbar": {
              "outlinewidth": 0,
              "ticks": ""
             }
            },
            "type": "parcoords"
           }
          ],
          "pie": [
           {
            "automargin": true,
            "type": "pie"
           }
          ],
          "scatter": [
           {
            "fillpattern": {
             "fillmode": "overlay",
             "size": 10,
             "solidity": 0.2
            },
            "type": "scatter"
           }
          ],
          "scatter3d": [
           {
            "line": {
             "colorbar": {
              "outlinewidth": 0,
              "ticks": ""
             }
            },
            "marker": {
             "colorbar": {
              "outlinewidth": 0,
              "ticks": ""
             }
            },
            "type": "scatter3d"
           }
          ],
          "scattercarpet": [
           {
            "marker": {
             "colorbar": {
              "outlinewidth": 0,
              "ticks": ""
             }
            },
            "type": "scattercarpet"
           }
          ],
          "scattergeo": [
           {
            "marker": {
             "colorbar": {
              "outlinewidth": 0,
              "ticks": ""
             }
            },
            "type": "scattergeo"
           }
          ],
          "scattergl": [
           {
            "marker": {
             "colorbar": {
              "outlinewidth": 0,
              "ticks": ""
             }
            },
            "type": "scattergl"
           }
          ],
          "scattermapbox": [
           {
            "marker": {
             "colorbar": {
              "outlinewidth": 0,
              "ticks": ""
             }
            },
            "type": "scattermapbox"
           }
          ],
          "scatterpolar": [
           {
            "marker": {
             "colorbar": {
              "outlinewidth": 0,
              "ticks": ""
             }
            },
            "type": "scatterpolar"
           }
          ],
          "scatterpolargl": [
           {
            "marker": {
             "colorbar": {
              "outlinewidth": 0,
              "ticks": ""
             }
            },
            "type": "scatterpolargl"
           }
          ],
          "scatterternary": [
           {
            "marker": {
             "colorbar": {
              "outlinewidth": 0,
              "ticks": ""
             }
            },
            "type": "scatterternary"
           }
          ],
          "surface": [
           {
            "colorbar": {
             "outlinewidth": 0,
             "ticks": ""
            },
            "colorscale": [
             [
              0,
              "#0d0887"
             ],
             [
              0.1111111111111111,
              "#46039f"
             ],
             [
              0.2222222222222222,
              "#7201a8"
             ],
             [
              0.3333333333333333,
              "#9c179e"
             ],
             [
              0.4444444444444444,
              "#bd3786"
             ],
             [
              0.5555555555555556,
              "#d8576b"
             ],
             [
              0.6666666666666666,
              "#ed7953"
             ],
             [
              0.7777777777777778,
              "#fb9f3a"
             ],
             [
              0.8888888888888888,
              "#fdca26"
             ],
             [
              1,
              "#f0f921"
             ]
            ],
            "type": "surface"
           }
          ],
          "table": [
           {
            "cells": {
             "fill": {
              "color": "#EBF0F8"
             },
             "line": {
              "color": "white"
             }
            },
            "header": {
             "fill": {
              "color": "#C8D4E3"
             },
             "line": {
              "color": "white"
             }
            },
            "type": "table"
           }
          ]
         },
         "layout": {
          "annotationdefaults": {
           "arrowcolor": "#2a3f5f",
           "arrowhead": 0,
           "arrowwidth": 1
          },
          "autotypenumbers": "strict",
          "coloraxis": {
           "colorbar": {
            "outlinewidth": 0,
            "ticks": ""
           }
          },
          "colorscale": {
           "diverging": [
            [
             0,
             "#8e0152"
            ],
            [
             0.1,
             "#c51b7d"
            ],
            [
             0.2,
             "#de77ae"
            ],
            [
             0.3,
             "#f1b6da"
            ],
            [
             0.4,
             "#fde0ef"
            ],
            [
             0.5,
             "#f7f7f7"
            ],
            [
             0.6,
             "#e6f5d0"
            ],
            [
             0.7,
             "#b8e186"
            ],
            [
             0.8,
             "#7fbc41"
            ],
            [
             0.9,
             "#4d9221"
            ],
            [
             1,
             "#276419"
            ]
           ],
           "sequential": [
            [
             0,
             "#0d0887"
            ],
            [
             0.1111111111111111,
             "#46039f"
            ],
            [
             0.2222222222222222,
             "#7201a8"
            ],
            [
             0.3333333333333333,
             "#9c179e"
            ],
            [
             0.4444444444444444,
             "#bd3786"
            ],
            [
             0.5555555555555556,
             "#d8576b"
            ],
            [
             0.6666666666666666,
             "#ed7953"
            ],
            [
             0.7777777777777778,
             "#fb9f3a"
            ],
            [
             0.8888888888888888,
             "#fdca26"
            ],
            [
             1,
             "#f0f921"
            ]
           ],
           "sequentialminus": [
            [
             0,
             "#0d0887"
            ],
            [
             0.1111111111111111,
             "#46039f"
            ],
            [
             0.2222222222222222,
             "#7201a8"
            ],
            [
             0.3333333333333333,
             "#9c179e"
            ],
            [
             0.4444444444444444,
             "#bd3786"
            ],
            [
             0.5555555555555556,
             "#d8576b"
            ],
            [
             0.6666666666666666,
             "#ed7953"
            ],
            [
             0.7777777777777778,
             "#fb9f3a"
            ],
            [
             0.8888888888888888,
             "#fdca26"
            ],
            [
             1,
             "#f0f921"
            ]
           ]
          },
          "colorway": [
           "#636efa",
           "#EF553B",
           "#00cc96",
           "#ab63fa",
           "#FFA15A",
           "#19d3f3",
           "#FF6692",
           "#B6E880",
           "#FF97FF",
           "#FECB52"
          ],
          "font": {
           "color": "#2a3f5f"
          },
          "geo": {
           "bgcolor": "white",
           "lakecolor": "white",
           "landcolor": "#E5ECF6",
           "showlakes": true,
           "showland": true,
           "subunitcolor": "white"
          },
          "hoverlabel": {
           "align": "left"
          },
          "hovermode": "closest",
          "mapbox": {
           "style": "light"
          },
          "paper_bgcolor": "white",
          "plot_bgcolor": "#E5ECF6",
          "polar": {
           "angularaxis": {
            "gridcolor": "white",
            "linecolor": "white",
            "ticks": ""
           },
           "bgcolor": "#E5ECF6",
           "radialaxis": {
            "gridcolor": "white",
            "linecolor": "white",
            "ticks": ""
           }
          },
          "scene": {
           "xaxis": {
            "backgroundcolor": "#E5ECF6",
            "gridcolor": "white",
            "gridwidth": 2,
            "linecolor": "white",
            "showbackground": true,
            "ticks": "",
            "zerolinecolor": "white"
           },
           "yaxis": {
            "backgroundcolor": "#E5ECF6",
            "gridcolor": "white",
            "gridwidth": 2,
            "linecolor": "white",
            "showbackground": true,
            "ticks": "",
            "zerolinecolor": "white"
           },
           "zaxis": {
            "backgroundcolor": "#E5ECF6",
            "gridcolor": "white",
            "gridwidth": 2,
            "linecolor": "white",
            "showbackground": true,
            "ticks": "",
            "zerolinecolor": "white"
           }
          },
          "shapedefaults": {
           "line": {
            "color": "#2a3f5f"
           }
          },
          "ternary": {
           "aaxis": {
            "gridcolor": "white",
            "linecolor": "white",
            "ticks": ""
           },
           "baxis": {
            "gridcolor": "white",
            "linecolor": "white",
            "ticks": ""
           },
           "bgcolor": "#E5ECF6",
           "caxis": {
            "gridcolor": "white",
            "linecolor": "white",
            "ticks": ""
           }
          },
          "title": {
           "x": 0.05
          },
          "xaxis": {
           "automargin": true,
           "gridcolor": "white",
           "linecolor": "white",
           "ticks": "",
           "title": {
            "standoff": 15
           },
           "zerolinecolor": "white",
           "zerolinewidth": 2
          },
          "yaxis": {
           "automargin": true,
           "gridcolor": "white",
           "linecolor": "white",
           "ticks": "",
           "title": {
            "standoff": 15
           },
           "zerolinecolor": "white",
           "zerolinewidth": 2
          }
         }
        },
        "xaxis": {
         "anchor": "y",
         "domain": [
          0,
          1
         ],
         "title": {
          "text": "RespectfulDisrespectful"
         }
        },
        "yaxis": {
         "anchor": "x",
         "domain": [
          0,
          1
         ],
         "title": {
          "text": "count"
         }
        }
       }
      },
      "text/html": [
       "<div>                            <div id=\"f4e483f5-5741-47fc-9ff8-bd171b76dec6\" class=\"plotly-graph-div\" style=\"height:525px; width:100%;\"></div>            <script type=\"text/javascript\">                require([\"plotly\"], function(Plotly) {                    window.PLOTLYENV=window.PLOTLYENV || {};                                    if (document.getElementById(\"f4e483f5-5741-47fc-9ff8-bd171b76dec6\")) {                    Plotly.newPlot(                        \"f4e483f5-5741-47fc-9ff8-bd171b76dec6\",                        [{\"alignmentgroup\":\"True\",\"bingroup\":\"x\",\"hovertemplate\":\"gender=male<br>RespectfulDisrespectful=%{x}<br>count=%{y}<extra></extra>\",\"legendgroup\":\"male\",\"marker\":{\"color\":\"#636efa\",\"pattern\":{\"shape\":\"\"}},\"name\":\"male\",\"offsetgroup\":\"male\",\"orientation\":\"v\",\"showlegend\":true,\"x\":[\"Neutral\",\"Neutral\",\"Respectful\",\"Neutral\",\"Neutral\",\"Neutral\",\"Respectful\",\"Neutral\",\"Respectful\",\"Respectful\",\"Neutral\",\"Respectful\",\"Disrespectful\",\"Neutral\",\"Disrespectful\",\"Neutral\",\"Neutral\",\"Respectful\",\"Disrespectful\",\"Neutral\",\"Neutral\",\"Respectful\",\"Neutral\",\"Neutral\",\"Disrespectful\",\"Respectful\",\"Neutral\",\"Neutral\",\"Neutral\",\"Neutral\",\"Respectful\",\"Neutral\",\"Neutral\",\"Neutral\",\"Neutral\",\"Neutral\",\"Neutral\",\"Respectful\",\"Neutral\",\"Respectful\",\"Respectful\",\"Respectful\",\"Neutral\",\"Respectful\",\"Disrespectful\",\"Neutral\",\"Neutral\",\"Neutral\",\"Neutral\",\"Neutral\",\"Neutral\",\"Neutral\",\"Neutral\",\"Neutral\",\"Disrespectful\",\"Neutral\",\"Respectful\",\"Respectful\",\"Disrespectful\",\"Neutral\",\"Neutral\",\"Neutral\",\"Neutral\",\"Neutral\",\"Disrespectful\",\"Neutral\",\"Disrespectful\",\"Neutral\",\"Respectful\",\"Neutral\",\"Neutral\",\"Neutral\",\"Respectful\",\"Neutral\",\"Disrespectful\",\"Disrespectful\",\"Respectful\",\"Neutral\",\"Neutral\",\"Respectful\",\"Respectful\",\"Respectful\",\"Respectful\",\"Respectful\",\"Respectful\",\"Respectful\",\"Disrespectful\",\"Neutral\",\"Respectful\",\"Respectful\",null,\"Respectful\",\"Disrespectful\",\"Disrespectful\",\"Neutral\",\"Respectful\",\"Respectful\",\"Respectful\",null,\"Respectful\",\"Respectful\",\"Respectful\",\"Respectful\",\"Respectful\",\"Respectful\",\"Respectful\",\"Respectful\",\"Respectful\",\"Respectful\",\"Respectful\",\"Disrespectful\",\"Neutral\",\"Respectful\",\"Neutral\",\"Neutral\",\"Neutral\",\"Respectful\",\"Neutral\",\"Neutral\",\"Respectful\",\"Respectful\",\"Respectful\",\"Respectful\",\"Neutral\",\"Neutral\",\"Respectful\",\"Respectful\",\"Respectful\",\"Respectful\",\"Respectful\",\"Respectful\",\"Neutral\",\"Respectful\",\"Respectful\",\"Respectful\",\"Neutral\",\"Respectful\",\"Respectful\",\"Neutral\",\"Respectful\",\"Respectful\",\"Respectful\",\"Neutral\",\"Neutral\",\"Neutral\",\"Neutral\",\"Neutral\",\"Disrespectful\",\"Neutral\",\"Respectful\",\"Respectful\",\"Respectful\",\"Neutral\",\"Disrespectful\",\"Neutral\",\"Neutral\",\"Respectful\",\"Disrespectful\",\"Respectful\",\"Neutral\",\"Disrespectful\",\"Neutral\",\"Neutral\",\"Neutral\",\"Respectful\",\"Neutral\",\"Disrespectful\",\"Neutral\",\"Neutral\",\"Neutral\",\"Neutral\",\"Respectful\",\"Respectful\",\"Neutral\",\"Neutral\",\"Neutral\",\"Neutral\",\"Respectful\",\"Neutral\",\"Respectful\",\"Neutral\",\"Neutral\",\"Respectful\",\"Disrespectful\",\"Neutral\",\"Respectful\",\"Neutral\",\"Disrespectful\",\"Neutral\",\"Respectful\",\"Neutral\",\"Neutral\",\"Disrespectful\",\"Respectful\",\"Neutral\",\"Disrespectful\",\"Neutral\",\"Neutral\",\"Neutral\",\"Neutral\",\"Disrespectful\",\"Neutral\",\"Respectful\",\"Respectful\",\"Respectful\",\"Disrespectful\",\"Disrespectful\",\"Respectful\",\"Respectful\",\"Respectful\",\"Neutral\",\"Neutral\",\"Disrespectful\",\"Neutral\",\"Neutral\",\"Respectful\",\"Respectful\",\"Neutral\",\"Neutral\",\"Neutral\",\"Neutral\",\"Neutral\",\"Neutral\",\"Neutral\",\"Neutral\",\"Neutral\",\"Neutral\",\"Disrespectful\",\"Respectful\",\"Respectful\",\"Respectful\",\"Neutral\",\"Respectful\",\"Respectful\",\"Disrespectful\",\"Disrespectful\",\"Disrespectful\",\"Neutral\",\"Disrespectful\",\"Respectful\",\"Disrespectful\",\"Respectful\",\"Neutral\",\"Disrespectful\",\"Respectful\",\"Respectful\",\"Disrespectful\",\"Disrespectful\",\"Neutral\",\"Respectful\",\"Neutral\",\"Respectful\",\"Disrespectful\",\"Respectful\",\"Respectful\",\"Disrespectful\",\"Respectful\",\"Respectful\",\"Disrespectful\",\"Respectful\",\"Disrespectful\",\"Respectful\",\"Neutral\",\"Neutral\",\"Disrespectful\",\"Disrespectful\",\"Disrespectful\",\"Respectful\",\"Neutral\",\"Respectful\",\"Respectful\",\"Disrespectful\",\"Respectful\",\"Respectful\",\"Disrespectful\",\"Respectful\",\"Respectful\",\"Respectful\",\"Respectful\",\"Respectful\",\"Disrespectful\",\"Disrespectful\",\"Respectful\",\"Respectful\",\"Disrespectful\",\"Neutral\",\"Disrespectful\",\"Neutral\",\"Respectful\",\"Disrespectful\",\"Disrespectful\",\"Disrespectful\",\"Respectful\",\"Respectful\",\"Neutral\",\"Respectful\",\"Disrespectful\",\"Neutral\",\"Neutral\",\"Respectful\",\"Disrespectful\",\"Neutral\",\"Disrespectful\",\"Respectful\",\"Respectful\",\"Respectful\",\"Respectful\",\"Respectful\",\"Respectful\",\"Respectful\",\"Disrespectful\",\"Neutral\",\"Disrespectful\",\"Respectful\",\"Disrespectful\",\"Disrespectful\",\"Respectful\",\"Disrespectful\",\"Neutral\",\"Respectful\",\"Neutral\",\"Disrespectful\",\"Neutral\",\"Neutral\",\"Disrespectful\",\"Disrespectful\",\"Neutral\",\"Neutral\",\"Disrespectful\",\"Disrespectful\",\"Disrespectful\",\"Neutral\",\"Respectful\",\"Neutral\",\"Neutral\",\"Neutral\",\"Respectful\",\"Neutral\",\"Respectful\",\"Disrespectful\",\"Neutral\",\"Neutral\",\"Disrespectful\",\"Neutral\",\"Respectful\",\"Neutral\",\"Neutral\",\"Neutral\",\"Respectful\",\"Neutral\",\"Neutral\",\"Neutral\",\"Neutral\",\"Respectful\",\"Neutral\",\"Neutral\",\"Neutral\",\"Neutral\",\"Neutral\",\"Neutral\",\"Respectful\",\"Neutral\",\"Neutral\",\"Respectful\",\"Neutral\",\"Disrespectful\",\"Respectful\",\"Respectful\",\"Neutral\",\"Disrespectful\",\"Disrespectful\",\"Neutral\",\"Respectful\",\"Neutral\",\"Neutral\",\"Disrespectful\",\"Neutral\",\"Disrespectful\",\"Respectful\",\"Respectful\",\"Neutral\",\"Respectful\",\"Respectful\",\"Respectful\",\"Neutral\",\"Disrespectful\",\"Disrespectful\",\"Respectful\",\"Disrespectful\",\"Neutral\",\"Respectful\",\"Neutral\",\"Neutral\",\"Respectful\",\"Neutral\",\"Disrespectful\",\"Disrespectful\",\"Respectful\",\"Neutral\",\"Neutral\",\"Neutral\",\"Neutral\",\"Neutral\",\"Neutral\",\"Neutral\",\"Neutral\",\"Neutral\",\"Neutral\",\"Neutral\",\"Disrespectful\",\"Neutral\",\"Respectful\",\"Neutral\",\"Neutral\",\"Respectful\",\"Neutral\",\"Respectful\",\"Neutral\",\"Neutral\",\"Neutral\",\"Respectful\",\"Disrespectful\",\"Neutral\",\"Neutral\",\"Neutral\",\"Disrespectful\",\"Disrespectful\",\"Disrespectful\",\"Neutral\",\"Neutral\",\"Neutral\",\"Neutral\",\"Neutral\",\"Neutral\",\"Disrespectful\",\"Neutral\",\"Neutral\",\"Neutral\",\"Neutral\",\"Neutral\",\"Neutral\",\"Neutral\",\"Neutral\",\"Neutral\",null,\"Neutral\",\"Neutral\",\"Neutral\",\"Neutral\",\"Neutral\",null,\"Disrespectful\",\"Neutral\",\"Neutral\",\"Neutral\",\"Neutral\",\"Neutral\",\"Neutral\",\"Neutral\",\"Neutral\",\"Neutral\",\"Neutral\",\"Neutral\",\"Neutral\",\"Neutral\",\"Neutral\",\"Neutral\",\"Neutral\",\"Neutral\",\"Neutral\",\"Neutral\",\"Neutral\",\"Neutral\",\"Neutral\",\"Neutral\",\"Neutral\",\"Neutral\",\"Neutral\",\"Neutral\",\"Neutral\",\"Neutral\",\"Neutral\",\"Neutral\",\"Neutral\",\"Neutral\",\"Neutral\",\"Neutral\",\"Neutral\",\"Neutral\",\"Neutral\",\"Neutral\",\"Neutral\",\"Neutral\",\"Neutral\",\"Neutral\",\"Neutral\",null,\"Neutral\",\"Neutral\",\"Neutral\",\"Neutral\",\"Neutral\",\"Neutral\",\"Neutral\",\"Neutral\",\"Neutral\",\"Neutral\",\"Neutral\",\"Neutral\",\"Neutral\",\"Disrespectful\",\"Disrespectful\",\"Neutral\",\"Respectful\",\"Respectful\",\"Neutral\",\"Neutral\",\"Neutral\",\"Neutral\",\"Respectful\",\"Respectful\",\"Disrespectful\",\"Disrespectful\",\"Neutral\",\"Respectful\",\"Respectful\",\"Neutral\",\"Neutral\",\"Respectful\",\"Respectful\",\"Respectful\",\"Respectful\",\"Respectful\",\"Neutral\",\"Disrespectful\",\"Respectful\",\"Respectful\",\"Neutral\",\"Respectful\",\"Neutral\",\"Respectful\",\"Neutral\",\"Respectful\",\"Disrespectful\",\"Neutral\",\"Neutral\",\"Respectful\",\"Neutral\",\"Neutral\",\"Neutral\",\"Respectful\",\"Respectful\",\"Respectful\",\"Respectful\",\"Respectful\",\"Neutral\",\"Respectful\",\"Neutral\",\"Neutral\",\"Respectful\",\"Respectful\",\"Neutral\",\"Neutral\",\"Neutral\",\"Neutral\",\"Disrespectful\",\"Respectful\",\"Neutral\",\"Neutral\",\"Neutral\",\"Respectful\",\"Respectful\",\"Respectful\",\"Neutral\",\"Disrespectful\",\"Neutral\",\"Neutral\",\"Neutral\",\"Neutral\",\"Respectful\",\"Respectful\",\"Disrespectful\",\"Neutral\",\"Respectful\",\"Neutral\",\"Neutral\",\"Respectful\",\"Respectful\",\"Respectful\",\"Disrespectful\",\"Neutral\",\"Neutral\",\"Neutral\",\"Respectful\",\"Respectful\",\"Neutral\",\"Respectful\",\"Neutral\",\"Neutral\",\"Neutral\",\"Neutral\",\"Neutral\",\"Respectful\",\"Neutral\",\"Disrespectful\",\"Disrespectful\",\"Neutral\",\"Disrespectful\",\"Respectful\",\"Respectful\",\"Respectful\",\"Neutral\",\"Disrespectful\",\"Respectful\",\"Respectful\",\"Disrespectful\",\"Disrespectful\",\"Neutral\",\"Neutral\",\"Respectful\",\"Disrespectful\",\"Respectful\",\"Respectful\",\"Respectful\",\"Respectful\",\"Respectful\",\"Respectful\",\"Neutral\",\"Respectful\",\"Respectful\",\"Respectful\",\"Respectful\",\"Neutral\",\"Respectful\",\"Respectful\",\"Respectful\",\"Neutral\",\"Disrespectful\",\"Neutral\",\"Respectful\",\"Neutral\",\"Neutral\",\"Respectful\",\"Respectful\",\"Neutral\",\"Respectful\",\"Neutral\",\"Respectful\",\"Neutral\",\"Neutral\",\"Respectful\",\"Neutral\",\"Respectful\",\"Neutral\",\"Neutral\",\"Respectful\",\"Respectful\",\"Neutral\",\"Neutral\",\"Neutral\",\"Respectful\",\"Neutral\",\"Respectful\",\"Neutral\",\"Neutral\",\"Disrespectful\",\"Neutral\",\"Neutral\",\"Neutral\",\"Neutral\",\"Neutral\",\"Neutral\",\"Neutral\",\"Neutral\",\"Neutral\",\"Neutral\",\"Neutral\",\"Neutral\",\"Neutral\",\"Neutral\",\"Disrespectful\",\"Neutral\",\"Respectful\",\"Disrespectful\",\"Neutral\",\"Neutral\",\"Neutral\",\"Neutral\",\"Respectful\",\"Neutral\",\"Neutral\",\"Respectful\",\"Respectful\",\"Neutral\",\"Neutral\",\"Respectful\",\"Neutral\",\"Disrespectful\",\"Neutral\",\"Neutral\",\"Neutral\",\"Respectful\",\"Neutral\",\"Disrespectful\",\"Disrespectful\",\"Neutral\",\"Neutral\",\"Neutral\",\"Neutral\",\"Neutral\",\"Disrespectful\",\"Respectful\",\"Neutral\",\"Neutral\",\"Neutral\",\"Neutral\",\"Disrespectful\",\"Respectful\",\"Respectful\",\"Respectful\",\"Neutral\",\"Disrespectful\"],\"xaxis\":\"x\",\"yaxis\":\"y\",\"type\":\"histogram\"},{\"alignmentgroup\":\"True\",\"bingroup\":\"x\",\"hovertemplate\":\"gender=female<br>RespectfulDisrespectful=%{x}<br>count=%{y}<extra></extra>\",\"legendgroup\":\"female\",\"marker\":{\"color\":\"#EF553B\",\"pattern\":{\"shape\":\"\"}},\"name\":\"female\",\"offsetgroup\":\"female\",\"orientation\":\"v\",\"showlegend\":true,\"x\":[\"Neutral\",\"Neutral\",\"Neutral\",\"Neutral\",\"Respectful\",\"Disrespectful\",\"Neutral\",\"Neutral\",\"Respectful\",\"Neutral\",\"Disrespectful\",\"Neutral\",\"Respectful\",\"Respectful\",\"Neutral\",\"Respectful\",\"Respectful\",\"Disrespectful\",\"Neutral\",\"Disrespectful\",\"Respectful\",\"Neutral\",\"Respectful\",\"Disrespectful\",\"Respectful\",\"Respectful\",\"Neutral\",\"Neutral\",\"Respectful\",\"Neutral\",\"Respectful\",\"Neutral\",\"Respectful\",\"Neutral\",\"Respectful\",\"Disrespectful\",\"Respectful\",\"Respectful\",\"Respectful\",\"Disrespectful\",\"Neutral\",\"Neutral\",\"Neutral\",\"Neutral\",\"Respectful\",\"Respectful\",\"Respectful\",\"Disrespectful\",\"Respectful\",\"Respectful\",\"Respectful\",\"Respectful\",\"Respectful\",\"Respectful\",\"Respectful\",\"Respectful\",\"Respectful\",\"Respectful\",\"Disrespectful\",\"Respectful\",\"Respectful\",\"Neutral\",\"Respectful\",\"Respectful\",\"Respectful\",\"Neutral\",\"Respectful\",\"Respectful\",\"Respectful\",\"Respectful\",\"Disrespectful\",\"Disrespectful\",\"Respectful\",\"Respectful\",\"Respectful\",\"Respectful\",\"Respectful\",\"Respectful\",\"Respectful\",\"Respectful\",\"Respectful\",\"Disrespectful\",\"Respectful\",\"Respectful\",\"Respectful\",\"Respectful\",\"Respectful\",\"Respectful\",\"Respectful\",\"Respectful\",\"Respectful\",\"Respectful\",\"Respectful\",\"Respectful\",\"Respectful\",\"Respectful\",\"Respectful\",\"Respectful\",\"Respectful\",\"Respectful\",\"Respectful\",\"Disrespectful\",\"Disrespectful\",\"Respectful\",\"Disrespectful\",\"Respectful\",\"Respectful\",\"Respectful\",\"Respectful\",\"Respectful\",\"Respectful\",\"Disrespectful\",\"Disrespectful\",\"Respectful\",\"Respectful\",\"Respectful\",\"Respectful\",\"Respectful\",\"Respectful\",\"Respectful\",\"Respectful\",\"Respectful\",\"Disrespectful\",\"Neutral\",\"Respectful\",\"Respectful\",\"Neutral\",null,\"Respectful\",\"Respectful\",\"Neutral\",\"Respectful\",\"Respectful\",\"Respectful\",\"Respectful\",\"Respectful\",\"Respectful\",\"Disrespectful\",\"Respectful\",\"Respectful\",\"Respectful\",\"Neutral\",\"Neutral\",\"Respectful\",\"Respectful\",\"Neutral\",\"Respectful\",\"Respectful\",\"Respectful\",\"Respectful\",\"Respectful\",\"Respectful\",\"Neutral\",\"Neutral\",\"Respectful\",\"Disrespectful\",\"Neutral\",\"Respectful\",\"Neutral\",\"Neutral\",\"Disrespectful\",\"Neutral\",\"Neutral\",\"Respectful\",\"Neutral\",\"Neutral\",\"Respectful\",\"Neutral\",\"Neutral\",\"Neutral\",\"Neutral\",\"Respectful\",\"Neutral\",\"Respectful\",\"Respectful\",\"Respectful\",\"Respectful\",\"Respectful\",\"Respectful\",\"Respectful\",\"Respectful\",\"Respectful\",\"Respectful\",\"Respectful\",\"Respectful\",\"Respectful\",\"Disrespectful\",\"Respectful\",\"Respectful\",\"Respectful\",\"Disrespectful\",\"Respectful\",\"Neutral\",\"Respectful\",\"Neutral\",\"Respectful\",\"Respectful\",\"Respectful\",\"Respectful\",\"Respectful\",\"Respectful\",\"Respectful\",\"Disrespectful\",\"Respectful\",\"Respectful\",\"Respectful\",\"Respectful\",\"Respectful\",\"Neutral\",\"Neutral\",\"Respectful\",\"Disrespectful\",\"Neutral\",\"Respectful\",\"Respectful\",\"Respectful\",\"Respectful\",\"Respectful\",\"Respectful\",\"Respectful\",\"Respectful\",\"Respectful\",\"Respectful\",\"Respectful\",\"Respectful\",\"Respectful\",\"Disrespectful\",\"Respectful\",\"Respectful\",\"Respectful\",\"Disrespectful\",\"Disrespectful\",\"Respectful\",\"Respectful\",\"Respectful\",\"Respectful\",\"Respectful\",\"Respectful\",\"Respectful\",\"Respectful\",\"Respectful\",\"Respectful\",\"Neutral\",\"Respectful\",\"Respectful\",\"Disrespectful\",\"Respectful\",\"Respectful\",\"Respectful\",\"Disrespectful\",\"Respectful\",\"Respectful\",\"Respectful\",\"Respectful\",\"Respectful\",\"Respectful\",\"Respectful\",\"Respectful\",\"Respectful\",\"Respectful\",\"Respectful\",\"Neutral\",\"Respectful\",\"Respectful\",\"Respectful\",\"Respectful\",\"Respectful\",\"Respectful\",\"Respectful\",\"Respectful\",\"Neutral\",\"Respectful\",\"Respectful\",\"Neutral\",\"Respectful\",\"Respectful\",\"Respectful\",\"Respectful\",\"Neutral\",\"Neutral\",\"Respectful\",\"Respectful\",\"Neutral\",\"Neutral\",\"Neutral\",\"Respectful\",\"Respectful\",\"Disrespectful\",\"Respectful\",\"Neutral\",\"Respectful\",\"Neutral\",\"Respectful\",\"Respectful\",\"Disrespectful\",\"Disrespectful\",\"Respectful\",\"Respectful\",\"Neutral\",\"Neutral\",\"Respectful\",\"Respectful\",\"Neutral\",\"Respectful\",\"Respectful\",\"Neutral\",\"Respectful\",\"Disrespectful\",\"Respectful\",\"Respectful\",\"Respectful\",\"Respectful\",\"Respectful\",\"Disrespectful\",\"Neutral\",\"Disrespectful\",\"Respectful\",\"Respectful\",\"Disrespectful\",\"Neutral\",\"Respectful\",\"Disrespectful\",\"Respectful\",\"Respectful\",\"Neutral\",\"Disrespectful\",\"Respectful\",\"Neutral\",\"Neutral\",\"Disrespectful\",\"Respectful\",\"Disrespectful\",\"Respectful\",\"Respectful\",\"Disrespectful\",\"Respectful\",\"Neutral\",\"Neutral\",\"Respectful\",\"Neutral\",\"Respectful\",\"Neutral\",\"Neutral\",\"Neutral\",\"Respectful\",\"Neutral\",\"Disrespectful\",\"Neutral\",\"Neutral\",\"Respectful\",\"Disrespectful\",\"Respectful\",\"Neutral\",\"Neutral\",\"Neutral\",\"Neutral\",\"Respectful\",\"Respectful\",\"Respectful\",\"Neutral\",\"Neutral\",\"Disrespectful\",\"Neutral\",\"Neutral\",\"Respectful\",\"Neutral\",\"Respectful\",\"Respectful\",\"Neutral\",\"Respectful\",\"Neutral\",\"Respectful\",\"Disrespectful\",\"Disrespectful\",\"Disrespectful\",\"Neutral\",\"Respectful\",\"Disrespectful\",\"Respectful\",\"Respectful\",\"Disrespectful\",\"Respectful\",\"Neutral\",\"Neutral\",\"Respectful\",\"Neutral\",\"Respectful\",\"Neutral\",\"Respectful\",\"Respectful\",\"Respectful\",\"Respectful\",\"Respectful\",\"Respectful\",\"Respectful\",\"Neutral\",\"Neutral\",\"Respectful\",\"Respectful\",\"Respectful\",\"Respectful\",\"Neutral\",\"Respectful\",\"Neutral\",\"Respectful\",\"Respectful\",\"Respectful\",\"Neutral\",\"Neutral\",\"Respectful\",\"Disrespectful\",\"Neutral\",\"Respectful\",\"Respectful\",\"Respectful\",\"Respectful\",\"Respectful\",\"Respectful\",\"Neutral\",\"Respectful\",\"Neutral\",\"Respectful\",\"Respectful\",\"Respectful\",\"Respectful\",\"Respectful\",\"Disrespectful\",\"Respectful\",\"Respectful\",\"Respectful\",\"Respectful\",\"Neutral\",\"Respectful\",\"Respectful\",\"Respectful\",\"Respectful\",\"Neutral\",\"Respectful\",\"Respectful\",\"Disrespectful\",\"Respectful\",\"Respectful\",\"Respectful\",\"Neutral\",\"Respectful\",\"Neutral\",\"Respectful\",\"Respectful\",\"Respectful\",\"Respectful\",\"Respectful\",\"Respectful\",\"Respectful\",\"Neutral\",\"Neutral\",\"Disrespectful\",\"Respectful\",\"Respectful\",\"Respectful\",\"Respectful\",\"Respectful\",\"Neutral\",\"Disrespectful\",\"Respectful\",\"Neutral\",\"Respectful\",\"Respectful\",\"Respectful\",\"Respectful\",\"Respectful\",\"Respectful\",\"Respectful\",\"Respectful\",\"Respectful\",\"Respectful\",\"Neutral\",\"Neutral\",\"Neutral\",\"Neutral\",\"Neutral\",\"Neutral\",\"Neutral\",\"Neutral\",\"Neutral\",\"Neutral\",\"Neutral\",\"Neutral\",\"Neutral\",null,\"Neutral\",\"Neutral\",\"Neutral\",\"Neutral\",\"Neutral\",\"Respectful\",\"Respectful\",\"Respectful\",\"Disrespectful\",\"Respectful\",\"Respectful\",\"Disrespectful\",\"Respectful\",\"Disrespectful\",\"Neutral\",\"Disrespectful\",\"Respectful\",\"Disrespectful\",\"Disrespectful\",\"Disrespectful\",\"Respectful\",\"Disrespectful\",\"Respectful\",\"Neutral\",\"Disrespectful\",\"Disrespectful\",\"Disrespectful\",\"Respectful\",\"Disrespectful\",\"Neutral\",\"Neutral\",\"Respectful\",\"Respectful\",\"Respectful\",\"Neutral\",\"Neutral\",\"Neutral\",\"Respectful\",\"Neutral\",\"Neutral\",\"Disrespectful\",\"Respectful\",\"Respectful\",\"Respectful\",\"Neutral\",\"Neutral\",\"Neutral\",\"Neutral\",\"Respectful\",\"Neutral\",\"Disrespectful\",\"Respectful\",\"Respectful\",\"Disrespectful\",\"Respectful\",\"Respectful\",\"Neutral\",\"Neutral\",\"Neutral\",\"Respectful\",\"Respectful\",\"Respectful\",\"Disrespectful\",\"Neutral\",\"Respectful\",\"Respectful\",\"Disrespectful\",\"Neutral\",\"Respectful\",\"Respectful\",\"Respectful\",\"Disrespectful\",\"Respectful\",\"Respectful\",\"Respectful\",\"Neutral\",\"Respectful\",\"Disrespectful\",\"Neutral\",\"Respectful\",\"Respectful\",\"Respectful\",\"Respectful\",\"Respectful\",\"Neutral\",\"Neutral\",\"Respectful\",\"Neutral\",\"Respectful\",\"Neutral\",\"Neutral\",\"Neutral\",\"Respectful\",\"Disrespectful\",\"Respectful\",\"Neutral\",\"Respectful\",\"Respectful\",\"Respectful\",\"Neutral\",\"Neutral\",\"Neutral\",\"Disrespectful\",\"Neutral\",\"Neutral\",\"Neutral\",\"Neutral\",\"Neutral\",\"Neutral\",\"Respectful\",\"Disrespectful\",\"Respectful\",\"Neutral\",\"Neutral\",\"Neutral\",\"Respectful\",\"Respectful\",\"Respectful\",\"Disrespectful\",\"Neutral\",\"Respectful\",\"Respectful\",\"Neutral\",\"Respectful\",\"Respectful\",\"Respectful\",\"Respectful\",\"Disrespectful\",\"Respectful\",\"Respectful\",\"Respectful\",\"Disrespectful\",\"Respectful\",\"Disrespectful\",\"Neutral\",\"Neutral\",\"Neutral\",\"Respectful\",\"Respectful\",\"Respectful\",\"Neutral\",\"Neutral\",\"Respectful\",\"Respectful\",\"Respectful\",\"Respectful\",\"Respectful\",\"Respectful\",\"Respectful\",\"Disrespectful\",\"Respectful\",\"Disrespectful\",\"Respectful\",\"Respectful\",\"Respectful\",\"Respectful\",\"Neutral\",\"Respectful\",\"Disrespectful\",\"Respectful\",\"Respectful\",\"Respectful\",\"Neutral\",\"Respectful\",\"Respectful\",\"Respectful\",\"Respectful\",\"Disrespectful\",\"Neutral\",\"Neutral\",\"Neutral\",\"Respectful\",\"Neutral\",\"Respectful\",\"Neutral\",\"Respectful\",\"Disrespectful\",\"Neutral\",\"Neutral\",\"Respectful\",\"Neutral\",\"Disrespectful\",\"Neutral\",\"Neutral\",\"Neutral\",\"Neutral\",\"Neutral\",\"Respectful\",\"Neutral\",\"Respectful\",\"Neutral\",\"Neutral\"],\"xaxis\":\"x\",\"yaxis\":\"y\",\"type\":\"histogram\"}],                        {\"template\":{\"data\":{\"histogram2dcontour\":[{\"type\":\"histogram2dcontour\",\"colorbar\":{\"outlinewidth\":0,\"ticks\":\"\"},\"colorscale\":[[0.0,\"#0d0887\"],[0.1111111111111111,\"#46039f\"],[0.2222222222222222,\"#7201a8\"],[0.3333333333333333,\"#9c179e\"],[0.4444444444444444,\"#bd3786\"],[0.5555555555555556,\"#d8576b\"],[0.6666666666666666,\"#ed7953\"],[0.7777777777777778,\"#fb9f3a\"],[0.8888888888888888,\"#fdca26\"],[1.0,\"#f0f921\"]]}],\"choropleth\":[{\"type\":\"choropleth\",\"colorbar\":{\"outlinewidth\":0,\"ticks\":\"\"}}],\"histogram2d\":[{\"type\":\"histogram2d\",\"colorbar\":{\"outlinewidth\":0,\"ticks\":\"\"},\"colorscale\":[[0.0,\"#0d0887\"],[0.1111111111111111,\"#46039f\"],[0.2222222222222222,\"#7201a8\"],[0.3333333333333333,\"#9c179e\"],[0.4444444444444444,\"#bd3786\"],[0.5555555555555556,\"#d8576b\"],[0.6666666666666666,\"#ed7953\"],[0.7777777777777778,\"#fb9f3a\"],[0.8888888888888888,\"#fdca26\"],[1.0,\"#f0f921\"]]}],\"heatmap\":[{\"type\":\"heatmap\",\"colorbar\":{\"outlinewidth\":0,\"ticks\":\"\"},\"colorscale\":[[0.0,\"#0d0887\"],[0.1111111111111111,\"#46039f\"],[0.2222222222222222,\"#7201a8\"],[0.3333333333333333,\"#9c179e\"],[0.4444444444444444,\"#bd3786\"],[0.5555555555555556,\"#d8576b\"],[0.6666666666666666,\"#ed7953\"],[0.7777777777777778,\"#fb9f3a\"],[0.8888888888888888,\"#fdca26\"],[1.0,\"#f0f921\"]]}],\"heatmapgl\":[{\"type\":\"heatmapgl\",\"colorbar\":{\"outlinewidth\":0,\"ticks\":\"\"},\"colorscale\":[[0.0,\"#0d0887\"],[0.1111111111111111,\"#46039f\"],[0.2222222222222222,\"#7201a8\"],[0.3333333333333333,\"#9c179e\"],[0.4444444444444444,\"#bd3786\"],[0.5555555555555556,\"#d8576b\"],[0.6666666666666666,\"#ed7953\"],[0.7777777777777778,\"#fb9f3a\"],[0.8888888888888888,\"#fdca26\"],[1.0,\"#f0f921\"]]}],\"contourcarpet\":[{\"type\":\"contourcarpet\",\"colorbar\":{\"outlinewidth\":0,\"ticks\":\"\"}}],\"contour\":[{\"type\":\"contour\",\"colorbar\":{\"outlinewidth\":0,\"ticks\":\"\"},\"colorscale\":[[0.0,\"#0d0887\"],[0.1111111111111111,\"#46039f\"],[0.2222222222222222,\"#7201a8\"],[0.3333333333333333,\"#9c179e\"],[0.4444444444444444,\"#bd3786\"],[0.5555555555555556,\"#d8576b\"],[0.6666666666666666,\"#ed7953\"],[0.7777777777777778,\"#fb9f3a\"],[0.8888888888888888,\"#fdca26\"],[1.0,\"#f0f921\"]]}],\"surface\":[{\"type\":\"surface\",\"colorbar\":{\"outlinewidth\":0,\"ticks\":\"\"},\"colorscale\":[[0.0,\"#0d0887\"],[0.1111111111111111,\"#46039f\"],[0.2222222222222222,\"#7201a8\"],[0.3333333333333333,\"#9c179e\"],[0.4444444444444444,\"#bd3786\"],[0.5555555555555556,\"#d8576b\"],[0.6666666666666666,\"#ed7953\"],[0.7777777777777778,\"#fb9f3a\"],[0.8888888888888888,\"#fdca26\"],[1.0,\"#f0f921\"]]}],\"mesh3d\":[{\"type\":\"mesh3d\",\"colorbar\":{\"outlinewidth\":0,\"ticks\":\"\"}}],\"scatter\":[{\"fillpattern\":{\"fillmode\":\"overlay\",\"size\":10,\"solidity\":0.2},\"type\":\"scatter\"}],\"parcoords\":[{\"type\":\"parcoords\",\"line\":{\"colorbar\":{\"outlinewidth\":0,\"ticks\":\"\"}}}],\"scatterpolargl\":[{\"type\":\"scatterpolargl\",\"marker\":{\"colorbar\":{\"outlinewidth\":0,\"ticks\":\"\"}}}],\"bar\":[{\"error_x\":{\"color\":\"#2a3f5f\"},\"error_y\":{\"color\":\"#2a3f5f\"},\"marker\":{\"line\":{\"color\":\"#E5ECF6\",\"width\":0.5},\"pattern\":{\"fillmode\":\"overlay\",\"size\":10,\"solidity\":0.2}},\"type\":\"bar\"}],\"scattergeo\":[{\"type\":\"scattergeo\",\"marker\":{\"colorbar\":{\"outlinewidth\":0,\"ticks\":\"\"}}}],\"scatterpolar\":[{\"type\":\"scatterpolar\",\"marker\":{\"colorbar\":{\"outlinewidth\":0,\"ticks\":\"\"}}}],\"histogram\":[{\"marker\":{\"pattern\":{\"fillmode\":\"overlay\",\"size\":10,\"solidity\":0.2}},\"type\":\"histogram\"}],\"scattergl\":[{\"type\":\"scattergl\",\"marker\":{\"colorbar\":{\"outlinewidth\":0,\"ticks\":\"\"}}}],\"scatter3d\":[{\"type\":\"scatter3d\",\"line\":{\"colorbar\":{\"outlinewidth\":0,\"ticks\":\"\"}},\"marker\":{\"colorbar\":{\"outlinewidth\":0,\"ticks\":\"\"}}}],\"scattermapbox\":[{\"type\":\"scattermapbox\",\"marker\":{\"colorbar\":{\"outlinewidth\":0,\"ticks\":\"\"}}}],\"scatterternary\":[{\"type\":\"scatterternary\",\"marker\":{\"colorbar\":{\"outlinewidth\":0,\"ticks\":\"\"}}}],\"scattercarpet\":[{\"type\":\"scattercarpet\",\"marker\":{\"colorbar\":{\"outlinewidth\":0,\"ticks\":\"\"}}}],\"carpet\":[{\"aaxis\":{\"endlinecolor\":\"#2a3f5f\",\"gridcolor\":\"white\",\"linecolor\":\"white\",\"minorgridcolor\":\"white\",\"startlinecolor\":\"#2a3f5f\"},\"baxis\":{\"endlinecolor\":\"#2a3f5f\",\"gridcolor\":\"white\",\"linecolor\":\"white\",\"minorgridcolor\":\"white\",\"startlinecolor\":\"#2a3f5f\"},\"type\":\"carpet\"}],\"table\":[{\"cells\":{\"fill\":{\"color\":\"#EBF0F8\"},\"line\":{\"color\":\"white\"}},\"header\":{\"fill\":{\"color\":\"#C8D4E3\"},\"line\":{\"color\":\"white\"}},\"type\":\"table\"}],\"barpolar\":[{\"marker\":{\"line\":{\"color\":\"#E5ECF6\",\"width\":0.5},\"pattern\":{\"fillmode\":\"overlay\",\"size\":10,\"solidity\":0.2}},\"type\":\"barpolar\"}],\"pie\":[{\"automargin\":true,\"type\":\"pie\"}]},\"layout\":{\"autotypenumbers\":\"strict\",\"colorway\":[\"#636efa\",\"#EF553B\",\"#00cc96\",\"#ab63fa\",\"#FFA15A\",\"#19d3f3\",\"#FF6692\",\"#B6E880\",\"#FF97FF\",\"#FECB52\"],\"font\":{\"color\":\"#2a3f5f\"},\"hovermode\":\"closest\",\"hoverlabel\":{\"align\":\"left\"},\"paper_bgcolor\":\"white\",\"plot_bgcolor\":\"#E5ECF6\",\"polar\":{\"bgcolor\":\"#E5ECF6\",\"angularaxis\":{\"gridcolor\":\"white\",\"linecolor\":\"white\",\"ticks\":\"\"},\"radialaxis\":{\"gridcolor\":\"white\",\"linecolor\":\"white\",\"ticks\":\"\"}},\"ternary\":{\"bgcolor\":\"#E5ECF6\",\"aaxis\":{\"gridcolor\":\"white\",\"linecolor\":\"white\",\"ticks\":\"\"},\"baxis\":{\"gridcolor\":\"white\",\"linecolor\":\"white\",\"ticks\":\"\"},\"caxis\":{\"gridcolor\":\"white\",\"linecolor\":\"white\",\"ticks\":\"\"}},\"coloraxis\":{\"colorbar\":{\"outlinewidth\":0,\"ticks\":\"\"}},\"colorscale\":{\"sequential\":[[0.0,\"#0d0887\"],[0.1111111111111111,\"#46039f\"],[0.2222222222222222,\"#7201a8\"],[0.3333333333333333,\"#9c179e\"],[0.4444444444444444,\"#bd3786\"],[0.5555555555555556,\"#d8576b\"],[0.6666666666666666,\"#ed7953\"],[0.7777777777777778,\"#fb9f3a\"],[0.8888888888888888,\"#fdca26\"],[1.0,\"#f0f921\"]],\"sequentialminus\":[[0.0,\"#0d0887\"],[0.1111111111111111,\"#46039f\"],[0.2222222222222222,\"#7201a8\"],[0.3333333333333333,\"#9c179e\"],[0.4444444444444444,\"#bd3786\"],[0.5555555555555556,\"#d8576b\"],[0.6666666666666666,\"#ed7953\"],[0.7777777777777778,\"#fb9f3a\"],[0.8888888888888888,\"#fdca26\"],[1.0,\"#f0f921\"]],\"diverging\":[[0,\"#8e0152\"],[0.1,\"#c51b7d\"],[0.2,\"#de77ae\"],[0.3,\"#f1b6da\"],[0.4,\"#fde0ef\"],[0.5,\"#f7f7f7\"],[0.6,\"#e6f5d0\"],[0.7,\"#b8e186\"],[0.8,\"#7fbc41\"],[0.9,\"#4d9221\"],[1,\"#276419\"]]},\"xaxis\":{\"gridcolor\":\"white\",\"linecolor\":\"white\",\"ticks\":\"\",\"title\":{\"standoff\":15},\"zerolinecolor\":\"white\",\"automargin\":true,\"zerolinewidth\":2},\"yaxis\":{\"gridcolor\":\"white\",\"linecolor\":\"white\",\"ticks\":\"\",\"title\":{\"standoff\":15},\"zerolinecolor\":\"white\",\"automargin\":true,\"zerolinewidth\":2},\"scene\":{\"xaxis\":{\"backgroundcolor\":\"#E5ECF6\",\"gridcolor\":\"white\",\"linecolor\":\"white\",\"showbackground\":true,\"ticks\":\"\",\"zerolinecolor\":\"white\",\"gridwidth\":2},\"yaxis\":{\"backgroundcolor\":\"#E5ECF6\",\"gridcolor\":\"white\",\"linecolor\":\"white\",\"showbackground\":true,\"ticks\":\"\",\"zerolinecolor\":\"white\",\"gridwidth\":2},\"zaxis\":{\"backgroundcolor\":\"#E5ECF6\",\"gridcolor\":\"white\",\"linecolor\":\"white\",\"showbackground\":true,\"ticks\":\"\",\"zerolinecolor\":\"white\",\"gridwidth\":2}},\"shapedefaults\":{\"line\":{\"color\":\"#2a3f5f\"}},\"annotationdefaults\":{\"arrowcolor\":\"#2a3f5f\",\"arrowhead\":0,\"arrowwidth\":1},\"geo\":{\"bgcolor\":\"white\",\"landcolor\":\"#E5ECF6\",\"subunitcolor\":\"white\",\"showland\":true,\"showlakes\":true,\"lakecolor\":\"white\"},\"title\":{\"x\":0.05},\"mapbox\":{\"style\":\"light\"}}},\"xaxis\":{\"anchor\":\"y\",\"domain\":[0.0,1.0],\"title\":{\"text\":\"RespectfulDisrespectful\"}},\"yaxis\":{\"anchor\":\"x\",\"domain\":[0.0,1.0],\"title\":{\"text\":\"count\"}},\"legend\":{\"title\":{\"text\":\"gender\"},\"tracegroupgap\":0},\"margin\":{\"t\":60},\"barmode\":\"relative\"},                        {\"responsive\": true}                    ).then(function(){\n",
       "                            \n",
       "var gd = document.getElementById('f4e483f5-5741-47fc-9ff8-bd171b76dec6');\n",
       "var x = new MutationObserver(function (mutations, observer) {{\n",
       "        var display = window.getComputedStyle(gd).display;\n",
       "        if (!display || display === 'none') {{\n",
       "            console.log([gd, 'removed!']);\n",
       "            Plotly.purge(gd);\n",
       "            observer.disconnect();\n",
       "        }}\n",
       "}});\n",
       "\n",
       "// Listen for the removal of the full notebook cells\n",
       "var notebookContainer = gd.closest('#notebook-container');\n",
       "if (notebookContainer) {{\n",
       "    x.observe(notebookContainer, {childList: true});\n",
       "}}\n",
       "\n",
       "// Listen for the clearing of the current output cell\n",
       "var outputEl = gd.closest('.output');\n",
       "if (outputEl) {{\n",
       "    x.observe(outputEl, {childList: true});\n",
       "}}\n",
       "\n",
       "                        })                };                });            </script>        </div>"
      ]
     },
     "metadata": {},
     "output_type": "display_data"
    }
   ],
   "source": [
    "fig = px.histogram(agg, x = 'RespectfulDisrespectful', color = 'gender')\n",
    "fig.show()"
   ]
  },
  {
   "cell_type": "markdown",
   "id": "f7965664",
   "metadata": {},
   "source": [
    "### Encouraging/Discouraging colored by gender\n"
   ]
  },
  {
   "cell_type": "code",
   "execution_count": 120,
   "id": "c4e03f80",
   "metadata": {},
   "outputs": [
    {
     "data": {
      "application/vnd.plotly.v1+json": {
       "config": {
        "plotlyServerURL": "https://plot.ly"
       },
       "data": [
        {
         "alignmentgroup": "True",
         "bingroup": "x",
         "hovertemplate": "gender=male<br>EncouragingDiscouraging=%{x}<br>count=%{y}<extra></extra>",
         "legendgroup": "male",
         "marker": {
          "color": "#636efa",
          "pattern": {
           "shape": ""
          }
         },
         "name": "male",
         "offsetgroup": "male",
         "orientation": "v",
         "showlegend": true,
         "type": "histogram",
         "x": [
          "Discouraging",
          "Discouraging",
          "Encouraging",
          "Encouraging",
          "Encouraging",
          "Discouraging",
          "Encouraging",
          "Discouraging",
          "Encouraging",
          "Encouraging",
          "Encouraging",
          "Encouraging",
          "Discouraging",
          "Encouraging",
          "Discouraging",
          "Encouraging",
          "Discouraging",
          "Encouraging",
          "Discouraging",
          "Encouraging",
          "Encouraging",
          "Encouraging",
          "Discouraging",
          "Discouraging",
          "Discouraging",
          "Encouraging",
          "Discouraging",
          "Encouraging",
          "Encouraging",
          "Discouraging",
          "Encouraging",
          "Encouraging",
          "Encouraging",
          "Encouraging",
          "Encouraging",
          "Encouraging",
          "Discouraging",
          "Encouraging",
          "Encouraging",
          "Encouraging",
          "Discouraging",
          "Encouraging",
          "Encouraging",
          "Encouraging",
          "Encouraging",
          "Discouraging",
          "Encouraging",
          "Encouraging",
          "Encouraging",
          "Encouraging",
          "Discouraging",
          "Encouraging",
          "Encouraging",
          "Encouraging",
          "Discouraging",
          "Encouraging",
          "Encouraging",
          "Encouraging",
          "Discouraging",
          "Discouraging",
          "Discouraging",
          "Encouraging",
          "Discouraging",
          "Encouraging",
          "Discouraging",
          "Discouraging",
          "Discouraging",
          "Encouraging",
          "Encouraging",
          "Encouraging",
          "Encouraging",
          "Encouraging",
          "Encouraging",
          "Encouraging",
          "Discouraging",
          "Discouraging",
          "Encouraging",
          "Discouraging",
          "Discouraging",
          "Encouraging",
          "Encouraging",
          "Encouraging",
          "Encouraging",
          "Encouraging",
          "Encouraging",
          "Encouraging",
          "Discouraging",
          "Discouraging",
          "Encouraging",
          "Encouraging",
          "Encouraging",
          "Encouraging",
          "Discouraging",
          "Discouraging",
          "Encouraging",
          "Encouraging",
          "Encouraging",
          "Encouraging",
          "Encouraging",
          "Encouraging",
          "Encouraging",
          "Encouraging",
          "Encouraging",
          "Discouraging",
          "Encouraging",
          "Encouraging",
          "Encouraging",
          "Encouraging",
          "Encouraging",
          "Encouraging",
          "Discouraging",
          "Encouraging",
          "Encouraging",
          "Encouraging",
          "Discouraging",
          "Discouraging",
          "Encouraging",
          "Encouraging",
          "Discouraging",
          "Encouraging",
          "Encouraging",
          "Encouraging",
          "Encouraging",
          "Discouraging",
          "Discouraging",
          "Encouraging",
          "Encouraging",
          "Encouraging",
          "Encouraging",
          "Encouraging",
          "Encouraging",
          "Discouraging",
          "Encouraging",
          "Encouraging",
          "Encouraging",
          "Discouraging",
          "Encouraging",
          "Encouraging",
          "Discouraging",
          "Encouraging",
          "Encouraging",
          "Encouraging",
          "Encouraging",
          "Encouraging",
          "Encouraging",
          "Discouraging",
          "Encouraging",
          "Discouraging",
          "Encouraging",
          "Encouraging",
          "Encouraging",
          "Encouraging",
          "Encouraging",
          "Discouraging",
          "Encouraging",
          "Encouraging",
          "Encouraging",
          "Discouraging",
          "Encouraging",
          "Encouraging",
          "Discouraging",
          "Encouraging",
          "Discouraging",
          "Encouraging",
          "Encouraging",
          "Encouraging",
          "Discouraging",
          "Encouraging",
          "Encouraging",
          "Discouraging",
          "Encouraging",
          "Encouraging",
          "Encouraging",
          "Encouraging",
          "Discouraging",
          "Encouraging",
          "Discouraging",
          "Encouraging",
          "Encouraging",
          "Encouraging",
          "Encouraging",
          "Encouraging",
          "Encouraging",
          "Discouraging",
          "Encouraging",
          "Encouraging",
          "Encouraging",
          "Discouraging",
          "Encouraging",
          "Encouraging",
          "Encouraging",
          "Encouraging",
          "Discouraging",
          "Encouraging",
          "Discouraging",
          "Discouraging",
          "Discouraging",
          "Encouraging",
          "Discouraging",
          "Encouraging",
          "Discouraging",
          "Encouraging",
          "Encouraging",
          "Discouraging",
          "Encouraging",
          "Encouraging",
          "Discouraging",
          "Encouraging",
          "Encouraging",
          "Discouraging",
          "Encouraging",
          "Encouraging",
          "Discouraging",
          "Encouraging",
          "Encouraging",
          "Encouraging",
          "Encouraging",
          "Discouraging",
          "Encouraging",
          "Encouraging",
          "Encouraging",
          "Discouraging",
          "Encouraging",
          "Discouraging",
          "Encouraging",
          "Encouraging",
          "Discouraging",
          "Discouraging",
          "Encouraging",
          "Encouraging",
          "Encouraging",
          "Discouraging",
          "Encouraging",
          "Encouraging",
          "Discouraging",
          "Discouraging",
          "Discouraging",
          "Discouraging",
          "Discouraging",
          "Encouraging",
          "Discouraging",
          "Discouraging",
          "Discouraging",
          "Discouraging",
          "Encouraging",
          "Encouraging",
          "Discouraging",
          "Discouraging",
          "Encouraging",
          "Encouraging",
          "Encouraging",
          "Encouraging",
          "Discouraging",
          "Encouraging",
          "Encouraging",
          "Discouraging",
          "Encouraging",
          "Encouraging",
          "Discouraging",
          "Encouraging",
          "Encouraging",
          "Encouraging",
          "Encouraging",
          "Encouraging",
          "Discouraging",
          "Discouraging",
          "Discouraging",
          "Encouraging",
          "Encouraging",
          "Discouraging",
          "Encouraging",
          "Discouraging",
          "Encouraging",
          "Encouraging",
          "Discouraging",
          "Encouraging",
          "Encouraging",
          "Encouraging",
          "Encouraging",
          "Encouraging",
          "Discouraging",
          "Discouraging",
          "Discouraging",
          "Encouraging",
          "Discouraging",
          "Discouraging",
          "Discouraging",
          "Discouraging",
          "Encouraging",
          "Discouraging",
          "Discouraging",
          "Discouraging",
          "Encouraging",
          "Encouraging",
          "Discouraging",
          "Encouraging",
          "Discouraging",
          "Encouraging",
          "Discouraging",
          "Encouraging",
          "Discouraging",
          "Encouraging",
          "Discouraging",
          "Discouraging",
          "Encouraging",
          "Encouraging",
          "Discouraging",
          "Encouraging",
          "Encouraging",
          "Encouraging",
          "Discouraging",
          "Encouraging",
          "Discouraging",
          "Discouraging",
          "Discouraging",
          "Encouraging",
          "Encouraging",
          "Encouraging",
          "Discouraging",
          "Encouraging",
          "Encouraging",
          "Discouraging",
          "Discouraging",
          "Encouraging",
          "Discouraging",
          "Discouraging",
          "Encouraging",
          "Discouraging",
          "Discouraging",
          "Discouraging",
          "Discouraging",
          "Encouraging",
          "Encouraging",
          "Discouraging",
          "Discouraging",
          "Encouraging",
          "Encouraging",
          "Discouraging",
          "Encouraging",
          "Discouraging",
          "Encouraging",
          "Encouraging",
          "Discouraging",
          "Encouraging",
          "Encouraging",
          "Discouraging",
          "Encouraging",
          "Discouraging",
          "Encouraging",
          "Discouraging",
          "Discouraging",
          "Discouraging",
          "Encouraging",
          "Encouraging",
          "Encouraging",
          "Encouraging",
          "Discouraging",
          "Encouraging",
          "Encouraging",
          "Encouraging",
          "Encouraging",
          "Discouraging",
          "Encouraging",
          "Encouraging",
          "Encouraging",
          "Discouraging",
          "Encouraging",
          "Encouraging",
          "Encouraging",
          "Discouraging",
          "Discouraging",
          "Encouraging",
          "Encouraging",
          "Encouraging",
          "Encouraging",
          "Discouraging",
          "Discouraging",
          "Discouraging",
          "Encouraging",
          "Encouraging",
          "Encouraging",
          "Encouraging",
          "Encouraging",
          "Encouraging",
          "Encouraging",
          "Discouraging",
          "Discouraging",
          "Encouraging",
          "Encouraging",
          "Encouraging",
          "Encouraging",
          "Encouraging",
          "Encouraging",
          "Encouraging",
          "Encouraging",
          "Discouraging",
          "Discouraging",
          "Encouraging",
          "Encouraging",
          "Encouraging",
          "Encouraging",
          "Discouraging",
          "Encouraging",
          "Discouraging",
          "Encouraging",
          "Encouraging",
          "Encouraging",
          "Encouraging",
          "Encouraging",
          "Discouraging",
          "Encouraging",
          "Encouraging",
          "Encouraging",
          "Encouraging",
          "Discouraging",
          "Discouraging",
          "Encouraging",
          "Encouraging",
          "Encouraging",
          "Encouraging",
          "Encouraging",
          "Discouraging",
          "Encouraging",
          "Discouraging",
          "Encouraging",
          "Discouraging",
          "Discouraging",
          "Discouraging",
          "Encouraging",
          "Encouraging",
          "Encouraging",
          "Discouraging",
          "Encouraging",
          "Encouraging",
          "Discouraging",
          "Encouraging",
          "Encouraging",
          "Encouraging",
          "Encouraging",
          "Encouraging",
          "Encouraging",
          "Encouraging",
          "Encouraging",
          "Encouraging",
          "Encouraging",
          "Encouraging",
          "Encouraging",
          "Encouraging",
          "Discouraging",
          "Encouraging",
          "Discouraging",
          "Discouraging",
          "Encouraging",
          "Encouraging",
          "Encouraging",
          "Encouraging",
          "Encouraging",
          "Encouraging",
          "Encouraging",
          "Encouraging",
          "Encouraging",
          "Encouraging",
          "Encouraging",
          "Encouraging",
          null,
          "Encouraging",
          "Discouraging",
          "Encouraging",
          "Encouraging",
          "Encouraging",
          "Encouraging",
          "Encouraging",
          "Encouraging",
          "Encouraging",
          "Discouraging",
          "Encouraging",
          "Discouraging",
          "Encouraging",
          "Encouraging",
          "Encouraging",
          "Encouraging",
          "Encouraging",
          "Encouraging",
          "Discouraging",
          "Encouraging",
          "Discouraging",
          "Encouraging",
          "Discouraging",
          null,
          "Encouraging",
          "Encouraging",
          "Discouraging",
          "Discouraging",
          "Encouraging",
          "Encouraging",
          "Discouraging",
          "Encouraging",
          "Encouraging",
          "Encouraging",
          "Encouraging",
          "Encouraging",
          "Encouraging",
          "Encouraging",
          "Encouraging",
          "Encouraging",
          "Discouraging",
          "Encouraging",
          "Encouraging",
          "Encouraging",
          "Discouraging",
          "Discouraging",
          "Discouraging",
          "Encouraging",
          "Discouraging",
          "Encouraging",
          "Discouraging",
          "Encouraging",
          "Encouraging",
          "Discouraging",
          "Encouraging",
          "Encouraging",
          "Discouraging",
          "Discouraging",
          "Encouraging",
          "Discouraging",
          "Encouraging",
          "Discouraging",
          "Discouraging",
          "Encouraging",
          "Discouraging",
          "Discouraging",
          "Encouraging",
          "Discouraging",
          "Discouraging",
          "Discouraging",
          "Encouraging",
          "Encouraging",
          "Encouraging",
          "Encouraging",
          "Encouraging",
          "Encouraging",
          "Encouraging",
          "Discouraging",
          "Discouraging",
          "Discouraging",
          "Encouraging",
          "Encouraging",
          "Encouraging",
          "Encouraging",
          "Encouraging",
          "Discouraging",
          "Encouraging",
          "Encouraging",
          "Encouraging",
          "Encouraging",
          "Discouraging",
          "Discouraging",
          "Discouraging",
          "Discouraging",
          "Encouraging",
          "Encouraging",
          "Encouraging",
          "Discouraging",
          "Discouraging",
          "Discouraging",
          "Discouraging",
          "Discouraging",
          "Encouraging",
          "Encouraging",
          "Encouraging",
          "Encouraging",
          "Discouraging",
          "Encouraging",
          "Encouraging",
          "Discouraging",
          "Encouraging",
          "Encouraging",
          "Discouraging",
          "Encouraging",
          "Encouraging",
          "Encouraging",
          "Discouraging",
          "Encouraging",
          "Discouraging",
          "Encouraging",
          "Discouraging",
          "Encouraging",
          "Encouraging",
          "Encouraging",
          "Discouraging",
          "Encouraging",
          "Encouraging",
          "Encouraging",
          "Encouraging",
          "Discouraging",
          "Encouraging",
          "Encouraging",
          "Discouraging",
          "Encouraging",
          "Discouraging",
          "Discouraging",
          "Encouraging",
          "Encouraging",
          "Encouraging",
          "Encouraging",
          "Discouraging",
          "Discouraging",
          "Discouraging",
          "Encouraging",
          "Discouraging",
          "Encouraging",
          "Encouraging",
          "Discouraging",
          "Encouraging",
          "Encouraging",
          "Discouraging",
          "Discouraging",
          "Discouraging",
          "Discouraging",
          "Encouraging",
          "Discouraging",
          "Encouraging",
          "Encouraging",
          "Encouraging",
          "Encouraging",
          "Encouraging",
          "Encouraging",
          "Encouraging",
          "Encouraging",
          "Encouraging",
          "Encouraging",
          "Encouraging",
          "Encouraging",
          "Encouraging",
          "Encouraging",
          "Encouraging",
          "Discouraging",
          "Discouraging",
          "Encouraging",
          "Encouraging",
          "Encouraging",
          "Encouraging",
          "Encouraging",
          "Encouraging",
          "Discouraging",
          "Encouraging",
          "Discouraging",
          "Encouraging",
          "Encouraging",
          "Discouraging",
          "Encouraging",
          "Discouraging",
          "Encouraging",
          "Discouraging",
          "Encouraging",
          "Encouraging",
          "Encouraging",
          "Encouraging",
          "Discouraging",
          "Discouraging",
          "Encouraging",
          "Encouraging",
          "Encouraging",
          "Encouraging",
          "Discouraging",
          "Encouraging",
          "Encouraging",
          "Discouraging",
          "Encouraging",
          "Encouraging",
          "Discouraging",
          "Discouraging",
          "Encouraging",
          "Discouraging",
          "Encouraging",
          "Encouraging",
          "Encouraging",
          "Encouraging",
          "Encouraging",
          "Discouraging",
          "Discouraging",
          "Discouraging",
          "Encouraging",
          "Discouraging",
          "Encouraging",
          "Encouraging",
          "Discouraging",
          "Encouraging",
          "Encouraging",
          "Encouraging",
          "Encouraging",
          "Encouraging",
          "Discouraging",
          "Discouraging",
          "Encouraging",
          "Encouraging",
          "Discouraging",
          "Discouraging",
          "Encouraging",
          "Encouraging",
          "Encouraging",
          "Encouraging",
          "Discouraging",
          "Discouraging",
          "Discouraging",
          "Encouraging",
          "Discouraging",
          "Encouraging",
          "Discouraging",
          "Discouraging",
          "Discouraging",
          "Encouraging",
          "Encouraging",
          "Discouraging",
          "Discouraging",
          "Discouraging",
          "Discouraging",
          "Encouraging",
          "Encouraging",
          "Encouraging",
          "Discouraging",
          "Discouraging"
         ],
         "xaxis": "x",
         "yaxis": "y"
        },
        {
         "alignmentgroup": "True",
         "bingroup": "x",
         "hovertemplate": "gender=female<br>EncouragingDiscouraging=%{x}<br>count=%{y}<extra></extra>",
         "legendgroup": "female",
         "marker": {
          "color": "#EF553B",
          "pattern": {
           "shape": ""
          }
         },
         "name": "female",
         "offsetgroup": "female",
         "orientation": "v",
         "showlegend": true,
         "type": "histogram",
         "x": [
          "Encouraging",
          "Encouraging",
          "Encouraging",
          "Encouraging",
          "Encouraging",
          "Discouraging",
          "Encouraging",
          "Encouraging",
          "Encouraging",
          "Encouraging",
          "Discouraging",
          "Discouraging",
          "Encouraging",
          "Encouraging",
          "Encouraging",
          "Encouraging",
          "Encouraging",
          "Encouraging",
          "Encouraging",
          "Discouraging",
          "Encouraging",
          "Encouraging",
          "Encouraging",
          "Discouraging",
          "Encouraging",
          "Encouraging",
          "Discouraging",
          "Discouraging",
          "Encouraging",
          "Discouraging",
          "Encouraging",
          "Discouraging",
          "Encouraging",
          "Encouraging",
          "Encouraging",
          "Discouraging",
          "Encouraging",
          "Encouraging",
          "Encouraging",
          "Discouraging",
          "Discouraging",
          "Discouraging",
          "Discouraging",
          "Discouraging",
          "Encouraging",
          "Encouraging",
          "Encouraging",
          "Discouraging",
          "Encouraging",
          "Encouraging",
          "Encouraging",
          "Discouraging",
          "Encouraging",
          "Encouraging",
          "Encouraging",
          "Discouraging",
          "Encouraging",
          "Encouraging",
          "Discouraging",
          "Encouraging",
          "Encouraging",
          "Discouraging",
          "Encouraging",
          "Encouraging",
          "Encouraging",
          "Discouraging",
          "Encouraging",
          "Discouraging",
          "Encouraging",
          "Encouraging",
          "Discouraging",
          "Discouraging",
          "Encouraging",
          "Encouraging",
          "Encouraging",
          "Encouraging",
          "Encouraging",
          "Encouraging",
          "Encouraging",
          "Encouraging",
          "Encouraging",
          "Discouraging",
          "Encouraging",
          "Encouraging",
          "Discouraging",
          "Encouraging",
          "Encouraging",
          "Discouraging",
          "Encouraging",
          "Encouraging",
          "Discouraging",
          "Encouraging",
          "Discouraging",
          "Encouraging",
          "Encouraging",
          "Discouraging",
          "Encouraging",
          "Encouraging",
          "Encouraging",
          "Discouraging",
          "Encouraging",
          "Discouraging",
          "Discouraging",
          "Encouraging",
          "Discouraging",
          "Encouraging",
          "Encouraging",
          "Encouraging",
          "Encouraging",
          "Encouraging",
          "Encouraging",
          "Discouraging",
          "Discouraging",
          "Encouraging",
          "Encouraging",
          "Encouraging",
          "Encouraging",
          "Encouraging",
          "Discouraging",
          "Encouraging",
          "Encouraging",
          "Encouraging",
          "Discouraging",
          "Encouraging",
          "Encouraging",
          "Encouraging",
          "Encouraging",
          "Encouraging",
          "Encouraging",
          "Encouraging",
          "Discouraging",
          "Encouraging",
          "Encouraging",
          "Encouraging",
          "Encouraging",
          "Encouraging",
          "Encouraging",
          "Discouraging",
          "Encouraging",
          "Encouraging",
          null,
          "Discouraging",
          "Discouraging",
          "Encouraging",
          "Encouraging",
          "Discouraging",
          "Encouraging",
          "Encouraging",
          "Encouraging",
          "Encouraging",
          "Encouraging",
          "Encouraging",
          "Encouraging",
          "Encouraging",
          "Encouraging",
          "Discouraging",
          "Discouraging",
          "Encouraging",
          "Encouraging",
          "Encouraging",
          "Discouraging",
          "Encouraging",
          "Encouraging",
          "Encouraging",
          "Encouraging",
          "Discouraging",
          "Encouraging",
          "Encouraging",
          "Encouraging",
          "Encouraging",
          "Encouraging",
          "Encouraging",
          "Discouraging",
          "Encouraging",
          "Encouraging",
          "Encouraging",
          "Encouraging",
          "Encouraging",
          "Encouraging",
          "Encouraging",
          "Encouraging",
          "Encouraging",
          "Encouraging",
          "Encouraging",
          "Encouraging",
          "Encouraging",
          "Discouraging",
          "Encouraging",
          "Encouraging",
          "Encouraging",
          "Discouraging",
          "Encouraging",
          "Encouraging",
          "Encouraging",
          "Encouraging",
          "Encouraging",
          "Encouraging",
          "Encouraging",
          "Encouraging",
          "Encouraging",
          "Encouraging",
          "Encouraging",
          "Discouraging",
          "Encouraging",
          "Encouraging",
          "Encouraging",
          "Encouraging",
          "Encouraging",
          "Discouraging",
          "Discouraging",
          "Encouraging",
          "Discouraging",
          "Encouraging",
          "Encouraging",
          "Encouraging",
          "Encouraging",
          "Encouraging",
          "Encouraging",
          "Encouraging",
          "Discouraging",
          "Discouraging",
          "Encouraging",
          "Encouraging",
          "Encouraging",
          "Discouraging",
          "Encouraging",
          "Discouraging",
          "Encouraging",
          "Encouraging",
          "Encouraging",
          "Discouraging",
          "Encouraging",
          "Encouraging",
          "Encouraging",
          "Discouraging",
          "Encouraging",
          "Discouraging",
          "Encouraging",
          "Encouraging",
          "Encouraging",
          "Encouraging",
          "Encouraging",
          "Discouraging",
          "Encouraging",
          "Encouraging",
          "Discouraging",
          "Discouraging",
          "Encouraging",
          "Encouraging",
          "Discouraging",
          "Encouraging",
          "Encouraging",
          "Encouraging",
          "Encouraging",
          "Encouraging",
          "Encouraging",
          "Encouraging",
          "Encouraging",
          "Encouraging",
          "Discouraging",
          "Encouraging",
          "Discouraging",
          "Encouraging",
          "Encouraging",
          "Encouraging",
          "Encouraging",
          "Encouraging",
          "Encouraging",
          "Encouraging",
          "Discouraging",
          "Discouraging",
          "Encouraging",
          "Discouraging",
          "Encouraging",
          "Encouraging",
          "Encouraging",
          "Encouraging",
          "Encouraging",
          "Encouraging",
          "Discouraging",
          "Encouraging",
          "Encouraging",
          "Encouraging",
          "Discouraging",
          "Encouraging",
          "Encouraging",
          "Encouraging",
          "Discouraging",
          "Encouraging",
          "Encouraging",
          "Encouraging",
          "Discouraging",
          "Encouraging",
          "Encouraging",
          "Discouraging",
          "Discouraging",
          "Encouraging",
          "Encouraging",
          "Encouraging",
          "Encouraging",
          "Encouraging",
          "Encouraging",
          "Encouraging",
          "Encouraging",
          "Encouraging",
          "Encouraging",
          "Encouraging",
          "Discouraging",
          "Encouraging",
          "Encouraging",
          "Encouraging",
          "Encouraging",
          "Discouraging",
          "Discouraging",
          "Discouraging",
          "Discouraging",
          "Encouraging",
          "Encouraging",
          "Discouraging",
          "Encouraging",
          "Encouraging",
          "Discouraging",
          "Encouraging",
          "Encouraging",
          "Encouraging",
          "Discouraging",
          "Encouraging",
          "Discouraging",
          "Discouraging",
          "Discouraging",
          "Encouraging",
          "Discouraging",
          "Encouraging",
          "Encouraging",
          "Discouraging",
          "Encouraging",
          "Discouraging",
          "Encouraging",
          "Encouraging",
          "Encouraging",
          "Encouraging",
          "Discouraging",
          "Encouraging",
          "Encouraging",
          "Encouraging",
          "Encouraging",
          "Discouraging",
          "Encouraging",
          "Encouraging",
          "Encouraging",
          "Discouraging",
          "Encouraging",
          "Discouraging",
          "Encouraging",
          "Encouraging",
          "Encouraging",
          "Discouraging",
          "Encouraging",
          "Encouraging",
          "Encouraging",
          "Encouraging",
          "Discouraging",
          "Encouraging",
          "Encouraging",
          "Discouraging",
          "Encouraging",
          "Encouraging",
          "Encouraging",
          "Encouraging",
          "Encouraging",
          "Encouraging",
          "Encouraging",
          "Discouraging",
          "Discouraging",
          "Encouraging",
          "Encouraging",
          "Encouraging",
          "Discouraging",
          "Encouraging",
          "Encouraging",
          "Discouraging",
          "Encouraging",
          "Encouraging",
          "Encouraging",
          "Encouraging",
          "Discouraging",
          "Encouraging",
          "Discouraging",
          "Encouraging",
          "Encouraging",
          "Encouraging",
          "Encouraging",
          "Discouraging",
          "Encouraging",
          "Encouraging",
          "Discouraging",
          "Encouraging",
          "Encouraging",
          "Discouraging",
          "Encouraging",
          "Encouraging",
          "Encouraging",
          "Encouraging",
          "Encouraging",
          "Encouraging",
          "Encouraging",
          "Encouraging",
          "Encouraging",
          "Discouraging",
          "Encouraging",
          "Discouraging",
          "Encouraging",
          "Encouraging",
          "Encouraging",
          "Encouraging",
          "Encouraging",
          "Encouraging",
          "Encouraging",
          "Discouraging",
          "Encouraging",
          "Encouraging",
          "Encouraging",
          "Encouraging",
          "Encouraging",
          "Encouraging",
          "Discouraging",
          "Discouraging",
          "Encouraging",
          "Encouraging",
          "Encouraging",
          "Encouraging",
          "Encouraging",
          "Encouraging",
          "Encouraging",
          "Encouraging",
          "Encouraging",
          "Encouraging",
          "Encouraging",
          "Encouraging",
          "Discouraging",
          "Encouraging",
          "Encouraging",
          "Encouraging",
          "Encouraging",
          "Encouraging",
          "Encouraging",
          "Encouraging",
          "Encouraging",
          "Encouraging",
          "Encouraging",
          "Encouraging",
          "Encouraging",
          "Encouraging",
          "Encouraging",
          "Encouraging",
          "Discouraging",
          "Encouraging",
          "Encouraging",
          "Encouraging",
          "Encouraging",
          "Encouraging",
          "Encouraging",
          "Discouraging",
          "Encouraging",
          "Discouraging",
          "Encouraging",
          "Encouraging",
          "Encouraging",
          "Encouraging",
          "Discouraging",
          "Encouraging",
          "Encouraging",
          "Discouraging",
          "Discouraging",
          "Encouraging",
          "Encouraging",
          "Encouraging",
          "Discouraging",
          "Encouraging",
          "Encouraging",
          "Encouraging",
          "Encouraging",
          "Encouraging",
          "Encouraging",
          "Encouraging",
          "Encouraging",
          "Encouraging",
          "Discouraging",
          "Encouraging",
          "Discouraging",
          "Encouraging",
          "Encouraging",
          "Encouraging",
          "Encouraging",
          "Encouraging",
          "Encouraging",
          "Encouraging",
          "Encouraging",
          "Encouraging",
          "Encouraging",
          "Encouraging",
          "Encouraging",
          "Encouraging",
          "Discouraging",
          "Encouraging",
          "Encouraging",
          "Encouraging",
          "Encouraging",
          "Encouraging",
          "Encouraging",
          "Encouraging",
          "Encouraging",
          "Discouraging",
          "Discouraging",
          "Encouraging",
          "Encouraging",
          "Encouraging",
          "Encouraging",
          "Discouraging",
          "Encouraging",
          "Encouraging",
          "Encouraging",
          "Encouraging",
          "Encouraging",
          "Encouraging",
          "Discouraging",
          "Encouraging",
          "Discouraging",
          "Discouraging",
          "Discouraging",
          "Encouraging",
          "Encouraging",
          "Encouraging",
          "Encouraging",
          "Discouraging",
          "Encouraging",
          "Encouraging",
          "Encouraging",
          "Discouraging",
          "Discouraging",
          "Encouraging",
          "Encouraging",
          "Discouraging",
          "Encouraging",
          "Encouraging",
          "Encouraging",
          "Discouraging",
          "Encouraging",
          "Encouraging",
          "Encouraging",
          "Encouraging",
          "Discouraging",
          "Discouraging",
          "Encouraging",
          "Encouraging",
          "Discouraging",
          "Discouraging",
          "Encouraging",
          "Encouraging",
          "Encouraging",
          "Discouraging",
          "Encouraging",
          "Encouraging",
          "Encouraging",
          "Encouraging",
          "Encouraging",
          "Discouraging",
          "Encouraging",
          "Encouraging",
          "Encouraging",
          "Encouraging",
          "Encouraging",
          "Encouraging",
          "Encouraging",
          "Discouraging",
          "Encouraging",
          "Encouraging",
          "Encouraging",
          "Encouraging",
          "Discouraging",
          "Discouraging",
          "Encouraging",
          "Discouraging",
          "Encouraging",
          "Discouraging",
          "Encouraging",
          "Encouraging",
          "Encouraging",
          "Encouraging",
          "Discouraging",
          "Encouraging",
          "Discouraging",
          "Encouraging",
          "Encouraging",
          "Discouraging",
          "Encouraging",
          "Discouraging",
          "Discouraging",
          "Encouraging",
          "Discouraging",
          "Encouraging",
          "Discouraging",
          "Discouraging",
          "Encouraging",
          "Encouraging",
          "Encouraging",
          "Encouraging",
          "Discouraging",
          "Discouraging",
          "Encouraging",
          "Encouraging",
          "Discouraging",
          "Encouraging",
          "Encouraging",
          "Encouraging",
          "Encouraging",
          "Discouraging",
          "Encouraging",
          "Encouraging",
          "Encouraging",
          "Discouraging",
          "Encouraging",
          "Discouraging",
          "Encouraging",
          "Encouraging",
          "Discouraging",
          "Encouraging",
          "Encouraging",
          "Encouraging",
          "Discouraging",
          "Discouraging",
          "Encouraging",
          "Encouraging",
          "Encouraging",
          "Encouraging",
          "Encouraging",
          "Encouraging",
          "Encouraging",
          "Discouraging",
          "Encouraging",
          "Discouraging",
          "Encouraging",
          "Encouraging",
          "Encouraging",
          "Encouraging",
          "Discouraging",
          "Encouraging",
          "Discouraging",
          "Encouraging",
          "Encouraging",
          "Encouraging",
          "Encouraging",
          "Encouraging",
          "Encouraging",
          "Encouraging",
          "Encouraging",
          "Discouraging",
          "Encouraging",
          "Encouraging",
          "Encouraging",
          "Encouraging",
          "Encouraging",
          "Encouraging",
          "Encouraging",
          "Encouraging",
          "Discouraging",
          "Encouraging",
          "Discouraging",
          "Discouraging",
          "Encouraging",
          "Discouraging",
          "Encouraging",
          "Encouraging",
          "Encouraging",
          "Encouraging",
          "Encouraging",
          "Encouraging",
          "Encouraging",
          "Encouraging",
          "Discouraging",
          "Discouraging"
         ],
         "xaxis": "x",
         "yaxis": "y"
        }
       ],
       "layout": {
        "barmode": "relative",
        "legend": {
         "title": {
          "text": "gender"
         },
         "tracegroupgap": 0
        },
        "margin": {
         "t": 60
        },
        "template": {
         "data": {
          "bar": [
           {
            "error_x": {
             "color": "#2a3f5f"
            },
            "error_y": {
             "color": "#2a3f5f"
            },
            "marker": {
             "line": {
              "color": "#E5ECF6",
              "width": 0.5
             },
             "pattern": {
              "fillmode": "overlay",
              "size": 10,
              "solidity": 0.2
             }
            },
            "type": "bar"
           }
          ],
          "barpolar": [
           {
            "marker": {
             "line": {
              "color": "#E5ECF6",
              "width": 0.5
             },
             "pattern": {
              "fillmode": "overlay",
              "size": 10,
              "solidity": 0.2
             }
            },
            "type": "barpolar"
           }
          ],
          "carpet": [
           {
            "aaxis": {
             "endlinecolor": "#2a3f5f",
             "gridcolor": "white",
             "linecolor": "white",
             "minorgridcolor": "white",
             "startlinecolor": "#2a3f5f"
            },
            "baxis": {
             "endlinecolor": "#2a3f5f",
             "gridcolor": "white",
             "linecolor": "white",
             "minorgridcolor": "white",
             "startlinecolor": "#2a3f5f"
            },
            "type": "carpet"
           }
          ],
          "choropleth": [
           {
            "colorbar": {
             "outlinewidth": 0,
             "ticks": ""
            },
            "type": "choropleth"
           }
          ],
          "contour": [
           {
            "colorbar": {
             "outlinewidth": 0,
             "ticks": ""
            },
            "colorscale": [
             [
              0,
              "#0d0887"
             ],
             [
              0.1111111111111111,
              "#46039f"
             ],
             [
              0.2222222222222222,
              "#7201a8"
             ],
             [
              0.3333333333333333,
              "#9c179e"
             ],
             [
              0.4444444444444444,
              "#bd3786"
             ],
             [
              0.5555555555555556,
              "#d8576b"
             ],
             [
              0.6666666666666666,
              "#ed7953"
             ],
             [
              0.7777777777777778,
              "#fb9f3a"
             ],
             [
              0.8888888888888888,
              "#fdca26"
             ],
             [
              1,
              "#f0f921"
             ]
            ],
            "type": "contour"
           }
          ],
          "contourcarpet": [
           {
            "colorbar": {
             "outlinewidth": 0,
             "ticks": ""
            },
            "type": "contourcarpet"
           }
          ],
          "heatmap": [
           {
            "colorbar": {
             "outlinewidth": 0,
             "ticks": ""
            },
            "colorscale": [
             [
              0,
              "#0d0887"
             ],
             [
              0.1111111111111111,
              "#46039f"
             ],
             [
              0.2222222222222222,
              "#7201a8"
             ],
             [
              0.3333333333333333,
              "#9c179e"
             ],
             [
              0.4444444444444444,
              "#bd3786"
             ],
             [
              0.5555555555555556,
              "#d8576b"
             ],
             [
              0.6666666666666666,
              "#ed7953"
             ],
             [
              0.7777777777777778,
              "#fb9f3a"
             ],
             [
              0.8888888888888888,
              "#fdca26"
             ],
             [
              1,
              "#f0f921"
             ]
            ],
            "type": "heatmap"
           }
          ],
          "heatmapgl": [
           {
            "colorbar": {
             "outlinewidth": 0,
             "ticks": ""
            },
            "colorscale": [
             [
              0,
              "#0d0887"
             ],
             [
              0.1111111111111111,
              "#46039f"
             ],
             [
              0.2222222222222222,
              "#7201a8"
             ],
             [
              0.3333333333333333,
              "#9c179e"
             ],
             [
              0.4444444444444444,
              "#bd3786"
             ],
             [
              0.5555555555555556,
              "#d8576b"
             ],
             [
              0.6666666666666666,
              "#ed7953"
             ],
             [
              0.7777777777777778,
              "#fb9f3a"
             ],
             [
              0.8888888888888888,
              "#fdca26"
             ],
             [
              1,
              "#f0f921"
             ]
            ],
            "type": "heatmapgl"
           }
          ],
          "histogram": [
           {
            "marker": {
             "pattern": {
              "fillmode": "overlay",
              "size": 10,
              "solidity": 0.2
             }
            },
            "type": "histogram"
           }
          ],
          "histogram2d": [
           {
            "colorbar": {
             "outlinewidth": 0,
             "ticks": ""
            },
            "colorscale": [
             [
              0,
              "#0d0887"
             ],
             [
              0.1111111111111111,
              "#46039f"
             ],
             [
              0.2222222222222222,
              "#7201a8"
             ],
             [
              0.3333333333333333,
              "#9c179e"
             ],
             [
              0.4444444444444444,
              "#bd3786"
             ],
             [
              0.5555555555555556,
              "#d8576b"
             ],
             [
              0.6666666666666666,
              "#ed7953"
             ],
             [
              0.7777777777777778,
              "#fb9f3a"
             ],
             [
              0.8888888888888888,
              "#fdca26"
             ],
             [
              1,
              "#f0f921"
             ]
            ],
            "type": "histogram2d"
           }
          ],
          "histogram2dcontour": [
           {
            "colorbar": {
             "outlinewidth": 0,
             "ticks": ""
            },
            "colorscale": [
             [
              0,
              "#0d0887"
             ],
             [
              0.1111111111111111,
              "#46039f"
             ],
             [
              0.2222222222222222,
              "#7201a8"
             ],
             [
              0.3333333333333333,
              "#9c179e"
             ],
             [
              0.4444444444444444,
              "#bd3786"
             ],
             [
              0.5555555555555556,
              "#d8576b"
             ],
             [
              0.6666666666666666,
              "#ed7953"
             ],
             [
              0.7777777777777778,
              "#fb9f3a"
             ],
             [
              0.8888888888888888,
              "#fdca26"
             ],
             [
              1,
              "#f0f921"
             ]
            ],
            "type": "histogram2dcontour"
           }
          ],
          "mesh3d": [
           {
            "colorbar": {
             "outlinewidth": 0,
             "ticks": ""
            },
            "type": "mesh3d"
           }
          ],
          "parcoords": [
           {
            "line": {
             "colorbar": {
              "outlinewidth": 0,
              "ticks": ""
             }
            },
            "type": "parcoords"
           }
          ],
          "pie": [
           {
            "automargin": true,
            "type": "pie"
           }
          ],
          "scatter": [
           {
            "fillpattern": {
             "fillmode": "overlay",
             "size": 10,
             "solidity": 0.2
            },
            "type": "scatter"
           }
          ],
          "scatter3d": [
           {
            "line": {
             "colorbar": {
              "outlinewidth": 0,
              "ticks": ""
             }
            },
            "marker": {
             "colorbar": {
              "outlinewidth": 0,
              "ticks": ""
             }
            },
            "type": "scatter3d"
           }
          ],
          "scattercarpet": [
           {
            "marker": {
             "colorbar": {
              "outlinewidth": 0,
              "ticks": ""
             }
            },
            "type": "scattercarpet"
           }
          ],
          "scattergeo": [
           {
            "marker": {
             "colorbar": {
              "outlinewidth": 0,
              "ticks": ""
             }
            },
            "type": "scattergeo"
           }
          ],
          "scattergl": [
           {
            "marker": {
             "colorbar": {
              "outlinewidth": 0,
              "ticks": ""
             }
            },
            "type": "scattergl"
           }
          ],
          "scattermapbox": [
           {
            "marker": {
             "colorbar": {
              "outlinewidth": 0,
              "ticks": ""
             }
            },
            "type": "scattermapbox"
           }
          ],
          "scatterpolar": [
           {
            "marker": {
             "colorbar": {
              "outlinewidth": 0,
              "ticks": ""
             }
            },
            "type": "scatterpolar"
           }
          ],
          "scatterpolargl": [
           {
            "marker": {
             "colorbar": {
              "outlinewidth": 0,
              "ticks": ""
             }
            },
            "type": "scatterpolargl"
           }
          ],
          "scatterternary": [
           {
            "marker": {
             "colorbar": {
              "outlinewidth": 0,
              "ticks": ""
             }
            },
            "type": "scatterternary"
           }
          ],
          "surface": [
           {
            "colorbar": {
             "outlinewidth": 0,
             "ticks": ""
            },
            "colorscale": [
             [
              0,
              "#0d0887"
             ],
             [
              0.1111111111111111,
              "#46039f"
             ],
             [
              0.2222222222222222,
              "#7201a8"
             ],
             [
              0.3333333333333333,
              "#9c179e"
             ],
             [
              0.4444444444444444,
              "#bd3786"
             ],
             [
              0.5555555555555556,
              "#d8576b"
             ],
             [
              0.6666666666666666,
              "#ed7953"
             ],
             [
              0.7777777777777778,
              "#fb9f3a"
             ],
             [
              0.8888888888888888,
              "#fdca26"
             ],
             [
              1,
              "#f0f921"
             ]
            ],
            "type": "surface"
           }
          ],
          "table": [
           {
            "cells": {
             "fill": {
              "color": "#EBF0F8"
             },
             "line": {
              "color": "white"
             }
            },
            "header": {
             "fill": {
              "color": "#C8D4E3"
             },
             "line": {
              "color": "white"
             }
            },
            "type": "table"
           }
          ]
         },
         "layout": {
          "annotationdefaults": {
           "arrowcolor": "#2a3f5f",
           "arrowhead": 0,
           "arrowwidth": 1
          },
          "autotypenumbers": "strict",
          "coloraxis": {
           "colorbar": {
            "outlinewidth": 0,
            "ticks": ""
           }
          },
          "colorscale": {
           "diverging": [
            [
             0,
             "#8e0152"
            ],
            [
             0.1,
             "#c51b7d"
            ],
            [
             0.2,
             "#de77ae"
            ],
            [
             0.3,
             "#f1b6da"
            ],
            [
             0.4,
             "#fde0ef"
            ],
            [
             0.5,
             "#f7f7f7"
            ],
            [
             0.6,
             "#e6f5d0"
            ],
            [
             0.7,
             "#b8e186"
            ],
            [
             0.8,
             "#7fbc41"
            ],
            [
             0.9,
             "#4d9221"
            ],
            [
             1,
             "#276419"
            ]
           ],
           "sequential": [
            [
             0,
             "#0d0887"
            ],
            [
             0.1111111111111111,
             "#46039f"
            ],
            [
             0.2222222222222222,
             "#7201a8"
            ],
            [
             0.3333333333333333,
             "#9c179e"
            ],
            [
             0.4444444444444444,
             "#bd3786"
            ],
            [
             0.5555555555555556,
             "#d8576b"
            ],
            [
             0.6666666666666666,
             "#ed7953"
            ],
            [
             0.7777777777777778,
             "#fb9f3a"
            ],
            [
             0.8888888888888888,
             "#fdca26"
            ],
            [
             1,
             "#f0f921"
            ]
           ],
           "sequentialminus": [
            [
             0,
             "#0d0887"
            ],
            [
             0.1111111111111111,
             "#46039f"
            ],
            [
             0.2222222222222222,
             "#7201a8"
            ],
            [
             0.3333333333333333,
             "#9c179e"
            ],
            [
             0.4444444444444444,
             "#bd3786"
            ],
            [
             0.5555555555555556,
             "#d8576b"
            ],
            [
             0.6666666666666666,
             "#ed7953"
            ],
            [
             0.7777777777777778,
             "#fb9f3a"
            ],
            [
             0.8888888888888888,
             "#fdca26"
            ],
            [
             1,
             "#f0f921"
            ]
           ]
          },
          "colorway": [
           "#636efa",
           "#EF553B",
           "#00cc96",
           "#ab63fa",
           "#FFA15A",
           "#19d3f3",
           "#FF6692",
           "#B6E880",
           "#FF97FF",
           "#FECB52"
          ],
          "font": {
           "color": "#2a3f5f"
          },
          "geo": {
           "bgcolor": "white",
           "lakecolor": "white",
           "landcolor": "#E5ECF6",
           "showlakes": true,
           "showland": true,
           "subunitcolor": "white"
          },
          "hoverlabel": {
           "align": "left"
          },
          "hovermode": "closest",
          "mapbox": {
           "style": "light"
          },
          "paper_bgcolor": "white",
          "plot_bgcolor": "#E5ECF6",
          "polar": {
           "angularaxis": {
            "gridcolor": "white",
            "linecolor": "white",
            "ticks": ""
           },
           "bgcolor": "#E5ECF6",
           "radialaxis": {
            "gridcolor": "white",
            "linecolor": "white",
            "ticks": ""
           }
          },
          "scene": {
           "xaxis": {
            "backgroundcolor": "#E5ECF6",
            "gridcolor": "white",
            "gridwidth": 2,
            "linecolor": "white",
            "showbackground": true,
            "ticks": "",
            "zerolinecolor": "white"
           },
           "yaxis": {
            "backgroundcolor": "#E5ECF6",
            "gridcolor": "white",
            "gridwidth": 2,
            "linecolor": "white",
            "showbackground": true,
            "ticks": "",
            "zerolinecolor": "white"
           },
           "zaxis": {
            "backgroundcolor": "#E5ECF6",
            "gridcolor": "white",
            "gridwidth": 2,
            "linecolor": "white",
            "showbackground": true,
            "ticks": "",
            "zerolinecolor": "white"
           }
          },
          "shapedefaults": {
           "line": {
            "color": "#2a3f5f"
           }
          },
          "ternary": {
           "aaxis": {
            "gridcolor": "white",
            "linecolor": "white",
            "ticks": ""
           },
           "baxis": {
            "gridcolor": "white",
            "linecolor": "white",
            "ticks": ""
           },
           "bgcolor": "#E5ECF6",
           "caxis": {
            "gridcolor": "white",
            "linecolor": "white",
            "ticks": ""
           }
          },
          "title": {
           "x": 0.05
          },
          "xaxis": {
           "automargin": true,
           "gridcolor": "white",
           "linecolor": "white",
           "ticks": "",
           "title": {
            "standoff": 15
           },
           "zerolinecolor": "white",
           "zerolinewidth": 2
          },
          "yaxis": {
           "automargin": true,
           "gridcolor": "white",
           "linecolor": "white",
           "ticks": "",
           "title": {
            "standoff": 15
           },
           "zerolinecolor": "white",
           "zerolinewidth": 2
          }
         }
        },
        "xaxis": {
         "anchor": "y",
         "domain": [
          0,
          1
         ],
         "title": {
          "text": "EncouragingDiscouraging"
         }
        },
        "yaxis": {
         "anchor": "x",
         "domain": [
          0,
          1
         ],
         "title": {
          "text": "count"
         }
        }
       }
      },
      "text/html": [
       "<div>                            <div id=\"77780657-4b0e-4bc1-b034-cc654d4e8b1a\" class=\"plotly-graph-div\" style=\"height:525px; width:100%;\"></div>            <script type=\"text/javascript\">                require([\"plotly\"], function(Plotly) {                    window.PLOTLYENV=window.PLOTLYENV || {};                                    if (document.getElementById(\"77780657-4b0e-4bc1-b034-cc654d4e8b1a\")) {                    Plotly.newPlot(                        \"77780657-4b0e-4bc1-b034-cc654d4e8b1a\",                        [{\"alignmentgroup\":\"True\",\"bingroup\":\"x\",\"hovertemplate\":\"gender=male<br>EncouragingDiscouraging=%{x}<br>count=%{y}<extra></extra>\",\"legendgroup\":\"male\",\"marker\":{\"color\":\"#636efa\",\"pattern\":{\"shape\":\"\"}},\"name\":\"male\",\"offsetgroup\":\"male\",\"orientation\":\"v\",\"showlegend\":true,\"x\":[\"Discouraging\",\"Discouraging\",\"Encouraging\",\"Encouraging\",\"Encouraging\",\"Discouraging\",\"Encouraging\",\"Discouraging\",\"Encouraging\",\"Encouraging\",\"Encouraging\",\"Encouraging\",\"Discouraging\",\"Encouraging\",\"Discouraging\",\"Encouraging\",\"Discouraging\",\"Encouraging\",\"Discouraging\",\"Encouraging\",\"Encouraging\",\"Encouraging\",\"Discouraging\",\"Discouraging\",\"Discouraging\",\"Encouraging\",\"Discouraging\",\"Encouraging\",\"Encouraging\",\"Discouraging\",\"Encouraging\",\"Encouraging\",\"Encouraging\",\"Encouraging\",\"Encouraging\",\"Encouraging\",\"Discouraging\",\"Encouraging\",\"Encouraging\",\"Encouraging\",\"Discouraging\",\"Encouraging\",\"Encouraging\",\"Encouraging\",\"Encouraging\",\"Discouraging\",\"Encouraging\",\"Encouraging\",\"Encouraging\",\"Encouraging\",\"Discouraging\",\"Encouraging\",\"Encouraging\",\"Encouraging\",\"Discouraging\",\"Encouraging\",\"Encouraging\",\"Encouraging\",\"Discouraging\",\"Discouraging\",\"Discouraging\",\"Encouraging\",\"Discouraging\",\"Encouraging\",\"Discouraging\",\"Discouraging\",\"Discouraging\",\"Encouraging\",\"Encouraging\",\"Encouraging\",\"Encouraging\",\"Encouraging\",\"Encouraging\",\"Encouraging\",\"Discouraging\",\"Discouraging\",\"Encouraging\",\"Discouraging\",\"Discouraging\",\"Encouraging\",\"Encouraging\",\"Encouraging\",\"Encouraging\",\"Encouraging\",\"Encouraging\",\"Encouraging\",\"Discouraging\",\"Discouraging\",\"Encouraging\",\"Encouraging\",\"Encouraging\",\"Encouraging\",\"Discouraging\",\"Discouraging\",\"Encouraging\",\"Encouraging\",\"Encouraging\",\"Encouraging\",\"Encouraging\",\"Encouraging\",\"Encouraging\",\"Encouraging\",\"Encouraging\",\"Discouraging\",\"Encouraging\",\"Encouraging\",\"Encouraging\",\"Encouraging\",\"Encouraging\",\"Encouraging\",\"Discouraging\",\"Encouraging\",\"Encouraging\",\"Encouraging\",\"Discouraging\",\"Discouraging\",\"Encouraging\",\"Encouraging\",\"Discouraging\",\"Encouraging\",\"Encouraging\",\"Encouraging\",\"Encouraging\",\"Discouraging\",\"Discouraging\",\"Encouraging\",\"Encouraging\",\"Encouraging\",\"Encouraging\",\"Encouraging\",\"Encouraging\",\"Discouraging\",\"Encouraging\",\"Encouraging\",\"Encouraging\",\"Discouraging\",\"Encouraging\",\"Encouraging\",\"Discouraging\",\"Encouraging\",\"Encouraging\",\"Encouraging\",\"Encouraging\",\"Encouraging\",\"Encouraging\",\"Discouraging\",\"Encouraging\",\"Discouraging\",\"Encouraging\",\"Encouraging\",\"Encouraging\",\"Encouraging\",\"Encouraging\",\"Discouraging\",\"Encouraging\",\"Encouraging\",\"Encouraging\",\"Discouraging\",\"Encouraging\",\"Encouraging\",\"Discouraging\",\"Encouraging\",\"Discouraging\",\"Encouraging\",\"Encouraging\",\"Encouraging\",\"Discouraging\",\"Encouraging\",\"Encouraging\",\"Discouraging\",\"Encouraging\",\"Encouraging\",\"Encouraging\",\"Encouraging\",\"Discouraging\",\"Encouraging\",\"Discouraging\",\"Encouraging\",\"Encouraging\",\"Encouraging\",\"Encouraging\",\"Encouraging\",\"Encouraging\",\"Discouraging\",\"Encouraging\",\"Encouraging\",\"Encouraging\",\"Discouraging\",\"Encouraging\",\"Encouraging\",\"Encouraging\",\"Encouraging\",\"Discouraging\",\"Encouraging\",\"Discouraging\",\"Discouraging\",\"Discouraging\",\"Encouraging\",\"Discouraging\",\"Encouraging\",\"Discouraging\",\"Encouraging\",\"Encouraging\",\"Discouraging\",\"Encouraging\",\"Encouraging\",\"Discouraging\",\"Encouraging\",\"Encouraging\",\"Discouraging\",\"Encouraging\",\"Encouraging\",\"Discouraging\",\"Encouraging\",\"Encouraging\",\"Encouraging\",\"Encouraging\",\"Discouraging\",\"Encouraging\",\"Encouraging\",\"Encouraging\",\"Discouraging\",\"Encouraging\",\"Discouraging\",\"Encouraging\",\"Encouraging\",\"Discouraging\",\"Discouraging\",\"Encouraging\",\"Encouraging\",\"Encouraging\",\"Discouraging\",\"Encouraging\",\"Encouraging\",\"Discouraging\",\"Discouraging\",\"Discouraging\",\"Discouraging\",\"Discouraging\",\"Encouraging\",\"Discouraging\",\"Discouraging\",\"Discouraging\",\"Discouraging\",\"Encouraging\",\"Encouraging\",\"Discouraging\",\"Discouraging\",\"Encouraging\",\"Encouraging\",\"Encouraging\",\"Encouraging\",\"Discouraging\",\"Encouraging\",\"Encouraging\",\"Discouraging\",\"Encouraging\",\"Encouraging\",\"Discouraging\",\"Encouraging\",\"Encouraging\",\"Encouraging\",\"Encouraging\",\"Encouraging\",\"Discouraging\",\"Discouraging\",\"Discouraging\",\"Encouraging\",\"Encouraging\",\"Discouraging\",\"Encouraging\",\"Discouraging\",\"Encouraging\",\"Encouraging\",\"Discouraging\",\"Encouraging\",\"Encouraging\",\"Encouraging\",\"Encouraging\",\"Encouraging\",\"Discouraging\",\"Discouraging\",\"Discouraging\",\"Encouraging\",\"Discouraging\",\"Discouraging\",\"Discouraging\",\"Discouraging\",\"Encouraging\",\"Discouraging\",\"Discouraging\",\"Discouraging\",\"Encouraging\",\"Encouraging\",\"Discouraging\",\"Encouraging\",\"Discouraging\",\"Encouraging\",\"Discouraging\",\"Encouraging\",\"Discouraging\",\"Encouraging\",\"Discouraging\",\"Discouraging\",\"Encouraging\",\"Encouraging\",\"Discouraging\",\"Encouraging\",\"Encouraging\",\"Encouraging\",\"Discouraging\",\"Encouraging\",\"Discouraging\",\"Discouraging\",\"Discouraging\",\"Encouraging\",\"Encouraging\",\"Encouraging\",\"Discouraging\",\"Encouraging\",\"Encouraging\",\"Discouraging\",\"Discouraging\",\"Encouraging\",\"Discouraging\",\"Discouraging\",\"Encouraging\",\"Discouraging\",\"Discouraging\",\"Discouraging\",\"Discouraging\",\"Encouraging\",\"Encouraging\",\"Discouraging\",\"Discouraging\",\"Encouraging\",\"Encouraging\",\"Discouraging\",\"Encouraging\",\"Discouraging\",\"Encouraging\",\"Encouraging\",\"Discouraging\",\"Encouraging\",\"Encouraging\",\"Discouraging\",\"Encouraging\",\"Discouraging\",\"Encouraging\",\"Discouraging\",\"Discouraging\",\"Discouraging\",\"Encouraging\",\"Encouraging\",\"Encouraging\",\"Encouraging\",\"Discouraging\",\"Encouraging\",\"Encouraging\",\"Encouraging\",\"Encouraging\",\"Discouraging\",\"Encouraging\",\"Encouraging\",\"Encouraging\",\"Discouraging\",\"Encouraging\",\"Encouraging\",\"Encouraging\",\"Discouraging\",\"Discouraging\",\"Encouraging\",\"Encouraging\",\"Encouraging\",\"Encouraging\",\"Discouraging\",\"Discouraging\",\"Discouraging\",\"Encouraging\",\"Encouraging\",\"Encouraging\",\"Encouraging\",\"Encouraging\",\"Encouraging\",\"Encouraging\",\"Discouraging\",\"Discouraging\",\"Encouraging\",\"Encouraging\",\"Encouraging\",\"Encouraging\",\"Encouraging\",\"Encouraging\",\"Encouraging\",\"Encouraging\",\"Discouraging\",\"Discouraging\",\"Encouraging\",\"Encouraging\",\"Encouraging\",\"Encouraging\",\"Discouraging\",\"Encouraging\",\"Discouraging\",\"Encouraging\",\"Encouraging\",\"Encouraging\",\"Encouraging\",\"Encouraging\",\"Discouraging\",\"Encouraging\",\"Encouraging\",\"Encouraging\",\"Encouraging\",\"Discouraging\",\"Discouraging\",\"Encouraging\",\"Encouraging\",\"Encouraging\",\"Encouraging\",\"Encouraging\",\"Discouraging\",\"Encouraging\",\"Discouraging\",\"Encouraging\",\"Discouraging\",\"Discouraging\",\"Discouraging\",\"Encouraging\",\"Encouraging\",\"Encouraging\",\"Discouraging\",\"Encouraging\",\"Encouraging\",\"Discouraging\",\"Encouraging\",\"Encouraging\",\"Encouraging\",\"Encouraging\",\"Encouraging\",\"Encouraging\",\"Encouraging\",\"Encouraging\",\"Encouraging\",\"Encouraging\",\"Encouraging\",\"Encouraging\",\"Encouraging\",\"Discouraging\",\"Encouraging\",\"Discouraging\",\"Discouraging\",\"Encouraging\",\"Encouraging\",\"Encouraging\",\"Encouraging\",\"Encouraging\",\"Encouraging\",\"Encouraging\",\"Encouraging\",\"Encouraging\",\"Encouraging\",\"Encouraging\",\"Encouraging\",null,\"Encouraging\",\"Discouraging\",\"Encouraging\",\"Encouraging\",\"Encouraging\",\"Encouraging\",\"Encouraging\",\"Encouraging\",\"Encouraging\",\"Discouraging\",\"Encouraging\",\"Discouraging\",\"Encouraging\",\"Encouraging\",\"Encouraging\",\"Encouraging\",\"Encouraging\",\"Encouraging\",\"Discouraging\",\"Encouraging\",\"Discouraging\",\"Encouraging\",\"Discouraging\",null,\"Encouraging\",\"Encouraging\",\"Discouraging\",\"Discouraging\",\"Encouraging\",\"Encouraging\",\"Discouraging\",\"Encouraging\",\"Encouraging\",\"Encouraging\",\"Encouraging\",\"Encouraging\",\"Encouraging\",\"Encouraging\",\"Encouraging\",\"Encouraging\",\"Discouraging\",\"Encouraging\",\"Encouraging\",\"Encouraging\",\"Discouraging\",\"Discouraging\",\"Discouraging\",\"Encouraging\",\"Discouraging\",\"Encouraging\",\"Discouraging\",\"Encouraging\",\"Encouraging\",\"Discouraging\",\"Encouraging\",\"Encouraging\",\"Discouraging\",\"Discouraging\",\"Encouraging\",\"Discouraging\",\"Encouraging\",\"Discouraging\",\"Discouraging\",\"Encouraging\",\"Discouraging\",\"Discouraging\",\"Encouraging\",\"Discouraging\",\"Discouraging\",\"Discouraging\",\"Encouraging\",\"Encouraging\",\"Encouraging\",\"Encouraging\",\"Encouraging\",\"Encouraging\",\"Encouraging\",\"Discouraging\",\"Discouraging\",\"Discouraging\",\"Encouraging\",\"Encouraging\",\"Encouraging\",\"Encouraging\",\"Encouraging\",\"Discouraging\",\"Encouraging\",\"Encouraging\",\"Encouraging\",\"Encouraging\",\"Discouraging\",\"Discouraging\",\"Discouraging\",\"Discouraging\",\"Encouraging\",\"Encouraging\",\"Encouraging\",\"Discouraging\",\"Discouraging\",\"Discouraging\",\"Discouraging\",\"Discouraging\",\"Encouraging\",\"Encouraging\",\"Encouraging\",\"Encouraging\",\"Discouraging\",\"Encouraging\",\"Encouraging\",\"Discouraging\",\"Encouraging\",\"Encouraging\",\"Discouraging\",\"Encouraging\",\"Encouraging\",\"Encouraging\",\"Discouraging\",\"Encouraging\",\"Discouraging\",\"Encouraging\",\"Discouraging\",\"Encouraging\",\"Encouraging\",\"Encouraging\",\"Discouraging\",\"Encouraging\",\"Encouraging\",\"Encouraging\",\"Encouraging\",\"Discouraging\",\"Encouraging\",\"Encouraging\",\"Discouraging\",\"Encouraging\",\"Discouraging\",\"Discouraging\",\"Encouraging\",\"Encouraging\",\"Encouraging\",\"Encouraging\",\"Discouraging\",\"Discouraging\",\"Discouraging\",\"Encouraging\",\"Discouraging\",\"Encouraging\",\"Encouraging\",\"Discouraging\",\"Encouraging\",\"Encouraging\",\"Discouraging\",\"Discouraging\",\"Discouraging\",\"Discouraging\",\"Encouraging\",\"Discouraging\",\"Encouraging\",\"Encouraging\",\"Encouraging\",\"Encouraging\",\"Encouraging\",\"Encouraging\",\"Encouraging\",\"Encouraging\",\"Encouraging\",\"Encouraging\",\"Encouraging\",\"Encouraging\",\"Encouraging\",\"Encouraging\",\"Encouraging\",\"Discouraging\",\"Discouraging\",\"Encouraging\",\"Encouraging\",\"Encouraging\",\"Encouraging\",\"Encouraging\",\"Encouraging\",\"Discouraging\",\"Encouraging\",\"Discouraging\",\"Encouraging\",\"Encouraging\",\"Discouraging\",\"Encouraging\",\"Discouraging\",\"Encouraging\",\"Discouraging\",\"Encouraging\",\"Encouraging\",\"Encouraging\",\"Encouraging\",\"Discouraging\",\"Discouraging\",\"Encouraging\",\"Encouraging\",\"Encouraging\",\"Encouraging\",\"Discouraging\",\"Encouraging\",\"Encouraging\",\"Discouraging\",\"Encouraging\",\"Encouraging\",\"Discouraging\",\"Discouraging\",\"Encouraging\",\"Discouraging\",\"Encouraging\",\"Encouraging\",\"Encouraging\",\"Encouraging\",\"Encouraging\",\"Discouraging\",\"Discouraging\",\"Discouraging\",\"Encouraging\",\"Discouraging\",\"Encouraging\",\"Encouraging\",\"Discouraging\",\"Encouraging\",\"Encouraging\",\"Encouraging\",\"Encouraging\",\"Encouraging\",\"Discouraging\",\"Discouraging\",\"Encouraging\",\"Encouraging\",\"Discouraging\",\"Discouraging\",\"Encouraging\",\"Encouraging\",\"Encouraging\",\"Encouraging\",\"Discouraging\",\"Discouraging\",\"Discouraging\",\"Encouraging\",\"Discouraging\",\"Encouraging\",\"Discouraging\",\"Discouraging\",\"Discouraging\",\"Encouraging\",\"Encouraging\",\"Discouraging\",\"Discouraging\",\"Discouraging\",\"Discouraging\",\"Encouraging\",\"Encouraging\",\"Encouraging\",\"Discouraging\",\"Discouraging\"],\"xaxis\":\"x\",\"yaxis\":\"y\",\"type\":\"histogram\"},{\"alignmentgroup\":\"True\",\"bingroup\":\"x\",\"hovertemplate\":\"gender=female<br>EncouragingDiscouraging=%{x}<br>count=%{y}<extra></extra>\",\"legendgroup\":\"female\",\"marker\":{\"color\":\"#EF553B\",\"pattern\":{\"shape\":\"\"}},\"name\":\"female\",\"offsetgroup\":\"female\",\"orientation\":\"v\",\"showlegend\":true,\"x\":[\"Encouraging\",\"Encouraging\",\"Encouraging\",\"Encouraging\",\"Encouraging\",\"Discouraging\",\"Encouraging\",\"Encouraging\",\"Encouraging\",\"Encouraging\",\"Discouraging\",\"Discouraging\",\"Encouraging\",\"Encouraging\",\"Encouraging\",\"Encouraging\",\"Encouraging\",\"Encouraging\",\"Encouraging\",\"Discouraging\",\"Encouraging\",\"Encouraging\",\"Encouraging\",\"Discouraging\",\"Encouraging\",\"Encouraging\",\"Discouraging\",\"Discouraging\",\"Encouraging\",\"Discouraging\",\"Encouraging\",\"Discouraging\",\"Encouraging\",\"Encouraging\",\"Encouraging\",\"Discouraging\",\"Encouraging\",\"Encouraging\",\"Encouraging\",\"Discouraging\",\"Discouraging\",\"Discouraging\",\"Discouraging\",\"Discouraging\",\"Encouraging\",\"Encouraging\",\"Encouraging\",\"Discouraging\",\"Encouraging\",\"Encouraging\",\"Encouraging\",\"Discouraging\",\"Encouraging\",\"Encouraging\",\"Encouraging\",\"Discouraging\",\"Encouraging\",\"Encouraging\",\"Discouraging\",\"Encouraging\",\"Encouraging\",\"Discouraging\",\"Encouraging\",\"Encouraging\",\"Encouraging\",\"Discouraging\",\"Encouraging\",\"Discouraging\",\"Encouraging\",\"Encouraging\",\"Discouraging\",\"Discouraging\",\"Encouraging\",\"Encouraging\",\"Encouraging\",\"Encouraging\",\"Encouraging\",\"Encouraging\",\"Encouraging\",\"Encouraging\",\"Encouraging\",\"Discouraging\",\"Encouraging\",\"Encouraging\",\"Discouraging\",\"Encouraging\",\"Encouraging\",\"Discouraging\",\"Encouraging\",\"Encouraging\",\"Discouraging\",\"Encouraging\",\"Discouraging\",\"Encouraging\",\"Encouraging\",\"Discouraging\",\"Encouraging\",\"Encouraging\",\"Encouraging\",\"Discouraging\",\"Encouraging\",\"Discouraging\",\"Discouraging\",\"Encouraging\",\"Discouraging\",\"Encouraging\",\"Encouraging\",\"Encouraging\",\"Encouraging\",\"Encouraging\",\"Encouraging\",\"Discouraging\",\"Discouraging\",\"Encouraging\",\"Encouraging\",\"Encouraging\",\"Encouraging\",\"Encouraging\",\"Discouraging\",\"Encouraging\",\"Encouraging\",\"Encouraging\",\"Discouraging\",\"Encouraging\",\"Encouraging\",\"Encouraging\",\"Encouraging\",\"Encouraging\",\"Encouraging\",\"Encouraging\",\"Discouraging\",\"Encouraging\",\"Encouraging\",\"Encouraging\",\"Encouraging\",\"Encouraging\",\"Encouraging\",\"Discouraging\",\"Encouraging\",\"Encouraging\",null,\"Discouraging\",\"Discouraging\",\"Encouraging\",\"Encouraging\",\"Discouraging\",\"Encouraging\",\"Encouraging\",\"Encouraging\",\"Encouraging\",\"Encouraging\",\"Encouraging\",\"Encouraging\",\"Encouraging\",\"Encouraging\",\"Discouraging\",\"Discouraging\",\"Encouraging\",\"Encouraging\",\"Encouraging\",\"Discouraging\",\"Encouraging\",\"Encouraging\",\"Encouraging\",\"Encouraging\",\"Discouraging\",\"Encouraging\",\"Encouraging\",\"Encouraging\",\"Encouraging\",\"Encouraging\",\"Encouraging\",\"Discouraging\",\"Encouraging\",\"Encouraging\",\"Encouraging\",\"Encouraging\",\"Encouraging\",\"Encouraging\",\"Encouraging\",\"Encouraging\",\"Encouraging\",\"Encouraging\",\"Encouraging\",\"Encouraging\",\"Encouraging\",\"Discouraging\",\"Encouraging\",\"Encouraging\",\"Encouraging\",\"Discouraging\",\"Encouraging\",\"Encouraging\",\"Encouraging\",\"Encouraging\",\"Encouraging\",\"Encouraging\",\"Encouraging\",\"Encouraging\",\"Encouraging\",\"Encouraging\",\"Encouraging\",\"Discouraging\",\"Encouraging\",\"Encouraging\",\"Encouraging\",\"Encouraging\",\"Encouraging\",\"Discouraging\",\"Discouraging\",\"Encouraging\",\"Discouraging\",\"Encouraging\",\"Encouraging\",\"Encouraging\",\"Encouraging\",\"Encouraging\",\"Encouraging\",\"Encouraging\",\"Discouraging\",\"Discouraging\",\"Encouraging\",\"Encouraging\",\"Encouraging\",\"Discouraging\",\"Encouraging\",\"Discouraging\",\"Encouraging\",\"Encouraging\",\"Encouraging\",\"Discouraging\",\"Encouraging\",\"Encouraging\",\"Encouraging\",\"Discouraging\",\"Encouraging\",\"Discouraging\",\"Encouraging\",\"Encouraging\",\"Encouraging\",\"Encouraging\",\"Encouraging\",\"Discouraging\",\"Encouraging\",\"Encouraging\",\"Discouraging\",\"Discouraging\",\"Encouraging\",\"Encouraging\",\"Discouraging\",\"Encouraging\",\"Encouraging\",\"Encouraging\",\"Encouraging\",\"Encouraging\",\"Encouraging\",\"Encouraging\",\"Encouraging\",\"Encouraging\",\"Discouraging\",\"Encouraging\",\"Discouraging\",\"Encouraging\",\"Encouraging\",\"Encouraging\",\"Encouraging\",\"Encouraging\",\"Encouraging\",\"Encouraging\",\"Discouraging\",\"Discouraging\",\"Encouraging\",\"Discouraging\",\"Encouraging\",\"Encouraging\",\"Encouraging\",\"Encouraging\",\"Encouraging\",\"Encouraging\",\"Discouraging\",\"Encouraging\",\"Encouraging\",\"Encouraging\",\"Discouraging\",\"Encouraging\",\"Encouraging\",\"Encouraging\",\"Discouraging\",\"Encouraging\",\"Encouraging\",\"Encouraging\",\"Discouraging\",\"Encouraging\",\"Encouraging\",\"Discouraging\",\"Discouraging\",\"Encouraging\",\"Encouraging\",\"Encouraging\",\"Encouraging\",\"Encouraging\",\"Encouraging\",\"Encouraging\",\"Encouraging\",\"Encouraging\",\"Encouraging\",\"Encouraging\",\"Discouraging\",\"Encouraging\",\"Encouraging\",\"Encouraging\",\"Encouraging\",\"Discouraging\",\"Discouraging\",\"Discouraging\",\"Discouraging\",\"Encouraging\",\"Encouraging\",\"Discouraging\",\"Encouraging\",\"Encouraging\",\"Discouraging\",\"Encouraging\",\"Encouraging\",\"Encouraging\",\"Discouraging\",\"Encouraging\",\"Discouraging\",\"Discouraging\",\"Discouraging\",\"Encouraging\",\"Discouraging\",\"Encouraging\",\"Encouraging\",\"Discouraging\",\"Encouraging\",\"Discouraging\",\"Encouraging\",\"Encouraging\",\"Encouraging\",\"Encouraging\",\"Discouraging\",\"Encouraging\",\"Encouraging\",\"Encouraging\",\"Encouraging\",\"Discouraging\",\"Encouraging\",\"Encouraging\",\"Encouraging\",\"Discouraging\",\"Encouraging\",\"Discouraging\",\"Encouraging\",\"Encouraging\",\"Encouraging\",\"Discouraging\",\"Encouraging\",\"Encouraging\",\"Encouraging\",\"Encouraging\",\"Discouraging\",\"Encouraging\",\"Encouraging\",\"Discouraging\",\"Encouraging\",\"Encouraging\",\"Encouraging\",\"Encouraging\",\"Encouraging\",\"Encouraging\",\"Encouraging\",\"Discouraging\",\"Discouraging\",\"Encouraging\",\"Encouraging\",\"Encouraging\",\"Discouraging\",\"Encouraging\",\"Encouraging\",\"Discouraging\",\"Encouraging\",\"Encouraging\",\"Encouraging\",\"Encouraging\",\"Discouraging\",\"Encouraging\",\"Discouraging\",\"Encouraging\",\"Encouraging\",\"Encouraging\",\"Encouraging\",\"Discouraging\",\"Encouraging\",\"Encouraging\",\"Discouraging\",\"Encouraging\",\"Encouraging\",\"Discouraging\",\"Encouraging\",\"Encouraging\",\"Encouraging\",\"Encouraging\",\"Encouraging\",\"Encouraging\",\"Encouraging\",\"Encouraging\",\"Encouraging\",\"Discouraging\",\"Encouraging\",\"Discouraging\",\"Encouraging\",\"Encouraging\",\"Encouraging\",\"Encouraging\",\"Encouraging\",\"Encouraging\",\"Encouraging\",\"Discouraging\",\"Encouraging\",\"Encouraging\",\"Encouraging\",\"Encouraging\",\"Encouraging\",\"Encouraging\",\"Discouraging\",\"Discouraging\",\"Encouraging\",\"Encouraging\",\"Encouraging\",\"Encouraging\",\"Encouraging\",\"Encouraging\",\"Encouraging\",\"Encouraging\",\"Encouraging\",\"Encouraging\",\"Encouraging\",\"Encouraging\",\"Discouraging\",\"Encouraging\",\"Encouraging\",\"Encouraging\",\"Encouraging\",\"Encouraging\",\"Encouraging\",\"Encouraging\",\"Encouraging\",\"Encouraging\",\"Encouraging\",\"Encouraging\",\"Encouraging\",\"Encouraging\",\"Encouraging\",\"Encouraging\",\"Discouraging\",\"Encouraging\",\"Encouraging\",\"Encouraging\",\"Encouraging\",\"Encouraging\",\"Encouraging\",\"Discouraging\",\"Encouraging\",\"Discouraging\",\"Encouraging\",\"Encouraging\",\"Encouraging\",\"Encouraging\",\"Discouraging\",\"Encouraging\",\"Encouraging\",\"Discouraging\",\"Discouraging\",\"Encouraging\",\"Encouraging\",\"Encouraging\",\"Discouraging\",\"Encouraging\",\"Encouraging\",\"Encouraging\",\"Encouraging\",\"Encouraging\",\"Encouraging\",\"Encouraging\",\"Encouraging\",\"Encouraging\",\"Discouraging\",\"Encouraging\",\"Discouraging\",\"Encouraging\",\"Encouraging\",\"Encouraging\",\"Encouraging\",\"Encouraging\",\"Encouraging\",\"Encouraging\",\"Encouraging\",\"Encouraging\",\"Encouraging\",\"Encouraging\",\"Encouraging\",\"Encouraging\",\"Discouraging\",\"Encouraging\",\"Encouraging\",\"Encouraging\",\"Encouraging\",\"Encouraging\",\"Encouraging\",\"Encouraging\",\"Encouraging\",\"Discouraging\",\"Discouraging\",\"Encouraging\",\"Encouraging\",\"Encouraging\",\"Encouraging\",\"Discouraging\",\"Encouraging\",\"Encouraging\",\"Encouraging\",\"Encouraging\",\"Encouraging\",\"Encouraging\",\"Discouraging\",\"Encouraging\",\"Discouraging\",\"Discouraging\",\"Discouraging\",\"Encouraging\",\"Encouraging\",\"Encouraging\",\"Encouraging\",\"Discouraging\",\"Encouraging\",\"Encouraging\",\"Encouraging\",\"Discouraging\",\"Discouraging\",\"Encouraging\",\"Encouraging\",\"Discouraging\",\"Encouraging\",\"Encouraging\",\"Encouraging\",\"Discouraging\",\"Encouraging\",\"Encouraging\",\"Encouraging\",\"Encouraging\",\"Discouraging\",\"Discouraging\",\"Encouraging\",\"Encouraging\",\"Discouraging\",\"Discouraging\",\"Encouraging\",\"Encouraging\",\"Encouraging\",\"Discouraging\",\"Encouraging\",\"Encouraging\",\"Encouraging\",\"Encouraging\",\"Encouraging\",\"Discouraging\",\"Encouraging\",\"Encouraging\",\"Encouraging\",\"Encouraging\",\"Encouraging\",\"Encouraging\",\"Encouraging\",\"Discouraging\",\"Encouraging\",\"Encouraging\",\"Encouraging\",\"Encouraging\",\"Discouraging\",\"Discouraging\",\"Encouraging\",\"Discouraging\",\"Encouraging\",\"Discouraging\",\"Encouraging\",\"Encouraging\",\"Encouraging\",\"Encouraging\",\"Discouraging\",\"Encouraging\",\"Discouraging\",\"Encouraging\",\"Encouraging\",\"Discouraging\",\"Encouraging\",\"Discouraging\",\"Discouraging\",\"Encouraging\",\"Discouraging\",\"Encouraging\",\"Discouraging\",\"Discouraging\",\"Encouraging\",\"Encouraging\",\"Encouraging\",\"Encouraging\",\"Discouraging\",\"Discouraging\",\"Encouraging\",\"Encouraging\",\"Discouraging\",\"Encouraging\",\"Encouraging\",\"Encouraging\",\"Encouraging\",\"Discouraging\",\"Encouraging\",\"Encouraging\",\"Encouraging\",\"Discouraging\",\"Encouraging\",\"Discouraging\",\"Encouraging\",\"Encouraging\",\"Discouraging\",\"Encouraging\",\"Encouraging\",\"Encouraging\",\"Discouraging\",\"Discouraging\",\"Encouraging\",\"Encouraging\",\"Encouraging\",\"Encouraging\",\"Encouraging\",\"Encouraging\",\"Encouraging\",\"Discouraging\",\"Encouraging\",\"Discouraging\",\"Encouraging\",\"Encouraging\",\"Encouraging\",\"Encouraging\",\"Discouraging\",\"Encouraging\",\"Discouraging\",\"Encouraging\",\"Encouraging\",\"Encouraging\",\"Encouraging\",\"Encouraging\",\"Encouraging\",\"Encouraging\",\"Encouraging\",\"Discouraging\",\"Encouraging\",\"Encouraging\",\"Encouraging\",\"Encouraging\",\"Encouraging\",\"Encouraging\",\"Encouraging\",\"Encouraging\",\"Discouraging\",\"Encouraging\",\"Discouraging\",\"Discouraging\",\"Encouraging\",\"Discouraging\",\"Encouraging\",\"Encouraging\",\"Encouraging\",\"Encouraging\",\"Encouraging\",\"Encouraging\",\"Encouraging\",\"Encouraging\",\"Discouraging\",\"Discouraging\"],\"xaxis\":\"x\",\"yaxis\":\"y\",\"type\":\"histogram\"}],                        {\"template\":{\"data\":{\"histogram2dcontour\":[{\"type\":\"histogram2dcontour\",\"colorbar\":{\"outlinewidth\":0,\"ticks\":\"\"},\"colorscale\":[[0.0,\"#0d0887\"],[0.1111111111111111,\"#46039f\"],[0.2222222222222222,\"#7201a8\"],[0.3333333333333333,\"#9c179e\"],[0.4444444444444444,\"#bd3786\"],[0.5555555555555556,\"#d8576b\"],[0.6666666666666666,\"#ed7953\"],[0.7777777777777778,\"#fb9f3a\"],[0.8888888888888888,\"#fdca26\"],[1.0,\"#f0f921\"]]}],\"choropleth\":[{\"type\":\"choropleth\",\"colorbar\":{\"outlinewidth\":0,\"ticks\":\"\"}}],\"histogram2d\":[{\"type\":\"histogram2d\",\"colorbar\":{\"outlinewidth\":0,\"ticks\":\"\"},\"colorscale\":[[0.0,\"#0d0887\"],[0.1111111111111111,\"#46039f\"],[0.2222222222222222,\"#7201a8\"],[0.3333333333333333,\"#9c179e\"],[0.4444444444444444,\"#bd3786\"],[0.5555555555555556,\"#d8576b\"],[0.6666666666666666,\"#ed7953\"],[0.7777777777777778,\"#fb9f3a\"],[0.8888888888888888,\"#fdca26\"],[1.0,\"#f0f921\"]]}],\"heatmap\":[{\"type\":\"heatmap\",\"colorbar\":{\"outlinewidth\":0,\"ticks\":\"\"},\"colorscale\":[[0.0,\"#0d0887\"],[0.1111111111111111,\"#46039f\"],[0.2222222222222222,\"#7201a8\"],[0.3333333333333333,\"#9c179e\"],[0.4444444444444444,\"#bd3786\"],[0.5555555555555556,\"#d8576b\"],[0.6666666666666666,\"#ed7953\"],[0.7777777777777778,\"#fb9f3a\"],[0.8888888888888888,\"#fdca26\"],[1.0,\"#f0f921\"]]}],\"heatmapgl\":[{\"type\":\"heatmapgl\",\"colorbar\":{\"outlinewidth\":0,\"ticks\":\"\"},\"colorscale\":[[0.0,\"#0d0887\"],[0.1111111111111111,\"#46039f\"],[0.2222222222222222,\"#7201a8\"],[0.3333333333333333,\"#9c179e\"],[0.4444444444444444,\"#bd3786\"],[0.5555555555555556,\"#d8576b\"],[0.6666666666666666,\"#ed7953\"],[0.7777777777777778,\"#fb9f3a\"],[0.8888888888888888,\"#fdca26\"],[1.0,\"#f0f921\"]]}],\"contourcarpet\":[{\"type\":\"contourcarpet\",\"colorbar\":{\"outlinewidth\":0,\"ticks\":\"\"}}],\"contour\":[{\"type\":\"contour\",\"colorbar\":{\"outlinewidth\":0,\"ticks\":\"\"},\"colorscale\":[[0.0,\"#0d0887\"],[0.1111111111111111,\"#46039f\"],[0.2222222222222222,\"#7201a8\"],[0.3333333333333333,\"#9c179e\"],[0.4444444444444444,\"#bd3786\"],[0.5555555555555556,\"#d8576b\"],[0.6666666666666666,\"#ed7953\"],[0.7777777777777778,\"#fb9f3a\"],[0.8888888888888888,\"#fdca26\"],[1.0,\"#f0f921\"]]}],\"surface\":[{\"type\":\"surface\",\"colorbar\":{\"outlinewidth\":0,\"ticks\":\"\"},\"colorscale\":[[0.0,\"#0d0887\"],[0.1111111111111111,\"#46039f\"],[0.2222222222222222,\"#7201a8\"],[0.3333333333333333,\"#9c179e\"],[0.4444444444444444,\"#bd3786\"],[0.5555555555555556,\"#d8576b\"],[0.6666666666666666,\"#ed7953\"],[0.7777777777777778,\"#fb9f3a\"],[0.8888888888888888,\"#fdca26\"],[1.0,\"#f0f921\"]]}],\"mesh3d\":[{\"type\":\"mesh3d\",\"colorbar\":{\"outlinewidth\":0,\"ticks\":\"\"}}],\"scatter\":[{\"fillpattern\":{\"fillmode\":\"overlay\",\"size\":10,\"solidity\":0.2},\"type\":\"scatter\"}],\"parcoords\":[{\"type\":\"parcoords\",\"line\":{\"colorbar\":{\"outlinewidth\":0,\"ticks\":\"\"}}}],\"scatterpolargl\":[{\"type\":\"scatterpolargl\",\"marker\":{\"colorbar\":{\"outlinewidth\":0,\"ticks\":\"\"}}}],\"bar\":[{\"error_x\":{\"color\":\"#2a3f5f\"},\"error_y\":{\"color\":\"#2a3f5f\"},\"marker\":{\"line\":{\"color\":\"#E5ECF6\",\"width\":0.5},\"pattern\":{\"fillmode\":\"overlay\",\"size\":10,\"solidity\":0.2}},\"type\":\"bar\"}],\"scattergeo\":[{\"type\":\"scattergeo\",\"marker\":{\"colorbar\":{\"outlinewidth\":0,\"ticks\":\"\"}}}],\"scatterpolar\":[{\"type\":\"scatterpolar\",\"marker\":{\"colorbar\":{\"outlinewidth\":0,\"ticks\":\"\"}}}],\"histogram\":[{\"marker\":{\"pattern\":{\"fillmode\":\"overlay\",\"size\":10,\"solidity\":0.2}},\"type\":\"histogram\"}],\"scattergl\":[{\"type\":\"scattergl\",\"marker\":{\"colorbar\":{\"outlinewidth\":0,\"ticks\":\"\"}}}],\"scatter3d\":[{\"type\":\"scatter3d\",\"line\":{\"colorbar\":{\"outlinewidth\":0,\"ticks\":\"\"}},\"marker\":{\"colorbar\":{\"outlinewidth\":0,\"ticks\":\"\"}}}],\"scattermapbox\":[{\"type\":\"scattermapbox\",\"marker\":{\"colorbar\":{\"outlinewidth\":0,\"ticks\":\"\"}}}],\"scatterternary\":[{\"type\":\"scatterternary\",\"marker\":{\"colorbar\":{\"outlinewidth\":0,\"ticks\":\"\"}}}],\"scattercarpet\":[{\"type\":\"scattercarpet\",\"marker\":{\"colorbar\":{\"outlinewidth\":0,\"ticks\":\"\"}}}],\"carpet\":[{\"aaxis\":{\"endlinecolor\":\"#2a3f5f\",\"gridcolor\":\"white\",\"linecolor\":\"white\",\"minorgridcolor\":\"white\",\"startlinecolor\":\"#2a3f5f\"},\"baxis\":{\"endlinecolor\":\"#2a3f5f\",\"gridcolor\":\"white\",\"linecolor\":\"white\",\"minorgridcolor\":\"white\",\"startlinecolor\":\"#2a3f5f\"},\"type\":\"carpet\"}],\"table\":[{\"cells\":{\"fill\":{\"color\":\"#EBF0F8\"},\"line\":{\"color\":\"white\"}},\"header\":{\"fill\":{\"color\":\"#C8D4E3\"},\"line\":{\"color\":\"white\"}},\"type\":\"table\"}],\"barpolar\":[{\"marker\":{\"line\":{\"color\":\"#E5ECF6\",\"width\":0.5},\"pattern\":{\"fillmode\":\"overlay\",\"size\":10,\"solidity\":0.2}},\"type\":\"barpolar\"}],\"pie\":[{\"automargin\":true,\"type\":\"pie\"}]},\"layout\":{\"autotypenumbers\":\"strict\",\"colorway\":[\"#636efa\",\"#EF553B\",\"#00cc96\",\"#ab63fa\",\"#FFA15A\",\"#19d3f3\",\"#FF6692\",\"#B6E880\",\"#FF97FF\",\"#FECB52\"],\"font\":{\"color\":\"#2a3f5f\"},\"hovermode\":\"closest\",\"hoverlabel\":{\"align\":\"left\"},\"paper_bgcolor\":\"white\",\"plot_bgcolor\":\"#E5ECF6\",\"polar\":{\"bgcolor\":\"#E5ECF6\",\"angularaxis\":{\"gridcolor\":\"white\",\"linecolor\":\"white\",\"ticks\":\"\"},\"radialaxis\":{\"gridcolor\":\"white\",\"linecolor\":\"white\",\"ticks\":\"\"}},\"ternary\":{\"bgcolor\":\"#E5ECF6\",\"aaxis\":{\"gridcolor\":\"white\",\"linecolor\":\"white\",\"ticks\":\"\"},\"baxis\":{\"gridcolor\":\"white\",\"linecolor\":\"white\",\"ticks\":\"\"},\"caxis\":{\"gridcolor\":\"white\",\"linecolor\":\"white\",\"ticks\":\"\"}},\"coloraxis\":{\"colorbar\":{\"outlinewidth\":0,\"ticks\":\"\"}},\"colorscale\":{\"sequential\":[[0.0,\"#0d0887\"],[0.1111111111111111,\"#46039f\"],[0.2222222222222222,\"#7201a8\"],[0.3333333333333333,\"#9c179e\"],[0.4444444444444444,\"#bd3786\"],[0.5555555555555556,\"#d8576b\"],[0.6666666666666666,\"#ed7953\"],[0.7777777777777778,\"#fb9f3a\"],[0.8888888888888888,\"#fdca26\"],[1.0,\"#f0f921\"]],\"sequentialminus\":[[0.0,\"#0d0887\"],[0.1111111111111111,\"#46039f\"],[0.2222222222222222,\"#7201a8\"],[0.3333333333333333,\"#9c179e\"],[0.4444444444444444,\"#bd3786\"],[0.5555555555555556,\"#d8576b\"],[0.6666666666666666,\"#ed7953\"],[0.7777777777777778,\"#fb9f3a\"],[0.8888888888888888,\"#fdca26\"],[1.0,\"#f0f921\"]],\"diverging\":[[0,\"#8e0152\"],[0.1,\"#c51b7d\"],[0.2,\"#de77ae\"],[0.3,\"#f1b6da\"],[0.4,\"#fde0ef\"],[0.5,\"#f7f7f7\"],[0.6,\"#e6f5d0\"],[0.7,\"#b8e186\"],[0.8,\"#7fbc41\"],[0.9,\"#4d9221\"],[1,\"#276419\"]]},\"xaxis\":{\"gridcolor\":\"white\",\"linecolor\":\"white\",\"ticks\":\"\",\"title\":{\"standoff\":15},\"zerolinecolor\":\"white\",\"automargin\":true,\"zerolinewidth\":2},\"yaxis\":{\"gridcolor\":\"white\",\"linecolor\":\"white\",\"ticks\":\"\",\"title\":{\"standoff\":15},\"zerolinecolor\":\"white\",\"automargin\":true,\"zerolinewidth\":2},\"scene\":{\"xaxis\":{\"backgroundcolor\":\"#E5ECF6\",\"gridcolor\":\"white\",\"linecolor\":\"white\",\"showbackground\":true,\"ticks\":\"\",\"zerolinecolor\":\"white\",\"gridwidth\":2},\"yaxis\":{\"backgroundcolor\":\"#E5ECF6\",\"gridcolor\":\"white\",\"linecolor\":\"white\",\"showbackground\":true,\"ticks\":\"\",\"zerolinecolor\":\"white\",\"gridwidth\":2},\"zaxis\":{\"backgroundcolor\":\"#E5ECF6\",\"gridcolor\":\"white\",\"linecolor\":\"white\",\"showbackground\":true,\"ticks\":\"\",\"zerolinecolor\":\"white\",\"gridwidth\":2}},\"shapedefaults\":{\"line\":{\"color\":\"#2a3f5f\"}},\"annotationdefaults\":{\"arrowcolor\":\"#2a3f5f\",\"arrowhead\":0,\"arrowwidth\":1},\"geo\":{\"bgcolor\":\"white\",\"landcolor\":\"#E5ECF6\",\"subunitcolor\":\"white\",\"showland\":true,\"showlakes\":true,\"lakecolor\":\"white\"},\"title\":{\"x\":0.05},\"mapbox\":{\"style\":\"light\"}}},\"xaxis\":{\"anchor\":\"y\",\"domain\":[0.0,1.0],\"title\":{\"text\":\"EncouragingDiscouraging\"}},\"yaxis\":{\"anchor\":\"x\",\"domain\":[0.0,1.0],\"title\":{\"text\":\"count\"}},\"legend\":{\"title\":{\"text\":\"gender\"},\"tracegroupgap\":0},\"margin\":{\"t\":60},\"barmode\":\"relative\"},                        {\"responsive\": true}                    ).then(function(){\n",
       "                            \n",
       "var gd = document.getElementById('77780657-4b0e-4bc1-b034-cc654d4e8b1a');\n",
       "var x = new MutationObserver(function (mutations, observer) {{\n",
       "        var display = window.getComputedStyle(gd).display;\n",
       "        if (!display || display === 'none') {{\n",
       "            console.log([gd, 'removed!']);\n",
       "            Plotly.purge(gd);\n",
       "            observer.disconnect();\n",
       "        }}\n",
       "}});\n",
       "\n",
       "// Listen for the removal of the full notebook cells\n",
       "var notebookContainer = gd.closest('#notebook-container');\n",
       "if (notebookContainer) {{\n",
       "    x.observe(notebookContainer, {childList: true});\n",
       "}}\n",
       "\n",
       "// Listen for the clearing of the current output cell\n",
       "var outputEl = gd.closest('.output');\n",
       "if (outputEl) {{\n",
       "    x.observe(outputEl, {childList: true});\n",
       "}}\n",
       "\n",
       "                        })                };                });            </script>        </div>"
      ]
     },
     "metadata": {},
     "output_type": "display_data"
    }
   ],
   "source": [
    "fig = px.histogram(agg, x = 'EncouragingDiscouraging', color = 'gender')\n",
    "fig.show()"
   ]
  },
  {
   "cell_type": "code",
   "execution_count": null,
   "id": "c840815e",
   "metadata": {},
   "outputs": [],
   "source": []
  }
 ],
 "metadata": {
  "kernelspec": {
   "display_name": "Python 3 (ipykernel)",
   "language": "python",
   "name": "python3"
  },
  "language_info": {
   "codemirror_mode": {
    "name": "ipython",
    "version": 3
   },
   "file_extension": ".py",
   "mimetype": "text/x-python",
   "name": "python",
   "nbconvert_exporter": "python",
   "pygments_lexer": "ipython3",
   "version": "3.11.4"
  }
 },
 "nbformat": 4,
 "nbformat_minor": 5
}
