{
 "cells": [
  {
   "cell_type": "code",
   "execution_count": 4,
   "id": "93221db4",
   "metadata": {},
   "outputs": [],
   "source": [
    "import pandas as pd"
   ]
  },
  {
   "cell_type": "code",
   "execution_count": 18,
   "id": "811d5f5a",
   "metadata": {},
   "outputs": [
    {
     "data": {
      "text/html": [
       "<div>\n",
       "<style scoped>\n",
       "    .dataframe tbody tr th:only-of-type {\n",
       "        vertical-align: middle;\n",
       "    }\n",
       "\n",
       "    .dataframe tbody tr th {\n",
       "        vertical-align: top;\n",
       "    }\n",
       "\n",
       "    .dataframe thead th {\n",
       "        text-align: right;\n",
       "    }\n",
       "</style>\n",
       "<table border=\"1\" class=\"dataframe\">\n",
       "  <thead>\n",
       "    <tr style=\"text-align: right;\">\n",
       "      <th></th>\n",
       "      <th>EncouragingDiscouraging</th>\n",
       "      <th>ExpertiseScale</th>\n",
       "      <th>PosterTone</th>\n",
       "      <th>RespectfulDisrespectful</th>\n",
       "      <th>gender</th>\n",
       "      <th>speakerhidden</th>\n",
       "      <th>talkid</th>\n",
       "    </tr>\n",
       "  </thead>\n",
       "  <tbody>\n",
       "    <tr>\n",
       "      <th>0</th>\n",
       "      <td>Discouraging</td>\n",
       "      <td>None-STEM degree</td>\n",
       "      <td>Negative</td>\n",
       "      <td>Neutral</td>\n",
       "      <td>male</td>\n",
       "      <td>&lt;br&gt;for those who are interested, penn &amp;amp; t...</td>\n",
       "      <td>1829</td>\n",
       "    </tr>\n",
       "    <tr>\n",
       "      <th>1</th>\n",
       "      <td>Discouraging</td>\n",
       "      <td>No degree</td>\n",
       "      <td>None</td>\n",
       "      <td>Neutral</td>\n",
       "      <td>male</td>\n",
       "      <td>one time i saw a parrent yelling to his child ...</td>\n",
       "      <td>1917</td>\n",
       "    </tr>\n",
       "    <tr>\n",
       "      <th>2</th>\n",
       "      <td>Encouraging</td>\n",
       "      <td>STEM degree</td>\n",
       "      <td>Neutral</td>\n",
       "      <td>Neutral</td>\n",
       "      <td>female</td>\n",
       "      <td>&lt;br&gt;&lt;span class=\"highlighted\" data-timestamp=\"...</td>\n",
       "      <td>1238</td>\n",
       "    </tr>\n",
       "    <tr>\n",
       "      <th>3</th>\n",
       "      <td>Encouraging</td>\n",
       "      <td>None-STEM degree</td>\n",
       "      <td>Positive</td>\n",
       "      <td>Respectful</td>\n",
       "      <td>male</td>\n",
       "      <td>beyond the tremendous positive change this may...</td>\n",
       "      <td>525</td>\n",
       "    </tr>\n",
       "    <tr>\n",
       "      <th>4</th>\n",
       "      <td>Encouraging</td>\n",
       "      <td>STEM degree</td>\n",
       "      <td>None</td>\n",
       "      <td>Neutral</td>\n",
       "      <td>male</td>\n",
       "      <td>his notion that the \"media is the message\" mak...</td>\n",
       "      <td>1370</td>\n",
       "    </tr>\n",
       "  </tbody>\n",
       "</table>\n",
       "</div>"
      ],
      "text/plain": [
       "  EncouragingDiscouraging    ExpertiseScale PosterTone  \\\n",
       "0            Discouraging  None-STEM degree   Negative   \n",
       "1            Discouraging         No degree       None   \n",
       "2             Encouraging       STEM degree    Neutral   \n",
       "3             Encouraging  None-STEM degree   Positive   \n",
       "4             Encouraging       STEM degree       None   \n",
       "\n",
       "  RespectfulDisrespectful  gender  \\\n",
       "0                 Neutral    male   \n",
       "1                 Neutral    male   \n",
       "2                 Neutral  female   \n",
       "3              Respectful    male   \n",
       "4                 Neutral    male   \n",
       "\n",
       "                                       speakerhidden  talkid  \n",
       "0  <br>for those who are interested, penn &amp; t...    1829  \n",
       "1  one time i saw a parrent yelling to his child ...    1917  \n",
       "2  <br><span class=\"highlighted\" data-timestamp=\"...    1238  \n",
       "3  beyond the tremendous positive change this may...     525  \n",
       "4  his notion that the \"media is the message\" mak...    1370  "
      ]
     },
     "execution_count": 18,
     "metadata": {},
     "output_type": "execute_result"
    }
   ],
   "source": [
    "agg = pd.read_csv(\"data/aggregate.csv\")\n",
    "\n",
    "agg.head()"
   ]
  },
  {
   "cell_type": "code",
   "execution_count": null,
   "id": "2c24be41",
   "metadata": {},
   "outputs": [],
   "source": []
  }
 ],
 "metadata": {
  "kernelspec": {
   "display_name": "Python 3 (ipykernel)",
   "language": "python",
   "name": "python3"
  },
  "language_info": {
   "codemirror_mode": {
    "name": "ipython",
    "version": 3
   },
   "file_extension": ".py",
   "mimetype": "text/x-python",
   "name": "python",
   "nbconvert_exporter": "python",
   "pygments_lexer": "ipython3",
   "version": "3.11.4"
  }
 },
 "nbformat": 4,
 "nbformat_minor": 5
}
