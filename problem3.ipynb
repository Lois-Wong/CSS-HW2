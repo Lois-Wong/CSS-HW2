{
 "cells": [
  {
   "cell_type": "markdown",
   "id": "6929dae1",
   "metadata": {},
   "source": [
    "## Problem 3: Advanced Analysis\n",
    "We have provided annotations over a larger portion of data from the same dataset (aggregate.csv). This dataset includes annotator ratings for Tone, Expertise, EncouragingDiscouraging, RespectfulDisrespectful, as well as the actual gender of the TED talk speaker.\n",
    "Using these annotations, conduct an analysis that contrasts traits of comments addressed towards female and male speakers. You may analyze any one of the annotation traits (i.e. Respect), but justify your choice of trait.\n"
   ]
  },
  {
   "cell_type": "code",
   "execution_count": 237,
   "id": "7334cb6d",
   "metadata": {},
   "outputs": [],
   "source": [
    "import pandas as pd\n",
    "import numpy as np\n",
    "import statistics\n",
    "import seaborn as sns\n",
    "import matplotlib\n",
    "import matplotlib.pyplot as plt\n",
    "import plotly.express as px\n",
    "\n",
    "#sns.set_style(\"whitegrid\")\n",
    "#sns.color_palette(\"Set2\")\n",
    "\n"
   ]
  },
  {
   "cell_type": "code",
   "execution_count": 238,
   "id": "a36fd027",
   "metadata": {},
   "outputs": [
    {
     "data": {
      "text/html": [
       "<div>\n",
       "<style scoped>\n",
       "    .dataframe tbody tr th:only-of-type {\n",
       "        vertical-align: middle;\n",
       "    }\n",
       "\n",
       "    .dataframe tbody tr th {\n",
       "        vertical-align: top;\n",
       "    }\n",
       "\n",
       "    .dataframe thead th {\n",
       "        text-align: right;\n",
       "    }\n",
       "</style>\n",
       "<table border=\"1\" class=\"dataframe\">\n",
       "  <thead>\n",
       "    <tr style=\"text-align: right;\">\n",
       "      <th></th>\n",
       "      <th>EncouragingDiscouraging</th>\n",
       "      <th>ExpertiseScale</th>\n",
       "      <th>PosterTone</th>\n",
       "      <th>RespectfulDisrespectful</th>\n",
       "      <th>gender</th>\n",
       "      <th>speakerhidden</th>\n",
       "      <th>talkid</th>\n",
       "    </tr>\n",
       "  </thead>\n",
       "  <tbody>\n",
       "    <tr>\n",
       "      <th>0</th>\n",
       "      <td>Discouraging</td>\n",
       "      <td>None-STEM degree</td>\n",
       "      <td>Negative</td>\n",
       "      <td>Neutral</td>\n",
       "      <td>male</td>\n",
       "      <td>&lt;br&gt;for those who are interested, penn &amp;amp; t...</td>\n",
       "      <td>1829</td>\n",
       "    </tr>\n",
       "    <tr>\n",
       "      <th>1</th>\n",
       "      <td>Discouraging</td>\n",
       "      <td>No degree</td>\n",
       "      <td>None</td>\n",
       "      <td>Neutral</td>\n",
       "      <td>male</td>\n",
       "      <td>one time i saw a parrent yelling to his child ...</td>\n",
       "      <td>1917</td>\n",
       "    </tr>\n",
       "    <tr>\n",
       "      <th>2</th>\n",
       "      <td>Encouraging</td>\n",
       "      <td>STEM degree</td>\n",
       "      <td>Neutral</td>\n",
       "      <td>Neutral</td>\n",
       "      <td>female</td>\n",
       "      <td>&lt;br&gt;&lt;span class=\"highlighted\" data-timestamp=\"...</td>\n",
       "      <td>1238</td>\n",
       "    </tr>\n",
       "    <tr>\n",
       "      <th>3</th>\n",
       "      <td>Encouraging</td>\n",
       "      <td>None-STEM degree</td>\n",
       "      <td>Positive</td>\n",
       "      <td>Respectful</td>\n",
       "      <td>male</td>\n",
       "      <td>beyond the tremendous positive change this may...</td>\n",
       "      <td>525</td>\n",
       "    </tr>\n",
       "    <tr>\n",
       "      <th>4</th>\n",
       "      <td>Encouraging</td>\n",
       "      <td>STEM degree</td>\n",
       "      <td>None</td>\n",
       "      <td>Neutral</td>\n",
       "      <td>male</td>\n",
       "      <td>his notion that the \"media is the message\" mak...</td>\n",
       "      <td>1370</td>\n",
       "    </tr>\n",
       "  </tbody>\n",
       "</table>\n",
       "</div>"
      ],
      "text/plain": [
       "  EncouragingDiscouraging    ExpertiseScale PosterTone  \\\n",
       "0            Discouraging  None-STEM degree   Negative   \n",
       "1            Discouraging         No degree       None   \n",
       "2             Encouraging       STEM degree    Neutral   \n",
       "3             Encouraging  None-STEM degree   Positive   \n",
       "4             Encouraging       STEM degree       None   \n",
       "\n",
       "  RespectfulDisrespectful  gender  \\\n",
       "0                 Neutral    male   \n",
       "1                 Neutral    male   \n",
       "2                 Neutral  female   \n",
       "3              Respectful    male   \n",
       "4                 Neutral    male   \n",
       "\n",
       "                                       speakerhidden  talkid  \n",
       "0  <br>for those who are interested, penn &amp; t...    1829  \n",
       "1  one time i saw a parrent yelling to his child ...    1917  \n",
       "2  <br><span class=\"highlighted\" data-timestamp=\"...    1238  \n",
       "3  beyond the tremendous positive change this may...     525  \n",
       "4  his notion that the \"media is the message\" mak...    1370  "
      ]
     },
     "execution_count": 238,
     "metadata": {},
     "output_type": "execute_result"
    }
   ],
   "source": [
    "agg = pd.read_csv(\"data/aggregate.csv\")\n",
    "\n",
    "agg.head()"
   ]
  },
  {
   "cell_type": "markdown",
   "id": "83401b6e",
   "metadata": {},
   "source": [
    "### Male vs female counts in data\n",
    "\n",
    "There are 681 female speakers vs 722 male speakers in the data. "
   ]
  },
  {
   "cell_type": "code",
   "execution_count": 239,
   "id": "1115feb4",
   "metadata": {},
   "outputs": [
    {
     "name": "stdout",
     "output_type": "stream",
     "text": [
      "There are 681 female and 722 male speakers in the data\n"
     ]
    }
   ],
   "source": [
    "# finding count of female vs male speakers in the data \n",
    "\n",
    "f_count = sum(agg['gender'] == 'female')\n",
    "m_count = sum(agg['gender'] == 'male')\n",
    "\n",
    "print(f'There are {f_count} female and {m_count} male speakers in the data')"
   ]
  },
  {
   "cell_type": "code",
   "execution_count": 240,
   "id": "020219d0",
   "metadata": {
    "scrolled": true
   },
   "outputs": [
    {
     "data": {
      "text/plain": [
       "<Axes: xlabel='gender', ylabel='Count'>"
      ]
     },
     "execution_count": 240,
     "metadata": {},
     "output_type": "execute_result"
    },
    {
     "data": {
      "image/png": "[encoded data removed]",
      "text/plain": [
       "<Figure size 640x480 with 1 Axes>"
      ]
     },
     "metadata": {},
     "output_type": "display_data"
    }
   ],
   "source": [
    "#fig = px.histogram(agg, x = 'gender')\n",
    "#fig.show()\n",
    "\n",
    "sns.histplot(data = agg, x = 'gender')"
   ]
  },
  {
   "cell_type": "markdown",
   "id": "61f39fc0",
   "metadata": {},
   "source": [
    "### Respectful/disresepectful colored by gender\n",
    "\n"
   ]
  },
  {
   "cell_type": "code",
   "execution_count": 241,
   "id": "0333afea",
   "metadata": {},
   "outputs": [],
   "source": [
    "f = agg['gender'] == 'female'\n",
    "m = agg['gender'] == 'male'\n",
    "\n"
   ]
  },
  {
   "cell_type": "code",
   "execution_count": 243,
   "id": "be71f694",
   "metadata": {},
   "outputs": [],
   "source": [
    "f_df = agg.query('gender == \"female\"')\n",
    "f_respectful_df = agg.query('gender == \"female\" and RespectfulDisrespectful == \"Respectful\"')\n",
    "f_neutral_df = agg.query('gender == \"female\" and RespectfulDisrespectful == \"Neutral\"')\n",
    "f_disrespectful_df = agg.query('gender == \"female\" and RespectfulDisrespectful == \"Disrespectful\"')\n",
    "\n",
    "\n",
    "m_df = agg.query('gender == \"male\"')\n",
    "m_respectful_df = agg.query('gender == \"male\" and RespectfulDisrespectful == \"Respectful\"')\n",
    "m_neutral_df = agg.query('gender == \"male\" and RespectfulDisrespectful == \"Neutral\"')\n",
    "m_disrespectful_df = agg.query('gender == \"male\" and RespectfulDisrespectful == \"Disrespectful\"')\n"
   ]
  },
  {
   "cell_type": "code",
   "execution_count": 244,
   "id": "17bc3bf4",
   "metadata": {
    "scrolled": false
   },
   "outputs": [
    {
     "data": {
      "text/plain": [
       "([0, 1, 2],\n",
       " [Text(0, 0, 'Neutral'),\n",
       "  Text(1, 0, 'Respectful'),\n",
       "  Text(2, 0, 'Disrespectful')])"
      ]
     },
     "execution_count": 244,
     "metadata": {},
     "output_type": "execute_result"
    },
    {
     "data": {
      "image/png": "[encoded data removed]",
      "text/plain": [
       "<Figure size 640x480 with 1 Axes>"
      ]
     },
     "metadata": {},
     "output_type": "display_data"
    }
   ],
   "source": [
    "#fig = px.histogram(agg, x = 'RespectfulDisrespectful', color = 'gender')\n",
    "#fig.show()\n",
    "\n",
    "sns.histplot(agg, x = \"RespectfulDisrespectful\", hue = \"gender\").set(title = \"Tone Level\")\n",
    "plt.xticks(rotation = 45)\n"
   ]
  },
  {
   "cell_type": "markdown",
   "id": "41550146",
   "metadata": {},
   "source": [
    "### Expertise colored by gender"
   ]
  },
  {
   "cell_type": "code",
   "execution_count": 152,
   "id": "33ce15ba",
   "metadata": {},
   "outputs": [],
   "source": [
    "fig = px.histogram(agg, x = 'ExpertiseScale', color = 'gender')\n",
    "fig.show()\n",
    "\n",
    "#sns.histplot(data = agg, x = 'ExpertiseScale', hue = 'gender')"
   ]
  },
  {
   "cell_type": "markdown",
   "id": "ff3b5157",
   "metadata": {},
   "source": [
    "### Tone colored by gender"
   ]
  },
  {
   "cell_type": "code",
   "execution_count": 153,
   "id": "db2ea736",
   "metadata": {},
   "outputs": [],
   "source": [
    "fig = px.histogram(agg, x = 'PosterTone', color = 'gender')\n",
    "fig.show()"
   ]
  },
  {
   "cell_type": "markdown",
   "id": "61f5f4db",
   "metadata": {},
   "source": [
    "### Encouraging/Discouraging colored by gender\n"
   ]
  },
  {
   "cell_type": "code",
   "execution_count": 120,
   "id": "407c71fc",
   "metadata": {},
   "outputs": [
    {
     "data": {
      "application/vnd.plotly.v1+json": {
       "config": {
        "plotlyServerURL": "https://plot.ly"
       },
       "data": [
        {
         "alignmentgroup": "True",
         "bingroup": "x",
         "hovertemplate": "gender=male<br>EncouragingDiscouraging=%{x}<br>count=%{y}<extra></extra>",
         "legendgroup": "male",
         "marker": {
          "color": "#636efa",
          "pattern": {
           "shape": ""
          }
         },
         "name": "male",
         "offsetgroup": "male",
         "orientation": "v",
         "showlegend": true,
         "type": "histogram",
         "x": [
          "Discouraging",
          "Discouraging",
          "Encouraging",
          "Encouraging",
          "Encouraging",
          "Discouraging",
          "Encouraging",
          "Discouraging",
          "Encouraging",
          "Encouraging",
          "Encouraging",
          "Encouraging",
          "Discouraging",
          "Encouraging",
          "Discouraging",
          "Encouraging",
          "Discouraging",
          "Encouraging",
          "Discouraging",
          "Encouraging",
          "Encouraging",
          "Encouraging",
          "Discouraging",
          "Discouraging",
          "Discouraging",
          "Encouraging",
          "Discouraging",
          "Encouraging",
          "Encouraging",
          "Discouraging",
          "Encouraging",
          "Encouraging",
          "Encouraging",
          "Encouraging",
          "Encouraging",
          "Encouraging",
          "Discouraging",
          "Encouraging",
          "Encouraging",
          "Encouraging",
          "Discouraging",
          "Encouraging",
          "Encouraging",
          "Encouraging",
          "Encouraging",
          "Discouraging",
          "Encouraging",
          "Encouraging",
          "Encouraging",
          "Encouraging",
          "Discouraging",
          "Encouraging",
          "Encouraging",
          "Encouraging",
          "Discouraging",
          "Encouraging",
          "Encouraging",
          "Encouraging",
          "Discouraging",
          "Discouraging",
          "Discouraging",
          "Encouraging",
          "Discouraging",
          "Encouraging",
          "Discouraging",
          "Discouraging",
          "Discouraging",
          "Encouraging",
          "Encouraging",
          "Encouraging",
          "Encouraging",
          "Encouraging",
          "Encouraging",
          "Encouraging",
          "Discouraging",
          "Discouraging",
          "Encouraging",
          "Discouraging",
          "Discouraging",
          "Encouraging",
          "Encouraging",
          "Encouraging",
          "Encouraging",
          "Encouraging",
          "Encouraging",
          "Encouraging",
          "Discouraging",
          "Discouraging",
          "Encouraging",
          "Encouraging",
          "Encouraging",
          "Encouraging",
          "Discouraging",
          "Discouraging",
          "Encouraging",
          "Encouraging",
          "Encouraging",
          "Encouraging",
          "Encouraging",
          "Encouraging",
          "Encouraging",
          "Encouraging",
          "Encouraging",
          "Discouraging",
          "Encouraging",
          "Encouraging",
          "Encouraging",
          "Encouraging",
          "Encouraging",
          "Encouraging",
          "Discouraging",
          "Encouraging",
          "Encouraging",
          "Encouraging",
          "Discouraging",
          "Discouraging",
          "Encouraging",
          "Encouraging",
          "Discouraging",
          "Encouraging",
          "Encouraging",
          "Encouraging",
          "Encouraging",
          "Discouraging",
          "Discouraging",
          "Encouraging",
          "Encouraging",
          "Encouraging",
          "Encouraging",
          "Encouraging",
          "Encouraging",
          "Discouraging",
          "Encouraging",
          "Encouraging",
          "Encouraging",
          "Discouraging",
          "Encouraging",
          "Encouraging",
          "Discouraging",
          "Encouraging",
          "Encouraging",
          "Encouraging",
          "Encouraging",
          "Encouraging",
          "Encouraging",
          "Discouraging",
          "Encouraging",
          "Discouraging",
          "Encouraging",
          "Encouraging",
          "Encouraging",
          "Encouraging",
          "Encouraging",
          "Discouraging",
          "Encouraging",
          "Encouraging",
          "Encouraging",
          "Discouraging",
          "Encouraging",
          "Encouraging",
          "Discouraging",
          "Encouraging",
          "Discouraging",
          "Encouraging",
          "Encouraging",
          "Encouraging",
          "Discouraging",
          "Encouraging",
          "Encouraging",
          "Discouraging",
          "Encouraging",
          "Encouraging",
          "Encouraging",
          "Encouraging",
          "Discouraging",
          "Encouraging",
          "Discouraging",
          "Encouraging",
          "Encouraging",
          "Encouraging",
          "Encouraging",
          "Encouraging",
          "Encouraging",
          "Discouraging",
          "Encouraging",
          "Encouraging",
          "Encouraging",
          "Discouraging",
          "Encouraging",
          "Encouraging",
          "Encouraging",
          "Encouraging",
          "Discouraging",
          "Encouraging",
          "Discouraging",
          "Discouraging",
          "Discouraging",
          "Encouraging",
          "Discouraging",
          "Encouraging",
          "Discouraging",
          "Encouraging",
          "Encouraging",
          "Discouraging",
          "Encouraging",
          "Encouraging",
          "Discouraging",
          "Encouraging",
          "Encouraging",
          "Discouraging",
          "Encouraging",
          "Encouraging",
          "Discouraging",
          "Encouraging",
          "Encouraging",
          "Encouraging",
          "Encouraging",
          "Discouraging",
          "Encouraging",
          "Encouraging",
          "Encouraging",
          "Discouraging",
          "Encouraging",
          "Discouraging",
          "Encouraging",
          "Encouraging",
          "Discouraging",
          "Discouraging",
          "Encouraging",
          "Encouraging",
          "Encouraging",
          "Discouraging",
          "Encouraging",
          "Encouraging",
          "Discouraging",
          "Discouraging",
          "Discouraging",
          "Discouraging",
          "Discouraging",
          "Encouraging",
          "Discouraging",
          "Discouraging",
          "Discouraging",
          "Discouraging",
          "Encouraging",
          "Encouraging",
          "Discouraging",
          "Discouraging",
          "Encouraging",
          "Encouraging",
          "Encouraging",
          "Encouraging",
          "Discouraging",
          "Encouraging",
          "Encouraging",
          "Discouraging",
          "Encouraging",
          "Encouraging",
          "Discouraging",
          "Encouraging",
          "Encouraging",
          "Encouraging",
          "Encouraging",
          "Encouraging",
          "Discouraging",
          "Discouraging",
          "Discouraging",
          "Encouraging",
          "Encouraging",
          "Discouraging",
          "Encouraging",
          "Discouraging",
          "Encouraging",
          "Encouraging",
          "Discouraging",
          "Encouraging",
          "Encouraging",
          "Encouraging",
          "Encouraging",
          "Encouraging",
          "Discouraging",
          "Discouraging",
          "Discouraging",
          "Encouraging",
          "Discouraging",
          "Discouraging",
          "Discouraging",
          "Discouraging",
          "Encouraging",
          "Discouraging",
          "Discouraging",
          "Discouraging",
          "Encouraging",
          "Encouraging",
          "Discouraging",
          "Encouraging",
          "Discouraging",
          "Encouraging",
          "Discouraging",
          "Encouraging",
          "Discouraging",
          "Encouraging",
          "Discouraging",
          "Discouraging",
          "Encouraging",
          "Encouraging",
          "Discouraging",
          "Encouraging",
          "Encouraging",
          "Encouraging",
          "Discouraging",
          "Encouraging",
          "Discouraging",
          "Discouraging",
          "Discouraging",
          "Encouraging",
          "Encouraging",
          "Encouraging",
          "Discouraging",
          "Encouraging",
          "Encouraging",
          "Discouraging",
          "Discouraging",
          "Encouraging",
          "Discouraging",
          "Discouraging",
          "Encouraging",
          "Discouraging",
          "Discouraging",
          "Discouraging",
          "Discouraging",
          "Encouraging",
          "Encouraging",
          "Discouraging",
          "Discouraging",
          "Encouraging",
          "Encouraging",
          "Discouraging",
          "Encouraging",
          "Discouraging",
          "Encouraging",
          "Encouraging",
          "Discouraging",
          "Encouraging",
          "Encouraging",
          "Discouraging",
          "Encouraging",
          "Discouraging",
          "Encouraging",
          "Discouraging",
          "Discouraging",
          "Discouraging",
          "Encouraging",
          "Encouraging",
          "Encouraging",
          "Encouraging",
          "Discouraging",
          "Encouraging",
          "Encouraging",
          "Encouraging",
          "Encouraging",
          "Discouraging",
          "Encouraging",
          "Encouraging",
          "Encouraging",
          "Discouraging",
          "Encouraging",
          "Encouraging",
          "Encouraging",
          "Discouraging",
          "Discouraging",
          "Encouraging",
          "Encouraging",
          "Encouraging",
          "Encouraging",
          "Discouraging",
          "Discouraging",
          "Discouraging",
          "Encouraging",
          "Encouraging",
          "Encouraging",
          "Encouraging",
          "Encouraging",
          "Encouraging",
          "Encouraging",
          "Discouraging",
          "Discouraging",
          "Encouraging",
          "Encouraging",
          "Encouraging",
          "Encouraging",
          "Encouraging",
          "Encouraging",
          "Encouraging",
          "Encouraging",
          "Discouraging",
          "Discouraging",
          "Encouraging",
          "Encouraging",
          "Encouraging",
          "Encouraging",
          "Discouraging",
          "Encouraging",
          "Discouraging",
          "Encouraging",
          "Encouraging",
          "Encouraging",
          "Encouraging",
          "Encouraging",
          "Discouraging",
          "Encouraging",
          "Encouraging",
          "Encouraging",
          "Encouraging",
          "Discouraging",
          "Discouraging",
          "Encouraging",
          "Encouraging",
          "Encouraging",
          "Encouraging",
          "Encouraging",
          "Discouraging",
          "Encouraging",
          "Discouraging",
          "Encouraging",
          "Discouraging",
          "Discouraging",
          "Discouraging",
          "Encouraging",
          "Encouraging",
          "Encouraging",
          "Discouraging",
          "Encouraging",
          "Encouraging",
          "Discouraging",
          "Encouraging",
          "Encouraging",
          "Encouraging",
          "Encouraging",
          "Encouraging",
          "Encouraging",
          "Encouraging",
          "Encouraging",
          "Encouraging",
          "Encouraging",
          "Encouraging",
          "Encouraging",
          "Encouraging",
          "Discouraging",
          "Encouraging",
          "Discouraging",
          "Discouraging",
          "Encouraging",
          "Encouraging",
          "Encouraging",
          "Encouraging",
          "Encouraging",
          "Encouraging",
          "Encouraging",
          "Encouraging",
          "Encouraging",
          "Encouraging",
          "Encouraging",
          "Encouraging",
          null,
          "Encouraging",
          "Discouraging",
          "Encouraging",
          "Encouraging",
          "Encouraging",
          "Encouraging",
          "Encouraging",
          "Encouraging",
          "Encouraging",
          "Discouraging",
          "Encouraging",
          "Discouraging",
          "Encouraging",
          "Encouraging",
          "Encouraging",
          "Encouraging",
          "Encouraging",
          "Encouraging",
          "Discouraging",
          "Encouraging",
          "Discouraging",
          "Encouraging",
          "Discouraging",
          null,
          "Encouraging",
          "Encouraging",
          "Discouraging",
          "Discouraging",
          "Encouraging",
          "Encouraging",
          "Discouraging",
          "Encouraging",
          "Encouraging",
          "Encouraging",
          "Encouraging",
          "Encouraging",
          "Encouraging",
          "Encouraging",
          "Encouraging",
          "Encouraging",
          "Discouraging",
          "Encouraging",
          "Encouraging",
          "Encouraging",
          "Discouraging",
          "Discouraging",
          "Discouraging",
          "Encouraging",
          "Discouraging",
          "Encouraging",
          "Discouraging",
          "Encouraging",
          "Encouraging",
          "Discouraging",
          "Encouraging",
          "Encouraging",
          "Discouraging",
          "Discouraging",
          "Encouraging",
          "Discouraging",
          "Encouraging",
          "Discouraging",
          "Discouraging",
          "Encouraging",
          "Discouraging",
          "Discouraging",
          "Encouraging",
          "Discouraging",
          "Discouraging",
          "Discouraging",
          "Encouraging",
          "Encouraging",
          "Encouraging",
          "Encouraging",
          "Encouraging",
          "Encouraging",
          "Encouraging",
          "Discouraging",
          "Discouraging",
          "Discouraging",
          "Encouraging",
          "Encouraging",
          "Encouraging",
          "Encouraging",
          "Encouraging",
          "Discouraging",
          "Encouraging",
          "Encouraging",
          "Encouraging",
          "Encouraging",
          "Discouraging",
          "Discouraging",
          "Discouraging",
          "Discouraging",
          "Encouraging",
          "Encouraging",
          "Encouraging",
          "Discouraging",
          "Discouraging",
          "Discouraging",
          "Discouraging",
          "Discouraging",
          "Encouraging",
          "Encouraging",
          "Encouraging",
          "Encouraging",
          "Discouraging",
          "Encouraging",
          "Encouraging",
          "Discouraging",
          "Encouraging",
          "Encouraging",
          "Discouraging",
          "Encouraging",
          "Encouraging",
          "Encouraging",
          "Discouraging",
          "Encouraging",
          "Discouraging",
          "Encouraging",
          "Discouraging",
          "Encouraging",
          "Encouraging",
          "Encouraging",
          "Discouraging",
          "Encouraging",
          "Encouraging",
          "Encouraging",
          "Encouraging",
          "Discouraging",
          "Encouraging",
          "Encouraging",
          "Discouraging",
          "Encouraging",
          "Discouraging",
          "Discouraging",
          "Encouraging",
          "Encouraging",
          "Encouraging",
          "Encouraging",
          "Discouraging",
          "Discouraging",
          "Discouraging",
          "Encouraging",
          "Discouraging",
          "Encouraging",
          "Encouraging",
          "Discouraging",
          "Encouraging",
          "Encouraging",
          "Discouraging",
          "Discouraging",
          "Discouraging",
          "Discouraging",
          "Encouraging",
          "Discouraging",
          "Encouraging",
          "Encouraging",
          "Encouraging",
          "Encouraging",
          "Encouraging",
          "Encouraging",
          "Encouraging",
          "Encouraging",
          "Encouraging",
          "Encouraging",
          "Encouraging",
          "Encouraging",
          "Encouraging",
          "Encouraging",
          "Encouraging",
          "Discouraging",
          "Discouraging",
          "Encouraging",
          "Encouraging",
          "Encouraging",
          "Encouraging",
          "Encouraging",
          "Encouraging",
          "Discouraging",
          "Encouraging",
          "Discouraging",
          "Encouraging",
          "Encouraging",
          "Discouraging",
          "Encouraging",
          "Discouraging",
          "Encouraging",
          "Discouraging",
          "Encouraging",
          "Encouraging",
          "Encouraging",
          "Encouraging",
          "Discouraging",
          "Discouraging",
          "Encouraging",
          "Encouraging",
          "Encouraging",
          "Encouraging",
          "Discouraging",
          "Encouraging",
          "Encouraging",
          "Discouraging",
          "Encouraging",
          "Encouraging",
          "Discouraging",
          "Discouraging",
          "Encouraging",
          "Discouraging",
          "Encouraging",
          "Encouraging",
          "Encouraging",
          "Encouraging",
          "Encouraging",
          "Discouraging",
          "Discouraging",
          "Discouraging",
          "Encouraging",
          "Discouraging",
          "Encouraging",
          "Encouraging",
          "Discouraging",
          "Encouraging",
          "Encouraging",
          "Encouraging",
          "Encouraging",
          "Encouraging",
          "Discouraging",
          "Discouraging",
          "Encouraging",
          "Encouraging",
          "Discouraging",
          "Discouraging",
          "Encouraging",
          "Encouraging",
          "Encouraging",
          "Encouraging",
          "Discouraging",
          "Discouraging",
          "Discouraging",
          "Encouraging",
          "Discouraging",
          "Encouraging",
          "Discouraging",
          "Discouraging",
          "Discouraging",
          "Encouraging",
          "Encouraging",
          "Discouraging",
          "Discouraging",
          "Discouraging",
          "Discouraging",
          "Encouraging",
          "Encouraging",
          "Encouraging",
          "Discouraging",
          "Discouraging"
         ],
         "xaxis": "x",
         "yaxis": "y"
        },
        {
         "alignmentgroup": "True",
         "bingroup": "x",
         "hovertemplate": "gender=female<br>EncouragingDiscouraging=%{x}<br>count=%{y}<extra></extra>",
         "legendgroup": "female",
         "marker": {
          "color": "#EF553B",
          "pattern": {
           "shape": ""
          }
         },
         "name": "female",
         "offsetgroup": "female",
         "orientation": "v",
         "showlegend": true,
         "type": "histogram",
         "x": [
          "Encouraging",
          "Encouraging",
          "Encouraging",
          "Encouraging",
          "Encouraging",
          "Discouraging",
          "Encouraging",
          "Encouraging",
          "Encouraging",
          "Encouraging",
          "Discouraging",
          "Discouraging",
          "Encouraging",
          "Encouraging",
          "Encouraging",
          "Encouraging",
          "Encouraging",
          "Encouraging",
          "Encouraging",
          "Discouraging",
          "Encouraging",
          "Encouraging",
          "Encouraging",
          "Discouraging",
          "Encouraging",
          "Encouraging",
          "Discouraging",
          "Discouraging",
          "Encouraging",
          "Discouraging",
          "Encouraging",
          "Discouraging",
          "Encouraging",
          "Encouraging",
          "Encouraging",
          "Discouraging",
          "Encouraging",
          "Encouraging",
          "Encouraging",
          "Discouraging",
          "Discouraging",
          "Discouraging",
          "Discouraging",
          "Discouraging",
          "Encouraging",
          "Encouraging",
          "Encouraging",
          "Discouraging",
          "Encouraging",
          "Encouraging",
          "Encouraging",
          "Discouraging",
          "Encouraging",
          "Encouraging",
          "Encouraging",
          "Discouraging",
          "Encouraging",
          "Encouraging",
          "Discouraging",
          "Encouraging",
          "Encouraging",
          "Discouraging",
          "Encouraging",
          "Encouraging",
          "Encouraging",
          "Discouraging",
          "Encouraging",
          "Discouraging",
          "Encouraging",
          "Encouraging",
          "Discouraging",
          "Discouraging",
          "Encouraging",
          "Encouraging",
          "Encouraging",
          "Encouraging",
          "Encouraging",
          "Encouraging",
          "Encouraging",
          "Encouraging",
          "Encouraging",
          "Discouraging",
          "Encouraging",
          "Encouraging",
          "Discouraging",
          "Encouraging",
          "Encouraging",
          "Discouraging",
          "Encouraging",
          "Encouraging",
          "Discouraging",
          "Encouraging",
          "Discouraging",
          "Encouraging",
          "Encouraging",
          "Discouraging",
          "Encouraging",
          "Encouraging",
          "Encouraging",
          "Discouraging",
          "Encouraging",
          "Discouraging",
          "Discouraging",
          "Encouraging",
          "Discouraging",
          "Encouraging",
          "Encouraging",
          "Encouraging",
          "Encouraging",
          "Encouraging",
          "Encouraging",
          "Discouraging",
          "Discouraging",
          "Encouraging",
          "Encouraging",
          "Encouraging",
          "Encouraging",
          "Encouraging",
          "Discouraging",
          "Encouraging",
          "Encouraging",
          "Encouraging",
          "Discouraging",
          "Encouraging",
          "Encouraging",
          "Encouraging",
          "Encouraging",
          "Encouraging",
          "Encouraging",
          "Encouraging",
          "Discouraging",
          "Encouraging",
          "Encouraging",
          "Encouraging",
          "Encouraging",
          "Encouraging",
          "Encouraging",
          "Discouraging",
          "Encouraging",
          "Encouraging",
          null,
          "Discouraging",
          "Discouraging",
          "Encouraging",
          "Encouraging",
          "Discouraging",
          "Encouraging",
          "Encouraging",
          "Encouraging",
          "Encouraging",
          "Encouraging",
          "Encouraging",
          "Encouraging",
          "Encouraging",
          "Encouraging",
          "Discouraging",
          "Discouraging",
          "Encouraging",
          "Encouraging",
          "Encouraging",
          "Discouraging",
          "Encouraging",
          "Encouraging",
          "Encouraging",
          "Encouraging",
          "Discouraging",
          "Encouraging",
          "Encouraging",
          "Encouraging",
          "Encouraging",
          "Encouraging",
          "Encouraging",
          "Discouraging",
          "Encouraging",
          "Encouraging",
          "Encouraging",
          "Encouraging",
          "Encouraging",
          "Encouraging",
          "Encouraging",
          "Encouraging",
          "Encouraging",
          "Encouraging",
          "Encouraging",
          "Encouraging",
          "Encouraging",
          "Discouraging",
          "Encouraging",
          "Encouraging",
          "Encouraging",
          "Discouraging",
          "Encouraging",
          "Encouraging",
          "Encouraging",
          "Encouraging",
          "Encouraging",
          "Encouraging",
          "Encouraging",
          "Encouraging",
          "Encouraging",
          "Encouraging",
          "Encouraging",
          "Discouraging",
          "Encouraging",
          "Encouraging",
          "Encouraging",
          "Encouraging",
          "Encouraging",
          "Discouraging",
          "Discouraging",
          "Encouraging",
          "Discouraging",
          "Encouraging",
          "Encouraging",
          "Encouraging",
          "Encouraging",
          "Encouraging",
          "Encouraging",
          "Encouraging",
          "Discouraging",
          "Discouraging",
          "Encouraging",
          "Encouraging",
          "Encouraging",
          "Discouraging",
          "Encouraging",
          "Discouraging",
          "Encouraging",
          "Encouraging",
          "Encouraging",
          "Discouraging",
          "Encouraging",
          "Encouraging",
          "Encouraging",
          "Discouraging",
          "Encouraging",
          "Discouraging",
          "Encouraging",
          "Encouraging",
          "Encouraging",
          "Encouraging",
          "Encouraging",
          "Discouraging",
          "Encouraging",
          "Encouraging",
          "Discouraging",
          "Discouraging",
          "Encouraging",
          "Encouraging",
          "Discouraging",
          "Encouraging",
          "Encouraging",
          "Encouraging",
          "Encouraging",
          "Encouraging",
          "Encouraging",
          "Encouraging",
          "Encouraging",
          "Encouraging",
          "Discouraging",
          "Encouraging",
          "Discouraging",
          "Encouraging",
          "Encouraging",
          "Encouraging",
          "Encouraging",
          "Encouraging",
          "Encouraging",
          "Encouraging",
          "Discouraging",
          "Discouraging",
          "Encouraging",
          "Discouraging",
          "Encouraging",
          "Encouraging",
          "Encouraging",
          "Encouraging",
          "Encouraging",
          "Encouraging",
          "Discouraging",
          "Encouraging",
          "Encouraging",
          "Encouraging",
          "Discouraging",
          "Encouraging",
          "Encouraging",
          "Encouraging",
          "Discouraging",
          "Encouraging",
          "Encouraging",
          "Encouraging",
          "Discouraging",
          "Encouraging",
          "Encouraging",
          "Discouraging",
          "Discouraging",
          "Encouraging",
          "Encouraging",
          "Encouraging",
          "Encouraging",
          "Encouraging",
          "Encouraging",
          "Encouraging",
          "Encouraging",
          "Encouraging",
          "Encouraging",
          "Encouraging",
          "Discouraging",
          "Encouraging",
          "Encouraging",
          "Encouraging",
          "Encouraging",
          "Discouraging",
          "Discouraging",
          "Discouraging",
          "Discouraging",
          "Encouraging",
          "Encouraging",
          "Discouraging",
          "Encouraging",
          "Encouraging",
          "Discouraging",
          "Encouraging",
          "Encouraging",
          "Encouraging",
          "Discouraging",
          "Encouraging",
          "Discouraging",
          "Discouraging",
          "Discouraging",
          "Encouraging",
          "Discouraging",
          "Encouraging",
          "Encouraging",
          "Discouraging",
          "Encouraging",
          "Discouraging",
          "Encouraging",
          "Encouraging",
          "Encouraging",
          "Encouraging",
          "Discouraging",
          "Encouraging",
          "Encouraging",
          "Encouraging",
          "Encouraging",
          "Discouraging",
          "Encouraging",
          "Encouraging",
          "Encouraging",
          "Discouraging",
          "Encouraging",
          "Discouraging",
          "Encouraging",
          "Encouraging",
          "Encouraging",
          "Discouraging",
          "Encouraging",
          "Encouraging",
          "Encouraging",
          "Encouraging",
          "Discouraging",
          "Encouraging",
          "Encouraging",
          "Discouraging",
          "Encouraging",
          "Encouraging",
          "Encouraging",
          "Encouraging",
          "Encouraging",
          "Encouraging",
          "Encouraging",
          "Discouraging",
          "Discouraging",
          "Encouraging",
          "Encouraging",
          "Encouraging",
          "Discouraging",
          "Encouraging",
          "Encouraging",
          "Discouraging",
          "Encouraging",
          "Encouraging",
          "Encouraging",
          "Encouraging",
          "Discouraging",
          "Encouraging",
          "Discouraging",
          "Encouraging",
          "Encouraging",
          "Encouraging",
          "Encouraging",
          "Discouraging",
          "Encouraging",
          "Encouraging",
          "Discouraging",
          "Encouraging",
          "Encouraging",
          "Discouraging",
          "Encouraging",
          "Encouraging",
          "Encouraging",
          "Encouraging",
          "Encouraging",
          "Encouraging",
          "Encouraging",
          "Encouraging",
          "Encouraging",
          "Discouraging",
          "Encouraging",
          "Discouraging",
          "Encouraging",
          "Encouraging",
          "Encouraging",
          "Encouraging",
          "Encouraging",
          "Encouraging",
          "Encouraging",
          "Discouraging",
          "Encouraging",
          "Encouraging",
          "Encouraging",
          "Encouraging",
          "Encouraging",
          "Encouraging",
          "Discouraging",
          "Discouraging",
          "Encouraging",
          "Encouraging",
          "Encouraging",
          "Encouraging",
          "Encouraging",
          "Encouraging",
          "Encouraging",
          "Encouraging",
          "Encouraging",
          "Encouraging",
          "Encouraging",
          "Encouraging",
          "Discouraging",
          "Encouraging",
          "Encouraging",
          "Encouraging",
          "Encouraging",
          "Encouraging",
          "Encouraging",
          "Encouraging",
          "Encouraging",
          "Encouraging",
          "Encouraging",
          "Encouraging",
          "Encouraging",
          "Encouraging",
          "Encouraging",
          "Encouraging",
          "Discouraging",
          "Encouraging",
          "Encouraging",
          "Encouraging",
          "Encouraging",
          "Encouraging",
          "Encouraging",
          "Discouraging",
          "Encouraging",
          "Discouraging",
          "Encouraging",
          "Encouraging",
          "Encouraging",
          "Encouraging",
          "Discouraging",
          "Encouraging",
          "Encouraging",
          "Discouraging",
          "Discouraging",
          "Encouraging",
          "Encouraging",
          "Encouraging",
          "Discouraging",
          "Encouraging",
          "Encouraging",
          "Encouraging",
          "Encouraging",
          "Encouraging",
          "Encouraging",
          "Encouraging",
          "Encouraging",
          "Encouraging",
          "Discouraging",
          "Encouraging",
          "Discouraging",
          "Encouraging",
          "Encouraging",
          "Encouraging",
          "Encouraging",
          "Encouraging",
          "Encouraging",
          "Encouraging",
          "Encouraging",
          "Encouraging",
          "Encouraging",
          "Encouraging",
          "Encouraging",
          "Encouraging",
          "Discouraging",
          "Encouraging",
          "Encouraging",
          "Encouraging",
          "Encouraging",
          "Encouraging",
          "Encouraging",
          "Encouraging",
          "Encouraging",
          "Discouraging",
          "Discouraging",
          "Encouraging",
          "Encouraging",
          "Encouraging",
          "Encouraging",
          "Discouraging",
          "Encouraging",
          "Encouraging",
          "Encouraging",
          "Encouraging",
          "Encouraging",
          "Encouraging",
          "Discouraging",
          "Encouraging",
          "Discouraging",
          "Discouraging",
          "Discouraging",
          "Encouraging",
          "Encouraging",
          "Encouraging",
          "Encouraging",
          "Discouraging",
          "Encouraging",
          "Encouraging",
          "Encouraging",
          "Discouraging",
          "Discouraging",
          "Encouraging",
          "Encouraging",
          "Discouraging",
          "Encouraging",
          "Encouraging",
          "Encouraging",
          "Discouraging",
          "Encouraging",
          "Encouraging",
          "Encouraging",
          "Encouraging",
          "Discouraging",
          "Discouraging",
          "Encouraging",
          "Encouraging",
          "Discouraging",
          "Discouraging",
          "Encouraging",
          "Encouraging",
          "Encouraging",
          "Discouraging",
          "Encouraging",
          "Encouraging",
          "Encouraging",
          "Encouraging",
          "Encouraging",
          "Discouraging",
          "Encouraging",
          "Encouraging",
          "Encouraging",
          "Encouraging",
          "Encouraging",
          "Encouraging",
          "Encouraging",
          "Discouraging",
          "Encouraging",
          "Encouraging",
          "Encouraging",
          "Encouraging",
          "Discouraging",
          "Discouraging",
          "Encouraging",
          "Discouraging",
          "Encouraging",
          "Discouraging",
          "Encouraging",
          "Encouraging",
          "Encouraging",
          "Encouraging",
          "Discouraging",
          "Encouraging",
          "Discouraging",
          "Encouraging",
          "Encouraging",
          "Discouraging",
          "Encouraging",
          "Discouraging",
          "Discouraging",
          "Encouraging",
          "Discouraging",
          "Encouraging",
          "Discouraging",
          "Discouraging",
          "Encouraging",
          "Encouraging",
          "Encouraging",
          "Encouraging",
          "Discouraging",
          "Discouraging",
          "Encouraging",
          "Encouraging",
          "Discouraging",
          "Encouraging",
          "Encouraging",
          "Encouraging",
          "Encouraging",
          "Discouraging",
          "Encouraging",
          "Encouraging",
          "Encouraging",
          "Discouraging",
          "Encouraging",
          "Discouraging",
          "Encouraging",
          "Encouraging",
          "Discouraging",
          "Encouraging",
          "Encouraging",
          "Encouraging",
          "Discouraging",
          "Discouraging",
          "Encouraging",
          "Encouraging",
          "Encouraging",
          "Encouraging",
          "Encouraging",
          "Encouraging",
          "Encouraging",
          "Discouraging",
          "Encouraging",
          "Discouraging",
          "Encouraging",
          "Encouraging",
          "Encouraging",
          "Encouraging",
          "Discouraging",
          "Encouraging",
          "Discouraging",
          "Encouraging",
          "Encouraging",
          "Encouraging",
          "Encouraging",
          "Encouraging",
          "Encouraging",
          "Encouraging",
          "Encouraging",
          "Discouraging",
          "Encouraging",
          "Encouraging",
          "Encouraging",
          "Encouraging",
          "Encouraging",
          "Encouraging",
          "Encouraging",
          "Encouraging",
          "Discouraging",
          "Encouraging",
          "Discouraging",
          "Discouraging",
          "Encouraging",
          "Discouraging",
          "Encouraging",
          "Encouraging",
          "Encouraging",
          "Encouraging",
          "Encouraging",
          "Encouraging",
          "Encouraging",
          "Encouraging",
          "Discouraging",
          "Discouraging"
         ],
         "xaxis": "x",
         "yaxis": "y"
        }
       ],
       "layout": {
        "barmode": "relative",
        "legend": {
         "title": {
          "text": "gender"
         },
         "tracegroupgap": 0
        },
        "margin": {
         "t": 60
        },
        "template": {
         "data": {
          "bar": [
           {
            "error_x": {
             "color": "#2a3f5f"
            },
            "error_y": {
             "color": "#2a3f5f"
            },
            "marker": {
             "line": {
              "color": "#E5ECF6",
              "width": 0.5
             },
             "pattern": {
              "fillmode": "overlay",
              "size": 10,
              "solidity": 0.2
             }
            },
            "type": "bar"
           }
          ],
          "barpolar": [
           {
            "marker": {
             "line": {
              "color": "#E5ECF6",
              "width": 0.5
             },
             "pattern": {
              "fillmode": "overlay",
              "size": 10,
              "solidity": 0.2
             }
            },
            "type": "barpolar"
           }
          ],
          "carpet": [
           {
            "aaxis": {
             "endlinecolor": "#2a3f5f",
             "gridcolor": "white",
             "linecolor": "white",
             "minorgridcolor": "white",
             "startlinecolor": "#2a3f5f"
            },
            "baxis": {
             "endlinecolor": "#2a3f5f",
             "gridcolor": "white",
             "linecolor": "white",
             "minorgridcolor": "white",
             "startlinecolor": "#2a3f5f"
            },
            "type": "carpet"
           }
          ],
          "choropleth": [
           {
            "colorbar": {
             "outlinewidth": 0,
             "ticks": ""
            },
            "type": "choropleth"
           }
          ],
          "contour": [
           {
            "colorbar": {
             "outlinewidth": 0,
             "ticks": ""
            },
            "colorscale": [
             [
              0,
              "#0d0887"
             ],
             [
              0.1111111111111111,
              "#46039f"
             ],
             [
              0.2222222222222222,
              "#7201a8"
             ],
             [
              0.3333333333333333,
              "#9c179e"
             ],
             [
              0.4444444444444444,
              "#bd3786"
             ],
             [
              0.5555555555555556,
              "#d8576b"
             ],
             [
              0.6666666666666666,
              "#ed7953"
             ],
             [
              0.7777777777777778,
              "#fb9f3a"
             ],
             [
              0.8888888888888888,
              "#fdca26"
             ],
             [
              1,
              "#f0f921"
             ]
            ],
            "type": "contour"
           }
          ],
          "contourcarpet": [
           {
            "colorbar": {
             "outlinewidth": 0,
             "ticks": ""
            },
            "type": "contourcarpet"
           }
          ],
          "heatmap": [
           {
            "colorbar": {
             "outlinewidth": 0,
             "ticks": ""
            },
            "colorscale": [
             [
              0,
              "#0d0887"
             ],
             [
              0.1111111111111111,
              "#46039f"
             ],
             [
              0.2222222222222222,
              "#7201a8"
             ],
             [
              0.3333333333333333,
              "#9c179e"
             ],
             [
              0.4444444444444444,
              "#bd3786"
             ],
             [
              0.5555555555555556,
              "#d8576b"
             ],
             [
              0.6666666666666666,
              "#ed7953"
             ],
             [
              0.7777777777777778,
              "#fb9f3a"
             ],
             [
              0.8888888888888888,
              "#fdca26"
             ],
             [
              1,
              "#f0f921"
             ]
            ],
            "type": "heatmap"
           }
          ],
          "heatmapgl": [
           {
            "colorbar": {
             "outlinewidth": 0,
             "ticks": ""
            },
            "colorscale": [
             [
              0,
              "#0d0887"
             ],
             [
              0.1111111111111111,
              "#46039f"
             ],
             [
              0.2222222222222222,
              "#7201a8"
             ],
             [
              0.3333333333333333,
              "#9c179e"
             ],
             [
              0.4444444444444444,
              "#bd3786"
             ],
             [
              0.5555555555555556,
              "#d8576b"
             ],
             [
              0.6666666666666666,
              "#ed7953"
             ],
             [
              0.7777777777777778,
              "#fb9f3a"
             ],
             [
              0.8888888888888888,
              "#fdca26"
             ],
             [
              1,
              "#f0f921"
             ]
            ],
            "type": "heatmapgl"
           }
          ],
          "histogram": [
           {
            "marker": {
             "pattern": {
              "fillmode": "overlay",
              "size": 10,
              "solidity": 0.2
             }
            },
            "type": "histogram"
           }
          ],
          "histogram2d": [
           {
            "colorbar": {
             "outlinewidth": 0,
             "ticks": ""
            },
            "colorscale": [
             [
              0,
              "#0d0887"
             ],
             [
              0.1111111111111111,
              "#46039f"
             ],
             [
              0.2222222222222222,
              "#7201a8"
             ],
             [
              0.3333333333333333,
              "#9c179e"
             ],
             [
              0.4444444444444444,
              "#bd3786"
             ],
             [
              0.5555555555555556,
              "#d8576b"
             ],
             [
              0.6666666666666666,
              "#ed7953"
             ],
             [
              0.7777777777777778,
              "#fb9f3a"
             ],
             [
              0.8888888888888888,
              "#fdca26"
             ],
             [
              1,
              "#f0f921"
             ]
            ],
            "type": "histogram2d"
           }
          ],
          "histogram2dcontour": [
           {
            "colorbar": {
             "outlinewidth": 0,
             "ticks": ""
            },
            "colorscale": [
             [
              0,
              "#0d0887"
             ],
             [
              0.1111111111111111,
              "#46039f"
             ],
             [
              0.2222222222222222,
              "#7201a8"
             ],
             [
              0.3333333333333333,
              "#9c179e"
             ],
             [
              0.4444444444444444,
              "#bd3786"
             ],
             [
              0.5555555555555556,
              "#d8576b"
             ],
             [
              0.6666666666666666,
              "#ed7953"
             ],
             [
              0.7777777777777778,
              "#fb9f3a"
             ],
             [
              0.8888888888888888,
              "#fdca26"
             ],
             [
              1,
              "#f0f921"
             ]
            ],
            "type": "histogram2dcontour"
           }
          ],
          "mesh3d": [
           {
            "colorbar": {
             "outlinewidth": 0,
             "ticks": ""
            },
            "type": "mesh3d"
           }
          ],
          "parcoords": [
           {
            "line": {
             "colorbar": {
              "outlinewidth": 0,
              "ticks": ""
             }
            },
            "type": "parcoords"
           }
          ],
          "pie": [
           {
            "automargin": true,
            "type": "pie"
           }
          ],
          "scatter": [
           {
            "fillpattern": {
             "fillmode": "overlay",
             "size": 10,
             "solidity": 0.2
            },
            "type": "scatter"
           }
          ],
          "scatter3d": [
           {
            "line": {
             "colorbar": {
              "outlinewidth": 0,
              "ticks": ""
             }
            },
            "marker": {
             "colorbar": {
              "outlinewidth": 0,
              "ticks": ""
             }
            },
            "type": "scatter3d"
           }
          ],
          "scattercarpet": [
           {
            "marker": {
             "colorbar": {
              "outlinewidth": 0,
              "ticks": ""
             }
            },
            "type": "scattercarpet"
           }
          ],
          "scattergeo": [
           {
            "marker": {
             "colorbar": {
              "outlinewidth": 0,
              "ticks": ""
             }
            },
            "type": "scattergeo"
           }
          ],
          "scattergl": [
           {
            "marker": {
             "colorbar": {
              "outlinewidth": 0,
              "ticks": ""
             }
            },
            "type": "scattergl"
           }
          ],
          "scattermapbox": [
           {
            "marker": {
             "colorbar": {
              "outlinewidth": 0,
              "ticks": ""
             }
            },
            "type": "scattermapbox"
           }
          ],
          "scatterpolar": [
           {
            "marker": {
             "colorbar": {
              "outlinewidth": 0,
              "ticks": ""
             }
            },
            "type": "scatterpolar"
           }
          ],
          "scatterpolargl": [
           {
            "marker": {
             "colorbar": {
              "outlinewidth": 0,
              "ticks": ""
             }
            },
            "type": "scatterpolargl"
           }
          ],
          "scatterternary": [
           {
            "marker": {
             "colorbar": {
              "outlinewidth": 0,
              "ticks": ""
             }
            },
            "type": "scatterternary"
           }
          ],
          "surface": [
           {
            "colorbar": {
             "outlinewidth": 0,
             "ticks": ""
            },
            "colorscale": [
             [
              0,
              "#0d0887"
             ],
             [
              0.1111111111111111,
              "#46039f"
             ],
             [
              0.2222222222222222,
              "#7201a8"
             ],
             [
              0.3333333333333333,
              "#9c179e"
             ],
             [
              0.4444444444444444,
              "#bd3786"
             ],
             [
              0.5555555555555556,
              "#d8576b"
             ],
             [
              0.6666666666666666,
              "#ed7953"
             ],
             [
              0.7777777777777778,
              "#fb9f3a"
             ],
             [
              0.8888888888888888,
              "#fdca26"
             ],
             [
              1,
              "#f0f921"
             ]
            ],
            "type": "surface"
           }
          ],
          "table": [
           {
            "cells": {
             "fill": {
              "color": "#EBF0F8"
             },
             "line": {
              "color": "white"
             }
            },
            "header": {
             "fill": {
              "color": "#C8D4E3"
             },
             "line": {
              "color": "white"
             }
            },
            "type": "table"
           }
          ]
         },
         "layout": {
          "annotationdefaults": {
           "arrowcolor": "#2a3f5f",
           "arrowhead": 0,
           "arrowwidth": 1
          },
          "autotypenumbers": "strict",
          "coloraxis": {
           "colorbar": {
            "outlinewidth": 0,
            "ticks": ""
           }
          },
          "colorscale": {
           "diverging": [
            [
             0,
             "#8e0152"
            ],
            [
             0.1,
             "#c51b7d"
            ],
            [
             0.2,
             "#de77ae"
            ],
            [
             0.3,
             "#f1b6da"
            ],
            [
             0.4,
             "#fde0ef"
            ],
            [
             0.5,
             "#f7f7f7"
            ],
            [
             0.6,
             "#e6f5d0"
            ],
            [
             0.7,
             "#b8e186"
            ],
            [
             0.8,
             "#7fbc41"
            ],
            [
             0.9,
             "#4d9221"
            ],
            [
             1,
             "#276419"
            ]
           ],
           "sequential": [
            [
             0,
             "#0d0887"
            ],
            [
             0.1111111111111111,
             "#46039f"
            ],
            [
             0.2222222222222222,
             "#7201a8"
            ],
            [
             0.3333333333333333,
             "#9c179e"
            ],
            [
             0.4444444444444444,
             "#bd3786"
            ],
            [
             0.5555555555555556,
             "#d8576b"
            ],
            [
             0.6666666666666666,
             "#ed7953"
            ],
            [
             0.7777777777777778,
             "#fb9f3a"
            ],
            [
             0.8888888888888888,
             "#fdca26"
            ],
            [
             1,
             "#f0f921"
            ]
           ],
           "sequentialminus": [
            [
             0,
             "#0d0887"
            ],
            [
             0.1111111111111111,
             "#46039f"
            ],
            [
             0.2222222222222222,
             "#7201a8"
            ],
            [
             0.3333333333333333,
             "#9c179e"
            ],
            [
             0.4444444444444444,
             "#bd3786"
            ],
            [
             0.5555555555555556,
             "#d8576b"
            ],
            [
             0.6666666666666666,
             "#ed7953"
            ],
            [
             0.7777777777777778,
             "#fb9f3a"
            ],
            [
             0.8888888888888888,
             "#fdca26"
            ],
            [
             1,
             "#f0f921"
            ]
           ]
          },
          "colorway": [
           "#636efa",
           "#EF553B",
           "#00cc96",
           "#ab63fa",
           "#FFA15A",
           "#19d3f3",
           "#FF6692",
           "#B6E880",
           "#FF97FF",
           "#FECB52"
          ],
          "font": {
           "color": "#2a3f5f"
          },
          "geo": {
           "bgcolor": "white",
           "lakecolor": "white",
           "landcolor": "#E5ECF6",
           "showlakes": true,
           "showland": true,
           "subunitcolor": "white"
          },
          "hoverlabel": {
           "align": "left"
          },
          "hovermode": "closest",
          "mapbox": {
           "style": "light"
          },
          "paper_bgcolor": "white",
          "plot_bgcolor": "#E5ECF6",
          "polar": {
           "angularaxis": {
            "gridcolor": "white",
            "linecolor": "white",
            "ticks": ""
           },
           "bgcolor": "#E5ECF6",
           "radialaxis": {
            "gridcolor": "white",
            "linecolor": "white",
            "ticks": ""
           }
          },
          "scene": {
           "xaxis": {
            "backgroundcolor": "#E5ECF6",
            "gridcolor": "white",
            "gridwidth": 2,
            "linecolor": "white",
            "showbackground": true,
            "ticks": "",
            "zerolinecolor": "white"
           },
           "yaxis": {
            "backgroundcolor": "#E5ECF6",
            "gridcolor": "white",
            "gridwidth": 2,
            "linecolor": "white",
            "showbackground": true,
            "ticks": "",
            "zerolinecolor": "white"
           },
           "zaxis": {
            "backgroundcolor": "#E5ECF6",
            "gridcolor": "white",
            "gridwidth": 2,
            "linecolor": "white",
            "showbackground": true,
            "ticks": "",
            "zerolinecolor": "white"
           }
          },
          "shapedefaults": {
           "line": {
            "color": "#2a3f5f"
           }
          },
          "ternary": {
           "aaxis": {
            "gridcolor": "white",
            "linecolor": "white",
            "ticks": ""
           },
           "baxis": {
            "gridcolor": "white",
            "linecolor": "white",
            "ticks": ""
           },
           "bgcolor": "#E5ECF6",
           "caxis": {
            "gridcolor": "white",
            "linecolor": "white",
            "ticks": ""
           }
          },
          "title": {
           "x": 0.05
          },
          "xaxis": {
           "automargin": true,
           "gridcolor": "white",
           "linecolor": "white",
           "ticks": "",
           "title": {
            "standoff": 15
           },
           "zerolinecolor": "white",
           "zerolinewidth": 2
          },
          "yaxis": {
           "automargin": true,
           "gridcolor": "white",
           "linecolor": "white",
           "ticks": "",
           "title": {
            "standoff": 15
           },
           "zerolinecolor": "white",
           "zerolinewidth": 2
          }
         }
        },
        "xaxis": {
         "anchor": "y",
         "domain": [
          0,
          1
         ],
         "title": {
          "text": "EncouragingDiscouraging"
         }
        },
        "yaxis": {
         "anchor": "x",
         "domain": [
          0,
          1
         ],
         "title": {
          "text": "count"
         }
        }
       }
      },
      "text/html": [
       "<div>                            <div id=\"77780657-4b0e-4bc1-b034-cc654d4e8b1a\" class=\"plotly-graph-div\" style=\"height:525px; width:100%;\"></div>            <script type=\"text/javascript\">                require([\"plotly\"], function(Plotly) {                    window.PLOTLYENV=window.PLOTLYENV || {};                                    if (document.getElementById(\"77780657-4b0e-4bc1-b034-cc654d4e8b1a\")) {                    Plotly.newPlot(                        \"77780657-4b0e-4bc1-b034-cc654d4e8b1a\",                        [{\"alignmentgroup\":\"True\",\"bingroup\":\"x\",\"hovertemplate\":\"gender=male<br>EncouragingDiscouraging=%{x}<br>count=%{y}<extra></extra>\",\"legendgroup\":\"male\",\"marker\":{\"color\":\"#636efa\",\"pattern\":{\"shape\":\"\"}},\"name\":\"male\",\"offsetgroup\":\"male\",\"orientation\":\"v\",\"showlegend\":true,\"x\":[\"Discouraging\",\"Discouraging\",\"Encouraging\",\"Encouraging\",\"Encouraging\",\"Discouraging\",\"Encouraging\",\"Discouraging\",\"Encouraging\",\"Encouraging\",\"Encouraging\",\"Encouraging\",\"Discouraging\",\"Encouraging\",\"Discouraging\",\"Encouraging\",\"Discouraging\",\"Encouraging\",\"Discouraging\",\"Encouraging\",\"Encouraging\",\"Encouraging\",\"Discouraging\",\"Discouraging\",\"Discouraging\",\"Encouraging\",\"Discouraging\",\"Encouraging\",\"Encouraging\",\"Discouraging\",\"Encouraging\",\"Encouraging\",\"Encouraging\",\"Encouraging\",\"Encouraging\",\"Encouraging\",\"Discouraging\",\"Encouraging\",\"Encouraging\",\"Encouraging\",\"Discouraging\",\"Encouraging\",\"Encouraging\",\"Encouraging\",\"Encouraging\",\"Discouraging\",\"Encouraging\",\"Encouraging\",\"Encouraging\",\"Encouraging\",\"Discouraging\",\"Encouraging\",\"Encouraging\",\"Encouraging\",\"Discouraging\",\"Encouraging\",\"Encouraging\",\"Encouraging\",\"Discouraging\",\"Discouraging\",\"Discouraging\",\"Encouraging\",\"Discouraging\",\"Encouraging\",\"Discouraging\",\"Discouraging\",\"Discouraging\",\"Encouraging\",\"Encouraging\",\"Encouraging\",\"Encouraging\",\"Encouraging\",\"Encouraging\",\"Encouraging\",\"Discouraging\",\"Discouraging\",\"Encouraging\",\"Discouraging\",\"Discouraging\",\"Encouraging\",\"Encouraging\",\"Encouraging\",\"Encouraging\",\"Encouraging\",\"Encouraging\",\"Encouraging\",\"Discouraging\",\"Discouraging\",\"Encouraging\",\"Encouraging\",\"Encouraging\",\"Encouraging\",\"Discouraging\",\"Discouraging\",\"Encouraging\",\"Encouraging\",\"Encouraging\",\"Encouraging\",\"Encouraging\",\"Encouraging\",\"Encouraging\",\"Encouraging\",\"Encouraging\",\"Discouraging\",\"Encouraging\",\"Encouraging\",\"Encouraging\",\"Encouraging\",\"Encouraging\",\"Encouraging\",\"Discouraging\",\"Encouraging\",\"Encouraging\",\"Encouraging\",\"Discouraging\",\"Discouraging\",\"Encouraging\",\"Encouraging\",\"Discouraging\",\"Encouraging\",\"Encouraging\",\"Encouraging\",\"Encouraging\",\"Discouraging\",\"Discouraging\",\"Encouraging\",\"Encouraging\",\"Encouraging\",\"Encouraging\",\"Encouraging\",\"Encouraging\",\"Discouraging\",\"Encouraging\",\"Encouraging\",\"Encouraging\",\"Discouraging\",\"Encouraging\",\"Encouraging\",\"Discouraging\",\"Encouraging\",\"Encouraging\",\"Encouraging\",\"Encouraging\",\"Encouraging\",\"Encouraging\",\"Discouraging\",\"Encouraging\",\"Discouraging\",\"Encouraging\",\"Encouraging\",\"Encouraging\",\"Encouraging\",\"Encouraging\",\"Discouraging\",\"Encouraging\",\"Encouraging\",\"Encouraging\",\"Discouraging\",\"Encouraging\",\"Encouraging\",\"Discouraging\",\"Encouraging\",\"Discouraging\",\"Encouraging\",\"Encouraging\",\"Encouraging\",\"Discouraging\",\"Encouraging\",\"Encouraging\",\"Discouraging\",\"Encouraging\",\"Encouraging\",\"Encouraging\",\"Encouraging\",\"Discouraging\",\"Encouraging\",\"Discouraging\",\"Encouraging\",\"Encouraging\",\"Encouraging\",\"Encouraging\",\"Encouraging\",\"Encouraging\",\"Discouraging\",\"Encouraging\",\"Encouraging\",\"Encouraging\",\"Discouraging\",\"Encouraging\",\"Encouraging\",\"Encouraging\",\"Encouraging\",\"Discouraging\",\"Encouraging\",\"Discouraging\",\"Discouraging\",\"Discouraging\",\"Encouraging\",\"Discouraging\",\"Encouraging\",\"Discouraging\",\"Encouraging\",\"Encouraging\",\"Discouraging\",\"Encouraging\",\"Encouraging\",\"Discouraging\",\"Encouraging\",\"Encouraging\",\"Discouraging\",\"Encouraging\",\"Encouraging\",\"Discouraging\",\"Encouraging\",\"Encouraging\",\"Encouraging\",\"Encouraging\",\"Discouraging\",\"Encouraging\",\"Encouraging\",\"Encouraging\",\"Discouraging\",\"Encouraging\",\"Discouraging\",\"Encouraging\",\"Encouraging\",\"Discouraging\",\"Discouraging\",\"Encouraging\",\"Encouraging\",\"Encouraging\",\"Discouraging\",\"Encouraging\",\"Encouraging\",\"Discouraging\",\"Discouraging\",\"Discouraging\",\"Discouraging\",\"Discouraging\",\"Encouraging\",\"Discouraging\",\"Discouraging\",\"Discouraging\",\"Discouraging\",\"Encouraging\",\"Encouraging\",\"Discouraging\",\"Discouraging\",\"Encouraging\",\"Encouraging\",\"Encouraging\",\"Encouraging\",\"Discouraging\",\"Encouraging\",\"Encouraging\",\"Discouraging\",\"Encouraging\",\"Encouraging\",\"Discouraging\",\"Encouraging\",\"Encouraging\",\"Encouraging\",\"Encouraging\",\"Encouraging\",\"Discouraging\",\"Discouraging\",\"Discouraging\",\"Encouraging\",\"Encouraging\",\"Discouraging\",\"Encouraging\",\"Discouraging\",\"Encouraging\",\"Encouraging\",\"Discouraging\",\"Encouraging\",\"Encouraging\",\"Encouraging\",\"Encouraging\",\"Encouraging\",\"Discouraging\",\"Discouraging\",\"Discouraging\",\"Encouraging\",\"Discouraging\",\"Discouraging\",\"Discouraging\",\"Discouraging\",\"Encouraging\",\"Discouraging\",\"Discouraging\",\"Discouraging\",\"Encouraging\",\"Encouraging\",\"Discouraging\",\"Encouraging\",\"Discouraging\",\"Encouraging\",\"Discouraging\",\"Encouraging\",\"Discouraging\",\"Encouraging\",\"Discouraging\",\"Discouraging\",\"Encouraging\",\"Encouraging\",\"Discouraging\",\"Encouraging\",\"Encouraging\",\"Encouraging\",\"Discouraging\",\"Encouraging\",\"Discouraging\",\"Discouraging\",\"Discouraging\",\"Encouraging\",\"Encouraging\",\"Encouraging\",\"Discouraging\",\"Encouraging\",\"Encouraging\",\"Discouraging\",\"Discouraging\",\"Encouraging\",\"Discouraging\",\"Discouraging\",\"Encouraging\",\"Discouraging\",\"Discouraging\",\"Discouraging\",\"Discouraging\",\"Encouraging\",\"Encouraging\",\"Discouraging\",\"Discouraging\",\"Encouraging\",\"Encouraging\",\"Discouraging\",\"Encouraging\",\"Discouraging\",\"Encouraging\",\"Encouraging\",\"Discouraging\",\"Encouraging\",\"Encouraging\",\"Discouraging\",\"Encouraging\",\"Discouraging\",\"Encouraging\",\"Discouraging\",\"Discouraging\",\"Discouraging\",\"Encouraging\",\"Encouraging\",\"Encouraging\",\"Encouraging\",\"Discouraging\",\"Encouraging\",\"Encouraging\",\"Encouraging\",\"Encouraging\",\"Discouraging\",\"Encouraging\",\"Encouraging\",\"Encouraging\",\"Discouraging\",\"Encouraging\",\"Encouraging\",\"Encouraging\",\"Discouraging\",\"Discouraging\",\"Encouraging\",\"Encouraging\",\"Encouraging\",\"Encouraging\",\"Discouraging\",\"Discouraging\",\"Discouraging\",\"Encouraging\",\"Encouraging\",\"Encouraging\",\"Encouraging\",\"Encouraging\",\"Encouraging\",\"Encouraging\",\"Discouraging\",\"Discouraging\",\"Encouraging\",\"Encouraging\",\"Encouraging\",\"Encouraging\",\"Encouraging\",\"Encouraging\",\"Encouraging\",\"Encouraging\",\"Discouraging\",\"Discouraging\",\"Encouraging\",\"Encouraging\",\"Encouraging\",\"Encouraging\",\"Discouraging\",\"Encouraging\",\"Discouraging\",\"Encouraging\",\"Encouraging\",\"Encouraging\",\"Encouraging\",\"Encouraging\",\"Discouraging\",\"Encouraging\",\"Encouraging\",\"Encouraging\",\"Encouraging\",\"Discouraging\",\"Discouraging\",\"Encouraging\",\"Encouraging\",\"Encouraging\",\"Encouraging\",\"Encouraging\",\"Discouraging\",\"Encouraging\",\"Discouraging\",\"Encouraging\",\"Discouraging\",\"Discouraging\",\"Discouraging\",\"Encouraging\",\"Encouraging\",\"Encouraging\",\"Discouraging\",\"Encouraging\",\"Encouraging\",\"Discouraging\",\"Encouraging\",\"Encouraging\",\"Encouraging\",\"Encouraging\",\"Encouraging\",\"Encouraging\",\"Encouraging\",\"Encouraging\",\"Encouraging\",\"Encouraging\",\"Encouraging\",\"Encouraging\",\"Encouraging\",\"Discouraging\",\"Encouraging\",\"Discouraging\",\"Discouraging\",\"Encouraging\",\"Encouraging\",\"Encouraging\",\"Encouraging\",\"Encouraging\",\"Encouraging\",\"Encouraging\",\"Encouraging\",\"Encouraging\",\"Encouraging\",\"Encouraging\",\"Encouraging\",null,\"Encouraging\",\"Discouraging\",\"Encouraging\",\"Encouraging\",\"Encouraging\",\"Encouraging\",\"Encouraging\",\"Encouraging\",\"Encouraging\",\"Discouraging\",\"Encouraging\",\"Discouraging\",\"Encouraging\",\"Encouraging\",\"Encouraging\",\"Encouraging\",\"Encouraging\",\"Encouraging\",\"Discouraging\",\"Encouraging\",\"Discouraging\",\"Encouraging\",\"Discouraging\",null,\"Encouraging\",\"Encouraging\",\"Discouraging\",\"Discouraging\",\"Encouraging\",\"Encouraging\",\"Discouraging\",\"Encouraging\",\"Encouraging\",\"Encouraging\",\"Encouraging\",\"Encouraging\",\"Encouraging\",\"Encouraging\",\"Encouraging\",\"Encouraging\",\"Discouraging\",\"Encouraging\",\"Encouraging\",\"Encouraging\",\"Discouraging\",\"Discouraging\",\"Discouraging\",\"Encouraging\",\"Discouraging\",\"Encouraging\",\"Discouraging\",\"Encouraging\",\"Encouraging\",\"Discouraging\",\"Encouraging\",\"Encouraging\",\"Discouraging\",\"Discouraging\",\"Encouraging\",\"Discouraging\",\"Encouraging\",\"Discouraging\",\"Discouraging\",\"Encouraging\",\"Discouraging\",\"Discouraging\",\"Encouraging\",\"Discouraging\",\"Discouraging\",\"Discouraging\",\"Encouraging\",\"Encouraging\",\"Encouraging\",\"Encouraging\",\"Encouraging\",\"Encouraging\",\"Encouraging\",\"Discouraging\",\"Discouraging\",\"Discouraging\",\"Encouraging\",\"Encouraging\",\"Encouraging\",\"Encouraging\",\"Encouraging\",\"Discouraging\",\"Encouraging\",\"Encouraging\",\"Encouraging\",\"Encouraging\",\"Discouraging\",\"Discouraging\",\"Discouraging\",\"Discouraging\",\"Encouraging\",\"Encouraging\",\"Encouraging\",\"Discouraging\",\"Discouraging\",\"Discouraging\",\"Discouraging\",\"Discouraging\",\"Encouraging\",\"Encouraging\",\"Encouraging\",\"Encouraging\",\"Discouraging\",\"Encouraging\",\"Encouraging\",\"Discouraging\",\"Encouraging\",\"Encouraging\",\"Discouraging\",\"Encouraging\",\"Encouraging\",\"Encouraging\",\"Discouraging\",\"Encouraging\",\"Discouraging\",\"Encouraging\",\"Discouraging\",\"Encouraging\",\"Encouraging\",\"Encouraging\",\"Discouraging\",\"Encouraging\",\"Encouraging\",\"Encouraging\",\"Encouraging\",\"Discouraging\",\"Encouraging\",\"Encouraging\",\"Discouraging\",\"Encouraging\",\"Discouraging\",\"Discouraging\",\"Encouraging\",\"Encouraging\",\"Encouraging\",\"Encouraging\",\"Discouraging\",\"Discouraging\",\"Discouraging\",\"Encouraging\",\"Discouraging\",\"Encouraging\",\"Encouraging\",\"Discouraging\",\"Encouraging\",\"Encouraging\",\"Discouraging\",\"Discouraging\",\"Discouraging\",\"Discouraging\",\"Encouraging\",\"Discouraging\",\"Encouraging\",\"Encouraging\",\"Encouraging\",\"Encouraging\",\"Encouraging\",\"Encouraging\",\"Encouraging\",\"Encouraging\",\"Encouraging\",\"Encouraging\",\"Encouraging\",\"Encouraging\",\"Encouraging\",\"Encouraging\",\"Encouraging\",\"Discouraging\",\"Discouraging\",\"Encouraging\",\"Encouraging\",\"Encouraging\",\"Encouraging\",\"Encouraging\",\"Encouraging\",\"Discouraging\",\"Encouraging\",\"Discouraging\",\"Encouraging\",\"Encouraging\",\"Discouraging\",\"Encouraging\",\"Discouraging\",\"Encouraging\",\"Discouraging\",\"Encouraging\",\"Encouraging\",\"Encouraging\",\"Encouraging\",\"Discouraging\",\"Discouraging\",\"Encouraging\",\"Encouraging\",\"Encouraging\",\"Encouraging\",\"Discouraging\",\"Encouraging\",\"Encouraging\",\"Discouraging\",\"Encouraging\",\"Encouraging\",\"Discouraging\",\"Discouraging\",\"Encouraging\",\"Discouraging\",\"Encouraging\",\"Encouraging\",\"Encouraging\",\"Encouraging\",\"Encouraging\",\"Discouraging\",\"Discouraging\",\"Discouraging\",\"Encouraging\",\"Discouraging\",\"Encouraging\",\"Encouraging\",\"Discouraging\",\"Encouraging\",\"Encouraging\",\"Encouraging\",\"Encouraging\",\"Encouraging\",\"Discouraging\",\"Discouraging\",\"Encouraging\",\"Encouraging\",\"Discouraging\",\"Discouraging\",\"Encouraging\",\"Encouraging\",\"Encouraging\",\"Encouraging\",\"Discouraging\",\"Discouraging\",\"Discouraging\",\"Encouraging\",\"Discouraging\",\"Encouraging\",\"Discouraging\",\"Discouraging\",\"Discouraging\",\"Encouraging\",\"Encouraging\",\"Discouraging\",\"Discouraging\",\"Discouraging\",\"Discouraging\",\"Encouraging\",\"Encouraging\",\"Encouraging\",\"Discouraging\",\"Discouraging\"],\"xaxis\":\"x\",\"yaxis\":\"y\",\"type\":\"histogram\"},{\"alignmentgroup\":\"True\",\"bingroup\":\"x\",\"hovertemplate\":\"gender=female<br>EncouragingDiscouraging=%{x}<br>count=%{y}<extra></extra>\",\"legendgroup\":\"female\",\"marker\":{\"color\":\"#EF553B\",\"pattern\":{\"shape\":\"\"}},\"name\":\"female\",\"offsetgroup\":\"female\",\"orientation\":\"v\",\"showlegend\":true,\"x\":[\"Encouraging\",\"Encouraging\",\"Encouraging\",\"Encouraging\",\"Encouraging\",\"Discouraging\",\"Encouraging\",\"Encouraging\",\"Encouraging\",\"Encouraging\",\"Discouraging\",\"Discouraging\",\"Encouraging\",\"Encouraging\",\"Encouraging\",\"Encouraging\",\"Encouraging\",\"Encouraging\",\"Encouraging\",\"Discouraging\",\"Encouraging\",\"Encouraging\",\"Encouraging\",\"Discouraging\",\"Encouraging\",\"Encouraging\",\"Discouraging\",\"Discouraging\",\"Encouraging\",\"Discouraging\",\"Encouraging\",\"Discouraging\",\"Encouraging\",\"Encouraging\",\"Encouraging\",\"Discouraging\",\"Encouraging\",\"Encouraging\",\"Encouraging\",\"Discouraging\",\"Discouraging\",\"Discouraging\",\"Discouraging\",\"Discouraging\",\"Encouraging\",\"Encouraging\",\"Encouraging\",\"Discouraging\",\"Encouraging\",\"Encouraging\",\"Encouraging\",\"Discouraging\",\"Encouraging\",\"Encouraging\",\"Encouraging\",\"Discouraging\",\"Encouraging\",\"Encouraging\",\"Discouraging\",\"Encouraging\",\"Encouraging\",\"Discouraging\",\"Encouraging\",\"Encouraging\",\"Encouraging\",\"Discouraging\",\"Encouraging\",\"Discouraging\",\"Encouraging\",\"Encouraging\",\"Discouraging\",\"Discouraging\",\"Encouraging\",\"Encouraging\",\"Encouraging\",\"Encouraging\",\"Encouraging\",\"Encouraging\",\"Encouraging\",\"Encouraging\",\"Encouraging\",\"Discouraging\",\"Encouraging\",\"Encouraging\",\"Discouraging\",\"Encouraging\",\"Encouraging\",\"Discouraging\",\"Encouraging\",\"Encouraging\",\"Discouraging\",\"Encouraging\",\"Discouraging\",\"Encouraging\",\"Encouraging\",\"Discouraging\",\"Encouraging\",\"Encouraging\",\"Encouraging\",\"Discouraging\",\"Encouraging\",\"Discouraging\",\"Discouraging\",\"Encouraging\",\"Discouraging\",\"Encouraging\",\"Encouraging\",\"Encouraging\",\"Encouraging\",\"Encouraging\",\"Encouraging\",\"Discouraging\",\"Discouraging\",\"Encouraging\",\"Encouraging\",\"Encouraging\",\"Encouraging\",\"Encouraging\",\"Discouraging\",\"Encouraging\",\"Encouraging\",\"Encouraging\",\"Discouraging\",\"Encouraging\",\"Encouraging\",\"Encouraging\",\"Encouraging\",\"Encouraging\",\"Encouraging\",\"Encouraging\",\"Discouraging\",\"Encouraging\",\"Encouraging\",\"Encouraging\",\"Encouraging\",\"Encouraging\",\"Encouraging\",\"Discouraging\",\"Encouraging\",\"Encouraging\",null,\"Discouraging\",\"Discouraging\",\"Encouraging\",\"Encouraging\",\"Discouraging\",\"Encouraging\",\"Encouraging\",\"Encouraging\",\"Encouraging\",\"Encouraging\",\"Encouraging\",\"Encouraging\",\"Encouraging\",\"Encouraging\",\"Discouraging\",\"Discouraging\",\"Encouraging\",\"Encouraging\",\"Encouraging\",\"Discouraging\",\"Encouraging\",\"Encouraging\",\"Encouraging\",\"Encouraging\",\"Discouraging\",\"Encouraging\",\"Encouraging\",\"Encouraging\",\"Encouraging\",\"Encouraging\",\"Encouraging\",\"Discouraging\",\"Encouraging\",\"Encouraging\",\"Encouraging\",\"Encouraging\",\"Encouraging\",\"Encouraging\",\"Encouraging\",\"Encouraging\",\"Encouraging\",\"Encouraging\",\"Encouraging\",\"Encouraging\",\"Encouraging\",\"Discouraging\",\"Encouraging\",\"Encouraging\",\"Encouraging\",\"Discouraging\",\"Encouraging\",\"Encouraging\",\"Encouraging\",\"Encouraging\",\"Encouraging\",\"Encouraging\",\"Encouraging\",\"Encouraging\",\"Encouraging\",\"Encouraging\",\"Encouraging\",\"Discouraging\",\"Encouraging\",\"Encouraging\",\"Encouraging\",\"Encouraging\",\"Encouraging\",\"Discouraging\",\"Discouraging\",\"Encouraging\",\"Discouraging\",\"Encouraging\",\"Encouraging\",\"Encouraging\",\"Encouraging\",\"Encouraging\",\"Encouraging\",\"Encouraging\",\"Discouraging\",\"Discouraging\",\"Encouraging\",\"Encouraging\",\"Encouraging\",\"Discouraging\",\"Encouraging\",\"Discouraging\",\"Encouraging\",\"Encouraging\",\"Encouraging\",\"Discouraging\",\"Encouraging\",\"Encouraging\",\"Encouraging\",\"Discouraging\",\"Encouraging\",\"Discouraging\",\"Encouraging\",\"Encouraging\",\"Encouraging\",\"Encouraging\",\"Encouraging\",\"Discouraging\",\"Encouraging\",\"Encouraging\",\"Discouraging\",\"Discouraging\",\"Encouraging\",\"Encouraging\",\"Discouraging\",\"Encouraging\",\"Encouraging\",\"Encouraging\",\"Encouraging\",\"Encouraging\",\"Encouraging\",\"Encouraging\",\"Encouraging\",\"Encouraging\",\"Discouraging\",\"Encouraging\",\"Discouraging\",\"Encouraging\",\"Encouraging\",\"Encouraging\",\"Encouraging\",\"Encouraging\",\"Encouraging\",\"Encouraging\",\"Discouraging\",\"Discouraging\",\"Encouraging\",\"Discouraging\",\"Encouraging\",\"Encouraging\",\"Encouraging\",\"Encouraging\",\"Encouraging\",\"Encouraging\",\"Discouraging\",\"Encouraging\",\"Encouraging\",\"Encouraging\",\"Discouraging\",\"Encouraging\",\"Encouraging\",\"Encouraging\",\"Discouraging\",\"Encouraging\",\"Encouraging\",\"Encouraging\",\"Discouraging\",\"Encouraging\",\"Encouraging\",\"Discouraging\",\"Discouraging\",\"Encouraging\",\"Encouraging\",\"Encouraging\",\"Encouraging\",\"Encouraging\",\"Encouraging\",\"Encouraging\",\"Encouraging\",\"Encouraging\",\"Encouraging\",\"Encouraging\",\"Discouraging\",\"Encouraging\",\"Encouraging\",\"Encouraging\",\"Encouraging\",\"Discouraging\",\"Discouraging\",\"Discouraging\",\"Discouraging\",\"Encouraging\",\"Encouraging\",\"Discouraging\",\"Encouraging\",\"Encouraging\",\"Discouraging\",\"Encouraging\",\"Encouraging\",\"Encouraging\",\"Discouraging\",\"Encouraging\",\"Discouraging\",\"Discouraging\",\"Discouraging\",\"Encouraging\",\"Discouraging\",\"Encouraging\",\"Encouraging\",\"Discouraging\",\"Encouraging\",\"Discouraging\",\"Encouraging\",\"Encouraging\",\"Encouraging\",\"Encouraging\",\"Discouraging\",\"Encouraging\",\"Encouraging\",\"Encouraging\",\"Encouraging\",\"Discouraging\",\"Encouraging\",\"Encouraging\",\"Encouraging\",\"Discouraging\",\"Encouraging\",\"Discouraging\",\"Encouraging\",\"Encouraging\",\"Encouraging\",\"Discouraging\",\"Encouraging\",\"Encouraging\",\"Encouraging\",\"Encouraging\",\"Discouraging\",\"Encouraging\",\"Encouraging\",\"Discouraging\",\"Encouraging\",\"Encouraging\",\"Encouraging\",\"Encouraging\",\"Encouraging\",\"Encouraging\",\"Encouraging\",\"Discouraging\",\"Discouraging\",\"Encouraging\",\"Encouraging\",\"Encouraging\",\"Discouraging\",\"Encouraging\",\"Encouraging\",\"Discouraging\",\"Encouraging\",\"Encouraging\",\"Encouraging\",\"Encouraging\",\"Discouraging\",\"Encouraging\",\"Discouraging\",\"Encouraging\",\"Encouraging\",\"Encouraging\",\"Encouraging\",\"Discouraging\",\"Encouraging\",\"Encouraging\",\"Discouraging\",\"Encouraging\",\"Encouraging\",\"Discouraging\",\"Encouraging\",\"Encouraging\",\"Encouraging\",\"Encouraging\",\"Encouraging\",\"Encouraging\",\"Encouraging\",\"Encouraging\",\"Encouraging\",\"Discouraging\",\"Encouraging\",\"Discouraging\",\"Encouraging\",\"Encouraging\",\"Encouraging\",\"Encouraging\",\"Encouraging\",\"Encouraging\",\"Encouraging\",\"Discouraging\",\"Encouraging\",\"Encouraging\",\"Encouraging\",\"Encouraging\",\"Encouraging\",\"Encouraging\",\"Discouraging\",\"Discouraging\",\"Encouraging\",\"Encouraging\",\"Encouraging\",\"Encouraging\",\"Encouraging\",\"Encouraging\",\"Encouraging\",\"Encouraging\",\"Encouraging\",\"Encouraging\",\"Encouraging\",\"Encouraging\",\"Discouraging\",\"Encouraging\",\"Encouraging\",\"Encouraging\",\"Encouraging\",\"Encouraging\",\"Encouraging\",\"Encouraging\",\"Encouraging\",\"Encouraging\",\"Encouraging\",\"Encouraging\",\"Encouraging\",\"Encouraging\",\"Encouraging\",\"Encouraging\",\"Discouraging\",\"Encouraging\",\"Encouraging\",\"Encouraging\",\"Encouraging\",\"Encouraging\",\"Encouraging\",\"Discouraging\",\"Encouraging\",\"Discouraging\",\"Encouraging\",\"Encouraging\",\"Encouraging\",\"Encouraging\",\"Discouraging\",\"Encouraging\",\"Encouraging\",\"Discouraging\",\"Discouraging\",\"Encouraging\",\"Encouraging\",\"Encouraging\",\"Discouraging\",\"Encouraging\",\"Encouraging\",\"Encouraging\",\"Encouraging\",\"Encouraging\",\"Encouraging\",\"Encouraging\",\"Encouraging\",\"Encouraging\",\"Discouraging\",\"Encouraging\",\"Discouraging\",\"Encouraging\",\"Encouraging\",\"Encouraging\",\"Encouraging\",\"Encouraging\",\"Encouraging\",\"Encouraging\",\"Encouraging\",\"Encouraging\",\"Encouraging\",\"Encouraging\",\"Encouraging\",\"Encouraging\",\"Discouraging\",\"Encouraging\",\"Encouraging\",\"Encouraging\",\"Encouraging\",\"Encouraging\",\"Encouraging\",\"Encouraging\",\"Encouraging\",\"Discouraging\",\"Discouraging\",\"Encouraging\",\"Encouraging\",\"Encouraging\",\"Encouraging\",\"Discouraging\",\"Encouraging\",\"Encouraging\",\"Encouraging\",\"Encouraging\",\"Encouraging\",\"Encouraging\",\"Discouraging\",\"Encouraging\",\"Discouraging\",\"Discouraging\",\"Discouraging\",\"Encouraging\",\"Encouraging\",\"Encouraging\",\"Encouraging\",\"Discouraging\",\"Encouraging\",\"Encouraging\",\"Encouraging\",\"Discouraging\",\"Discouraging\",\"Encouraging\",\"Encouraging\",\"Discouraging\",\"Encouraging\",\"Encouraging\",\"Encouraging\",\"Discouraging\",\"Encouraging\",\"Encouraging\",\"Encouraging\",\"Encouraging\",\"Discouraging\",\"Discouraging\",\"Encouraging\",\"Encouraging\",\"Discouraging\",\"Discouraging\",\"Encouraging\",\"Encouraging\",\"Encouraging\",\"Discouraging\",\"Encouraging\",\"Encouraging\",\"Encouraging\",\"Encouraging\",\"Encouraging\",\"Discouraging\",\"Encouraging\",\"Encouraging\",\"Encouraging\",\"Encouraging\",\"Encouraging\",\"Encouraging\",\"Encouraging\",\"Discouraging\",\"Encouraging\",\"Encouraging\",\"Encouraging\",\"Encouraging\",\"Discouraging\",\"Discouraging\",\"Encouraging\",\"Discouraging\",\"Encouraging\",\"Discouraging\",\"Encouraging\",\"Encouraging\",\"Encouraging\",\"Encouraging\",\"Discouraging\",\"Encouraging\",\"Discouraging\",\"Encouraging\",\"Encouraging\",\"Discouraging\",\"Encouraging\",\"Discouraging\",\"Discouraging\",\"Encouraging\",\"Discouraging\",\"Encouraging\",\"Discouraging\",\"Discouraging\",\"Encouraging\",\"Encouraging\",\"Encouraging\",\"Encouraging\",\"Discouraging\",\"Discouraging\",\"Encouraging\",\"Encouraging\",\"Discouraging\",\"Encouraging\",\"Encouraging\",\"Encouraging\",\"Encouraging\",\"Discouraging\",\"Encouraging\",\"Encouraging\",\"Encouraging\",\"Discouraging\",\"Encouraging\",\"Discouraging\",\"Encouraging\",\"Encouraging\",\"Discouraging\",\"Encouraging\",\"Encouraging\",\"Encouraging\",\"Discouraging\",\"Discouraging\",\"Encouraging\",\"Encouraging\",\"Encouraging\",\"Encouraging\",\"Encouraging\",\"Encouraging\",\"Encouraging\",\"Discouraging\",\"Encouraging\",\"Discouraging\",\"Encouraging\",\"Encouraging\",\"Encouraging\",\"Encouraging\",\"Discouraging\",\"Encouraging\",\"Discouraging\",\"Encouraging\",\"Encouraging\",\"Encouraging\",\"Encouraging\",\"Encouraging\",\"Encouraging\",\"Encouraging\",\"Encouraging\",\"Discouraging\",\"Encouraging\",\"Encouraging\",\"Encouraging\",\"Encouraging\",\"Encouraging\",\"Encouraging\",\"Encouraging\",\"Encouraging\",\"Discouraging\",\"Encouraging\",\"Discouraging\",\"Discouraging\",\"Encouraging\",\"Discouraging\",\"Encouraging\",\"Encouraging\",\"Encouraging\",\"Encouraging\",\"Encouraging\",\"Encouraging\",\"Encouraging\",\"Encouraging\",\"Discouraging\",\"Discouraging\"],\"xaxis\":\"x\",\"yaxis\":\"y\",\"type\":\"histogram\"}],                        {\"template\":{\"data\":{\"histogram2dcontour\":[{\"type\":\"histogram2dcontour\",\"colorbar\":{\"outlinewidth\":0,\"ticks\":\"\"},\"colorscale\":[[0.0,\"#0d0887\"],[0.1111111111111111,\"#46039f\"],[0.2222222222222222,\"#7201a8\"],[0.3333333333333333,\"#9c179e\"],[0.4444444444444444,\"#bd3786\"],[0.5555555555555556,\"#d8576b\"],[0.6666666666666666,\"#ed7953\"],[0.7777777777777778,\"#fb9f3a\"],[0.8888888888888888,\"#fdca26\"],[1.0,\"#f0f921\"]]}],\"choropleth\":[{\"type\":\"choropleth\",\"colorbar\":{\"outlinewidth\":0,\"ticks\":\"\"}}],\"histogram2d\":[{\"type\":\"histogram2d\",\"colorbar\":{\"outlinewidth\":0,\"ticks\":\"\"},\"colorscale\":[[0.0,\"#0d0887\"],[0.1111111111111111,\"#46039f\"],[0.2222222222222222,\"#7201a8\"],[0.3333333333333333,\"#9c179e\"],[0.4444444444444444,\"#bd3786\"],[0.5555555555555556,\"#d8576b\"],[0.6666666666666666,\"#ed7953\"],[0.7777777777777778,\"#fb9f3a\"],[0.8888888888888888,\"#fdca26\"],[1.0,\"#f0f921\"]]}],\"heatmap\":[{\"type\":\"heatmap\",\"colorbar\":{\"outlinewidth\":0,\"ticks\":\"\"},\"colorscale\":[[0.0,\"#0d0887\"],[0.1111111111111111,\"#46039f\"],[0.2222222222222222,\"#7201a8\"],[0.3333333333333333,\"#9c179e\"],[0.4444444444444444,\"#bd3786\"],[0.5555555555555556,\"#d8576b\"],[0.6666666666666666,\"#ed7953\"],[0.7777777777777778,\"#fb9f3a\"],[0.8888888888888888,\"#fdca26\"],[1.0,\"#f0f921\"]]}],\"heatmapgl\":[{\"type\":\"heatmapgl\",\"colorbar\":{\"outlinewidth\":0,\"ticks\":\"\"},\"colorscale\":[[0.0,\"#0d0887\"],[0.1111111111111111,\"#46039f\"],[0.2222222222222222,\"#7201a8\"],[0.3333333333333333,\"#9c179e\"],[0.4444444444444444,\"#bd3786\"],[0.5555555555555556,\"#d8576b\"],[0.6666666666666666,\"#ed7953\"],[0.7777777777777778,\"#fb9f3a\"],[0.8888888888888888,\"#fdca26\"],[1.0,\"#f0f921\"]]}],\"contourcarpet\":[{\"type\":\"contourcarpet\",\"colorbar\":{\"outlinewidth\":0,\"ticks\":\"\"}}],\"contour\":[{\"type\":\"contour\",\"colorbar\":{\"outlinewidth\":0,\"ticks\":\"\"},\"colorscale\":[[0.0,\"#0d0887\"],[0.1111111111111111,\"#46039f\"],[0.2222222222222222,\"#7201a8\"],[0.3333333333333333,\"#9c179e\"],[0.4444444444444444,\"#bd3786\"],[0.5555555555555556,\"#d8576b\"],[0.6666666666666666,\"#ed7953\"],[0.7777777777777778,\"#fb9f3a\"],[0.8888888888888888,\"#fdca26\"],[1.0,\"#f0f921\"]]}],\"surface\":[{\"type\":\"surface\",\"colorbar\":{\"outlinewidth\":0,\"ticks\":\"\"},\"colorscale\":[[0.0,\"#0d0887\"],[0.1111111111111111,\"#46039f\"],[0.2222222222222222,\"#7201a8\"],[0.3333333333333333,\"#9c179e\"],[0.4444444444444444,\"#bd3786\"],[0.5555555555555556,\"#d8576b\"],[0.6666666666666666,\"#ed7953\"],[0.7777777777777778,\"#fb9f3a\"],[0.8888888888888888,\"#fdca26\"],[1.0,\"#f0f921\"]]}],\"mesh3d\":[{\"type\":\"mesh3d\",\"colorbar\":{\"outlinewidth\":0,\"ticks\":\"\"}}],\"scatter\":[{\"fillpattern\":{\"fillmode\":\"overlay\",\"size\":10,\"solidity\":0.2},\"type\":\"scatter\"}],\"parcoords\":[{\"type\":\"parcoords\",\"line\":{\"colorbar\":{\"outlinewidth\":0,\"ticks\":\"\"}}}],\"scatterpolargl\":[{\"type\":\"scatterpolargl\",\"marker\":{\"colorbar\":{\"outlinewidth\":0,\"ticks\":\"\"}}}],\"bar\":[{\"error_x\":{\"color\":\"#2a3f5f\"},\"error_y\":{\"color\":\"#2a3f5f\"},\"marker\":{\"line\":{\"color\":\"#E5ECF6\",\"width\":0.5},\"pattern\":{\"fillmode\":\"overlay\",\"size\":10,\"solidity\":0.2}},\"type\":\"bar\"}],\"scattergeo\":[{\"type\":\"scattergeo\",\"marker\":{\"colorbar\":{\"outlinewidth\":0,\"ticks\":\"\"}}}],\"scatterpolar\":[{\"type\":\"scatterpolar\",\"marker\":{\"colorbar\":{\"outlinewidth\":0,\"ticks\":\"\"}}}],\"histogram\":[{\"marker\":{\"pattern\":{\"fillmode\":\"overlay\",\"size\":10,\"solidity\":0.2}},\"type\":\"histogram\"}],\"scattergl\":[{\"type\":\"scattergl\",\"marker\":{\"colorbar\":{\"outlinewidth\":0,\"ticks\":\"\"}}}],\"scatter3d\":[{\"type\":\"scatter3d\",\"line\":{\"colorbar\":{\"outlinewidth\":0,\"ticks\":\"\"}},\"marker\":{\"colorbar\":{\"outlinewidth\":0,\"ticks\":\"\"}}}],\"scattermapbox\":[{\"type\":\"scattermapbox\",\"marker\":{\"colorbar\":{\"outlinewidth\":0,\"ticks\":\"\"}}}],\"scatterternary\":[{\"type\":\"scatterternary\",\"marker\":{\"colorbar\":{\"outlinewidth\":0,\"ticks\":\"\"}}}],\"scattercarpet\":[{\"type\":\"scattercarpet\",\"marker\":{\"colorbar\":{\"outlinewidth\":0,\"ticks\":\"\"}}}],\"carpet\":[{\"aaxis\":{\"endlinecolor\":\"#2a3f5f\",\"gridcolor\":\"white\",\"linecolor\":\"white\",\"minorgridcolor\":\"white\",\"startlinecolor\":\"#2a3f5f\"},\"baxis\":{\"endlinecolor\":\"#2a3f5f\",\"gridcolor\":\"white\",\"linecolor\":\"white\",\"minorgridcolor\":\"white\",\"startlinecolor\":\"#2a3f5f\"},\"type\":\"carpet\"}],\"table\":[{\"cells\":{\"fill\":{\"color\":\"#EBF0F8\"},\"line\":{\"color\":\"white\"}},\"header\":{\"fill\":{\"color\":\"#C8D4E3\"},\"line\":{\"color\":\"white\"}},\"type\":\"table\"}],\"barpolar\":[{\"marker\":{\"line\":{\"color\":\"#E5ECF6\",\"width\":0.5},\"pattern\":{\"fillmode\":\"overlay\",\"size\":10,\"solidity\":0.2}},\"type\":\"barpolar\"}],\"pie\":[{\"automargin\":true,\"type\":\"pie\"}]},\"layout\":{\"autotypenumbers\":\"strict\",\"colorway\":[\"#636efa\",\"#EF553B\",\"#00cc96\",\"#ab63fa\",\"#FFA15A\",\"#19d3f3\",\"#FF6692\",\"#B6E880\",\"#FF97FF\",\"#FECB52\"],\"font\":{\"color\":\"#2a3f5f\"},\"hovermode\":\"closest\",\"hoverlabel\":{\"align\":\"left\"},\"paper_bgcolor\":\"white\",\"plot_bgcolor\":\"#E5ECF6\",\"polar\":{\"bgcolor\":\"#E5ECF6\",\"angularaxis\":{\"gridcolor\":\"white\",\"linecolor\":\"white\",\"ticks\":\"\"},\"radialaxis\":{\"gridcolor\":\"white\",\"linecolor\":\"white\",\"ticks\":\"\"}},\"ternary\":{\"bgcolor\":\"#E5ECF6\",\"aaxis\":{\"gridcolor\":\"white\",\"linecolor\":\"white\",\"ticks\":\"\"},\"baxis\":{\"gridcolor\":\"white\",\"linecolor\":\"white\",\"ticks\":\"\"},\"caxis\":{\"gridcolor\":\"white\",\"linecolor\":\"white\",\"ticks\":\"\"}},\"coloraxis\":{\"colorbar\":{\"outlinewidth\":0,\"ticks\":\"\"}},\"colorscale\":{\"sequential\":[[0.0,\"#0d0887\"],[0.1111111111111111,\"#46039f\"],[0.2222222222222222,\"#7201a8\"],[0.3333333333333333,\"#9c179e\"],[0.4444444444444444,\"#bd3786\"],[0.5555555555555556,\"#d8576b\"],[0.6666666666666666,\"#ed7953\"],[0.7777777777777778,\"#fb9f3a\"],[0.8888888888888888,\"#fdca26\"],[1.0,\"#f0f921\"]],\"sequentialminus\":[[0.0,\"#0d0887\"],[0.1111111111111111,\"#46039f\"],[0.2222222222222222,\"#7201a8\"],[0.3333333333333333,\"#9c179e\"],[0.4444444444444444,\"#bd3786\"],[0.5555555555555556,\"#d8576b\"],[0.6666666666666666,\"#ed7953\"],[0.7777777777777778,\"#fb9f3a\"],[0.8888888888888888,\"#fdca26\"],[1.0,\"#f0f921\"]],\"diverging\":[[0,\"#8e0152\"],[0.1,\"#c51b7d\"],[0.2,\"#de77ae\"],[0.3,\"#f1b6da\"],[0.4,\"#fde0ef\"],[0.5,\"#f7f7f7\"],[0.6,\"#e6f5d0\"],[0.7,\"#b8e186\"],[0.8,\"#7fbc41\"],[0.9,\"#4d9221\"],[1,\"#276419\"]]},\"xaxis\":{\"gridcolor\":\"white\",\"linecolor\":\"white\",\"ticks\":\"\",\"title\":{\"standoff\":15},\"zerolinecolor\":\"white\",\"automargin\":true,\"zerolinewidth\":2},\"yaxis\":{\"gridcolor\":\"white\",\"linecolor\":\"white\",\"ticks\":\"\",\"title\":{\"standoff\":15},\"zerolinecolor\":\"white\",\"automargin\":true,\"zerolinewidth\":2},\"scene\":{\"xaxis\":{\"backgroundcolor\":\"#E5ECF6\",\"gridcolor\":\"white\",\"linecolor\":\"white\",\"showbackground\":true,\"ticks\":\"\",\"zerolinecolor\":\"white\",\"gridwidth\":2},\"yaxis\":{\"backgroundcolor\":\"#E5ECF6\",\"gridcolor\":\"white\",\"linecolor\":\"white\",\"showbackground\":true,\"ticks\":\"\",\"zerolinecolor\":\"white\",\"gridwidth\":2},\"zaxis\":{\"backgroundcolor\":\"#E5ECF6\",\"gridcolor\":\"white\",\"linecolor\":\"white\",\"showbackground\":true,\"ticks\":\"\",\"zerolinecolor\":\"white\",\"gridwidth\":2}},\"shapedefaults\":{\"line\":{\"color\":\"#2a3f5f\"}},\"annotationdefaults\":{\"arrowcolor\":\"#2a3f5f\",\"arrowhead\":0,\"arrowwidth\":1},\"geo\":{\"bgcolor\":\"white\",\"landcolor\":\"#E5ECF6\",\"subunitcolor\":\"white\",\"showland\":true,\"showlakes\":true,\"lakecolor\":\"white\"},\"title\":{\"x\":0.05},\"mapbox\":{\"style\":\"light\"}}},\"xaxis\":{\"anchor\":\"y\",\"domain\":[0.0,1.0],\"title\":{\"text\":\"EncouragingDiscouraging\"}},\"yaxis\":{\"anchor\":\"x\",\"domain\":[0.0,1.0],\"title\":{\"text\":\"count\"}},\"legend\":{\"title\":{\"text\":\"gender\"},\"tracegroupgap\":0},\"margin\":{\"t\":60},\"barmode\":\"relative\"},                        {\"responsive\": true}                    ).then(function(){\n",
       "                            \n",
       "var gd = document.getElementById('77780657-4b0e-4bc1-b034-cc654d4e8b1a');\n",
       "var x = new MutationObserver(function (mutations, observer) {{\n",
       "        var display = window.getComputedStyle(gd).display;\n",
       "        if (!display || display === 'none') {{\n",
       "            console.log([gd, 'removed!']);\n",
       "            Plotly.purge(gd);\n",
       "            observer.disconnect();\n",
       "        }}\n",
       "}});\n",
       "\n",
       "// Listen for the removal of the full notebook cells\n",
       "var notebookContainer = gd.closest('#notebook-container');\n",
       "if (notebookContainer) {{\n",
       "    x.observe(notebookContainer, {childList: true});\n",
       "}}\n",
       "\n",
       "// Listen for the clearing of the current output cell\n",
       "var outputEl = gd.closest('.output');\n",
       "if (outputEl) {{\n",
       "    x.observe(outputEl, {childList: true});\n",
       "}}\n",
       "\n",
       "                        })                };                });            </script>        </div>"
      ]
     },
     "metadata": {},
     "output_type": "display_data"
    }
   ],
   "source": [
    "fig = px.histogram(agg, x = 'EncouragingDiscouraging', color = 'gender')\n",
    "fig.show()"
   ]
  },
  {
   "cell_type": "code",
   "execution_count": null,
   "id": "fa1d2cd7",
   "metadata": {},
   "outputs": [],
   "source": []
  }
 ],
 "metadata": {
  "kernelspec": {
   "display_name": "Python 3 (ipykernel)",
   "language": "python",
   "name": "python3"
  },
  "language_info": {
   "codemirror_mode": {
    "name": "ipython",
    "version": 3
   },
   "file_extension": ".py",
   "mimetype": "text/x-python",
   "name": "python",
   "nbconvert_exporter": "python",
   "pygments_lexer": "ipython3",
   "version": "3.11.4"
  }
 },
 "nbformat": 4,
 "nbformat_minor": 5
}
